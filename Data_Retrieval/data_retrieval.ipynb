{
 "cells": [
  {
   "cell_type": "markdown",
   "id": "c11375b6-a71d-463b-8231-4bcb9cf26cc2",
   "metadata": {
    "execution": {
     "iopub.execute_input": "2024-07-06T01:54:30.992279Z",
     "iopub.status.busy": "2024-07-06T01:54:30.991278Z",
     "iopub.status.idle": "2024-07-06T01:54:30.994879Z",
     "shell.execute_reply": "2024-07-06T01:54:30.994879Z",
     "shell.execute_reply.started": "2024-07-06T01:54:30.992279Z"
    }
   },
   "source": [
    "# Data Retrieval\n",
    "\n",
    "By Kenneth Burchfiel\n",
    "\n",
    "Released under the MIT License\n",
    "\n",
    "In order to begin analyzing data, we'll first need to load it into our program. This script will demonstrate how to import a variety of data formats into Python using **pandas**, a fantastic library for loading, reformatting, and analyzing data. Before I dive into the code, I'd like to provide a brief overview of Pandas for those who aren't yet familiar with this library.\n",
    "\n",
    "## A Pandas primer\n",
    "You can think of Pandas as a tool for performing spreadsheet-based tasks* within Python programs. One benefit of performing such tasks in Python (rather than Excel, Google Sheets, or another spreadsheet program) is that, once you have them scripted, you can quickly rerun them whenever the original data gets updated.\\*\\* You could even have your computer run your analysis script on a daily or hourly basis, thus freeing up time you'd need to spend on busywork for more interesting tasks. \n",
    "\n",
    "A central feature of Pandas is the *DataFrame*, which is essentially a within-Python spreadsheet that you can filter, modify, and extend as needed. You can import data into DataFrames (as this section will demonstrate); perform calculations on specific DataFrame columns; graph DataFrame data using libraries like Plotly; and then export DataFrames to a variety of formats. DataFrames and Jupyter Notebooks work very well together: by executing Pandas code within Jupyter Notebook cells, you can easily see how particular operations will modify your DataFrame.\n",
    "\n",
    "If you need more information about a given Pandas function, make sure to consult the library's documentation (https://pandas.pydata.org/docs/user_guide/index.html); this is a well-written resource that I've relied on heavily in my own work. (In general, I recommend consulting official documentation (including the official Python documentation at https://docs.python.org/) whenever possible, though some libraries will have better documentation than others.)\n",
    "\n",
    "Pandas will play a key or leading role in many sections of Python for Nonprofits. Although PFN will introduce you to many essential Pandas operations, you'll likely come across many more in your own Python programming journey. \n",
    "\n",
    "\\* Pandas is *not* the only Python library that allows you to perform spreadsheet operations. Polars (https://pola.rs/) is another promising tool that, as of June 2025, has some incredible performance advantages over Pandas. However, these advantages likely won't become relevant unless you're working with especially large (e.g. multi-gigabyte) source files. In addition, Pandas 3 should allow for faster data processing (https://thenewstack.io/python-pandas-ditches-numpy-for-speedier-pyarrow/), so it's very possible that, by the time you read this, Pandas will have at least partly closed the performance gap between itself and Polars.\n",
    "\n",
    "\\** There are certainly ways to automate Excel tasks as well (e.g. using Visual Basic). I don't have any experience with Visual Basic, so I'm not the best person to compare these two tools; however, I have no doubt that learning it would take some time, and given Python's versatility and power, I would recommend applying that time to learning Python instead. (You can get an estimate of the world's interest in Python versus Visual Basic by checking out the [TIOBE index](https://www.tiobe.com/tiobe-index/).)\n",
    "\n",
    "## Back to data retrieval\n",
    "\n",
    "One of the key strengths of Pandas is its compatibility with a wide variety of data formats. This script will demonstrate how to use pandas to import data from .csv files, .xlsx files, SQL tables, and HTML pages; however, *many* other data types are supported, either by Python itself or via additional libraries. Later sections of Python for Nonprofits will introduce additional data sources."
   ]
  },
  {
   "cell_type": "code",
   "execution_count": 1,
   "id": "29a9166a-af36-48bb-b698-7dd69955fdb5",
   "metadata": {
    "execution": {
     "iopub.execute_input": "2025-03-18T01:53:41.467704Z",
     "iopub.status.busy": "2025-03-18T01:53:41.467608Z",
     "iopub.status.idle": "2025-03-18T01:53:41.718395Z",
     "shell.execute_reply": "2025-03-18T01:53:41.718022Z",
     "shell.execute_reply.started": "2025-03-18T01:53:41.467692Z"
    }
   },
   "outputs": [],
   "source": [
    "import pandas as pd\n",
    "from sqlalchemy import create_engine\n",
    "# The above code can be found at\n",
    "# https://docs.sqlalchemy.org/en/20/core/engines.html .\n",
    "\n",
    "# The following two lines temporarily update your sys.path value\n",
    "# to include the Appendix folder; that way, our import statement can\n",
    "# access that folder in order to import its helper_funcs.py file.\n",
    "# (This code was derived from Cameron's StackOverflow answer at\n",
    "# https://stackoverflow.com/questions/4383571/\n",
    "# importing-files-from-different-folder ).\n",
    "import sys\n",
    "sys.path.insert(1, '../Appendix')\n",
    "\n",
    "from helper_funcs import config_notebook # This function improves the\n",
    "# appearance of PDF-based copies of notebooks, as it limits the number\n",
    "# of rows and columns that can be displayed. It also allows us to display\n",
    "# charts and maps in PNG rather than HTML format, thus making these \n",
    "# graphics easier to view in PDF format. \n",
    "# For more details on this function, consult the documentation \n",
    "# for config_notebook within helper_funcs.py.\n",
    "\n",
    "display_type = config_notebook(display_max_columns=7) "
   ]
  },
  {
   "cell_type": "markdown",
   "id": "26e6051e-2695-49f1-8bf1-024e4acad785",
   "metadata": {},
   "source": [
    "## Importing .csv data\n",
    "\n",
    "Pandas' `read_csv()` (https://pandas.pydata.org/pandas-docs/stable/reference/api/pandas.read_csv.html) function simplifies the process of reading .csv data into your Python script. The following cell provides an example of this function.\n",
    "\n",
    "Note that the path argument begins with `../`. This instructs the code to move up one directory within the file system (to the root Python for Nonprofits folder), which in turn allows it to enter into the Appendix folder and retrieve the curr_enrollment.csv file stored there."
   ]
  },
  {
   "cell_type": "code",
   "execution_count": 2,
   "id": "eebe50e2-8f90-4921-96e4-9664080837f7",
   "metadata": {
    "execution": {
     "iopub.execute_input": "2025-03-18T01:53:41.718847Z",
     "iopub.status.busy": "2025-03-18T01:53:41.718706Z",
     "iopub.status.idle": "2025-03-18T01:53:41.745669Z",
     "shell.execute_reply": "2025-03-18T01:53:41.745394Z",
     "shell.execute_reply.started": "2025-03-18T01:53:41.718835Z"
    }
   },
   "outputs": [
    {
     "data": {
      "text/html": [
       "<div>\n",
       "<style scoped>\n",
       "    .dataframe tbody tr th:only-of-type {\n",
       "        vertical-align: middle;\n",
       "    }\n",
       "\n",
       "    .dataframe tbody tr th {\n",
       "        vertical-align: top;\n",
       "    }\n",
       "\n",
       "    .dataframe thead th {\n",
       "        text-align: right;\n",
       "    }\n",
       "</style>\n",
       "<table border=\"1\" class=\"dataframe\">\n",
       "  <thead>\n",
       "    <tr style=\"text-align: right;\">\n",
       "      <th></th>\n",
       "      <th>first_name</th>\n",
       "      <th>last_name</th>\n",
       "      <th>gender</th>\n",
       "      <th>...</th>\n",
       "      <th>class_of</th>\n",
       "      <th>level</th>\n",
       "      <th>level_for_sorting</th>\n",
       "    </tr>\n",
       "  </thead>\n",
       "  <tbody>\n",
       "    <tr>\n",
       "      <th>0</th>\n",
       "      <td>Jane</td>\n",
       "      <td>Turner</td>\n",
       "      <td>F</td>\n",
       "      <td>...</td>\n",
       "      <td>2024</td>\n",
       "      <td>Se</td>\n",
       "      <td>3</td>\n",
       "    </tr>\n",
       "    <tr>\n",
       "      <th>1</th>\n",
       "      <td>Marilyn</td>\n",
       "      <td>Morales</td>\n",
       "      <td>F</td>\n",
       "      <td>...</td>\n",
       "      <td>2024</td>\n",
       "      <td>Se</td>\n",
       "      <td>3</td>\n",
       "    </tr>\n",
       "    <tr>\n",
       "      <th>2</th>\n",
       "      <td>Angie</td>\n",
       "      <td>Campos</td>\n",
       "      <td>F</td>\n",
       "      <td>...</td>\n",
       "      <td>2024</td>\n",
       "      <td>Se</td>\n",
       "      <td>3</td>\n",
       "    </tr>\n",
       "    <tr>\n",
       "      <th>3</th>\n",
       "      <td>Kathleen</td>\n",
       "      <td>Bennett</td>\n",
       "      <td>F</td>\n",
       "      <td>...</td>\n",
       "      <td>2024</td>\n",
       "      <td>Se</td>\n",
       "      <td>3</td>\n",
       "    </tr>\n",
       "    <tr>\n",
       "      <th>4</th>\n",
       "      <td>Janet</td>\n",
       "      <td>Edwards</td>\n",
       "      <td>F</td>\n",
       "      <td>...</td>\n",
       "      <td>2024</td>\n",
       "      <td>Se</td>\n",
       "      <td>3</td>\n",
       "    </tr>\n",
       "  </tbody>\n",
       "</table>\n",
       "<p>5 rows × 11 columns</p>\n",
       "</div>"
      ],
      "text/plain": [
       "  first_name last_name gender  ...  class_of  level level_for_sorting\n",
       "0       Jane    Turner      F  ...      2024     Se                 3\n",
       "1    Marilyn   Morales      F  ...      2024     Se                 3\n",
       "2      Angie    Campos      F  ...      2024     Se                 3\n",
       "3   Kathleen   Bennett      F  ...      2024     Se                 3\n",
       "4      Janet   Edwards      F  ...      2024     Se                 3\n",
       "\n",
       "[5 rows x 11 columns]"
      ]
     },
     "execution_count": 2,
     "metadata": {},
     "output_type": "execute_result"
    }
   ],
   "source": [
    "df_curr_enrollment_csv = pd.read_csv(\n",
    "    '../Appendix/curr_enrollment.csv')\n",
    "df_curr_enrollment_csv.head() # head() prints the first 5 rows of\n",
    "# a DataFrame by default, though you can specify a larger or smaller number\n",
    "# within the parentheses if needed. The last 5 rows can be viewed via\n",
    "# .tail()."
   ]
  },
  {
   "cell_type": "markdown",
   "id": "f67286f1-d10d-4598-b91f-1c62bb285d65",
   "metadata": {},
   "source": [
    "However, you'll sometimes need to add additional arguments to `read_csv()` in order to correctly import your data. For example, if a separator other than a comma was used, you'll want to specify that separator via the 'sep' argument.\n",
    "\n",
    "The following example shows what you'll see if you try to use `read_csv()` to import *tab*-separated .csv data:"
   ]
  },
  {
   "cell_type": "code",
   "execution_count": 3,
   "id": "0aa0c380-c933-4e63-ac42-10010e3e5790",
   "metadata": {
    "execution": {
     "iopub.execute_input": "2025-03-18T01:53:41.746525Z",
     "iopub.status.busy": "2025-03-18T01:53:41.746404Z",
     "iopub.status.idle": "2025-03-18T01:53:41.759154Z",
     "shell.execute_reply": "2025-03-18T01:53:41.758885Z",
     "shell.execute_reply.started": "2025-03-18T01:53:41.746515Z"
    }
   },
   "outputs": [
    {
     "data": {
      "text/html": [
       "<div>\n",
       "<style scoped>\n",
       "    .dataframe tbody tr th:only-of-type {\n",
       "        vertical-align: middle;\n",
       "    }\n",
       "\n",
       "    .dataframe tbody tr th {\n",
       "        vertical-align: top;\n",
       "    }\n",
       "\n",
       "    .dataframe thead th {\n",
       "        text-align: right;\n",
       "    }\n",
       "</style>\n",
       "<table border=\"1\" class=\"dataframe\">\n",
       "  <thead>\n",
       "    <tr style=\"text-align: right;\">\n",
       "      <th></th>\n",
       "      <th>first_name\\tlast_name\\tgender\\tmatriculation_year\\tmatriculation_number\\tstudent_id\\tdate_of_birth\\tcollege\\tclass_of\\tlevel\\tlevel_for_sorting</th>\n",
       "    </tr>\n",
       "  </thead>\n",
       "  <tbody>\n",
       "    <tr>\n",
       "      <th>0</th>\n",
       "      <td>Jane\\tTurner\\tF\\t2020\\t1\\t2020-1\\t2002-12-16\\t...</td>\n",
       "    </tr>\n",
       "    <tr>\n",
       "      <th>1</th>\n",
       "      <td>Marilyn\\tMorales\\tF\\t2020\\t2\\t2020-2\\t2002-09-...</td>\n",
       "    </tr>\n",
       "    <tr>\n",
       "      <th>2</th>\n",
       "      <td>Angie\\tCampos\\tF\\t2020\\t3\\t2020-3\\t2002-05-18\\...</td>\n",
       "    </tr>\n",
       "    <tr>\n",
       "      <th>3</th>\n",
       "      <td>Kathleen\\tBennett\\tF\\t2020\\t4\\t2020-4\\t2002-11...</td>\n",
       "    </tr>\n",
       "    <tr>\n",
       "      <th>4</th>\n",
       "      <td>Janet\\tEdwards\\tF\\t2020\\t5\\t2020-5\\t2002-06-21...</td>\n",
       "    </tr>\n",
       "  </tbody>\n",
       "</table>\n",
       "</div>"
      ],
      "text/plain": [
       "  first_name\\tlast_name\\tgender\\tmatriculation_year\\tmatriculation_number\\tstudent_id\\tdate_of_birth\\tcollege\\tclass_of\\tlevel\\tlevel_for_sorting\n",
       "0  Jane\\tTurner\\tF\\t2020\\t1\\t2020-1\\t2002-12-16\\t...                                                                                             \n",
       "1  Marilyn\\tMorales\\tF\\t2020\\t2\\t2020-2\\t2002-09-...                                                                                             \n",
       "2  Angie\\tCampos\\tF\\t2020\\t3\\t2020-3\\t2002-05-18\\...                                                                                             \n",
       "3  Kathleen\\tBennett\\tF\\t2020\\t4\\t2020-4\\t2002-11...                                                                                             \n",
       "4  Janet\\tEdwards\\tF\\t2020\\t5\\t2020-5\\t2002-06-21...                                                                                             "
      ]
     },
     "execution_count": 3,
     "metadata": {},
     "output_type": "execute_result"
    }
   ],
   "source": [
    "df_curr_enrollment_tab_csv = pd.read_csv(\n",
    "    'curr_enrollment_tab_separated.csv')\n",
    "df_curr_enrollment_tab_csv.head()"
   ]
  },
  {
   "cell_type": "markdown",
   "id": "a096e854-d4b3-440a-80de-7afda8a9f9f8",
   "metadata": {
    "execution": {
     "iopub.execute_input": "2024-07-06T02:33:21.544324Z",
     "iopub.status.busy": "2024-07-06T02:33:21.544324Z",
     "iopub.status.idle": "2024-07-06T02:33:21.547790Z",
     "shell.execute_reply": "2024-07-06T02:33:21.547790Z",
     "shell.execute_reply.started": "2024-07-06T02:33:21.544324Z"
    }
   },
   "source": [
    "The `'\\t'` strings within the column and field values *and* the lack of column separators are dead giveaways that this file used tab separators rather than commas. To correctly import this information, you'll need to add `sep='\\t'` within your `read_csv()` call, as shown below. (`'\\t'` represents tabs, just as `'\\n'` represents newlines.)"
   ]
  },
  {
   "cell_type": "code",
   "execution_count": 4,
   "id": "9478615c-de98-4294-b2dd-4b67787b664e",
   "metadata": {
    "execution": {
     "iopub.execute_input": "2025-03-18T01:53:41.759609Z",
     "iopub.status.busy": "2025-03-18T01:53:41.759503Z",
     "iopub.status.idle": "2025-03-18T01:53:41.776249Z",
     "shell.execute_reply": "2025-03-18T01:53:41.775959Z",
     "shell.execute_reply.started": "2025-03-18T01:53:41.759598Z"
    }
   },
   "outputs": [
    {
     "data": {
      "text/html": [
       "<div>\n",
       "<style scoped>\n",
       "    .dataframe tbody tr th:only-of-type {\n",
       "        vertical-align: middle;\n",
       "    }\n",
       "\n",
       "    .dataframe tbody tr th {\n",
       "        vertical-align: top;\n",
       "    }\n",
       "\n",
       "    .dataframe thead th {\n",
       "        text-align: right;\n",
       "    }\n",
       "</style>\n",
       "<table border=\"1\" class=\"dataframe\">\n",
       "  <thead>\n",
       "    <tr style=\"text-align: right;\">\n",
       "      <th></th>\n",
       "      <th>first_name</th>\n",
       "      <th>last_name</th>\n",
       "      <th>gender</th>\n",
       "      <th>...</th>\n",
       "      <th>class_of</th>\n",
       "      <th>level</th>\n",
       "      <th>level_for_sorting</th>\n",
       "    </tr>\n",
       "  </thead>\n",
       "  <tbody>\n",
       "    <tr>\n",
       "      <th>0</th>\n",
       "      <td>Jane</td>\n",
       "      <td>Turner</td>\n",
       "      <td>F</td>\n",
       "      <td>...</td>\n",
       "      <td>2024</td>\n",
       "      <td>Se</td>\n",
       "      <td>3</td>\n",
       "    </tr>\n",
       "    <tr>\n",
       "      <th>1</th>\n",
       "      <td>Marilyn</td>\n",
       "      <td>Morales</td>\n",
       "      <td>F</td>\n",
       "      <td>...</td>\n",
       "      <td>2024</td>\n",
       "      <td>Se</td>\n",
       "      <td>3</td>\n",
       "    </tr>\n",
       "    <tr>\n",
       "      <th>2</th>\n",
       "      <td>Angie</td>\n",
       "      <td>Campos</td>\n",
       "      <td>F</td>\n",
       "      <td>...</td>\n",
       "      <td>2024</td>\n",
       "      <td>Se</td>\n",
       "      <td>3</td>\n",
       "    </tr>\n",
       "    <tr>\n",
       "      <th>3</th>\n",
       "      <td>Kathleen</td>\n",
       "      <td>Bennett</td>\n",
       "      <td>F</td>\n",
       "      <td>...</td>\n",
       "      <td>2024</td>\n",
       "      <td>Se</td>\n",
       "      <td>3</td>\n",
       "    </tr>\n",
       "    <tr>\n",
       "      <th>4</th>\n",
       "      <td>Janet</td>\n",
       "      <td>Edwards</td>\n",
       "      <td>F</td>\n",
       "      <td>...</td>\n",
       "      <td>2024</td>\n",
       "      <td>Se</td>\n",
       "      <td>3</td>\n",
       "    </tr>\n",
       "  </tbody>\n",
       "</table>\n",
       "<p>5 rows × 11 columns</p>\n",
       "</div>"
      ],
      "text/plain": [
       "  first_name last_name gender  ...  class_of  level level_for_sorting\n",
       "0       Jane    Turner      F  ...      2024     Se                 3\n",
       "1    Marilyn   Morales      F  ...      2024     Se                 3\n",
       "2      Angie    Campos      F  ...      2024     Se                 3\n",
       "3   Kathleen   Bennett      F  ...      2024     Se                 3\n",
       "4      Janet   Edwards      F  ...      2024     Se                 3\n",
       "\n",
       "[5 rows x 11 columns]"
      ]
     },
     "execution_count": 4,
     "metadata": {},
     "output_type": "execute_result"
    }
   ],
   "source": [
    "df_curr_enrollment_tab_csv = pd.read_csv(\n",
    "    'curr_enrollment_tab_separated.csv', sep='\\t')\n",
    "df_curr_enrollment_tab_csv.head()"
   ]
  },
  {
   "cell_type": "markdown",
   "id": "5d21bc84-4349-4020-b32c-bd2782f30f7c",
   "metadata": {},
   "source": [
    "In addition, if your .csv file uses an encoding other than UTF-8 (the default), you may need to specify an alternative codec (https://docs.python.org/3/library/codecs.html#standard-encodings) using the 'encoding' argument. "
   ]
  },
  {
   "cell_type": "markdown",
   "id": "c3f42717-88b2-4205-b1f8-262a4a740b38",
   "metadata": {},
   "source": [
    "`read_csv()` can also be used for .csv files hosted online; you'll simply substitute a URL in your function call for your local file path. For instance, the following cell reads in a .csv file from GitHub that will be processed by a later section of Python for Nonprofits:"
   ]
  },
  {
   "cell_type": "code",
   "execution_count": 5,
   "id": "e856affe-170b-48ab-a90e-2a285cb2705b",
   "metadata": {
    "execution": {
     "iopub.execute_input": "2025-03-18T01:53:41.776769Z",
     "iopub.status.busy": "2025-03-18T01:53:41.776611Z",
     "iopub.status.idle": "2025-03-18T01:53:42.129556Z",
     "shell.execute_reply": "2025-03-18T01:53:42.128441Z",
     "shell.execute_reply.started": "2025-03-18T01:53:41.776759Z"
    }
   },
   "outputs": [
    {
     "data": {
      "text/html": [
       "<div>\n",
       "<style scoped>\n",
       "    .dataframe tbody tr th:only-of-type {\n",
       "        vertical-align: middle;\n",
       "    }\n",
       "\n",
       "    .dataframe tbody tr th {\n",
       "        vertical-align: top;\n",
       "    }\n",
       "\n",
       "    .dataframe thead th {\n",
       "        text-align: right;\n",
       "    }\n",
       "</style>\n",
       "<table border=\"1\" class=\"dataframe\">\n",
       "  <thead>\n",
       "    <tr style=\"text-align: right;\">\n",
       "      <th></th>\n",
       "      <th>MATRIC#</th>\n",
       "      <th>SEASON</th>\n",
       "      <th>SURVEY_SCORE</th>\n",
       "      <th>STARTINGYR</th>\n",
       "      <th>MATRICYR</th>\n",
       "    </tr>\n",
       "  </thead>\n",
       "  <tbody>\n",
       "    <tr>\n",
       "      <th>0</th>\n",
       "      <td>1297</td>\n",
       "      <td>W</td>\n",
       "      <td>55.0%</td>\n",
       "      <td>23</td>\n",
       "      <td>22</td>\n",
       "    </tr>\n",
       "    <tr>\n",
       "      <th>1</th>\n",
       "      <td>1017</td>\n",
       "      <td>W</td>\n",
       "      <td>59.0%</td>\n",
       "      <td>23</td>\n",
       "      <td>22</td>\n",
       "    </tr>\n",
       "    <tr>\n",
       "      <th>...</th>\n",
       "      <td>...</td>\n",
       "      <td>...</td>\n",
       "      <td>...</td>\n",
       "      <td>...</td>\n",
       "      <td>...</td>\n",
       "    </tr>\n",
       "    <tr>\n",
       "      <th>968</th>\n",
       "      <td>3699</td>\n",
       "      <td>W</td>\n",
       "      <td>69.0%</td>\n",
       "      <td>23</td>\n",
       "      <td>22</td>\n",
       "    </tr>\n",
       "    <tr>\n",
       "      <th>969</th>\n",
       "      <td>1875</td>\n",
       "      <td>W</td>\n",
       "      <td>67.0%</td>\n",
       "      <td>23</td>\n",
       "      <td>22</td>\n",
       "    </tr>\n",
       "  </tbody>\n",
       "</table>\n",
       "<p>970 rows × 5 columns</p>\n",
       "</div>"
      ],
      "text/plain": [
       "     MATRIC# SEASON SURVEY_SCORE  STARTINGYR  MATRICYR\n",
       "0       1297      W        55.0%          23        22\n",
       "1       1017      W        59.0%          23        22\n",
       "..       ...    ...          ...         ...       ...\n",
       "968     3699      W        69.0%          23        22\n",
       "969     1875      W        67.0%          23        22\n",
       "\n",
       "[970 rows x 5 columns]"
      ]
     },
     "execution_count": 5,
     "metadata": {},
     "output_type": "execute_result"
    }
   ],
   "source": [
    "df_web_csv_example = pd.read_csv(\n",
    "'https://raw.githubusercontent.com/kburchfiel/pfn/\\\n",
    "refs/heads/main/Data_Prep/winter_results/STB_So_results.csv')\n",
    "df_web_csv_example"
   ]
  },
  {
   "cell_type": "markdown",
   "id": "b52e7fb6-d619-42ad-b922-fc2b5d93b70a",
   "metadata": {},
   "source": [
    "While this is a handy feature to have, if you're dealing with a large and unchanging dataset, you may want to consider downloading it to your computer beforehand--as reading in the file from your local hard drive will likely be faster than retrieving it via your internet connection."
   ]
  },
  {
   "cell_type": "markdown",
   "id": "1a5dc20d-5a56-493f-8edb-e6807266825f",
   "metadata": {},
   "source": [
    "## Importing .xlsx data\n",
    "\n",
    "Importing .xlsx files is also easy to do within Python, although I've found that this process can take longer to execute than does importing .csv files. (Therefore, I tend to prefer .csv files over .xlsx ones when importing data into Python.)\n",
    "\n",
    "The following code imports an .xlsx version of the same current enrollment dataset that we imported earlier. You may need to install the openpyxl library in order for this code to run on your computer."
   ]
  },
  {
   "cell_type": "code",
   "execution_count": 6,
   "id": "17e32458-6b49-4982-9965-faa5773c098b",
   "metadata": {
    "execution": {
     "iopub.execute_input": "2025-03-18T01:53:42.131125Z",
     "iopub.status.busy": "2025-03-18T01:53:42.130770Z",
     "iopub.status.idle": "2025-03-18T01:53:43.611250Z",
     "shell.execute_reply": "2025-03-18T01:53:43.610963Z",
     "shell.execute_reply.started": "2025-03-18T01:53:42.131093Z"
    }
   },
   "outputs": [
    {
     "data": {
      "text/html": [
       "<div>\n",
       "<style scoped>\n",
       "    .dataframe tbody tr th:only-of-type {\n",
       "        vertical-align: middle;\n",
       "    }\n",
       "\n",
       "    .dataframe tbody tr th {\n",
       "        vertical-align: top;\n",
       "    }\n",
       "\n",
       "    .dataframe thead th {\n",
       "        text-align: right;\n",
       "    }\n",
       "</style>\n",
       "<table border=\"1\" class=\"dataframe\">\n",
       "  <thead>\n",
       "    <tr style=\"text-align: right;\">\n",
       "      <th></th>\n",
       "      <th>first_name</th>\n",
       "      <th>last_name</th>\n",
       "      <th>gender</th>\n",
       "      <th>...</th>\n",
       "      <th>class_of</th>\n",
       "      <th>level</th>\n",
       "      <th>level_for_sorting</th>\n",
       "    </tr>\n",
       "  </thead>\n",
       "  <tbody>\n",
       "    <tr>\n",
       "      <th>0</th>\n",
       "      <td>Jane</td>\n",
       "      <td>Turner</td>\n",
       "      <td>F</td>\n",
       "      <td>...</td>\n",
       "      <td>2024</td>\n",
       "      <td>Se</td>\n",
       "      <td>3</td>\n",
       "    </tr>\n",
       "    <tr>\n",
       "      <th>1</th>\n",
       "      <td>Marilyn</td>\n",
       "      <td>Morales</td>\n",
       "      <td>F</td>\n",
       "      <td>...</td>\n",
       "      <td>2024</td>\n",
       "      <td>Se</td>\n",
       "      <td>3</td>\n",
       "    </tr>\n",
       "    <tr>\n",
       "      <th>2</th>\n",
       "      <td>Angie</td>\n",
       "      <td>Campos</td>\n",
       "      <td>F</td>\n",
       "      <td>...</td>\n",
       "      <td>2024</td>\n",
       "      <td>Se</td>\n",
       "      <td>3</td>\n",
       "    </tr>\n",
       "    <tr>\n",
       "      <th>3</th>\n",
       "      <td>Kathleen</td>\n",
       "      <td>Bennett</td>\n",
       "      <td>F</td>\n",
       "      <td>...</td>\n",
       "      <td>2024</td>\n",
       "      <td>Se</td>\n",
       "      <td>3</td>\n",
       "    </tr>\n",
       "    <tr>\n",
       "      <th>4</th>\n",
       "      <td>Janet</td>\n",
       "      <td>Edwards</td>\n",
       "      <td>F</td>\n",
       "      <td>...</td>\n",
       "      <td>2024</td>\n",
       "      <td>Se</td>\n",
       "      <td>3</td>\n",
       "    </tr>\n",
       "  </tbody>\n",
       "</table>\n",
       "<p>5 rows × 11 columns</p>\n",
       "</div>"
      ],
      "text/plain": [
       "  first_name last_name gender  ...  class_of  level level_for_sorting\n",
       "0       Jane    Turner      F  ...      2024     Se                 3\n",
       "1    Marilyn   Morales      F  ...      2024     Se                 3\n",
       "2      Angie    Campos      F  ...      2024     Se                 3\n",
       "3   Kathleen   Bennett      F  ...      2024     Se                 3\n",
       "4      Janet   Edwards      F  ...      2024     Se                 3\n",
       "\n",
       "[5 rows x 11 columns]"
      ]
     },
     "execution_count": 6,
     "metadata": {},
     "output_type": "execute_result"
    }
   ],
   "source": [
    "df_curr_enrollment_xlsx = pd.read_excel('curr_enrollment.xlsx')\n",
    "df_curr_enrollment_xlsx.head()"
   ]
  },
  {
   "cell_type": "markdown",
   "id": "ccea7c65-3fde-4281-9475-02092ef52802",
   "metadata": {},
   "source": [
    "This cell took 1.38 seconds to execute on my computer, whereas the first .csv import cell ran in just 21 miliseconds (or 0.021 seconds). In other words, the .csv import was around 65 times faster than the .xlsx import."
   ]
  },
  {
   "cell_type": "markdown",
   "id": "29951705-706b-4072-b8cb-119136a85f29",
   "metadata": {
    "execution": {
     "iopub.execute_input": "2024-07-06T02:00:20.440283Z",
     "iopub.status.busy": "2024-07-06T02:00:20.439272Z",
     "iopub.status.idle": "2024-07-06T02:00:20.442725Z",
     "shell.execute_reply": "2024-07-06T02:00:20.442725Z",
     "shell.execute_reply.started": "2024-07-06T02:00:20.440283Z"
    }
   },
   "source": [
    "## Importing SQL data\n",
    "\n",
    "Python's SQLAlchemy and Pandas libraries make it easy to import SQL tables into your script. Many different types of SQL (such as PostgreSQL) are supported, but this example will focus on a SQLite table created within PFN's appendix.\n",
    "\n",
    "In order to import data from a database, we'll first need to connect to it via SQLAlchemy's `create_engine` function:"
   ]
  },
  {
   "cell_type": "code",
   "execution_count": 7,
   "id": "fbf99aca-c872-409f-b8da-70b237d34c17",
   "metadata": {
    "execution": {
     "iopub.execute_input": "2025-03-18T01:53:43.611740Z",
     "iopub.status.busy": "2025-03-18T01:53:43.611584Z",
     "iopub.status.idle": "2025-03-18T01:53:43.617863Z",
     "shell.execute_reply": "2025-03-18T01:53:43.617558Z",
     "shell.execute_reply.started": "2025-03-18T01:53:43.611730Z"
    }
   },
   "outputs": [],
   "source": [
    "e = create_engine('sqlite:///../Appendix/nvcu_db.db')\n",
    "# Based on: \n",
    "# https://docs.sqlalchemy.org/en/20/dialects/sqlite.html#pysqlite"
   ]
  },
  {
   "cell_type": "markdown",
   "id": "5c6b77be-4c63-4b2f-8821-1f350464663f",
   "metadata": {},
   "source": [
    "Note that the first 3 forward slashes indicate that a relative path will be used. The actual relative path ('../Appendix/nvcu_db.db') follows those forward slashes.\n",
    "\n",
    "For guidance on creating engines for other database types (such as PostgreSQL, MySQL, and others), visit https://docs.sqlalchemy.org/en/20/core/engines.html#database-urls ."
   ]
  },
  {
   "cell_type": "markdown",
   "id": "42c34508-9daf-46e1-aa29-f55b72c2b7ff",
   "metadata": {},
   "source": [
    "Once this SQLAlchemy engine has been created, we can use it to read in data from our database:"
   ]
  },
  {
   "cell_type": "code",
   "execution_count": 8,
   "id": "6fec1a42-fd89-41df-bf38-0ec720d072cc",
   "metadata": {
    "execution": {
     "iopub.execute_input": "2025-03-18T01:53:43.618397Z",
     "iopub.status.busy": "2025-03-18T01:53:43.618273Z",
     "iopub.status.idle": "2025-03-18T01:53:43.668215Z",
     "shell.execute_reply": "2025-03-18T01:53:43.667935Z",
     "shell.execute_reply.started": "2025-03-18T01:53:43.618387Z"
    }
   },
   "outputs": [
    {
     "data": {
      "text/html": [
       "<div>\n",
       "<style scoped>\n",
       "    .dataframe tbody tr th:only-of-type {\n",
       "        vertical-align: middle;\n",
       "    }\n",
       "\n",
       "    .dataframe tbody tr th {\n",
       "        vertical-align: top;\n",
       "    }\n",
       "\n",
       "    .dataframe thead th {\n",
       "        text-align: right;\n",
       "    }\n",
       "</style>\n",
       "<table border=\"1\" class=\"dataframe\">\n",
       "  <thead>\n",
       "    <tr style=\"text-align: right;\">\n",
       "      <th></th>\n",
       "      <th>first_name</th>\n",
       "      <th>last_name</th>\n",
       "      <th>gender</th>\n",
       "      <th>...</th>\n",
       "      <th>class_of</th>\n",
       "      <th>level</th>\n",
       "      <th>level_for_sorting</th>\n",
       "    </tr>\n",
       "  </thead>\n",
       "  <tbody>\n",
       "    <tr>\n",
       "      <th>0</th>\n",
       "      <td>Jane</td>\n",
       "      <td>Turner</td>\n",
       "      <td>F</td>\n",
       "      <td>...</td>\n",
       "      <td>2024</td>\n",
       "      <td>Se</td>\n",
       "      <td>3</td>\n",
       "    </tr>\n",
       "    <tr>\n",
       "      <th>1</th>\n",
       "      <td>Marilyn</td>\n",
       "      <td>Morales</td>\n",
       "      <td>F</td>\n",
       "      <td>...</td>\n",
       "      <td>2024</td>\n",
       "      <td>Se</td>\n",
       "      <td>3</td>\n",
       "    </tr>\n",
       "    <tr>\n",
       "      <th>2</th>\n",
       "      <td>Angie</td>\n",
       "      <td>Campos</td>\n",
       "      <td>F</td>\n",
       "      <td>...</td>\n",
       "      <td>2024</td>\n",
       "      <td>Se</td>\n",
       "      <td>3</td>\n",
       "    </tr>\n",
       "    <tr>\n",
       "      <th>3</th>\n",
       "      <td>Kathleen</td>\n",
       "      <td>Bennett</td>\n",
       "      <td>F</td>\n",
       "      <td>...</td>\n",
       "      <td>2024</td>\n",
       "      <td>Se</td>\n",
       "      <td>3</td>\n",
       "    </tr>\n",
       "    <tr>\n",
       "      <th>4</th>\n",
       "      <td>Janet</td>\n",
       "      <td>Edwards</td>\n",
       "      <td>F</td>\n",
       "      <td>...</td>\n",
       "      <td>2024</td>\n",
       "      <td>Se</td>\n",
       "      <td>3</td>\n",
       "    </tr>\n",
       "  </tbody>\n",
       "</table>\n",
       "<p>5 rows × 11 columns</p>\n",
       "</div>"
      ],
      "text/plain": [
       "  first_name last_name gender  ...  class_of  level level_for_sorting\n",
       "0       Jane    Turner      F  ...      2024     Se                 3\n",
       "1    Marilyn   Morales      F  ...      2024     Se                 3\n",
       "2      Angie    Campos      F  ...      2024     Se                 3\n",
       "3   Kathleen   Bennett      F  ...      2024     Se                 3\n",
       "4      Janet   Edwards      F  ...      2024     Se                 3\n",
       "\n",
       "[5 rows x 11 columns]"
      ]
     },
     "execution_count": 8,
     "metadata": {},
     "output_type": "execute_result"
    }
   ],
   "source": [
    "df_curr_enrollment_sql = pd.read_sql(\n",
    "    'select * from curr_enrollment', con=e)\n",
    "df_curr_enrollment_sql.head()"
   ]
  },
  {
   "cell_type": "markdown",
   "id": "86ca3c36-b68d-41c1-acfb-c88a3c6b009c",
   "metadata": {},
   "source": [
    "SQL is a whole language in itself, but you need not be a SQL expert to use Python to connect to database tables. In the above cell, `'select * from curr_enrollment'` is a line of SQL code that requests that all fields (and, thus, all data) be retrieved from the `curr_enrollment` SQLite table. \n",
    "\n",
    "SQL makes it possible to select specific columns, choose only particular groups of rows, and perform other more advanced operations. However, many of these operations can also be performed within Python. If you're already a SQL whiz, feel free to pass more advanced code to `read_sql()`; if you're a SQL novice, 'select * from [table]' will still get you pretty far!\n",
    "\n",
    "*Also note that a SQLAlchemy engine can be used as the 'con' argument within both `read_sql()` and `to_sql()`. This is mentioned explicitly within Pandas' `to_sql()` documentation (https://pandas.pydata.org/pandas-docs/stable/reference/api/pandas.DataFrame.to_sql.html) but can also be inferred from pandas' `read_sql()` page (https://pandas.pydata.org/pandas-docs/stable/reference/api/pandas.read_sql.html). This page states that 'con' needs to be a 'SQLAlchemy connectable,' and the source code for sql.py() (https://github.com/pandas-dev/pandas/blob/v2.2.2/pandas/io/sql.py#L570-L743) specifies that 'SQLAlchemy connectable' can be either an engine or a connection. I mention this in part because using an engine as your argument for the 'con' parameter in `read_sql()` and `to_sql()` can save you a bit of code.*"
   ]
  },
  {
   "cell_type": "markdown",
   "id": "bfde2262-7700-4d5e-9dfb-dcf9ab0c38d1",
   "metadata": {},
   "source": [
    "## Importing HTML data\n",
    "\n",
    "There are a number of ways to access data directly from the internet via Python. One means of doing so is `pd.read_html()`, which lets you read HTML tables from websites driectly into DataFrames.\n",
    "\n",
    "The following code imports a list of sample Census API connection strings into a DataFrame. The [0] at the end of the `read_html()` call instructs Pandas to convert the *first* table retrieved by `read_html()` into a DataFrame. (There's only one HTML table on this page, but it's still necessary to add [0].)\n",
    "\n",
    "Note that the import isn't perfect: for some reason, the data on the 'Number' field on the right didn't get downloaded successfully. As noted in the `read_html()` documentation (https://pandas.pydata.org/pandas-docs/stable/reference/api/pandas.read_html.html), \"Expect to do some cleanup after you call this function.\""
   ]
  },
  {
   "cell_type": "code",
   "execution_count": 9,
   "id": "705e00ec-43cf-45fa-a791-5cd51fbcd471",
   "metadata": {
    "execution": {
     "iopub.execute_input": "2025-03-18T01:53:43.668634Z",
     "iopub.status.busy": "2025-03-18T01:53:43.668529Z",
     "iopub.status.idle": "2025-03-18T01:53:43.947198Z",
     "shell.execute_reply": "2025-03-18T01:53:43.946715Z",
     "shell.execute_reply.started": "2025-03-18T01:53:43.668624Z"
    }
   },
   "outputs": [
    {
     "data": {
      "text/html": [
       "<div>\n",
       "<style scoped>\n",
       "    .dataframe tbody tr th:only-of-type {\n",
       "        vertical-align: middle;\n",
       "    }\n",
       "\n",
       "    .dataframe tbody tr th {\n",
       "        vertical-align: top;\n",
       "    }\n",
       "\n",
       "    .dataframe thead th {\n",
       "        text-align: right;\n",
       "    }\n",
       "</style>\n",
       "<table border=\"1\" class=\"dataframe\">\n",
       "  <thead>\n",
       "    <tr style=\"text-align: right;\">\n",
       "      <th></th>\n",
       "      <th>Geography Hierarchy</th>\n",
       "      <th>Geography Level</th>\n",
       "      <th>Example URL</th>\n",
       "      <th>Number</th>\n",
       "    </tr>\n",
       "  </thead>\n",
       "  <tbody>\n",
       "    <tr>\n",
       "      <th>0</th>\n",
       "      <td>us</td>\n",
       "      <td>010</td>\n",
       "      <td>https://api.census.gov/data/2022/acs/acs5?get=...</td>\n",
       "      <td>NaN</td>\n",
       "    </tr>\n",
       "    <tr>\n",
       "      <th>1</th>\n",
       "      <td>us</td>\n",
       "      <td>010</td>\n",
       "      <td>https://api.census.gov/data/2022/acs/acs5?get=...</td>\n",
       "      <td>NaN</td>\n",
       "    </tr>\n",
       "    <tr>\n",
       "      <th>2</th>\n",
       "      <td>region</td>\n",
       "      <td>020</td>\n",
       "      <td>https://api.census.gov/data/2022/acs/acs5?get=...</td>\n",
       "      <td>NaN</td>\n",
       "    </tr>\n",
       "    <tr>\n",
       "      <th>3</th>\n",
       "      <td>region</td>\n",
       "      <td>020</td>\n",
       "      <td>https://api.census.gov/data/2022/acs/acs5?get=...</td>\n",
       "      <td>NaN</td>\n",
       "    </tr>\n",
       "    <tr>\n",
       "      <th>4</th>\n",
       "      <td>division</td>\n",
       "      <td>030</td>\n",
       "      <td>https://api.census.gov/data/2022/acs/acs5?get=...</td>\n",
       "      <td>NaN</td>\n",
       "    </tr>\n",
       "  </tbody>\n",
       "</table>\n",
       "</div>"
      ],
      "text/plain": [
       "  Geography Hierarchy Geography Level  \\\n",
       "0                  us             010   \n",
       "1                  us             010   \n",
       "2              region             020   \n",
       "3              region             020   \n",
       "4            division             030   \n",
       "\n",
       "                                         Example URL  Number  \n",
       "0  https://api.census.gov/data/2022/acs/acs5?get=...     NaN  \n",
       "1  https://api.census.gov/data/2022/acs/acs5?get=...     NaN  \n",
       "2  https://api.census.gov/data/2022/acs/acs5?get=...     NaN  \n",
       "3  https://api.census.gov/data/2022/acs/acs5?get=...     NaN  \n",
       "4  https://api.census.gov/data/2022/acs/acs5?get=...     NaN  "
      ]
     },
     "execution_count": 9,
     "metadata": {},
     "output_type": "execute_result"
    }
   ],
   "source": [
    "df_census_examples = pd.read_html(\n",
    "    'https://api.census.gov/data/2022/acs/acs5/examples.html')[0]\n",
    "df_census_examples.head()"
   ]
  },
  {
   "cell_type": "markdown",
   "id": "263dcc28-2ae8-4960-99a2-bce428b3474d",
   "metadata": {},
   "source": [
    "## What about exports?"
   ]
  },
  {
   "cell_type": "markdown",
   "id": "439afab9-0167-4a07-9254-bca8579a7153",
   "metadata": {},
   "source": [
    "The above examples focused on *importing* data; however, Pandas also makes it easy to *export* data to a variety of formats."
   ]
  },
  {
   "cell_type": "markdown",
   "id": "e81fa919-8e6d-48f2-a3a5-1656512f5259",
   "metadata": {},
   "source": [
    "### Exporting data to a .csv file:"
   ]
  },
  {
   "cell_type": "code",
   "execution_count": 10,
   "id": "2ee4d5bb-47bf-4f06-82a5-60bd4f5e522f",
   "metadata": {
    "execution": {
     "iopub.execute_input": "2025-03-18T01:53:43.947742Z",
     "iopub.status.busy": "2025-03-18T01:53:43.947617Z",
     "iopub.status.idle": "2025-03-18T01:53:43.973562Z",
     "shell.execute_reply": "2025-03-18T01:53:43.973182Z",
     "shell.execute_reply.started": "2025-03-18T01:53:43.947731Z"
    }
   },
   "outputs": [],
   "source": [
    "df_curr_enrollment_csv.to_csv(\n",
    "    'curr_enrollment_export.csv', index=False)\n"
   ]
  },
  {
   "cell_type": "markdown",
   "id": "3db4bba4-f4e4-4f4b-bbfb-54648bbb1570",
   "metadata": {},
   "source": [
    "`index=False` specifies that we do not want to include the DataFrame's index within our .csv file. This is the best option in this case, since the DataFrame's index doesn't contain any meaningful data--and it will get recreated anyway when we import the .csv file back into Python.\n",
    "\n",
    "As the following two cells demonstrate, If we leave this component out, then attempt to import the DataFrame, we'll end up with an ugly `Unnamed: 0` column:"
   ]
  },
  {
   "cell_type": "code",
   "execution_count": 11,
   "id": "726c2899-c5bf-4c84-bb60-3861af986348",
   "metadata": {
    "execution": {
     "iopub.execute_input": "2025-03-18T01:53:43.974048Z",
     "iopub.status.busy": "2025-03-18T01:53:43.973944Z",
     "iopub.status.idle": "2025-03-18T01:53:43.980356Z",
     "shell.execute_reply": "2025-03-18T01:53:43.980149Z",
     "shell.execute_reply.started": "2025-03-18T01:53:43.974038Z"
    }
   },
   "outputs": [
    {
     "data": {
      "text/html": [
       "<div>\n",
       "<style scoped>\n",
       "    .dataframe tbody tr th:only-of-type {\n",
       "        vertical-align: middle;\n",
       "    }\n",
       "\n",
       "    .dataframe tbody tr th {\n",
       "        vertical-align: top;\n",
       "    }\n",
       "\n",
       "    .dataframe thead th {\n",
       "        text-align: right;\n",
       "    }\n",
       "</style>\n",
       "<table border=\"1\" class=\"dataframe\">\n",
       "  <thead>\n",
       "    <tr style=\"text-align: right;\">\n",
       "      <th></th>\n",
       "      <th>Unnamed: 0</th>\n",
       "      <th>first_name</th>\n",
       "      <th>last_name</th>\n",
       "      <th>...</th>\n",
       "      <th>class_of</th>\n",
       "      <th>level</th>\n",
       "      <th>level_for_sorting</th>\n",
       "    </tr>\n",
       "  </thead>\n",
       "  <tbody>\n",
       "    <tr>\n",
       "      <th>0</th>\n",
       "      <td>0</td>\n",
       "      <td>Jane</td>\n",
       "      <td>Turner</td>\n",
       "      <td>...</td>\n",
       "      <td>2024</td>\n",
       "      <td>Se</td>\n",
       "      <td>3</td>\n",
       "    </tr>\n",
       "    <tr>\n",
       "      <th>1</th>\n",
       "      <td>1</td>\n",
       "      <td>Marilyn</td>\n",
       "      <td>Morales</td>\n",
       "      <td>...</td>\n",
       "      <td>2024</td>\n",
       "      <td>Se</td>\n",
       "      <td>3</td>\n",
       "    </tr>\n",
       "    <tr>\n",
       "      <th>2</th>\n",
       "      <td>2</td>\n",
       "      <td>Angie</td>\n",
       "      <td>Campos</td>\n",
       "      <td>...</td>\n",
       "      <td>2024</td>\n",
       "      <td>Se</td>\n",
       "      <td>3</td>\n",
       "    </tr>\n",
       "    <tr>\n",
       "      <th>3</th>\n",
       "      <td>3</td>\n",
       "      <td>Kathleen</td>\n",
       "      <td>Bennett</td>\n",
       "      <td>...</td>\n",
       "      <td>2024</td>\n",
       "      <td>Se</td>\n",
       "      <td>3</td>\n",
       "    </tr>\n",
       "    <tr>\n",
       "      <th>4</th>\n",
       "      <td>4</td>\n",
       "      <td>Janet</td>\n",
       "      <td>Edwards</td>\n",
       "      <td>...</td>\n",
       "      <td>2024</td>\n",
       "      <td>Se</td>\n",
       "      <td>3</td>\n",
       "    </tr>\n",
       "  </tbody>\n",
       "</table>\n",
       "<p>5 rows × 12 columns</p>\n",
       "</div>"
      ],
      "text/plain": [
       "   Unnamed: 0 first_name last_name  ... class_of  level  level_for_sorting\n",
       "0           0       Jane    Turner  ...     2024     Se                  3\n",
       "1           1    Marilyn   Morales  ...     2024     Se                  3\n",
       "2           2      Angie    Campos  ...     2024     Se                  3\n",
       "3           3   Kathleen   Bennett  ...     2024     Se                  3\n",
       "4           4      Janet   Edwards  ...     2024     Se                  3\n",
       "\n",
       "[5 rows x 12 columns]"
      ]
     },
     "execution_count": 11,
     "metadata": {},
     "output_type": "execute_result"
    }
   ],
   "source": [
    "df_curr_enrollment_csv.iloc[0:5].to_csv(\n",
    "    'curr_enrollment_export_with_index.csv') # Using .iloc to export\n",
    "# only the first 5 rows will reduce the size of this file within\n",
    "# our project folder.\n",
    "\n",
    "pd.read_csv('curr_enrollment_export_with_index.csv')"
   ]
  },
  {
   "cell_type": "markdown",
   "id": "6f1cca08-7551-4c7c-b735-b26ce379091b",
   "metadata": {
    "execution": {
     "iopub.execute_input": "2024-07-06T03:20:04.157052Z",
     "iopub.status.busy": "2024-07-06T03:20:04.157052Z",
     "iopub.status.idle": "2024-07-06T03:20:04.160343Z",
     "shell.execute_reply": "2024-07-06T03:20:04.160343Z",
     "shell.execute_reply.started": "2024-07-06T03:20:04.157052Z"
    }
   },
   "source": [
    "### Exporting data to an .xlsx file:"
   ]
  },
  {
   "cell_type": "code",
   "execution_count": 12,
   "id": "aa9702ee-ab7f-42d9-8359-458567ea8c98",
   "metadata": {
    "execution": {
     "iopub.execute_input": "2025-03-18T01:53:43.981428Z",
     "iopub.status.busy": "2025-03-18T01:53:43.981162Z",
     "iopub.status.idle": "2025-03-18T01:53:45.354144Z",
     "shell.execute_reply": "2025-03-18T01:53:45.353759Z",
     "shell.execute_reply.started": "2025-03-18T01:53:43.981401Z"
    }
   },
   "outputs": [],
   "source": [
    "df_curr_enrollment_xlsx.to_excel(\n",
    "    'curr_enrollment_export.xlsx', index=False)"
   ]
  },
  {
   "cell_type": "markdown",
   "id": "d35ad417-ee1c-46c3-8684-c0142f777c91",
   "metadata": {},
   "source": [
    "On my computer, this .xlsx export took 52 times as long as the .csv export (1.36 seconds vs. 26 milliseconds). Therefore, as noted earlier, you may want to use .csv files in place of .xlsx files when working in Python.\n",
    "\n",
    "For examples of exporting data to SQL tables via `to_sql()`, reference the `nvcu_db_gen.ipynb` file within the Appendix."
   ]
  },
  {
   "cell_type": "markdown",
   "id": "679e2832-cb2d-4943-b99d-f302cb31ce27",
   "metadata": {},
   "source": [
    "### A caveat about data types"
   ]
  },
  {
   "cell_type": "markdown",
   "id": "a4f7700d-2056-49a6-9849-e18e265f7bca",
   "metadata": {},
   "source": [
    "You'll often find that using `read_csv()`, `read_excel()`, and `read_sql()` will create identical DataFrames as long as the source data is the same. However, in some cases, the data types returned by these functions will differ--requiring you to add in some additional code to resolve this discrepancy.\n",
    "\n",
    "For instance, if you retrieve a dataset from a SQL table, dates of birth might be formatted as datetime values. Meanwhile, those same values may be formatted as strings if they were imported from a .csv file. Therefore, if you're switching your import source from a SQL table to a .csv file or vice versa, it's not a bad idea to check the data types of your imported fields using `df.dtypes` (https://pandas.pydata.org/pandas-docs/stable/reference/api/pandas.DataFrame.dtypes.html). "
   ]
  },
  {
   "cell_type": "markdown",
   "id": "b01745ba-09dd-49d9-8be3-f35998f7d058",
   "metadata": {
    "execution": {
     "iopub.execute_input": "2025-03-18T01:54:07.634538Z",
     "iopub.status.busy": "2025-03-18T01:54:07.634067Z",
     "iopub.status.idle": "2025-03-18T01:54:07.640253Z",
     "shell.execute_reply": "2025-03-18T01:54:07.638643Z",
     "shell.execute_reply.started": "2025-03-18T01:54:07.634500Z"
    }
   },
   "source": [
    "## Conclusion\n",
    "\n",
    "As this notebook demonstrates, Pandas tends to make data retrieval very simple. Cleaning and reformatting data, the subject of the following chapter, isn't always so simple--but Pandas will play a very valuable role with this process as well.\n",
    "\n",
    "For a more comprehensive listing of the many data import (and export) tasks that Pandas can perform, visit https://pandas.pydata.org/pandas-docs/stable/reference/io.html . "
   ]
  }
 ],
 "metadata": {
  "kernelspec": {
   "display_name": "Python 3 (ipykernel)",
   "language": "python",
   "name": "python3"
  },
  "language_info": {
   "codemirror_mode": {
    "name": "ipython",
    "version": 3
   },
   "file_extension": ".py",
   "mimetype": "text/x-python",
   "name": "python",
   "nbconvert_exporter": "python",
   "pygments_lexer": "ipython3",
   "version": "3.12.6"
  }
 },
 "nbformat": 4,
 "nbformat_minor": 5
}
