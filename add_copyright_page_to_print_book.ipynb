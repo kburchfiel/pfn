{
 "cells": [
  {
   "cell_type": "markdown",
   "id": "da8a83f8-180e-46a6-aed5-0181f12a7f44",
   "metadata": {},
   "source": [
    "## Script for adding copyright page into print version of book\n",
    "\n",
    "(Much of the following code was based on the pypdf documentation at https://pypdf.readthedocs.io/en/stable/user/merging-pdfs.html#merging-pdf-files .)\n",
    "\n",
    "PyPDF's license can be found at https://github.com/py-pdf/pypdf?tab=License-1-ov-file#readme .\n",
    "\n",
    "(This copyright page was created within Inkscape. There may very well be a way to add it directly to the book via jupyter-book, but this approach works fine also.)"
   ]
  },
  {
   "cell_type": "code",
   "execution_count": 1,
   "id": "92e0b850-27eb-45c3-8fb9-9c4d9530abdd",
   "metadata": {
    "execution": {
     "iopub.execute_input": "2025-06-21T02:48:29.295096Z",
     "iopub.status.busy": "2025-06-21T02:48:29.294789Z",
     "iopub.status.idle": "2025-06-21T02:48:29.332759Z",
     "shell.execute_reply": "2025-06-21T02:48:29.332429Z",
     "shell.execute_reply.started": "2025-06-21T02:48:29.295058Z"
    }
   },
   "outputs": [],
   "source": [
    "from pypdf import PdfWriter\n",
    "merger = PdfWriter()\n",
    "import os"
   ]
  },
  {
   "cell_type": "code",
   "execution_count": 2,
   "id": "8b7c7b6a-4fe6-469f-8c4b-ebc8c5c4c3f3",
   "metadata": {
    "execution": {
     "iopub.execute_input": "2025-06-21T02:48:29.333336Z",
     "iopub.status.busy": "2025-06-21T02:48:29.333142Z",
     "iopub.status.idle": "2025-06-21T02:48:30.424263Z",
     "shell.execute_reply": "2025-06-21T02:48:30.423753Z",
     "shell.execute_reply.started": "2025-06-21T02:48:29.333324Z"
    }
   },
   "outputs": [],
   "source": [
    "main_book = open('_build/latex/book.pdf', 'rb')\n",
    "copyright_page = open('Print_Book/pfn_copyright_page.pdf', 'rb')\n",
    "merger.append(fileobj=main_book)\n",
    "merger.merge(position=1, fileobj=copyright_page)\n",
    "file_source = \"Print_Book/pfn_book.pdf\"\n",
    "# Deleting the existing copy of the book: (This will prevent the writer\n",
    "# from simply adding the latest copy of the book to the existing one!)\n",
    "os.remove(file_source)\n",
    "output = open(file_source, \"wb\")\n",
    "merger.write(output)\n",
    "merger.close()\n",
    "output.close()"
   ]
  }
 ],
 "metadata": {
  "kernelspec": {
   "display_name": "Python 3 (ipykernel)",
   "language": "python",
   "name": "python3"
  },
  "language_info": {
   "codemirror_mode": {
    "name": "ipython",
    "version": 3
   },
   "file_extension": ".py",
   "mimetype": "text/x-python",
   "name": "python",
   "nbconvert_exporter": "python",
   "pygments_lexer": "ipython3",
   "version": "3.13.2"
  }
 },
 "nbformat": 4,
 "nbformat_minor": 5
}
