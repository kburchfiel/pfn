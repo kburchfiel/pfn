{
 "cells": [
  {
   "cell_type": "markdown",
   "id": "9790ef38-95bb-4455-a1c4-ddbf32ee4ea0",
   "metadata": {},
   "source": [
    "# NVCU Database Generator\n",
    "\n",
    "By Kenneth Burchfiel\n",
    "\n",
    "Released under the MIT License"
   ]
  },
  {
   "cell_type": "markdown",
   "id": "d66b93c1-77e6-4715-84fc-e8845cba60af",
   "metadata": {},
   "source": [
    "This script will create a SQLite database for the (fictional) Northern Virginia Catholic University that can be referenced within other sections of Python for Nonprofits. The data within this database will be fictional also."
   ]
  },
  {
   "cell_type": "code",
   "execution_count": 1,
   "id": "188efc00-9e93-4bbf-942e-cd316114b231",
   "metadata": {
    "execution": {
     "iopub.execute_input": "2025-03-18T01:53:08.667143Z",
     "iopub.status.busy": "2025-03-18T01:53:08.666998Z",
     "iopub.status.idle": "2025-03-18T01:53:09.087935Z",
     "shell.execute_reply": "2025-03-18T01:53:09.087537Z",
     "shell.execute_reply.started": "2025-03-18T01:53:08.667130Z"
    }
   },
   "outputs": [],
   "source": [
    "from sqlalchemy import create_engine\n",
    "import pandas as pd\n",
    "import numpy as np\n",
    "# Setting up random number generation capabilities:\n",
    "rng = np.random.default_rng(2325) \n",
    "# Based on https://numpy.org/doc/stable/reference/random/generator.html \n",
    "# The faker library is a great tool for creating fictional\n",
    "# database records. I set the locale to 'en_US' because NVCU\n",
    "# is based in the United States.\n",
    "from faker import Faker; fake = Faker('en_US')  \n",
    "from helper_funcs import config_notebook\n",
    "display_type = config_notebook(display_max_columns = 7,\n",
    "                              display_max_rows = 5)\n"
   ]
  },
  {
   "cell_type": "markdown",
   "id": "3836eff2-aec0-41b5-8708-47506a06c2a9",
   "metadata": {
    "execution": {
     "iopub.execute_input": "2024-07-05T04:33:32.615444Z",
     "iopub.status.busy": "2024-07-05T04:33:32.615444Z",
     "iopub.status.idle": "2024-07-05T04:33:32.619327Z",
     "shell.execute_reply": "2024-07-05T04:33:32.619327Z",
     "shell.execute_reply.started": "2024-07-05T04:33:32.615444Z"
    }
   },
   "source": [
    "## Connecting to our NVCU database via the SQLAlchemy library\n",
    "\n",
    "(This code will work even if no database currently exists at the path shown below.)\n"
   ]
  },
  {
   "cell_type": "code",
   "execution_count": 2,
   "id": "65bc2380-95c9-49c7-bb9e-0e892700e34a",
   "metadata": {
    "execution": {
     "iopub.execute_input": "2025-03-18T01:53:09.088674Z",
     "iopub.status.busy": "2025-03-18T01:53:09.088347Z",
     "iopub.status.idle": "2025-03-18T01:53:09.095657Z",
     "shell.execute_reply": "2025-03-18T01:53:09.095355Z",
     "shell.execute_reply.started": "2025-03-18T01:53:09.088656Z"
    }
   },
   "outputs": [],
   "source": [
    "e = create_engine('sqlite:///nvcu_db.db')\n",
    "# Based on: https://docs.sqlalchemy.org/en/20/dialects/sqlite.html#pysqlite\n"
   ]
  },
  {
   "cell_type": "code",
   "execution_count": 3,
   "id": "438bf7b5-fc82-44dd-9867-4eabc241c37f",
   "metadata": {
    "execution": {
     "iopub.execute_input": "2025-03-18T01:53:09.096942Z",
     "iopub.status.busy": "2025-03-18T01:53:09.096708Z",
     "iopub.status.idle": "2025-03-18T01:53:09.100296Z",
     "shell.execute_reply": "2025-03-18T01:53:09.099952Z",
     "shell.execute_reply.started": "2025-03-18T01:53:09.096925Z"
    }
   },
   "outputs": [
    {
     "data": {
      "text/plain": [
       "16384"
      ]
     },
     "execution_count": 3,
     "metadata": {},
     "output_type": "execute_result"
    }
   ],
   "source": [
    "student_count = 2**14\n",
    "student_count"
   ]
  },
  {
   "cell_type": "markdown",
   "id": "a218492b-8b16-4f87-8b6a-716aa16be2b7",
   "metadata": {},
   "source": [
    "## Creating a current enrollment table\n",
    "\n"
   ]
  },
  {
   "cell_type": "markdown",
   "id": "e456c264-f898-47c6-985e-722cd5167b71",
   "metadata": {},
   "source": [
    "### Creating lists of names\n",
    "\n",
    "We'll use the Faker library to create equal numbers of female and male first names, then concatenate these lists to create a single list of first names.\n",
    "\n",
    "(Note: The [Faker documentation for the 'en_US' (US English) locale](https://faker.readthedocs.io/en/master/locales/en_US.html) was a useful resource in writing this code.)"
   ]
  },
  {
   "cell_type": "code",
   "execution_count": 4,
   "id": "141c83d7-bafb-4f30-bb3a-26612c13817d",
   "metadata": {
    "execution": {
     "iopub.execute_input": "2025-03-18T01:53:09.100901Z",
     "iopub.status.busy": "2025-03-18T01:53:09.100740Z",
     "iopub.status.idle": "2025-03-18T01:53:09.106262Z",
     "shell.execute_reply": "2025-03-18T01:53:09.105947Z",
     "shell.execute_reply.started": "2025-03-18T01:53:09.100885Z"
    }
   },
   "outputs": [
    {
     "data": {
      "text/plain": [
       "8192"
      ]
     },
     "execution_count": 4,
     "metadata": {},
     "output_type": "execute_result"
    }
   ],
   "source": [
    "student_count\n",
    "# It's convenient to also create a variable for the value equal\n",
    "# to half of the student count. (Dividing the student count by\n",
    "# 2 produces a float by default, so we'll convert this value to \n",
    "# an int so that it can be used as a range within list comprehensions.)\n",
    "half_student_count = int(student_count / 2)\n",
    "half_student_count"
   ]
  },
  {
   "cell_type": "code",
   "execution_count": 5,
   "id": "fd277093-8950-421b-ac09-c0743841e328",
   "metadata": {
    "execution": {
     "iopub.execute_input": "2025-03-18T01:53:09.106947Z",
     "iopub.status.busy": "2025-03-18T01:53:09.106690Z",
     "iopub.status.idle": "2025-03-18T01:53:09.974302Z",
     "shell.execute_reply": "2025-03-18T01:53:09.973892Z",
     "shell.execute_reply.started": "2025-03-18T01:53:09.106925Z"
    }
   },
   "outputs": [],
   "source": [
    "female_first_names = [\n",
    "    fake.first_name_female() \n",
    "    for i in range(half_student_count)]\n",
    "male_first_names = [\n",
    "    fake.first_name_male() for i in range(half_student_count)]\n",
    "first_names = female_first_names + male_first_names\n",
    "last_names = [\n",
    "    fake.last_name() for i in range(student_count)]"
   ]
  },
  {
   "cell_type": "code",
   "execution_count": 6,
   "id": "6cf8c00f-98c5-4d28-b9bd-58e80327702e",
   "metadata": {
    "execution": {
     "iopub.execute_input": "2025-03-18T01:53:09.974841Z",
     "iopub.status.busy": "2025-03-18T01:53:09.974732Z",
     "iopub.status.idle": "2025-03-18T01:53:09.977119Z",
     "shell.execute_reply": "2025-03-18T01:53:09.976835Z",
     "shell.execute_reply.started": "2025-03-18T01:53:09.974832Z"
    }
   },
   "outputs": [],
   "source": [
    "# In order to make our genders match our names, we'll \n",
    "# make the first half of our gender list female and the second \n",
    "# half male (as the first and second halves of our first names\n",
    "# list show male and female names, respectively.)\n",
    "genders = (['F' for i in range(half_student_count)] \n",
    "+ ['M' for i in range(half_student_count)])"
   ]
  },
  {
   "cell_type": "markdown",
   "id": "a706f9c4-1726-415a-9e68-d3235b4076b5",
   "metadata": {
    "execution": {
     "iopub.execute_input": "2024-07-05T03:27:49.450504Z",
     "iopub.status.busy": "2024-07-05T03:27:49.450504Z",
     "iopub.status.idle": "2024-07-05T03:27:49.453570Z",
     "shell.execute_reply": "2024-07-05T03:27:49.453570Z",
     "shell.execute_reply.started": "2024-07-05T03:27:49.450504Z"
    }
   },
   "source": [
    "### Initializing our current enrollment table"
   ]
  },
  {
   "cell_type": "code",
   "execution_count": 7,
   "id": "fb37e90d-f9b2-451e-9245-2a2286f01bbe",
   "metadata": {
    "execution": {
     "iopub.execute_input": "2025-03-18T01:53:09.977611Z",
     "iopub.status.busy": "2025-03-18T01:53:09.977434Z",
     "iopub.status.idle": "2025-03-18T01:53:09.994284Z",
     "shell.execute_reply": "2025-03-18T01:53:09.993964Z",
     "shell.execute_reply.started": "2025-03-18T01:53:09.977600Z"
    }
   },
   "outputs": [
    {
     "data": {
      "text/html": [
       "<div>\n",
       "<style scoped>\n",
       "    .dataframe tbody tr th:only-of-type {\n",
       "        vertical-align: middle;\n",
       "    }\n",
       "\n",
       "    .dataframe tbody tr th {\n",
       "        vertical-align: top;\n",
       "    }\n",
       "\n",
       "    .dataframe thead th {\n",
       "        text-align: right;\n",
       "    }\n",
       "</style>\n",
       "<table border=\"1\" class=\"dataframe\">\n",
       "  <thead>\n",
       "    <tr style=\"text-align: right;\">\n",
       "      <th></th>\n",
       "      <th>first_name</th>\n",
       "      <th>last_name</th>\n",
       "      <th>gender</th>\n",
       "    </tr>\n",
       "  </thead>\n",
       "  <tbody>\n",
       "    <tr>\n",
       "      <th>0</th>\n",
       "      <td>Jane</td>\n",
       "      <td>Turner</td>\n",
       "      <td>F</td>\n",
       "    </tr>\n",
       "    <tr>\n",
       "      <th>1</th>\n",
       "      <td>Marilyn</td>\n",
       "      <td>Morales</td>\n",
       "      <td>F</td>\n",
       "    </tr>\n",
       "    <tr>\n",
       "      <th>...</th>\n",
       "      <td>...</td>\n",
       "      <td>...</td>\n",
       "      <td>...</td>\n",
       "    </tr>\n",
       "    <tr>\n",
       "      <th>16382</th>\n",
       "      <td>Ricky</td>\n",
       "      <td>Jenkins</td>\n",
       "      <td>M</td>\n",
       "    </tr>\n",
       "    <tr>\n",
       "      <th>16383</th>\n",
       "      <td>Daniel</td>\n",
       "      <td>Steele</td>\n",
       "      <td>M</td>\n",
       "    </tr>\n",
       "  </tbody>\n",
       "</table>\n",
       "<p>16384 rows × 3 columns</p>\n",
       "</div>"
      ],
      "text/plain": [
       "      first_name last_name gender\n",
       "0           Jane    Turner      F\n",
       "1        Marilyn   Morales      F\n",
       "...          ...       ...    ...\n",
       "16382      Ricky   Jenkins      M\n",
       "16383     Daniel    Steele      M\n",
       "\n",
       "[16384 rows x 3 columns]"
      ]
     },
     "execution_count": 7,
     "metadata": {},
     "output_type": "execute_result"
    }
   ],
   "source": [
    "df_curr_enrollment = pd.DataFrame(\n",
    "    index = np.arange(0,student_count), \n",
    "data = {'first_name':first_names,\n",
    "        'last_name':last_names,\n",
    "        'gender':genders})\n",
    "df_curr_enrollment"
   ]
  },
  {
   "cell_type": "markdown",
   "id": "fe028a9d-3d78-4140-bf8e-85793f5690ce",
   "metadata": {},
   "source": [
    "Creating matriculation years:\n",
    "\n",
    "In order to simulate increasing enrollment over time, weights were added to the rng.choice() call so that recent years would appear more frequently."
   ]
  },
  {
   "cell_type": "code",
   "execution_count": 8,
   "id": "b7feb572-363b-4494-9714-1003323a334f",
   "metadata": {
    "execution": {
     "iopub.execute_input": "2025-03-18T01:53:09.994716Z",
     "iopub.status.busy": "2025-03-18T01:53:09.994612Z",
     "iopub.status.idle": "2025-03-18T01:53:09.997636Z",
     "shell.execute_reply": "2025-03-18T01:53:09.997351Z",
     "shell.execute_reply.started": "2025-03-18T01:53:09.994706Z"
    }
   },
   "outputs": [
    {
     "data": {
      "text/plain": [
       "array([2023, 2023, 2020, ..., 2023, 2022, 2023], shape=(16384,))"
      ]
     },
     "execution_count": 8,
     "metadata": {},
     "output_type": "execute_result"
    }
   ],
   "source": [
    "rng.choice(\n",
    "    [2020, 2021, 2022, 2023], \n",
    "    p=[0.20, 0.22, 0.25, 0.33], size = student_count)"
   ]
  },
  {
   "cell_type": "code",
   "execution_count": 9,
   "id": "b7610021-5dfb-4c67-9d4e-e5584420a6f2",
   "metadata": {
    "execution": {
     "iopub.execute_input": "2025-03-18T01:53:09.998156Z",
     "iopub.status.busy": "2025-03-18T01:53:09.998003Z",
     "iopub.status.idle": "2025-03-18T01:53:10.003401Z",
     "shell.execute_reply": "2025-03-18T01:53:10.003152Z",
     "shell.execute_reply.started": "2025-03-18T01:53:09.998140Z"
    }
   },
   "outputs": [
    {
     "data": {
      "text/html": [
       "<div>\n",
       "<style scoped>\n",
       "    .dataframe tbody tr th:only-of-type {\n",
       "        vertical-align: middle;\n",
       "    }\n",
       "\n",
       "    .dataframe tbody tr th {\n",
       "        vertical-align: top;\n",
       "    }\n",
       "\n",
       "    .dataframe thead th {\n",
       "        text-align: right;\n",
       "    }\n",
       "</style>\n",
       "<table border=\"1\" class=\"dataframe\">\n",
       "  <thead>\n",
       "    <tr style=\"text-align: right;\">\n",
       "      <th></th>\n",
       "      <th>first_name</th>\n",
       "      <th>last_name</th>\n",
       "      <th>gender</th>\n",
       "      <th>matriculation_year</th>\n",
       "    </tr>\n",
       "  </thead>\n",
       "  <tbody>\n",
       "    <tr>\n",
       "      <th>0</th>\n",
       "      <td>Jane</td>\n",
       "      <td>Turner</td>\n",
       "      <td>F</td>\n",
       "      <td>2020</td>\n",
       "    </tr>\n",
       "    <tr>\n",
       "      <th>1</th>\n",
       "      <td>Marilyn</td>\n",
       "      <td>Morales</td>\n",
       "      <td>F</td>\n",
       "      <td>2020</td>\n",
       "    </tr>\n",
       "    <tr>\n",
       "      <th>...</th>\n",
       "      <td>...</td>\n",
       "      <td>...</td>\n",
       "      <td>...</td>\n",
       "      <td>...</td>\n",
       "    </tr>\n",
       "    <tr>\n",
       "      <th>16382</th>\n",
       "      <td>Ricky</td>\n",
       "      <td>Jenkins</td>\n",
       "      <td>M</td>\n",
       "      <td>2020</td>\n",
       "    </tr>\n",
       "    <tr>\n",
       "      <th>16383</th>\n",
       "      <td>Daniel</td>\n",
       "      <td>Steele</td>\n",
       "      <td>M</td>\n",
       "      <td>2021</td>\n",
       "    </tr>\n",
       "  </tbody>\n",
       "</table>\n",
       "<p>16384 rows × 4 columns</p>\n",
       "</div>"
      ],
      "text/plain": [
       "      first_name last_name gender  matriculation_year\n",
       "0           Jane    Turner      F                2020\n",
       "1        Marilyn   Morales      F                2020\n",
       "...          ...       ...    ...                 ...\n",
       "16382      Ricky   Jenkins      M                2020\n",
       "16383     Daniel    Steele      M                2021\n",
       "\n",
       "[16384 rows x 4 columns]"
      ]
     },
     "execution_count": 9,
     "metadata": {},
     "output_type": "execute_result"
    }
   ],
   "source": [
    "df_curr_enrollment['matriculation_year'] = rng.choice(\n",
    "    [2020, 2021, 2022, 2023], p=[0.20, 0.22, 0.25, 0.33], \n",
    "    size=student_count)\n",
    "# https://numpy.org/doc/stable/reference/random/generated/numpy.random.Generator.choice.html\n",
    "df_curr_enrollment"
   ]
  },
  {
   "cell_type": "markdown",
   "id": "dc99a609-f1cd-44a4-afd9-ff254cd79087",
   "metadata": {},
   "source": [
    "### Creating student IDs\n",
    "\n",
    "Student IDs will use the format matriculation_year-matriculation_number. matriculation_number represents the order in which students enrolled for a given year; these numbers are unique within each year, but not between years. This number can then be combined with students' matriculation years to form a unique ID."
   ]
  },
  {
   "cell_type": "code",
   "execution_count": 10,
   "id": "f8008ded-338b-4732-aa73-804bb9c4d26a",
   "metadata": {
    "execution": {
     "iopub.execute_input": "2025-03-18T01:53:10.003924Z",
     "iopub.status.busy": "2025-03-18T01:53:10.003714Z",
     "iopub.status.idle": "2025-03-18T01:53:10.013504Z",
     "shell.execute_reply": "2025-03-18T01:53:10.013212Z",
     "shell.execute_reply.started": "2025-03-18T01:53:10.003914Z"
    }
   },
   "outputs": [
    {
     "data": {
      "text/html": [
       "<div>\n",
       "<style scoped>\n",
       "    .dataframe tbody tr th:only-of-type {\n",
       "        vertical-align: middle;\n",
       "    }\n",
       "\n",
       "    .dataframe tbody tr th {\n",
       "        vertical-align: top;\n",
       "    }\n",
       "\n",
       "    .dataframe thead th {\n",
       "        text-align: right;\n",
       "    }\n",
       "</style>\n",
       "<table border=\"1\" class=\"dataframe\">\n",
       "  <thead>\n",
       "    <tr style=\"text-align: right;\">\n",
       "      <th></th>\n",
       "      <th>first_name</th>\n",
       "      <th>last_name</th>\n",
       "      <th>gender</th>\n",
       "      <th>matriculation_year</th>\n",
       "      <th>matriculation_number</th>\n",
       "    </tr>\n",
       "  </thead>\n",
       "  <tbody>\n",
       "    <tr>\n",
       "      <th>0</th>\n",
       "      <td>Jane</td>\n",
       "      <td>Turner</td>\n",
       "      <td>F</td>\n",
       "      <td>2020</td>\n",
       "      <td>1</td>\n",
       "    </tr>\n",
       "    <tr>\n",
       "      <th>1</th>\n",
       "      <td>Marilyn</td>\n",
       "      <td>Morales</td>\n",
       "      <td>F</td>\n",
       "      <td>2020</td>\n",
       "      <td>2</td>\n",
       "    </tr>\n",
       "    <tr>\n",
       "      <th>...</th>\n",
       "      <td>...</td>\n",
       "      <td>...</td>\n",
       "      <td>...</td>\n",
       "      <td>...</td>\n",
       "      <td>...</td>\n",
       "    </tr>\n",
       "    <tr>\n",
       "      <th>16382</th>\n",
       "      <td>Ricky</td>\n",
       "      <td>Jenkins</td>\n",
       "      <td>M</td>\n",
       "      <td>2020</td>\n",
       "      <td>3289</td>\n",
       "    </tr>\n",
       "    <tr>\n",
       "      <th>16383</th>\n",
       "      <td>Daniel</td>\n",
       "      <td>Steele</td>\n",
       "      <td>M</td>\n",
       "      <td>2021</td>\n",
       "      <td>3653</td>\n",
       "    </tr>\n",
       "  </tbody>\n",
       "</table>\n",
       "<p>16384 rows × 5 columns</p>\n",
       "</div>"
      ],
      "text/plain": [
       "      first_name last_name gender  matriculation_year  matriculation_number\n",
       "0           Jane    Turner      F                2020                     1\n",
       "1        Marilyn   Morales      F                2020                     2\n",
       "...          ...       ...    ...                 ...                   ...\n",
       "16382      Ricky   Jenkins      M                2020                  3289\n",
       "16383     Daniel    Steele      M                2021                  3653\n",
       "\n",
       "[16384 rows x 5 columns]"
      ]
     },
     "execution_count": 10,
     "metadata": {},
     "output_type": "execute_result"
    }
   ],
   "source": [
    "# Calculating matriculation numbers by grouping the DataFrame by\n",
    "# matriculation year, then assigning each student within each year a unique\n",
    "# number:\n",
    "# (This can be achieved via df.groupby() and df.rank(). See\n",
    "# https://pandas.pydata.org/pandas-docs/stable/reference/api/pandas.DataFrame.groupby.html\n",
    "# and https://pandas.pydata.org/pandas-docs/stable/reference/api/pandas.DataFrame.rank.html )\n",
    "df_curr_enrollment['matriculation_number'] = df_curr_enrollment.groupby(\n",
    "    'matriculation_year')['matriculation_year'].rank(\n",
    "    method = 'first').astype('int')\n",
    "df_curr_enrollment"
   ]
  },
  {
   "cell_type": "code",
   "execution_count": 11,
   "id": "4acf263f-459f-4aae-9ea2-b57e9ae9ac0d",
   "metadata": {
    "execution": {
     "iopub.execute_input": "2025-03-18T01:53:10.013973Z",
     "iopub.status.busy": "2025-03-18T01:53:10.013836Z",
     "iopub.status.idle": "2025-03-18T01:53:10.027666Z",
     "shell.execute_reply": "2025-03-18T01:53:10.027409Z",
     "shell.execute_reply.started": "2025-03-18T01:53:10.013963Z"
    }
   },
   "outputs": [
    {
     "data": {
      "text/html": [
       "<div>\n",
       "<style scoped>\n",
       "    .dataframe tbody tr th:only-of-type {\n",
       "        vertical-align: middle;\n",
       "    }\n",
       "\n",
       "    .dataframe tbody tr th {\n",
       "        vertical-align: top;\n",
       "    }\n",
       "\n",
       "    .dataframe thead th {\n",
       "        text-align: right;\n",
       "    }\n",
       "</style>\n",
       "<table border=\"1\" class=\"dataframe\">\n",
       "  <thead>\n",
       "    <tr style=\"text-align: right;\">\n",
       "      <th></th>\n",
       "      <th>first_name</th>\n",
       "      <th>last_name</th>\n",
       "      <th>gender</th>\n",
       "      <th>matriculation_year</th>\n",
       "      <th>matriculation_number</th>\n",
       "      <th>student_id</th>\n",
       "    </tr>\n",
       "  </thead>\n",
       "  <tbody>\n",
       "    <tr>\n",
       "      <th>0</th>\n",
       "      <td>Jane</td>\n",
       "      <td>Turner</td>\n",
       "      <td>F</td>\n",
       "      <td>2020</td>\n",
       "      <td>1</td>\n",
       "      <td>2020-1</td>\n",
       "    </tr>\n",
       "    <tr>\n",
       "      <th>1</th>\n",
       "      <td>Marilyn</td>\n",
       "      <td>Morales</td>\n",
       "      <td>F</td>\n",
       "      <td>2020</td>\n",
       "      <td>2</td>\n",
       "      <td>2020-2</td>\n",
       "    </tr>\n",
       "    <tr>\n",
       "      <th>...</th>\n",
       "      <td>...</td>\n",
       "      <td>...</td>\n",
       "      <td>...</td>\n",
       "      <td>...</td>\n",
       "      <td>...</td>\n",
       "      <td>...</td>\n",
       "    </tr>\n",
       "    <tr>\n",
       "      <th>16382</th>\n",
       "      <td>Daniel</td>\n",
       "      <td>Mcfarland</td>\n",
       "      <td>M</td>\n",
       "      <td>2023</td>\n",
       "      <td>5442</td>\n",
       "      <td>2023-5442</td>\n",
       "    </tr>\n",
       "    <tr>\n",
       "      <th>16383</th>\n",
       "      <td>John</td>\n",
       "      <td>Perez</td>\n",
       "      <td>M</td>\n",
       "      <td>2023</td>\n",
       "      <td>5443</td>\n",
       "      <td>2023-5443</td>\n",
       "    </tr>\n",
       "  </tbody>\n",
       "</table>\n",
       "<p>16384 rows × 6 columns</p>\n",
       "</div>"
      ],
      "text/plain": [
       "      first_name  last_name gender  matriculation_year  matriculation_number  \\\n",
       "0           Jane     Turner      F                2020                     1   \n",
       "1        Marilyn    Morales      F                2020                     2   \n",
       "...          ...        ...    ...                 ...                   ...   \n",
       "16382     Daniel  Mcfarland      M                2023                  5442   \n",
       "16383       John      Perez      M                2023                  5443   \n",
       "\n",
       "      student_id  \n",
       "0         2020-1  \n",
       "1         2020-2  \n",
       "...          ...  \n",
       "16382  2023-5442  \n",
       "16383  2023-5443  \n",
       "\n",
       "[16384 rows x 6 columns]"
      ]
     },
     "execution_count": 11,
     "metadata": {},
     "output_type": "execute_result"
    }
   ],
   "source": [
    "# Adding matriculation years, matriculation numbers, and hyphens together\n",
    "# to create student IDs:\n",
    "df_curr_enrollment['student_id'] = (\n",
    "    df_curr_enrollment['matriculation_year'].astype('str') \n",
    "    + '-' \n",
    "    + df_curr_enrollment['matriculation_number'].astype('str'))\n",
    "# Sorting the DataFrame by matriculation year and matriculation number:\n",
    "# (The DataFrame could also be sorted by student_id, but because these \n",
    "# numbers would be interpreted as strings, ids like 2020-10 would appear \n",
    "# in front of ones like 2020-2.)\n",
    "df_curr_enrollment.sort_values(\n",
    "    ['matriculation_year', 'matriculation_number'], inplace = True)\n",
    "df_curr_enrollment.reset_index(drop=True,inplace=True)\n",
    "\n",
    "df_curr_enrollment"
   ]
  },
  {
   "cell_type": "markdown",
   "id": "a3dbe399-ef1f-44df-abf2-0532f72cdaf3",
   "metadata": {
    "execution": {
     "iopub.execute_input": "2024-07-06T03:25:29.110287Z",
     "iopub.status.busy": "2024-07-06T03:25:29.110287Z",
     "iopub.status.idle": "2024-07-06T03:25:29.112861Z",
     "shell.execute_reply": "2024-07-06T03:25:29.112861Z",
     "shell.execute_reply.started": "2024-07-06T03:25:29.110287Z"
    }
   },
   "source": [
    "We'll also use matriculation years as a basis for dates of birth. (These date of birth calculations aren't the most realistic, but they are good enough for use within our fictional dataset.)"
   ]
  },
  {
   "cell_type": "code",
   "execution_count": 12,
   "id": "d9993639-89ba-4b79-9b3c-41aa37d3fbae",
   "metadata": {
    "execution": {
     "iopub.execute_input": "2025-03-18T01:53:10.029090Z",
     "iopub.status.busy": "2025-03-18T01:53:10.028941Z",
     "iopub.status.idle": "2025-03-18T01:53:10.050566Z",
     "shell.execute_reply": "2025-03-18T01:53:10.050269Z",
     "shell.execute_reply.started": "2025-03-18T01:53:10.029079Z"
    }
   },
   "outputs": [
    {
     "data": {
      "text/html": [
       "<div>\n",
       "<style scoped>\n",
       "    .dataframe tbody tr th:only-of-type {\n",
       "        vertical-align: middle;\n",
       "    }\n",
       "\n",
       "    .dataframe tbody tr th {\n",
       "        vertical-align: top;\n",
       "    }\n",
       "\n",
       "    .dataframe thead th {\n",
       "        text-align: right;\n",
       "    }\n",
       "</style>\n",
       "<table border=\"1\" class=\"dataframe\">\n",
       "  <thead>\n",
       "    <tr style=\"text-align: right;\">\n",
       "      <th></th>\n",
       "      <th>first_name</th>\n",
       "      <th>last_name</th>\n",
       "      <th>gender</th>\n",
       "      <th>matriculation_year</th>\n",
       "      <th>matriculation_number</th>\n",
       "      <th>student_id</th>\n",
       "      <th>date_of_birth</th>\n",
       "    </tr>\n",
       "  </thead>\n",
       "  <tbody>\n",
       "    <tr>\n",
       "      <th>0</th>\n",
       "      <td>Jane</td>\n",
       "      <td>Turner</td>\n",
       "      <td>F</td>\n",
       "      <td>2020</td>\n",
       "      <td>1</td>\n",
       "      <td>2020-1</td>\n",
       "      <td>2002-12-16</td>\n",
       "    </tr>\n",
       "    <tr>\n",
       "      <th>1</th>\n",
       "      <td>Marilyn</td>\n",
       "      <td>Morales</td>\n",
       "      <td>F</td>\n",
       "      <td>2020</td>\n",
       "      <td>2</td>\n",
       "      <td>2020-2</td>\n",
       "      <td>2002-09-26</td>\n",
       "    </tr>\n",
       "    <tr>\n",
       "      <th>...</th>\n",
       "      <td>...</td>\n",
       "      <td>...</td>\n",
       "      <td>...</td>\n",
       "      <td>...</td>\n",
       "      <td>...</td>\n",
       "      <td>...</td>\n",
       "      <td>...</td>\n",
       "    </tr>\n",
       "    <tr>\n",
       "      <th>16382</th>\n",
       "      <td>Daniel</td>\n",
       "      <td>Mcfarland</td>\n",
       "      <td>M</td>\n",
       "      <td>2023</td>\n",
       "      <td>5442</td>\n",
       "      <td>2023-5442</td>\n",
       "      <td>2005-11-03</td>\n",
       "    </tr>\n",
       "    <tr>\n",
       "      <th>16383</th>\n",
       "      <td>John</td>\n",
       "      <td>Perez</td>\n",
       "      <td>M</td>\n",
       "      <td>2023</td>\n",
       "      <td>5443</td>\n",
       "      <td>2023-5443</td>\n",
       "      <td>2005-04-05</td>\n",
       "    </tr>\n",
       "  </tbody>\n",
       "</table>\n",
       "<p>16384 rows × 7 columns</p>\n",
       "</div>"
      ],
      "text/plain": [
       "      first_name  last_name gender  matriculation_year  matriculation_number  \\\n",
       "0           Jane     Turner      F                2020                     1   \n",
       "1        Marilyn    Morales      F                2020                     2   \n",
       "...          ...        ...    ...                 ...                   ...   \n",
       "16382     Daniel  Mcfarland      M                2023                  5442   \n",
       "16383       John      Perez      M                2023                  5443   \n",
       "\n",
       "      student_id date_of_birth  \n",
       "0         2020-1    2002-12-16  \n",
       "1         2020-2    2002-09-26  \n",
       "...          ...           ...  \n",
       "16382  2023-5442    2005-11-03  \n",
       "16383  2023-5443    2005-04-05  \n",
       "\n",
       "[16384 rows x 7 columns]"
      ]
     },
     "execution_count": 12,
     "metadata": {},
     "output_type": "execute_result"
    }
   ],
   "source": [
    "df_curr_enrollment['birth_month'] = rng.integers(\n",
    "    low = 1, high = 13, size = student_count).astype('str')\n",
    "df_curr_enrollment['birth_day'] = rng.integers(\n",
    "    low = 1, high = 29, size = student_count).astype('str')\n",
    "\n",
    "# Adding leading zeros to month and date values:\n",
    "for column in ['birth_month', 'birth_day']:\n",
    "    df_curr_enrollment[column] = df_curr_enrollment[column].str.zfill(2)\n",
    "\n",
    "# In order to prevent a non-existent date (e.g. February 31) from getting \n",
    "# stored in our results, we'll limit our birthday integers to the \n",
    "# range [1, 28].\n",
    "df_curr_enrollment['birth_year'] = (df_curr_enrollment[\n",
    "'matriculation_year'] - 18).astype('str')\n",
    "\n",
    "# Combining these columns together to create date of birth values in\n",
    "# YYYY-MM-DD format:\n",
    "df_curr_enrollment['date_of_birth'] = (\n",
    "    df_curr_enrollment['birth_year'] + '-'\n",
    "    + df_curr_enrollment['birth_month'] + '-'\n",
    "    + df_curr_enrollment['birth_day'])\n",
    "\n",
    "# Now that we have our date_of_birth column in place, we no longer need\n",
    "# the columns that stored individual parts of those birthdays:\n",
    "df_curr_enrollment.drop(\n",
    "    ['birth_month', 'birth_day', \n",
    "    'birth_year'], axis = 1, inplace = True)\n",
    "\n",
    "df_curr_enrollment"
   ]
  },
  {
   "cell_type": "markdown",
   "id": "42099128-e87a-4ff8-8abb-b860d69fc302",
   "metadata": {},
   "source": [
    "### Assigning students to different colleges\n",
    "\n",
    "(I used Wikipedia's ['List of patron saints by occupation and activity'](https://en.wikipedia.org/wiki/List_of_patron_saints_by_occupation_and_activity) page to determine the saint after which each college would be named.)\n",
    "\n",
    "NVCU has four different colleges:\n",
    "\n",
    "1. St. Luke's, a humanities college. (St. Luke is one of the patron saints of artists.) Abbreviation: STL\n",
    "2. St. Benedict's, a STEM college. (St. Benedict is one of the patron saints of engineers.) Abbreviation: STB\n",
    "3. St. Matthew's, a business college. (St. Matthew is the patron saint of accountants.) Abbreviation: STM\n",
    "4. St. Catherine's, a health college. (St. Catherine of Alexandria is one of the patron saints of nurses.) Abbreviation: STC\n",
    "\n",
    "We can use np.choice to assign students to different colleges. However, to make the data more interesting, we'll have one college (STL) increase in popularity over time; another (STC) decrease in popularity; and the two remaining colleges remain roughly constant in popularity. We can simulate these changes by (1) creating filtered versions of the DataFrame for each year; (2) calling np.choice() with different probability sets for each year in order to create the 'college' column; and (3) recreating df_curr_enrollment by adding these year-specific DataFrames back together."
   ]
  },
  {
   "cell_type": "code",
   "execution_count": 13,
   "id": "738a7844-2a38-49e6-be7d-69fa4646ac4f",
   "metadata": {
    "execution": {
     "iopub.execute_input": "2025-03-18T01:53:10.051146Z",
     "iopub.status.busy": "2025-03-18T01:53:10.050941Z",
     "iopub.status.idle": "2025-03-18T01:53:10.062632Z",
     "shell.execute_reply": "2025-03-18T01:53:10.062346Z",
     "shell.execute_reply.started": "2025-03-18T01:53:10.051119Z"
    }
   },
   "outputs": [
    {
     "name": "stdout",
     "output_type": "stream",
     "text": [
      "Now adding in college enrollments for 2020.\n",
      "Now adding in college enrollments for 2021.\n",
      "Now adding in college enrollments for 2022.\n",
      "Now adding in college enrollments for 2023.\n"
     ]
    }
   ],
   "source": [
    "df_list = []\n",
    "for year in df_curr_enrollment['matriculation_year'].unique():\n",
    "    print(f\"Now adding in college enrollments for {year}.\")\n",
    "    df = df_curr_enrollment.query(\"matriculation_year == @year\").copy()\n",
    "    if year == 2020:\n",
    "        probabilities = [0.15, 0.25, 0.3, 0.3]\n",
    "    elif year == 2021:\n",
    "        probabilities = [0.19, 0.26, 0.29, 0.26]\n",
    "    elif year == 2022:\n",
    "        probabilities = [0.25, 0.27, 0.27, 0.21]\n",
    "    elif year == 2023:\n",
    "        probabilities = [0.27, 0.25, 0.31, 0.17]\n",
    "    else:\n",
    "        raise ValueError(\n",
    "            f\"A probability list needs to be added in for {year}.\")\n",
    "    df['college'] = rng.choice(\n",
    "        ['STL', 'STB', 'STM', 'STC'], \n",
    "        p = probabilities, size = len(df))\n",
    "    df_list.append(df)\n",
    "df_curr_enrollment = pd.concat([df for df in df_list])"
   ]
  },
  {
   "cell_type": "markdown",
   "id": "9c13c4b0-10b0-4494-8570-9097028d6e78",
   "metadata": {},
   "source": [
    "The commented-out cell below shows an alternative approach to assigning colleges to each student. Because it iterates through each row in the DataFrame, it took 2.25 seconds to run on my laptop versus 0.016 seconds for the method shown above; in other words, the method in the previous cell was 133 times faster."
   ]
  },
  {
   "cell_type": "code",
   "execution_count": 14,
   "id": "c81f209a-355d-46ea-9bfa-26242f63b712",
   "metadata": {
    "execution": {
     "iopub.execute_input": "2025-03-18T01:53:10.063162Z",
     "iopub.status.busy": "2025-03-18T01:53:10.062948Z",
     "iopub.status.idle": "2025-03-18T01:53:10.064815Z",
     "shell.execute_reply": "2025-03-18T01:53:10.064560Z",
     "shell.execute_reply.started": "2025-03-18T01:53:10.063151Z"
    }
   },
   "outputs": [],
   "source": [
    "# df_curr_enrollment['college'] = ''\n",
    "# college_col = df_curr_enrollment.columns.get_loc('college')\n",
    "# for i in range(len(df_curr_enrollment)):\n",
    "#     year = df_curr_enrollment.iloc[i]['matriculation_year']\n",
    "#     if year == 2020:\n",
    "#         probabilities = [0.15, 0.25, 0.3, 0.3]\n",
    "#     elif year == 2021:\n",
    "#         probabilities = [0.19, 0.26, 0.29, 0.26]\n",
    "#     elif year == 2022:\n",
    "#         probabilities = [0.25, 0.27, 0.27, 0.21]\n",
    "#     elif year == 2022:\n",
    "#         probabilities = [0.27, 0.25, 0.31, 0.17]\n",
    "#     df_curr_enrollment.iloc[i, college_col] = rng.choice(\n",
    "#     ['STL', 'STB', 'STM', 'STC'], p = probabilities)"
   ]
  },
  {
   "cell_type": "code",
   "execution_count": 15,
   "id": "88b6954e-2351-4f47-b157-b5136a95bebb",
   "metadata": {
    "execution": {
     "iopub.execute_input": "2025-03-18T01:53:10.065252Z",
     "iopub.status.busy": "2025-03-18T01:53:10.065100Z",
     "iopub.status.idle": "2025-03-18T01:53:10.075631Z",
     "shell.execute_reply": "2025-03-18T01:53:10.075264Z",
     "shell.execute_reply.started": "2025-03-18T01:53:10.065242Z"
    }
   },
   "outputs": [
    {
     "data": {
      "text/html": [
       "<div>\n",
       "<style scoped>\n",
       "    .dataframe tbody tr th:only-of-type {\n",
       "        vertical-align: middle;\n",
       "    }\n",
       "\n",
       "    .dataframe tbody tr th {\n",
       "        vertical-align: top;\n",
       "    }\n",
       "\n",
       "    .dataframe thead th {\n",
       "        text-align: right;\n",
       "    }\n",
       "</style>\n",
       "<table border=\"1\" class=\"dataframe\">\n",
       "  <thead>\n",
       "    <tr style=\"text-align: right;\">\n",
       "      <th></th>\n",
       "      <th>first_name</th>\n",
       "      <th>last_name</th>\n",
       "      <th>gender</th>\n",
       "      <th>...</th>\n",
       "      <th>student_id</th>\n",
       "      <th>date_of_birth</th>\n",
       "      <th>college</th>\n",
       "    </tr>\n",
       "  </thead>\n",
       "  <tbody>\n",
       "    <tr>\n",
       "      <th>0</th>\n",
       "      <td>Jane</td>\n",
       "      <td>Turner</td>\n",
       "      <td>F</td>\n",
       "      <td>...</td>\n",
       "      <td>2020-1</td>\n",
       "      <td>2002-12-16</td>\n",
       "      <td>STC</td>\n",
       "    </tr>\n",
       "    <tr>\n",
       "      <th>1</th>\n",
       "      <td>Marilyn</td>\n",
       "      <td>Morales</td>\n",
       "      <td>F</td>\n",
       "      <td>...</td>\n",
       "      <td>2020-2</td>\n",
       "      <td>2002-09-26</td>\n",
       "      <td>STM</td>\n",
       "    </tr>\n",
       "    <tr>\n",
       "      <th>...</th>\n",
       "      <td>...</td>\n",
       "      <td>...</td>\n",
       "      <td>...</td>\n",
       "      <td>...</td>\n",
       "      <td>...</td>\n",
       "      <td>...</td>\n",
       "      <td>...</td>\n",
       "    </tr>\n",
       "    <tr>\n",
       "      <th>16382</th>\n",
       "      <td>Daniel</td>\n",
       "      <td>Mcfarland</td>\n",
       "      <td>M</td>\n",
       "      <td>...</td>\n",
       "      <td>2023-5442</td>\n",
       "      <td>2005-11-03</td>\n",
       "      <td>STB</td>\n",
       "    </tr>\n",
       "    <tr>\n",
       "      <th>16383</th>\n",
       "      <td>John</td>\n",
       "      <td>Perez</td>\n",
       "      <td>M</td>\n",
       "      <td>...</td>\n",
       "      <td>2023-5443</td>\n",
       "      <td>2005-04-05</td>\n",
       "      <td>STM</td>\n",
       "    </tr>\n",
       "  </tbody>\n",
       "</table>\n",
       "<p>16384 rows × 8 columns</p>\n",
       "</div>"
      ],
      "text/plain": [
       "      first_name  last_name gender  ...  student_id  date_of_birth college\n",
       "0           Jane     Turner      F  ...      2020-1     2002-12-16     STC\n",
       "1        Marilyn    Morales      F  ...      2020-2     2002-09-26     STM\n",
       "...          ...        ...    ...  ...         ...            ...     ...\n",
       "16382     Daniel  Mcfarland      M  ...   2023-5442     2005-11-03     STB\n",
       "16383       John      Perez      M  ...   2023-5443     2005-04-05     STM\n",
       "\n",
       "[16384 rows x 8 columns]"
      ]
     },
     "execution_count": 15,
     "metadata": {},
     "output_type": "execute_result"
    }
   ],
   "source": [
    "df_curr_enrollment"
   ]
  },
  {
   "cell_type": "code",
   "execution_count": 16,
   "id": "980019de-d154-4552-80bd-c739e9382bf8",
   "metadata": {
    "execution": {
     "iopub.execute_input": "2025-03-18T01:53:10.076111Z",
     "iopub.status.busy": "2025-03-18T01:53:10.076000Z",
     "iopub.status.idle": "2025-03-18T01:53:10.077897Z",
     "shell.execute_reply": "2025-03-18T01:53:10.077571Z",
     "shell.execute_reply.started": "2025-03-18T01:53:10.076100Z"
    }
   },
   "outputs": [],
   "source": [
    "## Assigning additional year-related values:"
   ]
  },
  {
   "cell_type": "code",
   "execution_count": 17,
   "id": "a1ba2556-a4d9-4a58-9fed-fb73f0ccd632",
   "metadata": {
    "execution": {
     "iopub.execute_input": "2025-03-18T01:53:10.078358Z",
     "iopub.status.busy": "2025-03-18T01:53:10.078267Z",
     "iopub.status.idle": "2025-03-18T01:53:10.087227Z",
     "shell.execute_reply": "2025-03-18T01:53:10.086960Z",
     "shell.execute_reply.started": "2025-03-18T01:53:10.078348Z"
    }
   },
   "outputs": [
    {
     "data": {
      "text/html": [
       "<div>\n",
       "<style scoped>\n",
       "    .dataframe tbody tr th:only-of-type {\n",
       "        vertical-align: middle;\n",
       "    }\n",
       "\n",
       "    .dataframe tbody tr th {\n",
       "        vertical-align: top;\n",
       "    }\n",
       "\n",
       "    .dataframe thead th {\n",
       "        text-align: right;\n",
       "    }\n",
       "</style>\n",
       "<table border=\"1\" class=\"dataframe\">\n",
       "  <thead>\n",
       "    <tr style=\"text-align: right;\">\n",
       "      <th></th>\n",
       "      <th>first_name</th>\n",
       "      <th>last_name</th>\n",
       "      <th>gender</th>\n",
       "      <th>...</th>\n",
       "      <th>class_of</th>\n",
       "      <th>level</th>\n",
       "      <th>level_for_sorting</th>\n",
       "    </tr>\n",
       "  </thead>\n",
       "  <tbody>\n",
       "    <tr>\n",
       "      <th>0</th>\n",
       "      <td>Jane</td>\n",
       "      <td>Turner</td>\n",
       "      <td>F</td>\n",
       "      <td>...</td>\n",
       "      <td>2024</td>\n",
       "      <td>Se</td>\n",
       "      <td>3</td>\n",
       "    </tr>\n",
       "    <tr>\n",
       "      <th>1</th>\n",
       "      <td>Marilyn</td>\n",
       "      <td>Morales</td>\n",
       "      <td>F</td>\n",
       "      <td>...</td>\n",
       "      <td>2024</td>\n",
       "      <td>Se</td>\n",
       "      <td>3</td>\n",
       "    </tr>\n",
       "    <tr>\n",
       "      <th>...</th>\n",
       "      <td>...</td>\n",
       "      <td>...</td>\n",
       "      <td>...</td>\n",
       "      <td>...</td>\n",
       "      <td>...</td>\n",
       "      <td>...</td>\n",
       "      <td>...</td>\n",
       "    </tr>\n",
       "    <tr>\n",
       "      <th>16382</th>\n",
       "      <td>Daniel</td>\n",
       "      <td>Mcfarland</td>\n",
       "      <td>M</td>\n",
       "      <td>...</td>\n",
       "      <td>2027</td>\n",
       "      <td>Fr</td>\n",
       "      <td>0</td>\n",
       "    </tr>\n",
       "    <tr>\n",
       "      <th>16383</th>\n",
       "      <td>John</td>\n",
       "      <td>Perez</td>\n",
       "      <td>M</td>\n",
       "      <td>...</td>\n",
       "      <td>2027</td>\n",
       "      <td>Fr</td>\n",
       "      <td>0</td>\n",
       "    </tr>\n",
       "  </tbody>\n",
       "</table>\n",
       "<p>16384 rows × 11 columns</p>\n",
       "</div>"
      ],
      "text/plain": [
       "      first_name  last_name gender  ...  class_of  level level_for_sorting\n",
       "0           Jane     Turner      F  ...      2024     Se                 3\n",
       "1        Marilyn    Morales      F  ...      2024     Se                 3\n",
       "...          ...        ...    ...  ...       ...    ...               ...\n",
       "16382     Daniel  Mcfarland      M  ...      2027     Fr                 0\n",
       "16383       John      Perez      M  ...      2027     Fr                 0\n",
       "\n",
       "[16384 rows x 11 columns]"
      ]
     },
     "execution_count": 17,
     "metadata": {},
     "output_type": "execute_result"
    }
   ],
   "source": [
    "df_curr_enrollment['class_of'] = df_curr_enrollment[\n",
    "'matriculation_year'] + 4\n",
    "# The earlier the matriculation year, the higher the student's current\n",
    "# level.\n",
    "df_curr_enrollment['level'] = df_curr_enrollment[\n",
    "'matriculation_year'].map(\n",
    "    {2020:'Se',2021:'Ju',\n",
    "     2022:'So',2023:'Fr'}) # Fr, So, Ju, and Se stand for \n",
    "# Freshman, Sophomore, Junior, and Senior, respectively.\n",
    "# Creating an integer-based equivalent to 'level':\n",
    "df_curr_enrollment['level_for_sorting'] = ((\n",
    "    df_curr_enrollment['matriculation_year'] - 2023) * -1)\n",
    "df_curr_enrollment"
   ]
  },
  {
   "cell_type": "markdown",
   "id": "5f5b6134-ce1c-44db-b925-c7cc802d540b",
   "metadata": {},
   "source": [
    "### Saving this table to our NVCU database\n",
    "\n",
    "(This operation will also create our database file (e.g. nvcu_db.db, the path specified when we first created our database engine) if it did not exist already.)"
   ]
  },
  {
   "cell_type": "code",
   "execution_count": 18,
   "id": "2d73fd44-d979-4966-abd6-2d8f520671c6",
   "metadata": {
    "execution": {
     "iopub.execute_input": "2025-03-18T01:53:10.087650Z",
     "iopub.status.busy": "2025-03-18T01:53:10.087544Z",
     "iopub.status.idle": "2025-03-18T01:53:10.244274Z",
     "shell.execute_reply": "2025-03-18T01:53:10.243953Z",
     "shell.execute_reply.started": "2025-03-18T01:53:10.087640Z"
    }
   },
   "outputs": [
    {
     "data": {
      "text/plain": [
       "16384"
      ]
     },
     "execution_count": 18,
     "metadata": {},
     "output_type": "execute_result"
    }
   ],
   "source": [
    "df_curr_enrollment.to_sql(\n",
    "    'curr_enrollment', \n",
    "    con=e, if_exists='replace', index=False)"
   ]
  },
  {
   "cell_type": "markdown",
   "id": "da284483-d378-4b3d-83c6-a9361985d053",
   "metadata": {},
   "source": [
    "To demonstrate that the above operation was successful, we can read in a copy of this table via pd.read_sql():"
   ]
  },
  {
   "cell_type": "code",
   "execution_count": 19,
   "id": "da7c7bf7-7294-4754-b218-713889ac8353",
   "metadata": {
    "execution": {
     "iopub.execute_input": "2025-03-18T01:53:10.244711Z",
     "iopub.status.busy": "2025-03-18T01:53:10.244599Z",
     "iopub.status.idle": "2025-03-18T01:53:10.296025Z",
     "shell.execute_reply": "2025-03-18T01:53:10.295680Z",
     "shell.execute_reply.started": "2025-03-18T01:53:10.244701Z"
    }
   },
   "outputs": [
    {
     "data": {
      "text/html": [
       "<div>\n",
       "<style scoped>\n",
       "    .dataframe tbody tr th:only-of-type {\n",
       "        vertical-align: middle;\n",
       "    }\n",
       "\n",
       "    .dataframe tbody tr th {\n",
       "        vertical-align: top;\n",
       "    }\n",
       "\n",
       "    .dataframe thead th {\n",
       "        text-align: right;\n",
       "    }\n",
       "</style>\n",
       "<table border=\"1\" class=\"dataframe\">\n",
       "  <thead>\n",
       "    <tr style=\"text-align: right;\">\n",
       "      <th></th>\n",
       "      <th>first_name</th>\n",
       "      <th>last_name</th>\n",
       "      <th>gender</th>\n",
       "      <th>...</th>\n",
       "      <th>class_of</th>\n",
       "      <th>level</th>\n",
       "      <th>level_for_sorting</th>\n",
       "    </tr>\n",
       "  </thead>\n",
       "  <tbody>\n",
       "    <tr>\n",
       "      <th>0</th>\n",
       "      <td>Jane</td>\n",
       "      <td>Turner</td>\n",
       "      <td>F</td>\n",
       "      <td>...</td>\n",
       "      <td>2024</td>\n",
       "      <td>Se</td>\n",
       "      <td>3</td>\n",
       "    </tr>\n",
       "    <tr>\n",
       "      <th>1</th>\n",
       "      <td>Marilyn</td>\n",
       "      <td>Morales</td>\n",
       "      <td>F</td>\n",
       "      <td>...</td>\n",
       "      <td>2024</td>\n",
       "      <td>Se</td>\n",
       "      <td>3</td>\n",
       "    </tr>\n",
       "    <tr>\n",
       "      <th>...</th>\n",
       "      <td>...</td>\n",
       "      <td>...</td>\n",
       "      <td>...</td>\n",
       "      <td>...</td>\n",
       "      <td>...</td>\n",
       "      <td>...</td>\n",
       "      <td>...</td>\n",
       "    </tr>\n",
       "    <tr>\n",
       "      <th>16382</th>\n",
       "      <td>Daniel</td>\n",
       "      <td>Mcfarland</td>\n",
       "      <td>M</td>\n",
       "      <td>...</td>\n",
       "      <td>2027</td>\n",
       "      <td>Fr</td>\n",
       "      <td>0</td>\n",
       "    </tr>\n",
       "    <tr>\n",
       "      <th>16383</th>\n",
       "      <td>John</td>\n",
       "      <td>Perez</td>\n",
       "      <td>M</td>\n",
       "      <td>...</td>\n",
       "      <td>2027</td>\n",
       "      <td>Fr</td>\n",
       "      <td>0</td>\n",
       "    </tr>\n",
       "  </tbody>\n",
       "</table>\n",
       "<p>16384 rows × 11 columns</p>\n",
       "</div>"
      ],
      "text/plain": [
       "      first_name  last_name gender  ...  class_of  level level_for_sorting\n",
       "0           Jane     Turner      F  ...      2024     Se                 3\n",
       "1        Marilyn    Morales      F  ...      2024     Se                 3\n",
       "...          ...        ...    ...  ...       ...    ...               ...\n",
       "16382     Daniel  Mcfarland      M  ...      2027     Fr                 0\n",
       "16383       John      Perez      M  ...      2027     Fr                 0\n",
       "\n",
       "[16384 rows x 11 columns]"
      ]
     },
     "execution_count": 19,
     "metadata": {},
     "output_type": "execute_result"
    }
   ],
   "source": [
    "pd.read_sql('curr_enrollment', con = e)"
   ]
  },
  {
   "cell_type": "markdown",
   "id": "098c69b4-f881-4b45-a81a-9781f92521e5",
   "metadata": {},
   "source": [
    "This same table can also be saved as a standalone .csv file (thus making it easier to examine via a spreadsheet editor):"
   ]
  },
  {
   "cell_type": "code",
   "execution_count": 20,
   "id": "e35056c7-f638-4dbc-97c6-822a66260b53",
   "metadata": {
    "execution": {
     "iopub.execute_input": "2025-03-18T01:53:10.296441Z",
     "iopub.status.busy": "2025-03-18T01:53:10.296337Z",
     "iopub.status.idle": "2025-03-18T01:53:10.347514Z",
     "shell.execute_reply": "2025-03-18T01:53:10.347101Z",
     "shell.execute_reply.started": "2025-03-18T01:53:10.296431Z"
    }
   },
   "outputs": [],
   "source": [
    "df_curr_enrollment.to_csv('curr_enrollment.csv', index = False)\n",
    "df_curr_enrollment.to_csv(\n",
    "    '../Data_Retrieval/curr_enrollment_tab_separated.csv', \n",
    "    index = False, sep = '\\t')"
   ]
  },
  {
   "cell_type": "markdown",
   "id": "b834003f-89c3-4556-96fb-498f4e41e819",
   "metadata": {},
   "source": [
    "You may also save it as an .xlsx file if you'd prefer: (Note that the openpyxl library is required for the following line to run successfully.)"
   ]
  },
  {
   "cell_type": "code",
   "execution_count": 21,
   "id": "f05e8bfa-1666-438f-ba37-9371f803b2c8",
   "metadata": {
    "execution": {
     "iopub.execute_input": "2025-03-18T01:53:10.348042Z",
     "iopub.status.busy": "2025-03-18T01:53:10.347922Z",
     "iopub.status.idle": "2025-03-18T01:53:11.838300Z",
     "shell.execute_reply": "2025-03-18T01:53:11.837934Z",
     "shell.execute_reply.started": "2025-03-18T01:53:10.348031Z"
    }
   },
   "outputs": [],
   "source": [
    "df_curr_enrollment.to_excel(\n",
    "    '../Data_Retrieval/curr_enrollment.xlsx', index = False)"
   ]
  },
  {
   "cell_type": "markdown",
   "id": "4a893fb0-bf5f-4403-8ca6-70d8e56bfba6",
   "metadata": {},
   "source": [
    "## Creating a survey results table\n",
    "\n",
    "This table will store fall and spring student survey results for the most recent school year. We'll configure our results so that certain groups (e.g. freshmen, seniors, and students in the STB and STL colleges) report higher results over time than do others."
   ]
  },
  {
   "cell_type": "markdown",
   "id": "ec3e832c-2923-41c4-b254-a2778e5d19e8",
   "metadata": {},
   "source": [
    "### Creating fall survey results"
   ]
  },
  {
   "cell_type": "code",
   "execution_count": 22,
   "id": "7eb56908-1f71-4244-99e3-42b1e0763011",
   "metadata": {
    "execution": {
     "iopub.execute_input": "2025-03-18T01:53:11.838937Z",
     "iopub.status.busy": "2025-03-18T01:53:11.838720Z",
     "iopub.status.idle": "2025-03-18T01:53:11.841320Z",
     "shell.execute_reply": "2025-03-18T01:53:11.840945Z",
     "shell.execute_reply.started": "2025-03-18T01:53:11.838919Z"
    }
   },
   "outputs": [],
   "source": [
    "def limit_results(df, column, min, max):\n",
    "    '''This function restricts the values within a particular DataFrame\n",
    "    column to a range provided by the user.\n",
    "    \n",
    "    df: the DataFrame to modify\n",
    "    \n",
    "    column: the column within df whose values will be restricted.\n",
    "    \n",
    "    min and max: the minimum and max values, respectively, to allow within\n",
    "    this column.\n",
    "    '''\n",
    "    df[column] = np.where(\n",
    "        df[column] < min, min, df[column])\n",
    "    df[column] = np.where(\n",
    "        df[column] > max, max, df[column])"
   ]
  },
  {
   "cell_type": "code",
   "execution_count": 23,
   "id": "9a687847-6ad1-401d-851d-4147ebc88324",
   "metadata": {
    "execution": {
     "iopub.execute_input": "2025-03-18T01:53:11.841824Z",
     "iopub.status.busy": "2025-03-18T01:53:11.841631Z",
     "iopub.status.idle": "2025-03-18T01:53:11.853241Z",
     "shell.execute_reply": "2025-03-18T01:53:11.852945Z",
     "shell.execute_reply.started": "2025-03-18T01:53:11.841814Z"
    }
   },
   "outputs": [
    {
     "data": {
      "text/html": [
       "<div>\n",
       "<style scoped>\n",
       "    .dataframe tbody tr th:only-of-type {\n",
       "        vertical-align: middle;\n",
       "    }\n",
       "\n",
       "    .dataframe tbody tr th {\n",
       "        vertical-align: top;\n",
       "    }\n",
       "\n",
       "    .dataframe thead th {\n",
       "        text-align: right;\n",
       "    }\n",
       "</style>\n",
       "<table border=\"1\" class=\"dataframe\">\n",
       "  <thead>\n",
       "    <tr style=\"text-align: right;\">\n",
       "      <th></th>\n",
       "      <th>matriculation_year</th>\n",
       "      <th>matriculation_number</th>\n",
       "      <th>student_id</th>\n",
       "      <th>...</th>\n",
       "      <th>starting_year</th>\n",
       "      <th>season</th>\n",
       "      <th>score</th>\n",
       "    </tr>\n",
       "  </thead>\n",
       "  <tbody>\n",
       "    <tr>\n",
       "      <th>0</th>\n",
       "      <td>2020</td>\n",
       "      <td>1</td>\n",
       "      <td>2020-1</td>\n",
       "      <td>...</td>\n",
       "      <td>2023</td>\n",
       "      <td>Fall</td>\n",
       "      <td>88</td>\n",
       "    </tr>\n",
       "    <tr>\n",
       "      <th>1</th>\n",
       "      <td>2020</td>\n",
       "      <td>2</td>\n",
       "      <td>2020-2</td>\n",
       "      <td>...</td>\n",
       "      <td>2023</td>\n",
       "      <td>Fall</td>\n",
       "      <td>37</td>\n",
       "    </tr>\n",
       "    <tr>\n",
       "      <th>...</th>\n",
       "      <td>...</td>\n",
       "      <td>...</td>\n",
       "      <td>...</td>\n",
       "      <td>...</td>\n",
       "      <td>...</td>\n",
       "      <td>...</td>\n",
       "      <td>...</td>\n",
       "    </tr>\n",
       "    <tr>\n",
       "      <th>16382</th>\n",
       "      <td>2023</td>\n",
       "      <td>5442</td>\n",
       "      <td>2023-5442</td>\n",
       "      <td>...</td>\n",
       "      <td>2023</td>\n",
       "      <td>Fall</td>\n",
       "      <td>67</td>\n",
       "    </tr>\n",
       "    <tr>\n",
       "      <th>16383</th>\n",
       "      <td>2023</td>\n",
       "      <td>5443</td>\n",
       "      <td>2023-5443</td>\n",
       "      <td>...</td>\n",
       "      <td>2023</td>\n",
       "      <td>Fall</td>\n",
       "      <td>68</td>\n",
       "    </tr>\n",
       "  </tbody>\n",
       "</table>\n",
       "<p>16384 rows × 8 columns</p>\n",
       "</div>"
      ],
      "text/plain": [
       "       matriculation_year  matriculation_number student_id  ... starting_year  \\\n",
       "0                    2020                     1     2020-1  ...          2023   \n",
       "1                    2020                     2     2020-2  ...          2023   \n",
       "...                   ...                   ...        ...  ...           ...   \n",
       "16382                2023                  5442  2023-5442  ...          2023   \n",
       "16383                2023                  5443  2023-5443  ...          2023   \n",
       "\n",
       "      season  score  \n",
       "0       Fall     88  \n",
       "1       Fall     37  \n",
       "...      ...    ...  \n",
       "16382   Fall     67  \n",
       "16383   Fall     68  \n",
       "\n",
       "[16384 rows x 8 columns]"
      ]
     },
     "execution_count": 23,
     "metadata": {},
     "output_type": "execute_result"
    }
   ],
   "source": [
    "# Initializing the table as a copy of selected columns from \n",
    "# df_curr_enrollment:\n",
    "df_fall_survey = df_curr_enrollment.copy()[\n",
    "['matriculation_year', 'matriculation_number',\n",
    " 'student_id', 'college', 'level']]\n",
    "df_fall_survey['starting_year'] = 2023 # Other years could be stored\n",
    "# within this table as well.\n",
    "df_fall_survey['season'] = 'Fall'\n",
    "# We'll use rng.normal(), which produces random numbers that follow a \n",
    "# normal distribution, to initialize our fall results.\n",
    "# See https://numpy.org/doc/stable/reference/random/generated/numpy.\n",
    "# random.Generator.normal.html\n",
    "df_fall_survey['score'] = rng.normal(\n",
    "    loc = 70, scale = 10, size = student_count).astype('int')\n",
    "# calling limit_results to restrict the scores to the range [0, 100]:\n",
    "limit_results(df_fall_survey, 'score', 0, 100)\n",
    "df_fall_survey"
   ]
  },
  {
   "cell_type": "markdown",
   "id": "dc4b37ba-a870-45ca-b3ac-41c7303cc1dd",
   "metadata": {},
   "source": [
    "Confirming that the minimum and maximum 'score' values within df_fall_survey lie within the range [0, 100]:"
   ]
  },
  {
   "cell_type": "code",
   "execution_count": 24,
   "id": "f97d835f-270b-46bf-be36-0c1edf2a5d03",
   "metadata": {
    "execution": {
     "iopub.execute_input": "2025-03-18T01:53:11.853796Z",
     "iopub.status.busy": "2025-03-18T01:53:11.853583Z",
     "iopub.status.idle": "2025-03-18T01:53:11.856240Z",
     "shell.execute_reply": "2025-03-18T01:53:11.855951Z",
     "shell.execute_reply.started": "2025-03-18T01:53:11.853786Z"
    }
   },
   "outputs": [
    {
     "data": {
      "text/plain": [
       "(np.int64(30), np.int64(100))"
      ]
     },
     "execution_count": 24,
     "metadata": {},
     "output_type": "execute_result"
    }
   ],
   "source": [
    "df_fall_survey['score'].min(), df_fall_survey['score'].max()"
   ]
  },
  {
   "cell_type": "markdown",
   "id": "a7db01ea-7b7d-466f-b435-0dec49feeea0",
   "metadata": {},
   "source": [
    "### Creating spring results\n",
    "\n",
    "In order to create these results, we'll first create a copy of our fall results table. Next, we'll calculate our spring results by creating a score_change variable that defaults to 10; adjusting this variable up or down based on students' college membership and level; and then adding the product of this variable and rng.random()* to a student's fall score.\n",
    "\n",
    "We'll use .iloc[] to make these updates. An alternative would be df.at[], but the approach shown in this cell allows for different index labels to be used.\n",
    "\n",
    "\n",
    "*rng.random() produces a float in the range [0, 1). See [the numpy documentation](https://numpy.org/doc/stable/reference/random/generated/numpy.random.Generator.random.html) for more details. The use of rng.random() allows for more variation in individual fall-to-spring changes."
   ]
  },
  {
   "cell_type": "code",
   "execution_count": 25,
   "id": "2f5de076-2e87-4393-b9e8-089ecedac1a5",
   "metadata": {
    "execution": {
     "iopub.execute_input": "2025-03-18T01:53:11.856688Z",
     "iopub.status.busy": "2025-03-18T01:53:11.856583Z",
     "iopub.status.idle": "2025-03-18T01:53:14.177588Z",
     "shell.execute_reply": "2025-03-18T01:53:14.177209Z",
     "shell.execute_reply.started": "2025-03-18T01:53:11.856677Z"
    }
   },
   "outputs": [
    {
     "data": {
      "text/html": [
       "<div>\n",
       "<style scoped>\n",
       "    .dataframe tbody tr th:only-of-type {\n",
       "        vertical-align: middle;\n",
       "    }\n",
       "\n",
       "    .dataframe tbody tr th {\n",
       "        vertical-align: top;\n",
       "    }\n",
       "\n",
       "    .dataframe thead th {\n",
       "        text-align: right;\n",
       "    }\n",
       "</style>\n",
       "<table border=\"1\" class=\"dataframe\">\n",
       "  <thead>\n",
       "    <tr style=\"text-align: right;\">\n",
       "      <th></th>\n",
       "      <th>matriculation_year</th>\n",
       "      <th>matriculation_number</th>\n",
       "      <th>student_id</th>\n",
       "      <th>...</th>\n",
       "      <th>season</th>\n",
       "      <th>fall_score</th>\n",
       "      <th>score</th>\n",
       "    </tr>\n",
       "  </thead>\n",
       "  <tbody>\n",
       "    <tr>\n",
       "      <th>0</th>\n",
       "      <td>2020</td>\n",
       "      <td>1</td>\n",
       "      <td>2020-1</td>\n",
       "      <td>...</td>\n",
       "      <td>Spring</td>\n",
       "      <td>88</td>\n",
       "      <td>86</td>\n",
       "    </tr>\n",
       "    <tr>\n",
       "      <th>1</th>\n",
       "      <td>2020</td>\n",
       "      <td>2</td>\n",
       "      <td>2020-2</td>\n",
       "      <td>...</td>\n",
       "      <td>Spring</td>\n",
       "      <td>37</td>\n",
       "      <td>35</td>\n",
       "    </tr>\n",
       "    <tr>\n",
       "      <th>2</th>\n",
       "      <td>2020</td>\n",
       "      <td>3</td>\n",
       "      <td>2020-3</td>\n",
       "      <td>...</td>\n",
       "      <td>Spring</td>\n",
       "      <td>54</td>\n",
       "      <td>54</td>\n",
       "    </tr>\n",
       "    <tr>\n",
       "      <th>3</th>\n",
       "      <td>2020</td>\n",
       "      <td>4</td>\n",
       "      <td>2020-4</td>\n",
       "      <td>...</td>\n",
       "      <td>Spring</td>\n",
       "      <td>56</td>\n",
       "      <td>57</td>\n",
       "    </tr>\n",
       "    <tr>\n",
       "      <th>4</th>\n",
       "      <td>2020</td>\n",
       "      <td>5</td>\n",
       "      <td>2020-5</td>\n",
       "      <td>...</td>\n",
       "      <td>Spring</td>\n",
       "      <td>77</td>\n",
       "      <td>74</td>\n",
       "    </tr>\n",
       "  </tbody>\n",
       "</table>\n",
       "<p>5 rows × 9 columns</p>\n",
       "</div>"
      ],
      "text/plain": [
       "   matriculation_year  matriculation_number student_id  ...  season  \\\n",
       "0                2020                     1     2020-1  ...  Spring   \n",
       "1                2020                     2     2020-2  ...  Spring   \n",
       "2                2020                     3     2020-3  ...  Spring   \n",
       "3                2020                     4     2020-4  ...  Spring   \n",
       "4                2020                     5     2020-5  ...  Spring   \n",
       "\n",
       "  fall_score  score  \n",
       "0         88     86  \n",
       "1         37     35  \n",
       "2         54     54  \n",
       "3         56     57  \n",
       "4         77     74  \n",
       "\n",
       "[5 rows x 9 columns]"
      ]
     },
     "execution_count": 25,
     "metadata": {},
     "output_type": "execute_result"
    }
   ],
   "source": [
    "df_spring_survey = df_fall_survey.copy().rename(\n",
    "    columns={'score':'fall_score'}).replace('Fall','Spring')\n",
    "df_spring_survey['score'] = np.nan\n",
    "score_col = df_spring_survey.columns.get_loc('score')\n",
    "for i in range(len(df_spring_survey)):\n",
    "    score_change = 10\n",
    "    college = df_spring_survey.iloc[i]['college']\n",
    "    level = df_spring_survey.iloc[i]['level']\n",
    "    if college in ['STL', 'STM']:\n",
    "        score_change += 20\n",
    "    if level in ['So', 'Ju']:\n",
    "        score_change -= 10\n",
    "    # Using .iloc to make our updates:\n",
    "    # This approach prevents 'setting with copy' warnings from being \n",
    "    # displayed. Note the use of get_loc to determine which column index \n",
    "    # value to incorporate into .iloc.\n",
    "    df_spring_survey.iloc[i, score_col] = (df_spring_survey.iloc[\n",
    "    i]['fall_score'] -5 + rng.random() * score_change)\n",
    "    \n",
    "\n",
    "limit_results(df_spring_survey, 'score', 0, 100)\n",
    "df_spring_survey['score'] = df_spring_survey['score'].astype('int')\n",
    "df_spring_survey.head()"
   ]
  },
  {
   "cell_type": "markdown",
   "id": "cbe17fcf-31ac-4b84-a210-14a443e80fee",
   "metadata": {},
   "source": [
    "A pivot table of results by college and level reveals the variation in mean scores created by the above for loop."
   ]
  },
  {
   "cell_type": "code",
   "execution_count": 26,
   "id": "4024bd79-d570-4551-8778-1a6398a39682",
   "metadata": {
    "execution": {
     "iopub.execute_input": "2025-03-18T01:53:14.178057Z",
     "iopub.status.busy": "2025-03-18T01:53:14.177920Z",
     "iopub.status.idle": "2025-03-18T01:53:14.193866Z",
     "shell.execute_reply": "2025-03-18T01:53:14.193624Z",
     "shell.execute_reply.started": "2025-03-18T01:53:14.178048Z"
    }
   },
   "outputs": [
    {
     "data": {
      "text/html": [
       "<div>\n",
       "<style scoped>\n",
       "    .dataframe tbody tr th:only-of-type {\n",
       "        vertical-align: middle;\n",
       "    }\n",
       "\n",
       "    .dataframe tbody tr th {\n",
       "        vertical-align: top;\n",
       "    }\n",
       "\n",
       "    .dataframe thead th {\n",
       "        text-align: right;\n",
       "    }\n",
       "</style>\n",
       "<table border=\"1\" class=\"dataframe\">\n",
       "  <thead>\n",
       "    <tr style=\"text-align: right;\">\n",
       "      <th></th>\n",
       "      <th>college</th>\n",
       "      <th>level</th>\n",
       "      <th>score</th>\n",
       "    </tr>\n",
       "  </thead>\n",
       "  <tbody>\n",
       "    <tr>\n",
       "      <th>0</th>\n",
       "      <td>STB</td>\n",
       "      <td>Fr</td>\n",
       "      <td>69.177235</td>\n",
       "    </tr>\n",
       "    <tr>\n",
       "      <th>1</th>\n",
       "      <td>STB</td>\n",
       "      <td>Ju</td>\n",
       "      <td>64.950769</td>\n",
       "    </tr>\n",
       "    <tr>\n",
       "      <th>...</th>\n",
       "      <td>...</td>\n",
       "      <td>...</td>\n",
       "      <td>...</td>\n",
       "    </tr>\n",
       "    <tr>\n",
       "      <th>14</th>\n",
       "      <td>STM</td>\n",
       "      <td>Se</td>\n",
       "      <td>79.309831</td>\n",
       "    </tr>\n",
       "    <tr>\n",
       "      <th>15</th>\n",
       "      <td>STM</td>\n",
       "      <td>So</td>\n",
       "      <td>73.415690</td>\n",
       "    </tr>\n",
       "  </tbody>\n",
       "</table>\n",
       "<p>16 rows × 3 columns</p>\n",
       "</div>"
      ],
      "text/plain": [
       "   college level      score\n",
       "0      STB    Fr  69.177235\n",
       "1      STB    Ju  64.950769\n",
       "..     ...   ...        ...\n",
       "14     STM    Se  79.309831\n",
       "15     STM    So  73.415690\n",
       "\n",
       "[16 rows x 3 columns]"
      ]
     },
     "execution_count": 26,
     "metadata": {},
     "output_type": "execute_result"
    }
   ],
   "source": [
    "df_spring_survey.pivot_table(\n",
    "    index = ['college', 'level'], \n",
    "    values = 'score', aggfunc = 'mean').reset_index()"
   ]
  },
  {
   "cell_type": "markdown",
   "id": "8e6f739d-9527-4fa4-83c5-1ab5c446b3f6",
   "metadata": {
    "execution": {
     "iopub.execute_input": "2024-07-05T20:12:22.854232Z",
     "iopub.status.busy": "2024-07-05T20:12:22.854232Z",
     "iopub.status.idle": "2024-07-05T20:12:22.857518Z",
     "shell.execute_reply": "2024-07-05T20:12:22.857518Z",
     "shell.execute_reply.started": "2024-07-05T20:12:22.854232Z"
    }
   },
   "source": [
    "### Combining fall and spring results into the same table\n",
    "\n",
    "We'll use a 'long' format for this table. In other words, rather than show fall and spring results side by side for each student (an example of a 'wide'-formatted table), we'll list these results as separate rows. I consider this setup to be more realistic: in real life, this table would likely be created by stacking individual sets of survey results on top of one another.\n",
    "\n",
    "The only identifier that we'll preserve is the student ID, as this will be sufficient for linking this dataset with any other table (such as our current enrollment dataset) that also contains this key."
   ]
  },
  {
   "cell_type": "code",
   "execution_count": 27,
   "id": "1501aa4c-7d61-401a-bd19-02eedc3cee9e",
   "metadata": {
    "execution": {
     "iopub.execute_input": "2025-03-18T01:53:14.194312Z",
     "iopub.status.busy": "2025-03-18T01:53:14.194216Z",
     "iopub.status.idle": "2025-03-18T01:53:14.203737Z",
     "shell.execute_reply": "2025-03-18T01:53:14.203366Z",
     "shell.execute_reply.started": "2025-03-18T01:53:14.194303Z"
    }
   },
   "outputs": [
    {
     "data": {
      "text/html": [
       "<div>\n",
       "<style scoped>\n",
       "    .dataframe tbody tr th:only-of-type {\n",
       "        vertical-align: middle;\n",
       "    }\n",
       "\n",
       "    .dataframe tbody tr th {\n",
       "        vertical-align: top;\n",
       "    }\n",
       "\n",
       "    .dataframe thead th {\n",
       "        text-align: right;\n",
       "    }\n",
       "</style>\n",
       "<table border=\"1\" class=\"dataframe\">\n",
       "  <thead>\n",
       "    <tr style=\"text-align: right;\">\n",
       "      <th></th>\n",
       "      <th>student_id</th>\n",
       "      <th>starting_year</th>\n",
       "      <th>season</th>\n",
       "      <th>score</th>\n",
       "    </tr>\n",
       "  </thead>\n",
       "  <tbody>\n",
       "    <tr>\n",
       "      <th>0</th>\n",
       "      <td>2020-1</td>\n",
       "      <td>2023</td>\n",
       "      <td>Fall</td>\n",
       "      <td>88</td>\n",
       "    </tr>\n",
       "    <tr>\n",
       "      <th>1</th>\n",
       "      <td>2020-2</td>\n",
       "      <td>2023</td>\n",
       "      <td>Fall</td>\n",
       "      <td>37</td>\n",
       "    </tr>\n",
       "    <tr>\n",
       "      <th>...</th>\n",
       "      <td>...</td>\n",
       "      <td>...</td>\n",
       "      <td>...</td>\n",
       "      <td>...</td>\n",
       "    </tr>\n",
       "    <tr>\n",
       "      <th>32766</th>\n",
       "      <td>2023-5442</td>\n",
       "      <td>2023</td>\n",
       "      <td>Spring</td>\n",
       "      <td>64</td>\n",
       "    </tr>\n",
       "    <tr>\n",
       "      <th>32767</th>\n",
       "      <td>2023-5443</td>\n",
       "      <td>2023</td>\n",
       "      <td>Spring</td>\n",
       "      <td>77</td>\n",
       "    </tr>\n",
       "  </tbody>\n",
       "</table>\n",
       "<p>32768 rows × 4 columns</p>\n",
       "</div>"
      ],
      "text/plain": [
       "      student_id  starting_year  season  score\n",
       "0         2020-1           2023    Fall     88\n",
       "1         2020-2           2023    Fall     37\n",
       "...          ...            ...     ...    ...\n",
       "32766  2023-5442           2023  Spring     64\n",
       "32767  2023-5443           2023  Spring     77\n",
       "\n",
       "[32768 rows x 4 columns]"
      ]
     },
     "execution_count": 27,
     "metadata": {},
     "output_type": "execute_result"
    }
   ],
   "source": [
    "df_survey = pd.concat(\n",
    "    [df_fall_survey, df_spring_survey]).reset_index()[\n",
    "['student_id', 'starting_year', 'season', 'score']]\n",
    "df_survey"
   ]
  },
  {
   "cell_type": "code",
   "execution_count": 28,
   "id": "414498fb-84f5-4611-a173-1fa8ab08d2f5",
   "metadata": {
    "execution": {
     "iopub.execute_input": "2025-03-18T01:53:14.204176Z",
     "iopub.status.busy": "2025-03-18T01:53:14.204062Z",
     "iopub.status.idle": "2025-03-18T01:53:14.400773Z",
     "shell.execute_reply": "2025-03-18T01:53:14.400396Z",
     "shell.execute_reply.started": "2025-03-18T01:53:14.204166Z"
    }
   },
   "outputs": [],
   "source": [
    "df_survey.to_sql('survey_results', if_exists = 'replace', \n",
    "                 index = False, con = e)\n",
    "df_survey.to_csv('survey_results.csv', index = False)"
   ]
  },
  {
   "cell_type": "markdown",
   "id": "d692e5b8-988c-4ef2-b0f8-a2db179295b3",
   "metadata": {},
   "source": [
    "### Creating a set of winter results that can be incorporated into a data cleaning/reformatting script\n",
    "\n",
    "In order to demonstrate how the Pandas library can be used to clean and reformat data, I'll now create a winter survey results table that contains several issues, including:\n",
    "\n",
    "1. Column names that differ from those in the fall/spring results\n",
    "2. Different data formats\n",
    "3. A missing column\n",
    "4. Duplicate values\n",
    "5. Missing values for certain students\n",
    "6. Results spread over 16 separate files (one for each school/level pair)\n",
    "\n",
    "These issues will be addressed within the data_cleaning_and_reformatting.ipynb script within PFN's Data Prep section."
   ]
  },
  {
   "cell_type": "code",
   "execution_count": 29,
   "id": "1f58ad7f-0a18-41ed-ae92-1c40c38c86db",
   "metadata": {
    "execution": {
     "iopub.execute_input": "2025-03-18T01:53:14.401362Z",
     "iopub.status.busy": "2025-03-18T01:53:14.401178Z",
     "iopub.status.idle": "2025-03-18T01:53:14.417103Z",
     "shell.execute_reply": "2025-03-18T01:53:14.416793Z",
     "shell.execute_reply.started": "2025-03-18T01:53:14.401351Z"
    }
   },
   "outputs": [
    {
     "data": {
      "text/html": [
       "<div>\n",
       "<style scoped>\n",
       "    .dataframe tbody tr th:only-of-type {\n",
       "        vertical-align: middle;\n",
       "    }\n",
       "\n",
       "    .dataframe tbody tr th {\n",
       "        vertical-align: top;\n",
       "    }\n",
       "\n",
       "    .dataframe thead th {\n",
       "        text-align: right;\n",
       "    }\n",
       "</style>\n",
       "<table border=\"1\" class=\"dataframe\">\n",
       "  <thead>\n",
       "    <tr style=\"text-align: right;\">\n",
       "      <th></th>\n",
       "      <th>MATRIC#</th>\n",
       "      <th>college</th>\n",
       "      <th>level</th>\n",
       "      <th>SEASON</th>\n",
       "      <th>SURVEY_SCORE</th>\n",
       "      <th>STARTINGYR</th>\n",
       "      <th>MATRICYR</th>\n",
       "    </tr>\n",
       "  </thead>\n",
       "  <tbody>\n",
       "    <tr>\n",
       "      <th>0</th>\n",
       "      <td>2257</td>\n",
       "      <td>STM</td>\n",
       "      <td>So</td>\n",
       "      <td>W</td>\n",
       "      <td>68.0%</td>\n",
       "      <td>23</td>\n",
       "      <td>22</td>\n",
       "    </tr>\n",
       "    <tr>\n",
       "      <th>1</th>\n",
       "      <td>2916</td>\n",
       "      <td>STC</td>\n",
       "      <td>Ju</td>\n",
       "      <td>W</td>\n",
       "      <td>67.0%</td>\n",
       "      <td>23</td>\n",
       "      <td>21</td>\n",
       "    </tr>\n",
       "    <tr>\n",
       "      <th>...</th>\n",
       "      <td>...</td>\n",
       "      <td>...</td>\n",
       "      <td>...</td>\n",
       "      <td>...</td>\n",
       "      <td>...</td>\n",
       "      <td>...</td>\n",
       "      <td>...</td>\n",
       "    </tr>\n",
       "    <tr>\n",
       "      <th>14620</th>\n",
       "      <td>1270</td>\n",
       "      <td>STC</td>\n",
       "      <td>Se</td>\n",
       "      <td>W</td>\n",
       "      <td>62.0%</td>\n",
       "      <td>23</td>\n",
       "      <td>20</td>\n",
       "    </tr>\n",
       "    <tr>\n",
       "      <th>14621</th>\n",
       "      <td>1911</td>\n",
       "      <td>STB</td>\n",
       "      <td>So</td>\n",
       "      <td>W</td>\n",
       "      <td>70.0%</td>\n",
       "      <td>23</td>\n",
       "      <td>22</td>\n",
       "    </tr>\n",
       "  </tbody>\n",
       "</table>\n",
       "<p>14622 rows × 7 columns</p>\n",
       "</div>"
      ],
      "text/plain": [
       "       MATRIC# college level SEASON SURVEY_SCORE  STARTINGYR MATRICYR\n",
       "0         2257     STM    So      W        68.0%          23       22\n",
       "1         2916     STC    Ju      W        67.0%          23       21\n",
       "...        ...     ...   ...    ...          ...         ...      ...\n",
       "14620     1270     STC    Se      W        62.0%          23       20\n",
       "14621     1911     STB    So      W        70.0%          23       22\n",
       "\n",
       "[14622 rows x 7 columns]"
      ]
     },
     "execution_count": 29,
     "metadata": {},
     "output_type": "execute_result"
    }
   ],
   "source": [
    "df_winter_survey = df_fall_survey.copy()\n",
    "df_winter_survey['SEASON'] = 'W'\n",
    "# Initializing winter survey results as lower copies of fall ones, \n",
    "# then converting them to a different data type:\n",
    "# (Converting the results to integers, then strings prevents the original\n",
    "# decimal values from getting added to the final output.\n",
    "df_winter_survey['SURVEY_SCORE'] = (\n",
    "    df_winter_survey['score'] \n",
    "    + (rng.random(size = student_count) * -10)).astype(\n",
    "        'int').astype('str')+'.0%'\n",
    "df_winter_survey['STARTINGYR'] = df_winter_survey['starting_year'] - 2000\n",
    "df_winter_survey['MATRICYR'] = (\n",
    "    df_winter_survey['matriculation_year'] - 2000).astype('str')\n",
    "df_winter_survey.rename(columns = {'matriculation_number':'MATRIC#'}, \n",
    "                        inplace = True)\n",
    "df_winter_survey.drop(\n",
    "    ['matriculation_year', 'student_id', 'starting_year',\n",
    "     'season','score'], axis = 1, inplace = True)\n",
    "# Removing 15% of students from the results via df.sample:      \n",
    "df_winter_survey = df_winter_survey.sample(frac=0.85).copy()\n",
    "# See https://pandas.pydata.org/pandas-docs/stable/reference/api/pandas.\n",
    "# DataFrame.sample.html\n",
    "# using df.sample() to add duplicate records for 5% of the students present\n",
    "# within the sample:\n",
    "df_winter_survey = pd.concat(\n",
    "    [df_winter_survey, df_winter_survey.sample(frac=0.05)])\n",
    "df_winter_survey.reset_index(drop=True,inplace=True)\n",
    "df_winter_survey"
   ]
  },
  {
   "cell_type": "markdown",
   "id": "ba7b116d-7ef3-42f4-b5d2-7376302c716f",
   "metadata": {},
   "source": [
    "Dividing these results into 16 individual datasets (one for each college/level pair), then saving those results into the Data Prep section of PFN:\n",
    "\n",
    "(The 'college' and 'level' fields within df_winter_survey were only necessary for filtering data and creating school and level-based filenames, so they don't need to be included in the .csv copies of the data.)"
   ]
  },
  {
   "cell_type": "code",
   "execution_count": 30,
   "id": "143ddfe5-9651-48c8-aac6-31b870c21ddf",
   "metadata": {
    "execution": {
     "iopub.execute_input": "2025-03-18T01:53:14.417621Z",
     "iopub.status.busy": "2025-03-18T01:53:14.417483Z",
     "iopub.status.idle": "2025-03-18T01:53:14.471063Z",
     "shell.execute_reply": "2025-03-18T01:53:14.470752Z",
     "shell.execute_reply.started": "2025-03-18T01:53:14.417611Z"
    }
   },
   "outputs": [],
   "source": [
    "for college in df_winter_survey['college'].unique():\n",
    "    for level in df_winter_survey['level'].unique():\n",
    "        df_results = df_winter_survey.query(\n",
    "            \"college == @college & level == @level\").copy().drop(\n",
    "            ['college', 'level'], axis = 1)\n",
    "        df_results.to_csv(\n",
    "            f'../Data_Prep/winter_results/{college}_{level}_results.csv', \n",
    "            index = False)"
   ]
  },
  {
   "cell_type": "markdown",
   "id": "3a10f867-0e1a-4013-893d-c2dcce7063fe",
   "metadata": {},
   "source": [
    "## Creating a dining transactions table\n",
    "\n",
    "I created this table in order to illustrate the 'average of averages' problem within descriptive_stats_part_2.ipynb. It currently shows only four items for each transaction: (1) the amount of money spent; (2) the abbreviated level (Fr for freshman, So for sophomore, etc.) of the diner; (3) the starting school year in which the transaction was made; and (4) the weekday of the transaction.\n",
    "\n",
    "The table is designed so that younger levels will have more entries than older levels, but older levels will spend higher amounts, on average, per transaction."
   ]
  },
  {
   "cell_type": "code",
   "execution_count": 31,
   "id": "980e2154-738a-4e5d-80a5-b9c6e0d44d3f",
   "metadata": {
    "execution": {
     "iopub.execute_input": "2025-03-18T01:53:14.471615Z",
     "iopub.status.busy": "2025-03-18T01:53:14.471450Z",
     "iopub.status.idle": "2025-03-18T01:53:14.489938Z",
     "shell.execute_reply": "2025-03-18T01:53:14.489647Z",
     "shell.execute_reply.started": "2025-03-18T01:53:14.471587Z"
    }
   },
   "outputs": [
    {
     "data": {
      "text/html": [
       "<div>\n",
       "<style scoped>\n",
       "    .dataframe tbody tr th:only-of-type {\n",
       "        vertical-align: middle;\n",
       "    }\n",
       "\n",
       "    .dataframe tbody tr th {\n",
       "        vertical-align: top;\n",
       "    }\n",
       "\n",
       "    .dataframe thead th {\n",
       "        text-align: right;\n",
       "    }\n",
       "</style>\n",
       "<table border=\"1\" class=\"dataframe\">\n",
       "  <thead>\n",
       "    <tr style=\"text-align: right;\">\n",
       "      <th></th>\n",
       "      <th>starting_year</th>\n",
       "      <th>weekday</th>\n",
       "      <th>level</th>\n",
       "      <th>amount</th>\n",
       "    </tr>\n",
       "  </thead>\n",
       "  <tbody>\n",
       "    <tr>\n",
       "      <th>0</th>\n",
       "      <td>2023</td>\n",
       "      <td>We</td>\n",
       "      <td>Fr</td>\n",
       "      <td>13.36</td>\n",
       "    </tr>\n",
       "    <tr>\n",
       "      <th>1</th>\n",
       "      <td>2023</td>\n",
       "      <td>Tu</td>\n",
       "      <td>Se</td>\n",
       "      <td>12.22</td>\n",
       "    </tr>\n",
       "    <tr>\n",
       "      <th>...</th>\n",
       "      <td>...</td>\n",
       "      <td>...</td>\n",
       "      <td>...</td>\n",
       "      <td>...</td>\n",
       "    </tr>\n",
       "    <tr>\n",
       "      <th>22451</th>\n",
       "      <td>2023</td>\n",
       "      <td>Sa</td>\n",
       "      <td>Fr</td>\n",
       "      <td>13.25</td>\n",
       "    </tr>\n",
       "    <tr>\n",
       "      <th>22452</th>\n",
       "      <td>2023</td>\n",
       "      <td>Mo</td>\n",
       "      <td>Fr</td>\n",
       "      <td>1.95</td>\n",
       "    </tr>\n",
       "  </tbody>\n",
       "</table>\n",
       "<p>22453 rows × 4 columns</p>\n",
       "</div>"
      ],
      "text/plain": [
       "       starting_year weekday level  amount\n",
       "0               2023      We    Fr   13.36\n",
       "1               2023      Tu    Se   12.22\n",
       "...              ...     ...   ...     ...\n",
       "22451           2023      Sa    Fr   13.25\n",
       "22452           2023      Mo    Fr    1.95\n",
       "\n",
       "[22453 rows x 4 columns]"
      ]
     },
     "execution_count": 31,
     "metadata": {},
     "output_type": "execute_result"
    }
   ],
   "source": [
    "dining_transaction_count = 22453\n",
    "# Initializing the table:\n",
    "# Note the use of rng.choice() to make younger-level transactions\n",
    "# more common than older-level ones and mid-week transactions \n",
    "# more common than weekend-ones.\n",
    "# This set of code uses ng.random() to initialize each transaction as a \n",
    "# number between $0 and $20; however, these numbers will get adjusted\n",
    "# later in this cell.\n",
    "df_dining_transactions = pd.DataFrame(\n",
    "    index = np.arange(dining_transaction_count),\n",
    "    data = {'starting_year':2023,\n",
    "            'weekday':rng.choice(\n",
    "        ['Su', 'Mo', 'Tu', 'We', 'Th', 'Fr', 'Sa'],\n",
    "        p = [0.05, 0.16, 0.23, 0.24, 0.18, 0.11, 0.03], \n",
    "                size = dining_transaction_count),\n",
    "            'level':rng.choice(\n",
    "        ['Fr', 'So', 'Ju', 'Se'],\n",
    "        p = [0.55, 0.21, 0.15, 0.09], size = dining_transaction_count),\n",
    "           'base_charge':[\n",
    "               rng.random() * 20 for i in range(\n",
    "                   dining_transaction_count)]})\n",
    "\n",
    "# Creating a 'multiplier' column that will cause average transaction\n",
    "# amounts for older levels to exceed those of younger levels:\n",
    "df_dining_transactions['multiplier'] = df_dining_transactions[\n",
    "'level'].map(\n",
    "    {'Fr':1, 'So':1.3, 'Ju': 1.7, 'Se':2.1})\n",
    "df_dining_transactions['amount'] = np.round(\n",
    "    df_dining_transactions['base_charge'] \n",
    "    * df_dining_transactions['multiplier'], 2)\n",
    "\n",
    "# Removing columns that are no longer needed:\n",
    "df_dining_transactions.drop(\n",
    "    ['base_charge', 'multiplier'], axis = 1, inplace = True)\n",
    "df_dining_transactions"
   ]
  },
  {
   "cell_type": "code",
   "execution_count": 32,
   "id": "9ed36944-35a6-45d0-9b07-da88a2f254ab",
   "metadata": {
    "execution": {
     "iopub.execute_input": "2025-03-18T01:53:14.490413Z",
     "iopub.status.busy": "2025-03-18T01:53:14.490300Z",
     "iopub.status.idle": "2025-03-18T01:53:14.596091Z",
     "shell.execute_reply": "2025-03-18T01:53:14.595754Z",
     "shell.execute_reply.started": "2025-03-18T01:53:14.490403Z"
    }
   },
   "outputs": [],
   "source": [
    "df_dining_transactions.to_sql('dining_transactions', if_exists = 'replace', \n",
    "                 index = False, con = e)\n",
    "df_dining_transactions.to_csv('dining_transactions.csv', index = False)"
   ]
  },
  {
   "cell_type": "markdown",
   "id": "cd283c8a-4801-43b5-b501-b6a1257ae788",
   "metadata": {},
   "source": [
    "## Creating a table of fall and spring bookstore sales by student for a given year:\n",
    "\n",
    "(This table will play a key role in the Regressions section of Python for Nonprofits.)\n",
    "\n",
    "We'll initialize this table as a subset of df_curr_enrollment, as certain demographic items will play a role in students' spring purchase totals."
   ]
  },
  {
   "cell_type": "code",
   "execution_count": 33,
   "id": "dd71be9b-51d1-424c-9673-bb96b9d83a77",
   "metadata": {
    "execution": {
     "iopub.execute_input": "2025-03-18T01:53:14.596636Z",
     "iopub.status.busy": "2025-03-18T01:53:14.596474Z",
     "iopub.status.idle": "2025-03-18T01:53:16.861110Z",
     "shell.execute_reply": "2025-03-18T01:53:16.860706Z",
     "shell.execute_reply.started": "2025-03-18T01:53:14.596625Z"
    }
   },
   "outputs": [
    {
     "data": {
      "text/html": [
       "<div>\n",
       "<style scoped>\n",
       "    .dataframe tbody tr th:only-of-type {\n",
       "        vertical-align: middle;\n",
       "    }\n",
       "\n",
       "    .dataframe tbody tr th {\n",
       "        vertical-align: top;\n",
       "    }\n",
       "\n",
       "    .dataframe thead th {\n",
       "        text-align: right;\n",
       "    }\n",
       "</style>\n",
       "<table border=\"1\" class=\"dataframe\">\n",
       "  <thead>\n",
       "    <tr style=\"text-align: right;\">\n",
       "      <th></th>\n",
       "      <th>student_id</th>\n",
       "      <th>gender</th>\n",
       "      <th>college</th>\n",
       "      <th>level</th>\n",
       "      <th>Fall</th>\n",
       "      <th>Spring</th>\n",
       "      <th>Fall_Spring_Change</th>\n",
       "    </tr>\n",
       "  </thead>\n",
       "  <tbody>\n",
       "    <tr>\n",
       "      <th>0</th>\n",
       "      <td>2020-1</td>\n",
       "      <td>F</td>\n",
       "      <td>STC</td>\n",
       "      <td>Se</td>\n",
       "      <td>66.80</td>\n",
       "      <td>58.24</td>\n",
       "      <td>-8.56</td>\n",
       "    </tr>\n",
       "    <tr>\n",
       "      <th>1</th>\n",
       "      <td>2020-2</td>\n",
       "      <td>F</td>\n",
       "      <td>STM</td>\n",
       "      <td>Se</td>\n",
       "      <td>104.67</td>\n",
       "      <td>151.90</td>\n",
       "      <td>47.23</td>\n",
       "    </tr>\n",
       "    <tr>\n",
       "      <th>...</th>\n",
       "      <td>...</td>\n",
       "      <td>...</td>\n",
       "      <td>...</td>\n",
       "      <td>...</td>\n",
       "      <td>...</td>\n",
       "      <td>...</td>\n",
       "      <td>...</td>\n",
       "    </tr>\n",
       "    <tr>\n",
       "      <th>16382</th>\n",
       "      <td>2023-5442</td>\n",
       "      <td>M</td>\n",
       "      <td>STB</td>\n",
       "      <td>Fr</td>\n",
       "      <td>100.52</td>\n",
       "      <td>38.29</td>\n",
       "      <td>-62.23</td>\n",
       "    </tr>\n",
       "    <tr>\n",
       "      <th>16383</th>\n",
       "      <td>2023-5443</td>\n",
       "      <td>M</td>\n",
       "      <td>STM</td>\n",
       "      <td>Fr</td>\n",
       "      <td>57.45</td>\n",
       "      <td>29.43</td>\n",
       "      <td>-28.02</td>\n",
       "    </tr>\n",
       "  </tbody>\n",
       "</table>\n",
       "<p>16384 rows × 7 columns</p>\n",
       "</div>"
      ],
      "text/plain": [
       "      student_id gender college level    Fall  Spring  Fall_Spring_Change\n",
       "0         2020-1      F     STC    Se   66.80   58.24               -8.56\n",
       "1         2020-2      F     STM    Se  104.67  151.90               47.23\n",
       "...          ...    ...     ...   ...     ...     ...                 ...\n",
       "16382  2023-5442      M     STB    Fr  100.52   38.29              -62.23\n",
       "16383  2023-5443      M     STM    Fr   57.45   29.43              -28.02\n",
       "\n",
       "[16384 rows x 7 columns]"
      ]
     },
     "execution_count": 33,
     "metadata": {},
     "output_type": "execute_result"
    }
   ],
   "source": [
    "df_sales = df_curr_enrollment[\n",
    "['student_id', 'gender', 'college', 'level']].copy()\n",
    "\n",
    "# Specifying an RNG seed: (I sometimes use the time of day, in HHMMSS\n",
    "# format, as a basis for a seed value.)\n",
    "rng = np.random.default_rng(seed = 225403)\n",
    "\n",
    "# Fall sales will be normally distributed for all students:\n",
    "df_sales['Fall'] = rng.normal(\n",
    "    loc = 80, scale = 25, size = len(df_sales))\n",
    "\n",
    "# Spring sales will be higher than fall sales by default. The following\n",
    "# code specifies these changes using a normal distribution, as I found that\n",
    "# doing so helped make my regression residuals more normally distributed\n",
    "# also.)\n",
    "spring_change = rng.normal(loc = 11, scale = 25, size = len(df_sales))\n",
    "df_sales['Spring'] = df_sales['Fall'] + spring_change\n",
    "# Modifying Spring totals based on demographic components:\n",
    "spring_col = df_sales.columns.get_loc('Spring')\n",
    "for i in range(len(df_sales)):\n",
    "    # Unhealthy snacks were removed from the checkout aisle; \n",
    "    # this ended up reducing revenue among freshmen and sophomore\n",
    "    # (who particularly liked these snacks.)\n",
    "    if df_sales.iloc[i]['level'] in ['Fr', 'So']:\n",
    "        df_sales.iloc[i, spring_col] = (\n",
    "            df_sales.iloc[i, spring_col] + rng.normal(\n",
    "                loc = -21, scale = 3))\n",
    "    # An intensive marketing campaign was carried out at STM and STL;\n",
    "    # if it ended up being successful, it would then be implemented\n",
    "    # at the other colleges also.\n",
    "    if df_sales.iloc[i]['college'] in ['STM', 'STL']:\n",
    "        df_sales.iloc[i, spring_col] = (\n",
    "            df_sales.iloc[i, spring_col] + rng.normal(\n",
    "                loc = 9, scale = 3))\n",
    "\n",
    "# I'll leave in negative Fall and Spring values, as they could be \n",
    "# explained by refunds.\n",
    "\n",
    "df_sales['Fall'] = df_sales['Fall'].round(2)\n",
    "df_sales['Spring'] = df_sales['Spring'].round(2)\n",
    "df_sales['Fall_Spring_Change'] = df_sales['Spring'] - df_sales['Fall']\n",
    "\n",
    "df_sales.to_sql('bookstore_sales', if_exists = 'replace', \n",
    "                 index = False, con = e)\n",
    "df_sales.to_csv('bookstore_sales.csv', index = False)\n",
    "\n",
    "df_sales"
   ]
  },
  {
   "cell_type": "markdown",
   "id": "12628534-05e7-4df2-9d5f-e408a8c8d143",
   "metadata": {},
   "source": [
    "That's the end of this script for now. I may add additional tables to this database in the future, including:\n",
    "\n",
    "1. A table that stores starting incomes for graduating seniors over the last 2+ years\n",
    "2. A table that compares students' college admissions test percentiles to graduate admissions test percentiles."
   ]
  },
  {
   "cell_type": "code",
   "execution_count": null,
   "id": "a56cce43-5ca8-42e4-ae67-141fe29364f9",
   "metadata": {},
   "outputs": [],
   "source": []
  }
 ],
 "metadata": {
  "kernelspec": {
   "display_name": "Python 3 (ipykernel)",
   "language": "python",
   "name": "python3"
  },
  "language_info": {
   "codemirror_mode": {
    "name": "ipython",
    "version": 3
   },
   "file_extension": ".py",
   "mimetype": "text/x-python",
   "name": "python",
   "nbconvert_exporter": "python",
   "pygments_lexer": "ipython3",
   "version": "3.13.2"
  }
 },
 "nbformat": 4,
 "nbformat_minor": 5
}
