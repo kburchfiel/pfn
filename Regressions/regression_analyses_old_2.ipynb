{
 "cells": [
  {
   "cell_type": "markdown",
   "id": "56f44910-27a7-407a-bd93-6010decd55cc",
   "metadata": {},
   "source": [
    "# Regression Analyses (work in progress--more code and much more documentation to come)"
   ]
  },
  {
   "cell_type": "code",
   "execution_count": null,
   "id": "20d874e5-888c-4ba1-b44d-42f4865e2dfb",
   "metadata": {},
   "outputs": [],
   "source": [
    "import pandas as pd\n",
    "import numpy as np\n",
    "from sqlalchemy import create_engine\n",
    "e = create_engine('sqlite:///../Appendix/nvcu_db.db')\n",
    "import statsmodels.api as sm\n",
    "import statsmodels.formula.api as smf\n",
    "import statsmodels.stats.api as sms\n",
    "import plotly.express as px\n",
    "\n",
    "import sys\n",
    "sys.path.insert(1, '../Appendix')\n",
    "from helper_funcs import config_notebook, wadi\n",
    "display_type = config_notebook(display_max_columns = 7,\n",
    "                              display_max_rows = 8)\n",
    "df_survey_results = pd.read_csv(\n",
    "    '../Data_Prep/2023_survey_results.csv')\n"
   ]
  },
  {
   "cell_type": "code",
   "execution_count": null,
   "id": "97fee6c0-22b7-45a5-8f1c-18bfc8f2dfef",
   "metadata": {},
   "outputs": [],
   "source": [
    "# Creating a table of fall and spring bookstore sale totals for each \n",
    "# student:\n",
    "# This will be based on the student demographics table, as \n",
    "# certain demographic items will play a role in students' spring \n",
    "# purchase totals.\n",
    "df_sales = pd.read_sql(\n",
    "    \"select student_id, gender, college, level from \\\n",
    "curr_enrollment\", con = e)\n",
    "enrollment = len(df_sales)\n",
    "df_sales"
   ]
  },
  {
   "cell_type": "markdown",
   "id": "ccd3bd66-b065-4e30-9d0b-4f6b454a5162",
   "metadata": {},
   "source": [
    "## Creating a new bookstore sales table that will ultimately get incorporated into the Appendix:"
   ]
  },
  {
   "cell_type": "code",
   "execution_count": null,
   "id": "6e339c85-c87d-45be-8714-c530a26a7a40",
   "metadata": {},
   "outputs": [],
   "source": [
    "rng = np.random.default_rng(seed = 225403)\n",
    "df_sales['Fall'] = rng.normal(\n",
    "    loc = 80, scale = 25, size = len(df_sales))\n",
    "\n",
    "# spring_change = 3 + (rng.random(size = 1000)) * -6\n",
    "spring_change = rng.normal(loc = 11, scale = 25, size = len(df_sales))\n",
    "df_sales['Spring'] = df_sales['Fall'] + spring_change\n",
    "# Modifying Spring totals based on demographic components:\n",
    "spring_col = df_sales.columns.get_loc('Spring')\n",
    "for i in range(len(df_sales)):\n",
    "    # Unhealthy snacks were removed from the checkout aisle; \n",
    "    # this ended up reducing revenue among freshmen and sophomore\n",
    "    # (who particularly liked these snacks)\n",
    "    if df_sales.iloc[i]['level'] in ['Fr', 'So']:\n",
    "        df_sales.iloc[i, spring_col] = (\n",
    "            df_sales.iloc[i, spring_col] + rng.normal(\n",
    "                loc = -21, scale = 3))\n",
    "    # An intensive marketing campaign was carried out at STM and STL;\n",
    "    # if it ended up being successful, it would then be implemented\n",
    "    # at the other colleges also.\n",
    "    if df_sales.iloc[i]['college'] in ['STM', 'STL']:\n",
    "        df_sales.iloc[i, spring_col] = (\n",
    "            df_sales.iloc[i, spring_col] + rng.normal(\n",
    "                loc = 9, scale = 3))\n",
    "\n",
    "# I'll leave in negative Fall and Spring values, as they could be \n",
    "# explained by refunds.\n",
    "\n",
    "df_sales['Fall'] = df_sales['Fall'].round(2)\n",
    "df_sales['Spring'] = df_sales['Spring'].round(2)\n",
    "df_sales['Fall_Spring_Change'] = df_sales['Spring'] - df_sales['Fall']\n",
    "\n",
    "df_sales"
   ]
  },
  {
   "cell_type": "markdown",
   "id": "44da6de9-46c2-4190-87f5-6d4b3567bd2f",
   "metadata": {},
   "source": [
    "## Survey result analyses:\n",
    "\n",
    "(Note: These analyses failed at least one linear regression suitability check--so I don't want to make them the main focus of this section.)"
   ]
  },
  {
   "cell_type": "code",
   "execution_count": null,
   "id": "170de122-a637-4f72-b850-86e5e2edcfac",
   "metadata": {},
   "outputs": [],
   "source": [
    "px.scatter(df_sales, x = 'Fall', y = 'Spring')"
   ]
  },
  {
   "cell_type": "code",
   "execution_count": null,
   "id": "f7d64a15-b29d-42a6-97ee-e8df812b795f",
   "metadata": {},
   "outputs": [],
   "source": [
    "df_sales_pivot = df_sales.pivot_table(\n",
    "    index = ['college', 'level'], values = 'Fall_Spring_Change', \n",
    "    aggfunc = 'mean').reset_index()\n",
    "df_sales_pivot"
   ]
  },
  {
   "cell_type": "code",
   "execution_count": null,
   "id": "9bfc9697-7512-43aa-9769-034c422266f8",
   "metadata": {},
   "outputs": [],
   "source": [
    "px.bar(df_sales_pivot, x = 'college', y = 'Fall_Spring_Change',\n",
    "      color = 'level', barmode = 'group', text_auto = '.1f')"
   ]
  },
  {
   "cell_type": "code",
   "execution_count": null,
   "id": "0da002e6-782d-48d9-b3ec-8f288d865cb7",
   "metadata": {},
   "outputs": [],
   "source": [
    "sales_lr_1 = smf.ols(formula = \"Spring ~ Fall + college + level + gender\", \n",
    "                   data = df_sales) \n",
    "sales_lr_results_1 = sales_lr_1.fit()\n",
    "sales_lr_results_1.summary()"
   ]
  },
  {
   "cell_type": "markdown",
   "id": "41322724-05fe-4a66-92be-6a47e6207d0f",
   "metadata": {},
   "source": [
    "## Checking the normality of our residuals\n",
    "\n",
    "For more information on diagnostic tests within Statsmodels, see\n",
    "https://www.statsmodels.org/dev/examples/notebooks/generated/regression_diagnostics.html\n",
    "and https://www.statsmodels.org/stable/diagnostic.html .\n",
    "\n",
    "The model-checking section of Learning Statistics with Python's Linear Regression chapter, available at https://ethanweed.github.io/pythonbook/05.04-regression.html#model-checking, is also a valuable reference. (It does contain some mild language.)"
   ]
  },
  {
   "cell_type": "code",
   "execution_count": null,
   "id": "606503ac-5f6e-4959-b2f3-e256cce4ca10",
   "metadata": {},
   "outputs": [],
   "source": [
    "px.histogram(sales_lr_results_1.resid)"
   ]
  },
  {
   "cell_type": "code",
   "execution_count": null,
   "id": "206758f9-96ee-43b6-9f63-19f9513ca3ba",
   "metadata": {},
   "outputs": [],
   "source": [
    "sms.omni_normtest(lr_results_1.resid)"
   ]
  },
  {
   "cell_type": "code",
   "execution_count": null,
   "id": "b7142b67-7cec-47ba-bd40-5f583710b0c3",
   "metadata": {},
   "outputs": [],
   "source": [
    "df_demographics = pd.read_sql(\n",
    "    \"select student_id, gender, college, level from \\\n",
    "curr_enrollment\", con = e)\n",
    "df_demographics"
   ]
  },
  {
   "cell_type": "code",
   "execution_count": null,
   "id": "cccf09a5-d23b-4731-ae25-383b3134f09c",
   "metadata": {},
   "outputs": [],
   "source": [
    "df_survey_results = pd.read_sql(\"select * from survey_results\", \n",
    "                                con = e)\n",
    "df_survey_results.query(\"score < 100\", inplace = True) \n",
    "# # Survey scores cannot\n",
    "# be above 100; thus, for very high fall scores, the average fall-spring\n",
    "# growth got constrained (as scores had less room to climb than did \n",
    "# lower scores). In order to prevent this phenomenon from influencing\n",
    "# our regression, I decided to filter higher fall scores (which were\n",
    "# more likely to result in spring scores of 100) out of our dataset.\n",
    "# There are undoubtedly better ways of handling this ceiling effect\n",
    "# for real-world applications, but this approach will suffice for\n",
    "# a simulated example like this one.\n",
    "\n",
    "\n",
    "df_survey_results"
   ]
  },
  {
   "cell_type": "code",
   "execution_count": null,
   "id": "7efc14e1-e4cc-47f3-891e-77c08f7d0bda",
   "metadata": {},
   "outputs": [],
   "source": [
    "px.histogram(df_survey_results, x = 'score')"
   ]
  },
  {
   "cell_type": "code",
   "execution_count": null,
   "id": "8502144f-c661-4a9a-ad2f-c3f3aad3b538",
   "metadata": {},
   "outputs": [],
   "source": [
    "df_results_and_demographics = df_survey_results.merge(\n",
    "    df_demographics, on = 'student_id', how = 'inner')\n",
    "\n",
    "df_results_and_demographics"
   ]
  },
  {
   "cell_type": "markdown",
   "id": "c89f9bab-f5a9-4258-862f-b0466034f1df",
   "metadata": {},
   "source": [
    "Creating a pivot table for our regression:\n",
    "\n",
    "In order to determine the impact of college and level on students' fall and spring scores, we'll need to place those scores side by side. We can accomplish this by calling `df.pivot()` and passing 'season' to its `columns` argument."
   ]
  },
  {
   "cell_type": "code",
   "execution_count": null,
   "id": "54d9a1d9-a81c-4b9b-b32f-426d5bfda298",
   "metadata": {},
   "outputs": [],
   "source": [
    "df_regression = df_results_and_demographics.pivot(\n",
    "    index = ['student_id', 'gender', 'college', 'level'],\n",
    "                        columns = 'season', \n",
    "                        values = 'score').reset_index().dropna()\n",
    "\n",
    "df_regression['const'] = 1 # This value will prove useful\n",
    "# within regression analyses that don't use Statsmodels' formula api \n",
    "# (which adds the constant on its own; \n",
    "# see https://www.statsmodels.org/stable/examples/notebooks/generated/formulas.html).\n",
    "# Statsmodels does have an \n",
    "# add_constant() function that can accomplish this step for us,\n",
    "# but it's even simpler to just add it within Pandas.\n",
    "df_regression"
   ]
  },
  {
   "cell_type": "code",
   "execution_count": null,
   "id": "dee85213-a0ca-4f57-8a63-9f475c809a36",
   "metadata": {},
   "outputs": [],
   "source": [
    "px.histogram(df_regression, x = ['Spring', 'Fall'], barmode = 'group')\n",
    "# This code was based on the histogram documentation at:\n",
    "# https://plotly.com/python/histograms/"
   ]
  },
  {
   "cell_type": "code",
   "execution_count": null,
   "id": "7c3365c4-e854-4644-989a-c4c7ceb3c62f",
   "metadata": {},
   "outputs": [],
   "source": [
    "fig_fall_spring_comparison = px.scatter(\n",
    "    df_regression, x = 'Fall', y = 'Spring',\n",
    "title = 'Spring scores as a function of Fall scores')\n",
    "fig_fall_spring_comparison"
   ]
  },
  {
   "cell_type": "markdown",
   "id": "bcb36ff1-bcff-439c-af16-c101c562902f",
   "metadata": {},
   "source": [
    "The following cell defines a function that, given a list of index values, can create a pivot table showing changes in fall/spring scores for each combination of those values. It is designed to work specifically with `df_regression` but could be modified to accommodate other DataFrames as well."
   ]
  },
  {
   "cell_type": "code",
   "execution_count": null,
   "id": "8d28925d-6ef7-4ef3-9f7c-399134cea00a",
   "metadata": {},
   "outputs": [],
   "source": [
    "def change_pivot(index_list):\n",
    "    '''This function compares fall and spring scores within df_regression\n",
    "    for the index values specified in index_list.'''\n",
    "    df_change = df_regression.pivot_table(\n",
    "    index = index_list, values = ['Fall', 'Spring'], \n",
    "                          aggfunc = 'mean').reset_index()\n",
    "    df_change['Fall to Spring Change'] = (\n",
    "    df_change['Spring'] - \n",
    "    df_change['Fall'])\n",
    "    df_change.sort_values('Fall to Spring Change', ascending = False,\n",
    "                         inplace = True)\n",
    "    return df_change"
   ]
  },
  {
   "cell_type": "code",
   "execution_count": null,
   "id": "487cf2ce-0ec2-47d6-afbf-8ac356f90fbd",
   "metadata": {},
   "outputs": [],
   "source": [
    "df_change_by_college = change_pivot(['gender'])\n",
    "df_change_by_college"
   ]
  },
  {
   "cell_type": "code",
   "execution_count": null,
   "id": "85943fc3-7169-4f5d-a66f-2a936dee8f6a",
   "metadata": {},
   "outputs": [],
   "source": [
    "df_change_by_college = change_pivot(['college'])\n",
    "df_change_by_college"
   ]
  },
  {
   "cell_type": "code",
   "execution_count": null,
   "id": "057b8aaf-3b4c-4316-8159-6794c0885dda",
   "metadata": {},
   "outputs": [],
   "source": [
    "df_change_by_level = change_pivot(\n",
    "    index_list = ['level'])\n",
    "df_change_by_level"
   ]
  },
  {
   "cell_type": "code",
   "execution_count": null,
   "id": "a23cb9a1-8f71-478a-ab67-2e8c85ffe321",
   "metadata": {},
   "outputs": [],
   "source": [
    "df_change_by_college_and_level = change_pivot(\n",
    "    index_list = ['college', 'level'])\n",
    "df_change_by_college_and_level"
   ]
  },
  {
   "cell_type": "code",
   "execution_count": null,
   "id": "77b61c6d-9d80-479a-a4d1-6cc03c452633",
   "metadata": {},
   "outputs": [],
   "source": [
    "px.bar(df_change_by_college_and_level, x = 'college',\n",
    "       y = 'Fall to Spring Change', color = 'level',\n",
    "      barmode = 'group',\n",
    "      title = 'Average Fall-to-Spring Score Changes by College and Level')"
   ]
  },
  {
   "cell_type": "markdown",
   "id": "656e7094-4ea7-4d1f-97e2-49a625c1b07f",
   "metadata": {
    "execution": {
     "iopub.execute_input": "2025-01-31T04:53:14.332465Z",
     "iopub.status.busy": "2025-01-31T04:53:14.331990Z",
     "iopub.status.idle": "2025-01-31T04:53:14.335454Z",
     "shell.execute_reply": "2025-01-31T04:53:14.335033Z",
     "shell.execute_reply.started": "2025-01-31T04:53:14.332447Z"
    }
   },
   "source": [
    "### Creating a linear regression using a formula approach:\n",
    "\n",
    "(The documentation at https://www.statsmodels.org/stable/examples/notebooks/generated/formulas.html proved very helpful in writing this section.)"
   ]
  },
  {
   "cell_type": "code",
   "execution_count": null,
   "id": "aed118ce-1840-4ba7-b7c3-14f67e2641a6",
   "metadata": {},
   "outputs": [],
   "source": [
    "lr_model_1 = smf.ols(formula = \"Spring ~ Fall + gender\", \n",
    "                   data = df_regression) \n",
    "lr_results_1 = lr_model_1.fit()\n",
    "lr_results_1.summary()"
   ]
  },
  {
   "cell_type": "code",
   "execution_count": null,
   "id": "3bbc60f2-52e2-473e-9071-372d26ea538f",
   "metadata": {},
   "outputs": [],
   "source": [
    "lr_model_2 = smf.ols(formula = \"Spring ~ Fall\", \n",
    "                   data = df_regression) \n",
    "lr_results_2 = lr_model_2.fit()\n",
    "lr_results_2.summary()"
   ]
  },
  {
   "cell_type": "code",
   "execution_count": null,
   "id": "5e96dc79-e3b1-406b-9975-e2130261966b",
   "metadata": {},
   "outputs": [],
   "source": [
    "lr_model_3 = smf.ols(formula = \"Spring ~ Fall + level\", \n",
    "                   data = df_regression) \n",
    "lr_results_3 = lr_model_3.fit()\n",
    "lr_results_3.summary()"
   ]
  },
  {
   "cell_type": "code",
   "execution_count": null,
   "id": "71f59eca-df39-41d0-9532-504450205eba",
   "metadata": {},
   "outputs": [],
   "source": [
    "lr_model_4 = smf.ols(formula = \"Spring ~ Fall + college\", \n",
    "                   data = df_regression) \n",
    "lr_results_4 = lr_model_4.fit()\n",
    "lr_results_4.summary()"
   ]
  },
  {
   "cell_type": "code",
   "execution_count": null,
   "id": "9d2cdf5c-063b-402e-bba8-4fc08137bfac",
   "metadata": {},
   "outputs": [],
   "source": [
    "lr_model_5 = smf.ols(formula = \"Spring ~ Fall + college + level\", \n",
    "                   data = df_regression) \n",
    "lr_results_5 = lr_model_5.fit()\n",
    "params = lr_results_5.params # We'll use these in an upcoming demonstration\n",
    "lr_results_5.summary()\n"
   ]
  },
  {
   "cell_type": "code",
   "execution_count": null,
   "id": "c2b42c5b-5cff-4b3b-8175-ddfdb27090f4",
   "metadata": {},
   "outputs": [],
   "source": [
    "params"
   ]
  },
  {
   "cell_type": "markdown",
   "id": "915d978c-3bf3-46bd-b8bd-9339ba8bc391",
   "metadata": {},
   "source": [
    "Predicting a spring survey score for a STM freshman with a fall score of 57:"
   ]
  },
  {
   "cell_type": "code",
   "execution_count": null,
   "id": "610a1134-9ce7-4911-a8f1-98c458c0609e",
   "metadata": {},
   "outputs": [],
   "source": [
    "(57 * params['Fall'] \n",
    " + params[\"college[T.STM]\"] \n",
    " + params['Intercept'])"
   ]
  },
  {
   "cell_type": "code",
   "execution_count": null,
   "id": "20bc5ced-db3d-4ea6-8780-481b736b92d4",
   "metadata": {},
   "outputs": [],
   "source": [
    "df_regression_pred_vs_actual = df_regression.copy().drop([\n",
    "    'student_id', 'gender'], axis = 1)\n",
    "df_regression_pred_vs_actual['Pred_Spring'] = lr_results_5.predict(\n",
    "    df_regression_pred_vs_actual[['Fall', 'college', 'level']])\n",
    "df_regression_pred_vs_actual['Actual-Pred'] = (\n",
    "    df_regression_pred_vs_actual['Spring'] - \n",
    "    df_regression_pred_vs_actual['Pred_Spring'])\n",
    "df_regression_pred_vs_actual"
   ]
  },
  {
   "cell_type": "code",
   "execution_count": null,
   "id": "775dd009-b5da-4914-ae1b-60eff72d4bb4",
   "metadata": {},
   "outputs": [],
   "source": [
    "lr_results_5.resid"
   ]
  },
  {
   "cell_type": "code",
   "execution_count": null,
   "id": "e82009fc-bb5c-4e7b-90cb-c6d45e71fdc4",
   "metadata": {},
   "outputs": [],
   "source": [
    "sms.omni_normtest(lr_results_1.resid)"
   ]
  },
  {
   "cell_type": "code",
   "execution_count": null,
   "id": "92f83343-ed0f-4398-ad05-1cc61b7795f7",
   "metadata": {},
   "outputs": [],
   "source": [
    "px.histogram(df_regression_pred_vs_actual, \n",
    "             x = 'Actual-Pred')"
   ]
  },
  {
   "cell_type": "code",
   "execution_count": null,
   "id": "5d1aa371-cc84-4ede-92fc-4b75f1639723",
   "metadata": {},
   "outputs": [],
   "source": [
    "df_regression_stm_fr = df_regression_pred_vs_actual.query(\n",
    "    \"college == 'STM' & level == 'Fr'\").copy()\n",
    "df_regression_stm_fr['Manual_Pred'] = (\n",
    "    df_regression_stm_fr['Fall'] * params['Fall'] \n",
    " + params[\"college[T.STM]\"] \n",
    " + params['Intercept'])\n",
    "df_regression_stm_fr"
   ]
  },
  {
   "cell_type": "code",
   "execution_count": null,
   "id": "8fdeff2e-8332-45f0-ba58-91d2fbc4e28a",
   "metadata": {},
   "outputs": [],
   "source": [
    "px.scatter(df_regression_pred_vs_actual, x = 'Spring', y = 'Actual-Pred')"
   ]
  },
  {
   "cell_type": "code",
   "execution_count": null,
   "id": "f5716193-c999-4b64-8a9f-ca4236f74eb5",
   "metadata": {},
   "outputs": [],
   "source": [
    "px.scatter(df_regression_pred_vs_actual, x = 'Pred_Spring', y = 'Spring')"
   ]
  },
  {
   "cell_type": "markdown",
   "id": "b080659b-cc93-4f11-8a19-5fb1efca7084",
   "metadata": {},
   "source": [
    "Using the non-formula OLS approach:\n",
    "\n",
    "(This code was based on the documentation found at https://www.statsmodels.org/dev/generated/statsmodels.regression.linear_model.OLS.html .)"
   ]
  },
  {
   "cell_type": "code",
   "execution_count": null,
   "id": "0828fe25-0fcc-4851-b33f-62cbeda7dd07",
   "metadata": {},
   "outputs": [],
   "source": [
    "df_regression['Score_Up'] = np.where(\n",
    "    df_regression['Spring'] > df_regression['Fall'], 1, 0)\n",
    "df_regression"
   ]
  },
  {
   "cell_type": "code",
   "execution_count": null,
   "id": "82f7a0a5-ef8d-4a39-b1f5-91c50b694ab0",
   "metadata": {},
   "outputs": [],
   "source": [
    "df_regression['Score_Up'].value_counts()"
   ]
  },
  {
   "cell_type": "code",
   "execution_count": null,
   "id": "939e9a55-351d-4cfb-b2de-81e898c99259",
   "metadata": {},
   "outputs": [],
   "source": [
    "lg_model_5 = smf.logit(\n",
    "    formula = \"Score_Up ~ Fall + college + level\", data = df_regression) \n",
    "lg_results_5 = lg_model_5.fit()\n",
    "params = lg_results_5.params # We'll use these in an upcoming demonstration\n",
    "lg_results_5.summary()\n"
   ]
  },
  {
   "cell_type": "markdown",
   "id": "dcb3e6ea-fb6f-4d43-9431-1901d1a4d9a6",
   "metadata": {},
   "source": [
    "## Importing data"
   ]
  },
  {
   "cell_type": "code",
   "execution_count": null,
   "id": "983efc9a-06af-4d79-8cdc-350d74ee830d",
   "metadata": {},
   "outputs": [],
   "source": [
    "df_chvir = pd.read_csv(\n",
    "    '../Census_Data_Imports/Datasets/home_val_income_data_county.csv')\n",
    "# 'chvir' stands for 'state home values, incomes, and regions'--the \n",
    "# main data points provided for each county in the DataFrame.\n",
    "# Simplifying our dataset by (1) condensing unwieldy column names and (2)\n",
    "# removing extraneous fields:\n",
    "df_chvir.rename(columns = {\n",
    "    'Median Household Income in the Past 12 Months (in 2023 \\\n",
    "Inflation-Adjusted Dollars)_Estimate!!Median household income in the \\\n",
    "past 12 months (in 2023 inflation-adjusted dollars) \\\n",
    "(B19013_001E)':'Median_Income',\n",
    "'Median Value (Dollars)_Estimate!!Median value \\\n",
    "(dollars) (B25077_001E)':'Median_Home_Value',\n",
    "'Sex by Age_Estimate!!Total: (B01001_001E)':'Population'}, inplace = True)\n",
    "\n",
    "df_chvir.drop(['Year', 'state', 'county'], axis = 1, inplace = True)\n",
    "# Limiting our output to counties in one of the 50 US states (plus DC):\n",
    "df_chvir.query(\"State_Abbrev != 'PR'\", inplace = True)\n",
    "df_chvir['Median_Income_Squared'] = df_chvir['Median_Income']**2\n",
    "df_chvir"
   ]
  },
  {
   "cell_type": "markdown",
   "id": "471f84d1-7617-46a4-9950-f0f7c0aaca3c",
   "metadata": {},
   "source": [
    "### Cleaning our dataset\n",
    "\n",
    "Let's take a look at the average median incomes and home values within our dataset:"
   ]
  },
  {
   "cell_type": "code",
   "execution_count": null,
   "id": "a7e750c1-58ee-42c3-8209-91547a50b65d",
   "metadata": {},
   "outputs": [],
   "source": [
    "df_chvir['Median_Income'].mean(), df_chvir['Median_Home_Value'].mean()"
   ]
  },
  {
   "cell_type": "markdown",
   "id": "ee83bf7d-4e72-4586-83b9-c0eb12df9da9",
   "metadata": {},
   "source": [
    "Well, these numbers don't seem right at all! What's going on with the data?\n",
    "\n",
    "The issue here is that the number -666,666,666 is getting used as a code for missing home value and income statistics. The presence of this giant negative number within our dataset is dramatically skewing our average calculations."
   ]
  },
  {
   "cell_type": "markdown",
   "id": "1f5e8abe-3050-4b73-acec-550ada455e2b",
   "metadata": {},
   "source": [
    "I identified this number by calling .min() on the dataset's home value and income columns:"
   ]
  },
  {
   "cell_type": "code",
   "execution_count": null,
   "id": "6fa8857a-66ca-4700-9431-9831169a23f5",
   "metadata": {},
   "outputs": [],
   "source": [
    "df_chvir['Median_Home_Value'].min()"
   ]
  },
  {
   "cell_type": "code",
   "execution_count": null,
   "id": "ad7320ce-a403-497b-bc9c-9c18ec0cd647",
   "metadata": {},
   "outputs": [],
   "source": [
    "df_chvir['Median_Income'].min()"
   ]
  },
  {
   "cell_type": "markdown",
   "id": "151e2fa0-1479-4122-a98b-7510af7493dc",
   "metadata": {},
   "source": [
    "I also looked for other unusually small values that might represent additional codes for invalid data, but I didn't find any:"
   ]
  },
  {
   "cell_type": "code",
   "execution_count": null,
   "id": "09e94fd0-09e0-48e0-8794-e095fbba407b",
   "metadata": {},
   "outputs": [],
   "source": [
    "df_chvir.sort_values('Median_Home_Value')['Median_Home_Value'].unique()"
   ]
  },
  {
   "cell_type": "code",
   "execution_count": null,
   "id": "b1ecbca4-341f-47f4-9815-ac3f9a49d693",
   "metadata": {},
   "outputs": [],
   "source": [
    "df_chvir.sort_values('Median_Income')['Median_Income'].unique()"
   ]
  },
  {
   "cell_type": "markdown",
   "id": "17fb72b2-e8b9-4164-a4bd-1afbf8411f84",
   "metadata": {},
   "source": [
    "I'll now remove these invalid entries from the dataset by filtering it to include only rows with *non-negative* median home values and median incomes. (I could have only filtered out rows with entries of -666666666, but that code would fail to work going forward if the Census Bureau happened to replace that number with a different one.)  "
   ]
  },
  {
   "cell_type": "code",
   "execution_count": null,
   "id": "a17d0c6c-e1b0-42a1-8a6a-c61220b3dc0d",
   "metadata": {},
   "outputs": [],
   "source": [
    "df_chvir.query(\"Median_Home_Value >= 0 & Median_Income >= 0\", inplace = True)\n",
    "df_chvir.head()"
   ]
  },
  {
   "cell_type": "code",
   "execution_count": null,
   "id": "0d86f5d8-5ecb-4da9-ad37-f5d6e4c48b65",
   "metadata": {},
   "outputs": [],
   "source": [
    "px.scatter(df_chvir, x = 'Median_Income', y = 'Median_Home_Value',\n",
    "    color = 'Region', hover_data = 'NAME')"
   ]
  },
  {
   "cell_type": "code",
   "execution_count": null,
   "id": "12bdc21c-ff29-40fe-91e6-1c80f87fa566",
   "metadata": {},
   "outputs": [],
   "source": [
    "df_chvir.query(\"Population > 50000\", inplace = True)"
   ]
  },
  {
   "cell_type": "code",
   "execution_count": null,
   "id": "781c2503-518a-4a08-9a36-d5cf5185ebcb",
   "metadata": {},
   "outputs": [],
   "source": [
    "chvir_lr_1 = smf.ols(formula = \"Median_Home_Value ~ Median_Income + \\\n",
    "Median_Income_Squared\", \n",
    "                   data = df_chvir) \n",
    "chvir_lr_results_1 = chvir_lr_1.fit()\n",
    "chvir_lr_results_1.summary()"
   ]
  },
  {
   "cell_type": "code",
   "execution_count": null,
   "id": "ada71295-d45b-428a-94e7-64cbc8070f80",
   "metadata": {},
   "outputs": [],
   "source": [
    "df_chvir_pred_vs_actual = df_chvir.copy().drop(\n",
    "    ['Population', 'State_Abbrev'], axis = 1)\n",
    "df_chvir_pred_vs_actual['Pred_Val'] = chvir_lr_results_1.predict(\n",
    "    df_chvir_pred_vs_actual[['Median_Income', 'Median_Income_Squared']])\n",
    "df_chvir_pred_vs_actual\n",
    "df_chvir_pred_vs_actual['Actual-Pred'] = (\n",
    "    df_chvir_pred_vs_actual['Median_Home_Value'] - \n",
    "    df_chvir_pred_vs_actual['Pred_Val'])\n",
    "df_chvir_pred_vs_actual.sort_values('Actual-Pred')"
   ]
  },
  {
   "cell_type": "code",
   "execution_count": null,
   "id": "c419fab5-57f5-45c3-86a4-dd9e662551cd",
   "metadata": {},
   "outputs": [],
   "source": [
    "px.scatter(df_chvir_pred_vs_actual, x = 'Pred_Val', \n",
    "           y = 'Median_Home_Value', color = 'Region',\n",
    "          hover_data = 'NAME')"
   ]
  },
  {
   "cell_type": "code",
   "execution_count": null,
   "id": "7b9bf352-fdff-4ecf-924d-bd410969a547",
   "metadata": {},
   "outputs": [],
   "source": [
    "df_chvir_pred_vs_actual.sort_values('Actual-Pred').head(8)"
   ]
  },
  {
   "cell_type": "code",
   "execution_count": null,
   "id": "5be40ff6-60f0-4795-a814-6d1840e18659",
   "metadata": {},
   "outputs": [],
   "source": [
    "df_chvir_pred_vs_actual.sort_values(\n",
    "    'Actual-Pred', ascending = False).head(8)"
   ]
  },
  {
   "cell_type": "code",
   "execution_count": null,
   "id": "145dd74c-0edf-4d1c-b615-2bf5cb7a6b45",
   "metadata": {},
   "outputs": [],
   "source": [
    "px.histogram(x = chvir_lr_results_1.resid)"
   ]
  },
  {
   "cell_type": "code",
   "execution_count": null,
   "id": "4029a257-fc60-4d10-8f13-e8d7fad1e60e",
   "metadata": {},
   "outputs": [],
   "source": [
    "chvir_lr_2 = smf.ols(formula = \"Median_Home_Value ~ Median_Income + \\\n",
    "Median_Income_Squared + Region\", \n",
    "                   data = df_chvir) \n",
    "chvir_lr_results_2 = chvir_lr_2.fit()\n",
    "chvir_lr_results_2.summary()"
   ]
  },
  {
   "cell_type": "code",
   "execution_count": null,
   "id": "c247b97e-56e2-4e8d-a305-616c8b6908ad",
   "metadata": {},
   "outputs": [],
   "source": [
    "px.histogram(x = chvir_lr_results_2.resid)"
   ]
  },
  {
   "cell_type": "code",
   "execution_count": null,
   "id": "94e46e24-108e-4b21-8360-22086cdda5e1",
   "metadata": {},
   "outputs": [],
   "source": [
    "sms.omni_normtest(chvir_lr_results_2.resid)"
   ]
  },
  {
   "cell_type": "markdown",
   "id": "be45cff2-ed26-4798-86ea-bfa65b2e614a",
   "metadata": {},
   "source": [
    "## Performing state-level regressions:"
   ]
  },
  {
   "cell_type": "code",
   "execution_count": null,
   "id": "ce6c11f8-4072-408f-ae03-712b8bda888e",
   "metadata": {},
   "outputs": [],
   "source": [
    "df_shvir = pd.read_csv(\n",
    "    '../Census_Data_Imports/Datasets/home_val_income_data_state.csv')\n",
    "# 'shvir' stands for 'state home values, incomes, and regions'--the \n",
    "# main data points provided for each county in the DataFrame.\n",
    "# Simplifying our dataset by (1) condensing unwieldy column names and (2)\n",
    "# removing extraneous fields:\n",
    "df_shvir.rename(columns = {\n",
    "    'Median Household Income in the Past 12 Months (in 2023 \\\n",
    "Inflation-Adjusted Dollars)_Estimate!!Median household income in the \\\n",
    "past 12 months (in 2023 inflation-adjusted dollars) \\\n",
    "(B19013_001E)':'Median_Income',\n",
    "'Median Value (Dollars)_Estimate!!Median value \\\n",
    "(dollars) (B25077_001E)':'Median_Home_Value',\n",
    "'Sex by Age_Estimate!!Total: (B01001_001E)':'Population'}, inplace = True)\n",
    "df_shvir.query(\"State_Abbrev != 'PR'\", inplace = True)\n",
    "df_shvir.drop(['Year', 'state', 'State_Abbrev'], axis = 1, inplace = True)\n",
    "# Limiting our output to counties in one of the 50 US states (plus DC):\n",
    "\n",
    "df_shvir"
   ]
  },
  {
   "cell_type": "code",
   "execution_count": null,
   "id": "5a6c4d6b-4bc5-4100-8886-736febb13539",
   "metadata": {},
   "outputs": [],
   "source": [
    "df_shvir['Median_Income_Squared'] = df_shvir['Median_Income']**2\n",
    "df_shvir"
   ]
  },
  {
   "cell_type": "markdown",
   "id": "1e4ba56c-f532-4361-a55b-d69dd2a0f93a",
   "metadata": {},
   "source": [
    "## Performing a linear regression:"
   ]
  },
  {
   "cell_type": "code",
   "execution_count": null,
   "id": "de2daa75-faa8-4288-a7ac-92395222681a",
   "metadata": {},
   "outputs": [],
   "source": [
    "shvir_lr_1 = smf.ols(\n",
    "    formula = \"Median_Home_Value ~ Median_Income + Median_Income_Squared\", \n",
    "    data = df_shvir) \n",
    "shvir_lr_results_1 = shvir_lr_1.fit()\n",
    "shvir_lr_results_1.summary()"
   ]
  },
  {
   "cell_type": "code",
   "execution_count": null,
   "id": "ed3eb1b5-add5-425b-ab37-c3f163e6d56d",
   "metadata": {},
   "outputs": [],
   "source": [
    "df_shvir_pred_vs_actual = df_shvir.copy().drop([\n",
    "    'Population', 'Region'], axis = 1)\n",
    "df_shvir_pred_vs_actual['Pred_Val'] = shvir_lr_results_1.predict(\n",
    "    df_shvir_pred_vs_actual[['Median_Income', 'Median_Income_Squared']])\n",
    "df_shvir_pred_vs_actual\n",
    "df_shvir_pred_vs_actual['Actual-Pred'] = (\n",
    "    df_shvir_pred_vs_actual['Median_Home_Value'] - \n",
    "    df_shvir_pred_vs_actual['Pred_Val'])\n",
    "df_shvir_pred_vs_actual.sort_values('Actual-Pred').head(8)"
   ]
  },
  {
   "cell_type": "code",
   "execution_count": null,
   "id": "9bd5ca35-b7cd-4251-8a33-d414a0cf72ea",
   "metadata": {},
   "outputs": [],
   "source": [
    "px.scatter(df_shvir_pred_vs_actual, x = 'Pred_Val', y = 'Median_Home_Value')"
   ]
  },
  {
   "cell_type": "code",
   "execution_count": null,
   "id": "03378759-b069-4890-92bb-d8ca99bd79c9",
   "metadata": {},
   "outputs": [],
   "source": [
    "df_shvir_pred_vs_actual.sort_values(\n",
    "    'Actual-Pred', ascending = False).head(8)"
   ]
  },
  {
   "cell_type": "code",
   "execution_count": null,
   "id": "a88dcab0-dc64-4592-8b7f-4ff51a4edb1e",
   "metadata": {},
   "outputs": [],
   "source": [
    "shvir_lr_2 = smf.ols(\n",
    "    formula = \"Median_Home_Value ~ Median_Income + Median_Income_Squared + Region\", \n",
    "    data = df_shvir) \n",
    "shvir_lr_results_2 = shvir_lr_2.fit()\n",
    "shvir_lr_results_2.summary()"
   ]
  },
  {
   "cell_type": "code",
   "execution_count": null,
   "id": "61f91ce3-73c8-49ed-9105-cde0536cbf12",
   "metadata": {},
   "outputs": [],
   "source": [
    "px.scatter(df_shvir, x = 'Median_Income', y = 'Median_Home_Value',\n",
    "    color = 'Region', hover_data = 'NAME')"
   ]
  },
  {
   "cell_type": "code",
   "execution_count": null,
   "id": "f6a0395f-8fd1-4150-ae0d-3a3f896ee049",
   "metadata": {},
   "outputs": [],
   "source": [
    "sms.omni_normtest(shvir_lr_results_2.resid)"
   ]
  }
 ],
 "metadata": {
  "kernelspec": {
   "display_name": "Python 3 (ipykernel)",
   "language": "python",
   "name": "python3"
  },
  "language_info": {
   "codemirror_mode": {
    "name": "ipython",
    "version": 3
   },
   "file_extension": ".py",
   "mimetype": "text/x-python",
   "name": "python",
   "nbconvert_exporter": "python",
   "pygments_lexer": "ipython3",
   "version": "3.13.1"
  }
 },
 "nbformat": 4,
 "nbformat_minor": 5
}
