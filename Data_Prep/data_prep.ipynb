{
 "cells": [
  {
   "cell_type": "markdown",
   "id": "5d535b3f-3386-484f-a319-7b1d7ee7849f",
   "metadata": {},
   "source": [
    "# Data Prep\n",
    "\n",
    "By Kenneth Burchfiel\n",
    "\n",
    "Released under the MIT License\n",
    "\n",
    "Before a dataset can be analyzed and visualized within Python, it often needs to be reformatted and cleaned. In order to demonstrate how Python can easily perform these reformatting and cleaning tasks, this script will clean and reformat a set of NVCU winter student survey results; combine those results with fall and spring survey data; and merge in information from our current enrollment table.\n",
    "\n",
    "Our survey_results database file (which we'll import from PFN's Appendix folder) already contains student survey responses for the fall and spring. However, let's say that you've been asked to add a set of *winter* results to this dataset as well, then calculate a weighted average of fall, winter, and spring survey results for each student. \n",
    "\n",
    "If these results were in the same format as the fall and spring ones and had no missing data, this process would be very simple. Unfortunately, that's not the case with the winter results that we'll be processing within this script. These results feature:\n",
    "\n",
    "1. Column names that differ from those in the fall/spring results\n",
    "2. Different data formats\n",
    "3. A missing column\n",
    "4. Duplicate values\n",
    "5. Missing values for certain students\n",
    "\n",
    "In addition, to make matters even more complex, these winter results are spread out over 16 different files (one for each level within each college).\n",
    "\n",
    "It would be cumbersome and mind-numbing to modify each of these 16 datasets within Excel, Google Sheets, or a similar program so that they could be combined with our pre-existing fall and spring data. However, the Python code shown below will make this data cleaning process much easier. And once this script is in place, if you happened to get next year's winter results in the same format* as this year's, you'd be able to get them cleaned up and reformatted in no time.\n",
    "\n",
    "*\\*You may find in your work, however, that the results are in yet another format the following year, followed by a different format the year after that. Data-related tasks are always made easier when inputs stay the same, but in the real world, you'll often need to rework datasets in order to make them compatible with pre-existing processes.*"
   ]
  },
  {
   "cell_type": "code",
   "execution_count": 1,
   "id": "0f2a1087-0aa9-4b94-9f5d-b5b945ecc3b2",
   "metadata": {
    "execution": {
     "iopub.execute_input": "2025-03-18T02:47:15.123393Z",
     "iopub.status.busy": "2025-03-18T02:47:15.123272Z",
     "iopub.status.idle": "2025-03-18T02:47:15.363410Z",
     "shell.execute_reply": "2025-03-18T02:47:15.363053Z",
     "shell.execute_reply.started": "2025-03-18T02:47:15.123362Z"
    }
   },
   "outputs": [],
   "source": [
    "import sys\n",
    "sys.path.insert(1, '../Appendix')\n",
    "from helper_funcs import config_notebook\n",
    "display_type = config_notebook(display_max_columns = 7) \n",
    "\n",
    "import os\n",
    "import pandas as pd\n",
    "from sqlalchemy import create_engine"
   ]
  },
  {
   "cell_type": "markdown",
   "id": "7db20847-a070-4368-8e80-79a0e1a57904",
   "metadata": {},
   "source": [
    "Our first step in preparing our winter survey results will be to import the 16 files that comprise them into a DataFrame. We'll start this process by calling `os.listdir()` to create a list of all files within our winter_results folder:"
   ]
  },
  {
   "cell_type": "code",
   "execution_count": 2,
   "id": "258c249a-f33f-4553-9351-06a24dd15d8e",
   "metadata": {
    "execution": {
     "iopub.execute_input": "2025-03-18T02:47:15.363916Z",
     "iopub.status.busy": "2025-03-18T02:47:15.363730Z",
     "iopub.status.idle": "2025-03-18T02:47:15.367480Z",
     "shell.execute_reply": "2025-03-18T02:47:15.367232Z",
     "shell.execute_reply.started": "2025-03-18T02:47:15.363904Z"
    }
   },
   "outputs": [
    {
     "data": {
      "text/plain": [
       "['STM_Ju_results.csv',\n",
       " 'STB_Se_results.csv',\n",
       " 'STM_Se_results.csv',\n",
       " 'STC_So_results.csv',\n",
       " 'STB_Ju_results.csv']"
      ]
     },
     "execution_count": 2,
     "metadata": {},
     "output_type": "execute_result"
    }
   ],
   "source": [
    "file_list = os.listdir('winter_results')\n",
    "file_list[0:5]"
   ]
  },
  {
   "cell_type": "markdown",
   "id": "f2ddb7d6-fd66-4380-83b3-aee7371cf79f",
   "metadata": {},
   "source": [
    "Note that each file represents a single college/level pair. \n",
    "\n",
    "*(Note: as an American university, NVCU has four 'levels': freshmen, sophomore, junior, and senior. These four terms (which will often be truncated to 'Fr', 'So', 'Ju', and 'Se' within our datasets and tables) correspond to the first, second, third, and fourth years of enrollment at the university.*\n",
    "\n",
    "*'Year' is a more common term than 'level' to refer to these four names, but it could easily get confused with school year values in our datasets. Therefore, I'll normally use 'level' to represent these terms within PFN.*)"
   ]
  },
  {
   "cell_type": "markdown",
   "id": "acacc8b1-c88f-4452-b71b-81b9502bb7c9",
   "metadata": {},
   "source": [
    "Next, we'll use a for loop to (1) read each file within this list into a DataFrame, then (2) add those files to a list of DataFrames. We'll then apply `pd.concat()` to combine these file-specific DataFrames into a single DataFrame."
   ]
  },
  {
   "cell_type": "code",
   "execution_count": 3,
   "id": "9cda8100-de14-4f8c-b4c2-f08309799869",
   "metadata": {
    "execution": {
     "iopub.execute_input": "2025-03-18T02:47:15.368378Z",
     "iopub.status.busy": "2025-03-18T02:47:15.368233Z",
     "iopub.status.idle": "2025-03-18T02:47:15.387529Z",
     "shell.execute_reply": "2025-03-18T02:47:15.387288Z",
     "shell.execute_reply.started": "2025-03-18T02:47:15.368367Z"
    }
   },
   "outputs": [
    {
     "data": {
      "text/html": [
       "<div>\n",
       "<style scoped>\n",
       "    .dataframe tbody tr th:only-of-type {\n",
       "        vertical-align: middle;\n",
       "    }\n",
       "\n",
       "    .dataframe tbody tr th {\n",
       "        vertical-align: top;\n",
       "    }\n",
       "\n",
       "    .dataframe thead th {\n",
       "        text-align: right;\n",
       "    }\n",
       "</style>\n",
       "<table border=\"1\" class=\"dataframe\">\n",
       "  <thead>\n",
       "    <tr style=\"text-align: right;\">\n",
       "      <th></th>\n",
       "      <th>MATRIC#</th>\n",
       "      <th>SEASON</th>\n",
       "      <th>SURVEY_SCORE</th>\n",
       "      <th>STARTINGYR</th>\n",
       "      <th>MATRICYR</th>\n",
       "    </tr>\n",
       "  </thead>\n",
       "  <tbody>\n",
       "    <tr>\n",
       "      <th>0</th>\n",
       "      <td>3640</td>\n",
       "      <td>W</td>\n",
       "      <td>74.0%</td>\n",
       "      <td>23</td>\n",
       "      <td>21</td>\n",
       "    </tr>\n",
       "    <tr>\n",
       "      <th>1</th>\n",
       "      <td>945</td>\n",
       "      <td>W</td>\n",
       "      <td>67.0%</td>\n",
       "      <td>23</td>\n",
       "      <td>21</td>\n",
       "    </tr>\n",
       "    <tr>\n",
       "      <th>2</th>\n",
       "      <td>1621</td>\n",
       "      <td>W</td>\n",
       "      <td>73.0%</td>\n",
       "      <td>23</td>\n",
       "      <td>21</td>\n",
       "    </tr>\n",
       "    <tr>\n",
       "      <th>3</th>\n",
       "      <td>270</td>\n",
       "      <td>W</td>\n",
       "      <td>63.0%</td>\n",
       "      <td>23</td>\n",
       "      <td>21</td>\n",
       "    </tr>\n",
       "    <tr>\n",
       "      <th>4</th>\n",
       "      <td>2231</td>\n",
       "      <td>W</td>\n",
       "      <td>51.0%</td>\n",
       "      <td>23</td>\n",
       "      <td>21</td>\n",
       "    </tr>\n",
       "  </tbody>\n",
       "</table>\n",
       "</div>"
      ],
      "text/plain": [
       "   MATRIC# SEASON SURVEY_SCORE  STARTINGYR  MATRICYR\n",
       "0     3640      W        74.0%          23        21\n",
       "1      945      W        67.0%          23        21\n",
       "2     1621      W        73.0%          23        21\n",
       "3      270      W        63.0%          23        21\n",
       "4     2231      W        51.0%          23        21"
      ]
     },
     "execution_count": 3,
     "metadata": {},
     "output_type": "execute_result"
    }
   ],
   "source": [
    "df_list = []\n",
    "for file in file_list:\n",
    "    df = pd.read_csv(f'winter_results/{file}')\n",
    "    df_list.append(df)\n",
    "\n",
    "# Combining these individual DataFrames into a single file:\n",
    "df_winter_results = pd.concat(\n",
    "    [df for df in df_list]) # df for df in df_list is a list comprehension\n",
    "# that contains all DataFrames in df_list.\n",
    "# Replacing the original indices with a new, unified index:\n",
    "df_winter_results.reset_index(drop=True, inplace=True)\n",
    "df_winter_results.head()"
   ]
  },
  {
   "cell_type": "markdown",
   "id": "3e35d724-6f11-42c8-b0b1-94d5b7afde53",
   "metadata": {},
   "source": [
    "The following cell shows a more concise means of creating the same DataFrame. Although this approach requires fewer lines of code, it's also less flexible (as the former method allows you to make individual updates to each DataFrame if needed)."
   ]
  },
  {
   "cell_type": "code",
   "execution_count": 4,
   "id": "5acb2cc3-e881-4749-b6ff-c520c29afaa1",
   "metadata": {
    "execution": {
     "iopub.execute_input": "2025-03-18T02:47:15.388014Z",
     "iopub.status.busy": "2025-03-18T02:47:15.387844Z",
     "iopub.status.idle": "2025-03-18T02:47:15.404464Z",
     "shell.execute_reply": "2025-03-18T02:47:15.404218Z",
     "shell.execute_reply.started": "2025-03-18T02:47:15.388003Z"
    }
   },
   "outputs": [
    {
     "data": {
      "text/html": [
       "<div>\n",
       "<style scoped>\n",
       "    .dataframe tbody tr th:only-of-type {\n",
       "        vertical-align: middle;\n",
       "    }\n",
       "\n",
       "    .dataframe tbody tr th {\n",
       "        vertical-align: top;\n",
       "    }\n",
       "\n",
       "    .dataframe thead th {\n",
       "        text-align: right;\n",
       "    }\n",
       "</style>\n",
       "<table border=\"1\" class=\"dataframe\">\n",
       "  <thead>\n",
       "    <tr style=\"text-align: right;\">\n",
       "      <th></th>\n",
       "      <th>MATRIC#</th>\n",
       "      <th>SEASON</th>\n",
       "      <th>SURVEY_SCORE</th>\n",
       "      <th>STARTINGYR</th>\n",
       "      <th>MATRICYR</th>\n",
       "    </tr>\n",
       "  </thead>\n",
       "  <tbody>\n",
       "    <tr>\n",
       "      <th>0</th>\n",
       "      <td>3640</td>\n",
       "      <td>W</td>\n",
       "      <td>74.0%</td>\n",
       "      <td>23</td>\n",
       "      <td>21</td>\n",
       "    </tr>\n",
       "    <tr>\n",
       "      <th>1</th>\n",
       "      <td>945</td>\n",
       "      <td>W</td>\n",
       "      <td>67.0%</td>\n",
       "      <td>23</td>\n",
       "      <td>21</td>\n",
       "    </tr>\n",
       "    <tr>\n",
       "      <th>2</th>\n",
       "      <td>1621</td>\n",
       "      <td>W</td>\n",
       "      <td>73.0%</td>\n",
       "      <td>23</td>\n",
       "      <td>21</td>\n",
       "    </tr>\n",
       "    <tr>\n",
       "      <th>3</th>\n",
       "      <td>270</td>\n",
       "      <td>W</td>\n",
       "      <td>63.0%</td>\n",
       "      <td>23</td>\n",
       "      <td>21</td>\n",
       "    </tr>\n",
       "    <tr>\n",
       "      <th>4</th>\n",
       "      <td>2231</td>\n",
       "      <td>W</td>\n",
       "      <td>51.0%</td>\n",
       "      <td>23</td>\n",
       "      <td>21</td>\n",
       "    </tr>\n",
       "  </tbody>\n",
       "</table>\n",
       "</div>"
      ],
      "text/plain": [
       "   MATRIC# SEASON SURVEY_SCORE  STARTINGYR  MATRICYR\n",
       "0     3640      W        74.0%          23        21\n",
       "1      945      W        67.0%          23        21\n",
       "2     1621      W        73.0%          23        21\n",
       "3      270      W        63.0%          23        21\n",
       "4     2231      W        51.0%          23        21"
      ]
     },
     "execution_count": 4,
     "metadata": {},
     "output_type": "execute_result"
    }
   ],
   "source": [
    "df_winter_results = pd.concat(\n",
    "    [pd.read_csv(f'winter_results/{file}') \n",
    "     for file in os.listdir('winter_results')]).reset_index(drop=True)\n",
    "df_winter_results.head()"
   ]
  },
  {
   "cell_type": "markdown",
   "id": "88732b2a-04ee-4b09-9904-4be680900917",
   "metadata": {},
   "source": [
    "## Reformatting and cleaning our winter results dataset\n",
    "\n",
    "Our next step is to combine these winter survey results with the fall and spring results in our NVCU database. Here's what those results look like:"
   ]
  },
  {
   "cell_type": "code",
   "execution_count": 5,
   "id": "d9554716-2814-4bbe-b9a4-de2bb43cacc6",
   "metadata": {
    "execution": {
     "iopub.execute_input": "2025-03-18T02:47:15.405041Z",
     "iopub.status.busy": "2025-03-18T02:47:15.404816Z",
     "iopub.status.idle": "2025-03-18T02:47:15.492106Z",
     "shell.execute_reply": "2025-03-18T02:47:15.491875Z",
     "shell.execute_reply.started": "2025-03-18T02:47:15.405031Z"
    }
   },
   "outputs": [
    {
     "data": {
      "text/html": [
       "<div>\n",
       "<style scoped>\n",
       "    .dataframe tbody tr th:only-of-type {\n",
       "        vertical-align: middle;\n",
       "    }\n",
       "\n",
       "    .dataframe tbody tr th {\n",
       "        vertical-align: top;\n",
       "    }\n",
       "\n",
       "    .dataframe thead th {\n",
       "        text-align: right;\n",
       "    }\n",
       "</style>\n",
       "<table border=\"1\" class=\"dataframe\">\n",
       "  <thead>\n",
       "    <tr style=\"text-align: right;\">\n",
       "      <th></th>\n",
       "      <th>student_id</th>\n",
       "      <th>starting_year</th>\n",
       "      <th>season</th>\n",
       "      <th>score</th>\n",
       "    </tr>\n",
       "  </thead>\n",
       "  <tbody>\n",
       "    <tr>\n",
       "      <th>0</th>\n",
       "      <td>2020-1</td>\n",
       "      <td>2023</td>\n",
       "      <td>Fall</td>\n",
       "      <td>88</td>\n",
       "    </tr>\n",
       "    <tr>\n",
       "      <th>1</th>\n",
       "      <td>2020-2</td>\n",
       "      <td>2023</td>\n",
       "      <td>Fall</td>\n",
       "      <td>37</td>\n",
       "    </tr>\n",
       "    <tr>\n",
       "      <th>2</th>\n",
       "      <td>2020-3</td>\n",
       "      <td>2023</td>\n",
       "      <td>Fall</td>\n",
       "      <td>54</td>\n",
       "    </tr>\n",
       "    <tr>\n",
       "      <th>3</th>\n",
       "      <td>2020-4</td>\n",
       "      <td>2023</td>\n",
       "      <td>Fall</td>\n",
       "      <td>56</td>\n",
       "    </tr>\n",
       "    <tr>\n",
       "      <th>4</th>\n",
       "      <td>2020-5</td>\n",
       "      <td>2023</td>\n",
       "      <td>Fall</td>\n",
       "      <td>77</td>\n",
       "    </tr>\n",
       "  </tbody>\n",
       "</table>\n",
       "</div>"
      ],
      "text/plain": [
       "  student_id  starting_year season  score\n",
       "0     2020-1           2023   Fall     88\n",
       "1     2020-2           2023   Fall     37\n",
       "2     2020-3           2023   Fall     54\n",
       "3     2020-4           2023   Fall     56\n",
       "4     2020-5           2023   Fall     77"
      ]
     },
     "execution_count": 5,
     "metadata": {},
     "output_type": "execute_result"
    }
   ],
   "source": [
    "# Connecting to our database:\n",
    "e = create_engine('sqlite:///../Appendix/nvcu_db.db')\n",
    "df_fall_spring_results = pd.read_sql(\n",
    "    \"Select * from survey_results\", con=e)\n",
    "df_fall_spring_results.head()"
   ]
  },
  {
   "cell_type": "markdown",
   "id": "512f7dce-ad54-4da4-bff2-0d8598dffdd3",
   "metadata": {},
   "source": [
    "If we naively tried to add our winter results to our fall/spring results, we'd end up with a very messy DataFrame with numerous blank (i.e. `NaN`) cells:"
   ]
  },
  {
   "cell_type": "code",
   "execution_count": 6,
   "id": "9f327daf-a091-462e-9314-94f2bab17989",
   "metadata": {
    "execution": {
     "iopub.execute_input": "2025-03-18T02:47:15.492578Z",
     "iopub.status.busy": "2025-03-18T02:47:15.492429Z",
     "iopub.status.idle": "2025-03-18T02:47:15.497061Z",
     "shell.execute_reply": "2025-03-18T02:47:15.496633Z",
     "shell.execute_reply.started": "2025-03-18T02:47:15.492568Z"
    }
   },
   "outputs": [],
   "source": [
    "df_messy_combo = pd.concat([df_fall_spring_results, \n",
    "           df_winter_results])"
   ]
  },
  {
   "cell_type": "markdown",
   "id": "72d82ee9-8702-4ee6-89d6-d393321dff8d",
   "metadata": {},
   "source": [
    "Compare the beginning of this DataFrame (which has fall/spring results) with the end (which has the new winter results we just imported):"
   ]
  },
  {
   "cell_type": "code",
   "execution_count": 7,
   "id": "19e810da-ea78-4ac2-b38c-b9daf80a2f37",
   "metadata": {
    "execution": {
     "iopub.execute_input": "2025-03-18T02:47:15.497592Z",
     "iopub.status.busy": "2025-03-18T02:47:15.497415Z",
     "iopub.status.idle": "2025-03-18T02:47:15.503847Z",
     "shell.execute_reply": "2025-03-18T02:47:15.503593Z",
     "shell.execute_reply.started": "2025-03-18T02:47:15.497582Z"
    }
   },
   "outputs": [
    {
     "data": {
      "text/html": [
       "<div>\n",
       "<style scoped>\n",
       "    .dataframe tbody tr th:only-of-type {\n",
       "        vertical-align: middle;\n",
       "    }\n",
       "\n",
       "    .dataframe tbody tr th {\n",
       "        vertical-align: top;\n",
       "    }\n",
       "\n",
       "    .dataframe thead th {\n",
       "        text-align: right;\n",
       "    }\n",
       "</style>\n",
       "<table border=\"1\" class=\"dataframe\">\n",
       "  <thead>\n",
       "    <tr style=\"text-align: right;\">\n",
       "      <th></th>\n",
       "      <th>student_id</th>\n",
       "      <th>starting_year</th>\n",
       "      <th>season</th>\n",
       "      <th>...</th>\n",
       "      <th>SURVEY_SCORE</th>\n",
       "      <th>STARTINGYR</th>\n",
       "      <th>MATRICYR</th>\n",
       "    </tr>\n",
       "  </thead>\n",
       "  <tbody>\n",
       "    <tr>\n",
       "      <th>0</th>\n",
       "      <td>2020-1</td>\n",
       "      <td>2023.0</td>\n",
       "      <td>Fall</td>\n",
       "      <td>...</td>\n",
       "      <td>NaN</td>\n",
       "      <td>NaN</td>\n",
       "      <td>NaN</td>\n",
       "    </tr>\n",
       "    <tr>\n",
       "      <th>1</th>\n",
       "      <td>2020-2</td>\n",
       "      <td>2023.0</td>\n",
       "      <td>Fall</td>\n",
       "      <td>...</td>\n",
       "      <td>NaN</td>\n",
       "      <td>NaN</td>\n",
       "      <td>NaN</td>\n",
       "    </tr>\n",
       "    <tr>\n",
       "      <th>2</th>\n",
       "      <td>2020-3</td>\n",
       "      <td>2023.0</td>\n",
       "      <td>Fall</td>\n",
       "      <td>...</td>\n",
       "      <td>NaN</td>\n",
       "      <td>NaN</td>\n",
       "      <td>NaN</td>\n",
       "    </tr>\n",
       "    <tr>\n",
       "      <th>3</th>\n",
       "      <td>2020-4</td>\n",
       "      <td>2023.0</td>\n",
       "      <td>Fall</td>\n",
       "      <td>...</td>\n",
       "      <td>NaN</td>\n",
       "      <td>NaN</td>\n",
       "      <td>NaN</td>\n",
       "    </tr>\n",
       "    <tr>\n",
       "      <th>4</th>\n",
       "      <td>2020-5</td>\n",
       "      <td>2023.0</td>\n",
       "      <td>Fall</td>\n",
       "      <td>...</td>\n",
       "      <td>NaN</td>\n",
       "      <td>NaN</td>\n",
       "      <td>NaN</td>\n",
       "    </tr>\n",
       "  </tbody>\n",
       "</table>\n",
       "<p>5 rows × 9 columns</p>\n",
       "</div>"
      ],
      "text/plain": [
       "  student_id  starting_year season  ...  SURVEY_SCORE  STARTINGYR MATRICYR\n",
       "0     2020-1         2023.0   Fall  ...           NaN         NaN      NaN\n",
       "1     2020-2         2023.0   Fall  ...           NaN         NaN      NaN\n",
       "2     2020-3         2023.0   Fall  ...           NaN         NaN      NaN\n",
       "3     2020-4         2023.0   Fall  ...           NaN         NaN      NaN\n",
       "4     2020-5         2023.0   Fall  ...           NaN         NaN      NaN\n",
       "\n",
       "[5 rows x 9 columns]"
      ]
     },
     "execution_count": 7,
     "metadata": {},
     "output_type": "execute_result"
    }
   ],
   "source": [
    "df_messy_combo.head()"
   ]
  },
  {
   "cell_type": "code",
   "execution_count": 8,
   "id": "c676d7f2-2cbf-49ac-b39b-162b58789e1b",
   "metadata": {
    "execution": {
     "iopub.execute_input": "2025-03-18T02:47:15.504295Z",
     "iopub.status.busy": "2025-03-18T02:47:15.504157Z",
     "iopub.status.idle": "2025-03-18T02:47:15.509969Z",
     "shell.execute_reply": "2025-03-18T02:47:15.509636Z",
     "shell.execute_reply.started": "2025-03-18T02:47:15.504285Z"
    }
   },
   "outputs": [
    {
     "data": {
      "text/html": [
       "<div>\n",
       "<style scoped>\n",
       "    .dataframe tbody tr th:only-of-type {\n",
       "        vertical-align: middle;\n",
       "    }\n",
       "\n",
       "    .dataframe tbody tr th {\n",
       "        vertical-align: top;\n",
       "    }\n",
       "\n",
       "    .dataframe thead th {\n",
       "        text-align: right;\n",
       "    }\n",
       "</style>\n",
       "<table border=\"1\" class=\"dataframe\">\n",
       "  <thead>\n",
       "    <tr style=\"text-align: right;\">\n",
       "      <th></th>\n",
       "      <th>student_id</th>\n",
       "      <th>starting_year</th>\n",
       "      <th>season</th>\n",
       "      <th>...</th>\n",
       "      <th>SURVEY_SCORE</th>\n",
       "      <th>STARTINGYR</th>\n",
       "      <th>MATRICYR</th>\n",
       "    </tr>\n",
       "  </thead>\n",
       "  <tbody>\n",
       "    <tr>\n",
       "      <th>14617</th>\n",
       "      <td>NaN</td>\n",
       "      <td>NaN</td>\n",
       "      <td>NaN</td>\n",
       "      <td>...</td>\n",
       "      <td>73.0%</td>\n",
       "      <td>23.0</td>\n",
       "      <td>23.0</td>\n",
       "    </tr>\n",
       "    <tr>\n",
       "      <th>14618</th>\n",
       "      <td>NaN</td>\n",
       "      <td>NaN</td>\n",
       "      <td>NaN</td>\n",
       "      <td>...</td>\n",
       "      <td>70.0%</td>\n",
       "      <td>23.0</td>\n",
       "      <td>23.0</td>\n",
       "    </tr>\n",
       "    <tr>\n",
       "      <th>14619</th>\n",
       "      <td>NaN</td>\n",
       "      <td>NaN</td>\n",
       "      <td>NaN</td>\n",
       "      <td>...</td>\n",
       "      <td>61.0%</td>\n",
       "      <td>23.0</td>\n",
       "      <td>23.0</td>\n",
       "    </tr>\n",
       "    <tr>\n",
       "      <th>14620</th>\n",
       "      <td>NaN</td>\n",
       "      <td>NaN</td>\n",
       "      <td>NaN</td>\n",
       "      <td>...</td>\n",
       "      <td>68.0%</td>\n",
       "      <td>23.0</td>\n",
       "      <td>23.0</td>\n",
       "    </tr>\n",
       "    <tr>\n",
       "      <th>14621</th>\n",
       "      <td>NaN</td>\n",
       "      <td>NaN</td>\n",
       "      <td>NaN</td>\n",
       "      <td>...</td>\n",
       "      <td>62.0%</td>\n",
       "      <td>23.0</td>\n",
       "      <td>23.0</td>\n",
       "    </tr>\n",
       "  </tbody>\n",
       "</table>\n",
       "<p>5 rows × 9 columns</p>\n",
       "</div>"
      ],
      "text/plain": [
       "      student_id  starting_year season  ...  SURVEY_SCORE  STARTINGYR MATRICYR\n",
       "14617        NaN            NaN    NaN  ...         73.0%        23.0     23.0\n",
       "14618        NaN            NaN    NaN  ...         70.0%        23.0     23.0\n",
       "14619        NaN            NaN    NaN  ...         61.0%        23.0     23.0\n",
       "14620        NaN            NaN    NaN  ...         68.0%        23.0     23.0\n",
       "14621        NaN            NaN    NaN  ...         62.0%        23.0     23.0\n",
       "\n",
       "[5 rows x 9 columns]"
      ]
     },
     "execution_count": 8,
     "metadata": {},
     "output_type": "execute_result"
    }
   ],
   "source": [
    "df_messy_combo.tail()"
   ]
  },
  {
   "cell_type": "markdown",
   "id": "1ac95354-ded7-4031-b6f0-5850051345b7",
   "metadata": {},
   "source": [
    "This unkempt output is caused by discrepancies in column names between the two tables. To rectify this issue, we'll need to rename our winter results fields to match their corresponding fields within the fall/spring table. Thankfully, Pandas makes this process very straightforward:"
   ]
  },
  {
   "cell_type": "code",
   "execution_count": 9,
   "id": "9e74374e-95e0-4f52-80bc-0c8148401fef",
   "metadata": {
    "execution": {
     "iopub.execute_input": "2025-03-18T02:47:15.510773Z",
     "iopub.status.busy": "2025-03-18T02:47:15.510445Z",
     "iopub.status.idle": "2025-03-18T02:47:15.515835Z",
     "shell.execute_reply": "2025-03-18T02:47:15.515495Z",
     "shell.execute_reply.started": "2025-03-18T02:47:15.510754Z"
    }
   },
   "outputs": [
    {
     "data": {
      "text/html": [
       "<div>\n",
       "<style scoped>\n",
       "    .dataframe tbody tr th:only-of-type {\n",
       "        vertical-align: middle;\n",
       "    }\n",
       "\n",
       "    .dataframe tbody tr th {\n",
       "        vertical-align: top;\n",
       "    }\n",
       "\n",
       "    .dataframe thead th {\n",
       "        text-align: right;\n",
       "    }\n",
       "</style>\n",
       "<table border=\"1\" class=\"dataframe\">\n",
       "  <thead>\n",
       "    <tr style=\"text-align: right;\">\n",
       "      <th></th>\n",
       "      <th>MATRIC#</th>\n",
       "      <th>season</th>\n",
       "      <th>score</th>\n",
       "      <th>starting_year</th>\n",
       "      <th>MATRICYR</th>\n",
       "    </tr>\n",
       "  </thead>\n",
       "  <tbody>\n",
       "    <tr>\n",
       "      <th>0</th>\n",
       "      <td>3640</td>\n",
       "      <td>W</td>\n",
       "      <td>74.0%</td>\n",
       "      <td>23</td>\n",
       "      <td>21</td>\n",
       "    </tr>\n",
       "    <tr>\n",
       "      <th>1</th>\n",
       "      <td>945</td>\n",
       "      <td>W</td>\n",
       "      <td>67.0%</td>\n",
       "      <td>23</td>\n",
       "      <td>21</td>\n",
       "    </tr>\n",
       "    <tr>\n",
       "      <th>2</th>\n",
       "      <td>1621</td>\n",
       "      <td>W</td>\n",
       "      <td>73.0%</td>\n",
       "      <td>23</td>\n",
       "      <td>21</td>\n",
       "    </tr>\n",
       "    <tr>\n",
       "      <th>3</th>\n",
       "      <td>270</td>\n",
       "      <td>W</td>\n",
       "      <td>63.0%</td>\n",
       "      <td>23</td>\n",
       "      <td>21</td>\n",
       "    </tr>\n",
       "    <tr>\n",
       "      <th>4</th>\n",
       "      <td>2231</td>\n",
       "      <td>W</td>\n",
       "      <td>51.0%</td>\n",
       "      <td>23</td>\n",
       "      <td>21</td>\n",
       "    </tr>\n",
       "  </tbody>\n",
       "</table>\n",
       "</div>"
      ],
      "text/plain": [
       "   MATRIC# season  score  starting_year  MATRICYR\n",
       "0     3640      W  74.0%             23        21\n",
       "1      945      W  67.0%             23        21\n",
       "2     1621      W  73.0%             23        21\n",
       "3      270      W  63.0%             23        21\n",
       "4     2231      W  51.0%             23        21"
      ]
     },
     "execution_count": 9,
     "metadata": {},
     "output_type": "execute_result"
    }
   ],
   "source": [
    "df_winter_results.rename(columns = {\n",
    "    'SEASON':'season','STARTINGYR':'starting_year',\n",
    "    'SURVEY_SCORE':'score'}, inplace=True)\n",
    "df_winter_results.head()"
   ]
  },
  {
   "cell_type": "markdown",
   "id": "c41b71e7-8794-4354-b7d5-7bfc2f927e53",
   "metadata": {},
   "source": [
    "We'll also need to convert our `MATRIC#` and `MATRICYR` fields into a single `student_id` field. (This student_id field simply combines students' matriculation years with their matriculation numbers; see nvcu_db_gen.ipynb within the Appendix for more details.) This can be done as follows:"
   ]
  },
  {
   "cell_type": "code",
   "execution_count": 10,
   "id": "839ebb55-14b0-47a0-a8c3-f212f4a00ba8",
   "metadata": {
    "execution": {
     "iopub.execute_input": "2025-03-18T02:47:15.516528Z",
     "iopub.status.busy": "2025-03-18T02:47:15.516349Z",
     "iopub.status.idle": "2025-03-18T02:47:15.527207Z",
     "shell.execute_reply": "2025-03-18T02:47:15.526951Z",
     "shell.execute_reply.started": "2025-03-18T02:47:15.516495Z"
    }
   },
   "outputs": [
    {
     "data": {
      "text/html": [
       "<div>\n",
       "<style scoped>\n",
       "    .dataframe tbody tr th:only-of-type {\n",
       "        vertical-align: middle;\n",
       "    }\n",
       "\n",
       "    .dataframe tbody tr th {\n",
       "        vertical-align: top;\n",
       "    }\n",
       "\n",
       "    .dataframe thead th {\n",
       "        text-align: right;\n",
       "    }\n",
       "</style>\n",
       "<table border=\"1\" class=\"dataframe\">\n",
       "  <thead>\n",
       "    <tr style=\"text-align: right;\">\n",
       "      <th></th>\n",
       "      <th>season</th>\n",
       "      <th>score</th>\n",
       "      <th>starting_year</th>\n",
       "      <th>student_id</th>\n",
       "    </tr>\n",
       "  </thead>\n",
       "  <tbody>\n",
       "    <tr>\n",
       "      <th>0</th>\n",
       "      <td>W</td>\n",
       "      <td>74.0%</td>\n",
       "      <td>23</td>\n",
       "      <td>2021-3640</td>\n",
       "    </tr>\n",
       "    <tr>\n",
       "      <th>1</th>\n",
       "      <td>W</td>\n",
       "      <td>67.0%</td>\n",
       "      <td>23</td>\n",
       "      <td>2021-945</td>\n",
       "    </tr>\n",
       "    <tr>\n",
       "      <th>2</th>\n",
       "      <td>W</td>\n",
       "      <td>73.0%</td>\n",
       "      <td>23</td>\n",
       "      <td>2021-1621</td>\n",
       "    </tr>\n",
       "    <tr>\n",
       "      <th>3</th>\n",
       "      <td>W</td>\n",
       "      <td>63.0%</td>\n",
       "      <td>23</td>\n",
       "      <td>2021-270</td>\n",
       "    </tr>\n",
       "    <tr>\n",
       "      <th>4</th>\n",
       "      <td>W</td>\n",
       "      <td>51.0%</td>\n",
       "      <td>23</td>\n",
       "      <td>2021-2231</td>\n",
       "    </tr>\n",
       "  </tbody>\n",
       "</table>\n",
       "</div>"
      ],
      "text/plain": [
       "  season  score  starting_year student_id\n",
       "0      W  74.0%             23  2021-3640\n",
       "1      W  67.0%             23   2021-945\n",
       "2      W  73.0%             23  2021-1621\n",
       "3      W  63.0%             23   2021-270\n",
       "4      W  51.0%             23  2021-2231"
      ]
     },
     "execution_count": 10,
     "metadata": {},
     "output_type": "execute_result"
    }
   ],
   "source": [
    "df_winter_results['MATRICYR'] += 2000 # Converts our MATRICYR\n",
    "# values from YY to YYYY format so that they'll match the format of the \n",
    "# matriculation year component of the student_id values within \n",
    "# df_fall_spring_results\n",
    "\n",
    "# Converting students' MATRICYR and MATRIC# values into student IDs (which\n",
    "# are based on these two values):\n",
    "# (Note that both columns must be converted to strings in order for\n",
    "# this code to work. If we just added the two integers together, we'd\n",
    "# get their sum--which isn't what we want in this case.)\n",
    "df_winter_results['student_id'] = (\n",
    "    df_winter_results['MATRICYR'].astype('str') \n",
    "    + '-' \n",
    "    + df_winter_results['MATRIC#'].astype('str'))\n",
    "\n",
    "# Now that we've used our MATRICYR and MATRIC# columns to create \n",
    "# our student IDs, we no longer need to retain them:\n",
    "df_winter_results.drop(\n",
    "    ['MATRICYR', 'MATRIC#'], \n",
    "    axis=1, inplace=True)\n",
    "df_winter_results.head()"
   ]
  },
  {
   "cell_type": "markdown",
   "id": "5dae9587-20b9-43c1-8f9d-69fa05c7b420",
   "metadata": {},
   "source": [
    "The columns in `df_winter_results` now match those within `df_fall_spring_results`. That's great! Let's try combining the two datasets to see if we're ready to calculate average survey scores for each season:"
   ]
  },
  {
   "cell_type": "code",
   "execution_count": 11,
   "id": "cf4f267e-6022-46cd-acab-08743fff186e",
   "metadata": {
    "execution": {
     "iopub.execute_input": "2025-03-18T02:47:15.527842Z",
     "iopub.status.busy": "2025-03-18T02:47:15.527672Z",
     "iopub.status.idle": "2025-03-18T02:47:15.533898Z",
     "shell.execute_reply": "2025-03-18T02:47:15.533569Z",
     "shell.execute_reply.started": "2025-03-18T02:47:15.527826Z"
    }
   },
   "outputs": [
    {
     "data": {
      "text/html": [
       "<div>\n",
       "<style scoped>\n",
       "    .dataframe tbody tr th:only-of-type {\n",
       "        vertical-align: middle;\n",
       "    }\n",
       "\n",
       "    .dataframe tbody tr th {\n",
       "        vertical-align: top;\n",
       "    }\n",
       "\n",
       "    .dataframe thead th {\n",
       "        text-align: right;\n",
       "    }\n",
       "</style>\n",
       "<table border=\"1\" class=\"dataframe\">\n",
       "  <thead>\n",
       "    <tr style=\"text-align: right;\">\n",
       "      <th></th>\n",
       "      <th>student_id</th>\n",
       "      <th>starting_year</th>\n",
       "      <th>season</th>\n",
       "      <th>score</th>\n",
       "    </tr>\n",
       "  </thead>\n",
       "  <tbody>\n",
       "    <tr>\n",
       "      <th>0</th>\n",
       "      <td>2020-1</td>\n",
       "      <td>2023</td>\n",
       "      <td>Fall</td>\n",
       "      <td>88</td>\n",
       "    </tr>\n",
       "    <tr>\n",
       "      <th>1</th>\n",
       "      <td>2020-2</td>\n",
       "      <td>2023</td>\n",
       "      <td>Fall</td>\n",
       "      <td>37</td>\n",
       "    </tr>\n",
       "    <tr>\n",
       "      <th>2</th>\n",
       "      <td>2020-3</td>\n",
       "      <td>2023</td>\n",
       "      <td>Fall</td>\n",
       "      <td>54</td>\n",
       "    </tr>\n",
       "    <tr>\n",
       "      <th>3</th>\n",
       "      <td>2020-4</td>\n",
       "      <td>2023</td>\n",
       "      <td>Fall</td>\n",
       "      <td>56</td>\n",
       "    </tr>\n",
       "    <tr>\n",
       "      <th>4</th>\n",
       "      <td>2020-5</td>\n",
       "      <td>2023</td>\n",
       "      <td>Fall</td>\n",
       "      <td>77</td>\n",
       "    </tr>\n",
       "  </tbody>\n",
       "</table>\n",
       "</div>"
      ],
      "text/plain": [
       "  student_id  starting_year season score\n",
       "0     2020-1           2023   Fall    88\n",
       "1     2020-2           2023   Fall    37\n",
       "2     2020-3           2023   Fall    54\n",
       "3     2020-4           2023   Fall    56\n",
       "4     2020-5           2023   Fall    77"
      ]
     },
     "execution_count": 11,
     "metadata": {},
     "output_type": "execute_result"
    }
   ],
   "source": [
    "df_results = pd.concat([df_fall_spring_results, \n",
    "           df_winter_results])\n",
    "df_results.head()"
   ]
  },
  {
   "cell_type": "markdown",
   "id": "06cf79a9-3f22-4be7-9435-b7e91dd89362",
   "metadata": {},
   "source": [
    "Note the differences between the previous and following outputs (which show fall and winter data, respectively):"
   ]
  },
  {
   "cell_type": "code",
   "execution_count": 12,
   "id": "f0e066ba-03d5-4d6c-b164-4218d1b0dea7",
   "metadata": {
    "execution": {
     "iopub.execute_input": "2025-03-18T02:47:15.535458Z",
     "iopub.status.busy": "2025-03-18T02:47:15.535305Z",
     "iopub.status.idle": "2025-03-18T02:47:15.539623Z",
     "shell.execute_reply": "2025-03-18T02:47:15.539306Z",
     "shell.execute_reply.started": "2025-03-18T02:47:15.535447Z"
    }
   },
   "outputs": [
    {
     "data": {
      "text/html": [
       "<div>\n",
       "<style scoped>\n",
       "    .dataframe tbody tr th:only-of-type {\n",
       "        vertical-align: middle;\n",
       "    }\n",
       "\n",
       "    .dataframe tbody tr th {\n",
       "        vertical-align: top;\n",
       "    }\n",
       "\n",
       "    .dataframe thead th {\n",
       "        text-align: right;\n",
       "    }\n",
       "</style>\n",
       "<table border=\"1\" class=\"dataframe\">\n",
       "  <thead>\n",
       "    <tr style=\"text-align: right;\">\n",
       "      <th></th>\n",
       "      <th>season</th>\n",
       "      <th>score</th>\n",
       "      <th>starting_year</th>\n",
       "      <th>student_id</th>\n",
       "    </tr>\n",
       "  </thead>\n",
       "  <tbody>\n",
       "    <tr>\n",
       "      <th>14617</th>\n",
       "      <td>W</td>\n",
       "      <td>73.0%</td>\n",
       "      <td>23</td>\n",
       "      <td>2023-4155</td>\n",
       "    </tr>\n",
       "    <tr>\n",
       "      <th>14618</th>\n",
       "      <td>W</td>\n",
       "      <td>70.0%</td>\n",
       "      <td>23</td>\n",
       "      <td>2023-4281</td>\n",
       "    </tr>\n",
       "    <tr>\n",
       "      <th>14619</th>\n",
       "      <td>W</td>\n",
       "      <td>61.0%</td>\n",
       "      <td>23</td>\n",
       "      <td>2023-3855</td>\n",
       "    </tr>\n",
       "    <tr>\n",
       "      <th>14620</th>\n",
       "      <td>W</td>\n",
       "      <td>68.0%</td>\n",
       "      <td>23</td>\n",
       "      <td>2023-3330</td>\n",
       "    </tr>\n",
       "    <tr>\n",
       "      <th>14621</th>\n",
       "      <td>W</td>\n",
       "      <td>62.0%</td>\n",
       "      <td>23</td>\n",
       "      <td>2023-4685</td>\n",
       "    </tr>\n",
       "  </tbody>\n",
       "</table>\n",
       "</div>"
      ],
      "text/plain": [
       "      season  score  starting_year student_id\n",
       "14617      W  73.0%             23  2023-4155\n",
       "14618      W  70.0%             23  2023-4281\n",
       "14619      W  61.0%             23  2023-3855\n",
       "14620      W  68.0%             23  2023-3330\n",
       "14621      W  62.0%             23  2023-4685"
      ]
     },
     "execution_count": 12,
     "metadata": {},
     "output_type": "execute_result"
    }
   ],
   "source": [
    "df_winter_results.tail()"
   ]
  },
  {
   "cell_type": "markdown",
   "id": "4525238d-0610-4a1e-beb0-b7ab47acf233",
   "metadata": {},
   "source": [
    "These excerpts show that, unfortunately, we're not quite ready to analyze this data just yet: there are several formatting differences that we'll need to address. \n",
    "\n",
    "For instance, the 'score' column within `df_fall_spring_results` uses an integer format, whereas these same numbers are formatted as strings within `df_winter_results`. This will produce errors when we attempt to perform numerical calculations on this field:"
   ]
  },
  {
   "cell_type": "code",
   "execution_count": 13,
   "id": "a39f3ebb-c579-4968-a3c1-0b647fcc0a08",
   "metadata": {
    "execution": {
     "iopub.execute_input": "2025-03-18T02:47:15.540247Z",
     "iopub.status.busy": "2025-03-18T02:47:15.540002Z",
     "iopub.status.idle": "2025-03-18T02:47:15.541918Z",
     "shell.execute_reply": "2025-03-18T02:47:15.541654Z",
     "shell.execute_reply.started": "2025-03-18T02:47:15.540229Z"
    }
   },
   "outputs": [],
   "source": [
    "# df_results['score'].mean() "
   ]
  },
  {
   "cell_type": "markdown",
   "id": "5dc3eb0f-ed6a-4040-8273-7454828c4665",
   "metadata": {},
   "source": [
    "This line was commented out because it would produce the following `TypeError`: \n",
    "\n",
    "`unsupported operand type(s) for +: 'int' and 'str'`"
   ]
  },
  {
   "cell_type": "markdown",
   "id": "d63355c5-dfb1-453c-bbf0-c4809ca8f1e7",
   "metadata": {},
   "source": [
    "The following cell resolves this issue by converting our string-formatted score values to integers:"
   ]
  },
  {
   "cell_type": "code",
   "execution_count": 14,
   "id": "7ac1ea8a-2de4-4dda-bda5-72c6f377c2f5",
   "metadata": {
    "execution": {
     "iopub.execute_input": "2025-03-18T02:47:15.542485Z",
     "iopub.status.busy": "2025-03-18T02:47:15.542257Z",
     "iopub.status.idle": "2025-03-18T02:47:15.551744Z",
     "shell.execute_reply": "2025-03-18T02:47:15.551404Z",
     "shell.execute_reply.started": "2025-03-18T02:47:15.542469Z"
    }
   },
   "outputs": [
    {
     "data": {
      "text/html": [
       "<div>\n",
       "<style scoped>\n",
       "    .dataframe tbody tr th:only-of-type {\n",
       "        vertical-align: middle;\n",
       "    }\n",
       "\n",
       "    .dataframe tbody tr th {\n",
       "        vertical-align: top;\n",
       "    }\n",
       "\n",
       "    .dataframe thead th {\n",
       "        text-align: right;\n",
       "    }\n",
       "</style>\n",
       "<table border=\"1\" class=\"dataframe\">\n",
       "  <thead>\n",
       "    <tr style=\"text-align: right;\">\n",
       "      <th></th>\n",
       "      <th>season</th>\n",
       "      <th>score</th>\n",
       "      <th>starting_year</th>\n",
       "      <th>student_id</th>\n",
       "    </tr>\n",
       "  </thead>\n",
       "  <tbody>\n",
       "    <tr>\n",
       "      <th>0</th>\n",
       "      <td>W</td>\n",
       "      <td>74</td>\n",
       "      <td>23</td>\n",
       "      <td>2021-3640</td>\n",
       "    </tr>\n",
       "    <tr>\n",
       "      <th>1</th>\n",
       "      <td>W</td>\n",
       "      <td>67</td>\n",
       "      <td>23</td>\n",
       "      <td>2021-945</td>\n",
       "    </tr>\n",
       "    <tr>\n",
       "      <th>2</th>\n",
       "      <td>W</td>\n",
       "      <td>73</td>\n",
       "      <td>23</td>\n",
       "      <td>2021-1621</td>\n",
       "    </tr>\n",
       "    <tr>\n",
       "      <th>3</th>\n",
       "      <td>W</td>\n",
       "      <td>63</td>\n",
       "      <td>23</td>\n",
       "      <td>2021-270</td>\n",
       "    </tr>\n",
       "    <tr>\n",
       "      <th>4</th>\n",
       "      <td>W</td>\n",
       "      <td>51</td>\n",
       "      <td>23</td>\n",
       "      <td>2021-2231</td>\n",
       "    </tr>\n",
       "  </tbody>\n",
       "</table>\n",
       "</div>"
      ],
      "text/plain": [
       "  season  score  starting_year student_id\n",
       "0      W     74             23  2021-3640\n",
       "1      W     67             23   2021-945\n",
       "2      W     73             23  2021-1621\n",
       "3      W     63             23   2021-270\n",
       "4      W     51             23  2021-2231"
      ]
     },
     "execution_count": 14,
     "metadata": {},
     "output_type": "execute_result"
    }
   ],
   "source": [
    "df_winter_results['score'] = df_winter_results[\n",
    "'score'].str.replace('.0%','').astype('int') # Chaining these \n",
    "# column-specific operations together helps reduce the number of\n",
    "# times we need to write the column name--which can help prevent\n",
    "# errors related to incorrect field names.\n",
    "df_winter_results.head()"
   ]
  },
  {
   "cell_type": "markdown",
   "id": "1236504d-e348-4c4e-acd7-01b28558a7ee",
   "metadata": {},
   "source": [
    "We'll also need to reformat our winter results' `season` and `starting_year` values so that they match the formats found in the fall/spring table. \n",
    "\n",
    "The following cell replaces the 'W' values within the 'season' column with 'Winter' so that they'll better match the 'Fall' and 'Spring' values in `df_fall_spring_results`:"
   ]
  },
  {
   "cell_type": "code",
   "execution_count": 15,
   "id": "ae3eae27-1d8f-40a2-a90d-ec199a456ae1",
   "metadata": {
    "execution": {
     "iopub.execute_input": "2025-03-18T02:47:15.552221Z",
     "iopub.status.busy": "2025-03-18T02:47:15.552098Z",
     "iopub.status.idle": "2025-03-18T02:47:15.557448Z",
     "shell.execute_reply": "2025-03-18T02:47:15.557133Z",
     "shell.execute_reply.started": "2025-03-18T02:47:15.552211Z"
    }
   },
   "outputs": [
    {
     "data": {
      "text/html": [
       "<div>\n",
       "<style scoped>\n",
       "    .dataframe tbody tr th:only-of-type {\n",
       "        vertical-align: middle;\n",
       "    }\n",
       "\n",
       "    .dataframe tbody tr th {\n",
       "        vertical-align: top;\n",
       "    }\n",
       "\n",
       "    .dataframe thead th {\n",
       "        text-align: right;\n",
       "    }\n",
       "</style>\n",
       "<table border=\"1\" class=\"dataframe\">\n",
       "  <thead>\n",
       "    <tr style=\"text-align: right;\">\n",
       "      <th></th>\n",
       "      <th>season</th>\n",
       "      <th>score</th>\n",
       "      <th>starting_year</th>\n",
       "      <th>student_id</th>\n",
       "    </tr>\n",
       "  </thead>\n",
       "  <tbody>\n",
       "    <tr>\n",
       "      <th>0</th>\n",
       "      <td>Winter</td>\n",
       "      <td>74</td>\n",
       "      <td>23</td>\n",
       "      <td>2021-3640</td>\n",
       "    </tr>\n",
       "    <tr>\n",
       "      <th>1</th>\n",
       "      <td>Winter</td>\n",
       "      <td>67</td>\n",
       "      <td>23</td>\n",
       "      <td>2021-945</td>\n",
       "    </tr>\n",
       "    <tr>\n",
       "      <th>2</th>\n",
       "      <td>Winter</td>\n",
       "      <td>73</td>\n",
       "      <td>23</td>\n",
       "      <td>2021-1621</td>\n",
       "    </tr>\n",
       "    <tr>\n",
       "      <th>3</th>\n",
       "      <td>Winter</td>\n",
       "      <td>63</td>\n",
       "      <td>23</td>\n",
       "      <td>2021-270</td>\n",
       "    </tr>\n",
       "    <tr>\n",
       "      <th>4</th>\n",
       "      <td>Winter</td>\n",
       "      <td>51</td>\n",
       "      <td>23</td>\n",
       "      <td>2021-2231</td>\n",
       "    </tr>\n",
       "  </tbody>\n",
       "</table>\n",
       "</div>"
      ],
      "text/plain": [
       "   season  score  starting_year student_id\n",
       "0  Winter     74             23  2021-3640\n",
       "1  Winter     67             23   2021-945\n",
       "2  Winter     73             23  2021-1621\n",
       "3  Winter     63             23   2021-270\n",
       "4  Winter     51             23  2021-2231"
      ]
     },
     "execution_count": 15,
     "metadata": {},
     "output_type": "execute_result"
    }
   ],
   "source": [
    "df_winter_results['season'] = (\n",
    "    df_winter_results['season'].replace({'W':'Winter'}))\n",
    "df_winter_results.head()"
   ]
  },
  {
   "cell_type": "markdown",
   "id": "81a9028d-f56b-4a77-867a-b0b7c934f3db",
   "metadata": {},
   "source": [
    "The following code would also have worked; however, it assumes that every row within the DataFrame is indeed a winter result. This is the case in our simulated data, but in the real world, some data from other seasons might have leaked in, causing this code to incorrectly reclassify certain results."
   ]
  },
  {
   "cell_type": "code",
   "execution_count": 16,
   "id": "af73e89c-7166-4d3e-97fc-79e5658f104d",
   "metadata": {
    "execution": {
     "iopub.execute_input": "2025-03-18T02:47:15.558115Z",
     "iopub.status.busy": "2025-03-18T02:47:15.557830Z",
     "iopub.status.idle": "2025-03-18T02:47:15.559885Z",
     "shell.execute_reply": "2025-03-18T02:47:15.559607Z",
     "shell.execute_reply.started": "2025-03-18T02:47:15.558096Z"
    }
   },
   "outputs": [],
   "source": [
    "# df_winter_results['season'] = 'Winter'"
   ]
  },
  {
   "cell_type": "markdown",
   "id": "b6d9a5db-b2ae-4242-9e77-0f6b72334557",
   "metadata": {},
   "source": [
    "Finally, we'll add 2000 to every starting_year value so that our years will show up within YYYY format--just as they do within our fall/spring dataset."
   ]
  },
  {
   "cell_type": "code",
   "execution_count": 17,
   "id": "c5ec6a06-9d12-48c1-bf97-8a62c4ebf4a4",
   "metadata": {
    "execution": {
     "iopub.execute_input": "2025-03-18T02:47:15.560300Z",
     "iopub.status.busy": "2025-03-18T02:47:15.560199Z",
     "iopub.status.idle": "2025-03-18T02:47:15.565390Z",
     "shell.execute_reply": "2025-03-18T02:47:15.565048Z",
     "shell.execute_reply.started": "2025-03-18T02:47:15.560291Z"
    }
   },
   "outputs": [
    {
     "data": {
      "text/html": [
       "<div>\n",
       "<style scoped>\n",
       "    .dataframe tbody tr th:only-of-type {\n",
       "        vertical-align: middle;\n",
       "    }\n",
       "\n",
       "    .dataframe tbody tr th {\n",
       "        vertical-align: top;\n",
       "    }\n",
       "\n",
       "    .dataframe thead th {\n",
       "        text-align: right;\n",
       "    }\n",
       "</style>\n",
       "<table border=\"1\" class=\"dataframe\">\n",
       "  <thead>\n",
       "    <tr style=\"text-align: right;\">\n",
       "      <th></th>\n",
       "      <th>season</th>\n",
       "      <th>score</th>\n",
       "      <th>starting_year</th>\n",
       "      <th>student_id</th>\n",
       "    </tr>\n",
       "  </thead>\n",
       "  <tbody>\n",
       "    <tr>\n",
       "      <th>0</th>\n",
       "      <td>Winter</td>\n",
       "      <td>74</td>\n",
       "      <td>2023</td>\n",
       "      <td>2021-3640</td>\n",
       "    </tr>\n",
       "    <tr>\n",
       "      <th>1</th>\n",
       "      <td>Winter</td>\n",
       "      <td>67</td>\n",
       "      <td>2023</td>\n",
       "      <td>2021-945</td>\n",
       "    </tr>\n",
       "    <tr>\n",
       "      <th>2</th>\n",
       "      <td>Winter</td>\n",
       "      <td>73</td>\n",
       "      <td>2023</td>\n",
       "      <td>2021-1621</td>\n",
       "    </tr>\n",
       "    <tr>\n",
       "      <th>3</th>\n",
       "      <td>Winter</td>\n",
       "      <td>63</td>\n",
       "      <td>2023</td>\n",
       "      <td>2021-270</td>\n",
       "    </tr>\n",
       "    <tr>\n",
       "      <th>4</th>\n",
       "      <td>Winter</td>\n",
       "      <td>51</td>\n",
       "      <td>2023</td>\n",
       "      <td>2021-2231</td>\n",
       "    </tr>\n",
       "  </tbody>\n",
       "</table>\n",
       "</div>"
      ],
      "text/plain": [
       "   season  score  starting_year student_id\n",
       "0  Winter     74           2023  2021-3640\n",
       "1  Winter     67           2023   2021-945\n",
       "2  Winter     73           2023  2021-1621\n",
       "3  Winter     63           2023   2021-270\n",
       "4  Winter     51           2023  2021-2231"
      ]
     },
     "execution_count": 17,
     "metadata": {},
     "output_type": "execute_result"
    }
   ],
   "source": [
    "df_winter_results['starting_year'] += 2000\n",
    "df_winter_results.head()"
   ]
  },
  {
   "cell_type": "markdown",
   "id": "ffb7187b-2dd2-483e-8467-076cd926dead",
   "metadata": {
    "execution": {
     "iopub.execute_input": "2024-07-06T19:44:30.504588Z",
     "iopub.status.busy": "2024-07-06T19:44:30.503585Z",
     "iopub.status.idle": "2024-07-06T19:44:30.507067Z",
     "shell.execute_reply": "2024-07-06T19:44:30.507067Z",
     "shell.execute_reply.started": "2024-07-06T19:44:30.504588Z"
    }
   },
   "source": [
    "## Removing duplicates\n",
    "\n",
    "We've now successfully made our winter dataset's field names and values compatible with those in our fall/spring dataset. However, before we can combine the two together, we'll need to remove some duplicate results. (The NVCU administration has specified that they want only *one* survey score per student/season pair to get retained; otherwise, students who fill out a given survey multiple times will get weighted more often than those who complete it only once.)\n",
    "\n",
    "Let's first identify these duplicate rows. The following code filters `df_winter_results` to include any rows whose `season`, `starting_year`, and `student_id` columns match. (The inclusion of `keep=False` instructs Pandas to return all copies of a duplicated row, not just the first one that it encounters.)"
   ]
  },
  {
   "cell_type": "code",
   "execution_count": 18,
   "id": "e4a2374d-6de5-41a3-a6a3-4e561193e941",
   "metadata": {
    "execution": {
     "iopub.execute_input": "2025-03-18T02:47:15.566028Z",
     "iopub.status.busy": "2025-03-18T02:47:15.565858Z",
     "iopub.status.idle": "2025-03-18T02:47:15.572997Z",
     "shell.execute_reply": "2025-03-18T02:47:15.572658Z",
     "shell.execute_reply.started": "2025-03-18T02:47:15.566012Z"
    }
   },
   "outputs": [
    {
     "data": {
      "text/html": [
       "<div>\n",
       "<style scoped>\n",
       "    .dataframe tbody tr th:only-of-type {\n",
       "        vertical-align: middle;\n",
       "    }\n",
       "\n",
       "    .dataframe tbody tr th {\n",
       "        vertical-align: top;\n",
       "    }\n",
       "\n",
       "    .dataframe thead th {\n",
       "        text-align: right;\n",
       "    }\n",
       "</style>\n",
       "<table border=\"1\" class=\"dataframe\">\n",
       "  <thead>\n",
       "    <tr style=\"text-align: right;\">\n",
       "      <th></th>\n",
       "      <th>season</th>\n",
       "      <th>score</th>\n",
       "      <th>starting_year</th>\n",
       "      <th>student_id</th>\n",
       "    </tr>\n",
       "  </thead>\n",
       "  <tbody>\n",
       "    <tr>\n",
       "      <th>4</th>\n",
       "      <td>Winter</td>\n",
       "      <td>51</td>\n",
       "      <td>2023</td>\n",
       "      <td>2021-2231</td>\n",
       "    </tr>\n",
       "    <tr>\n",
       "      <th>60</th>\n",
       "      <td>Winter</td>\n",
       "      <td>60</td>\n",
       "      <td>2023</td>\n",
       "      <td>2021-1028</td>\n",
       "    </tr>\n",
       "    <tr>\n",
       "      <th>...</th>\n",
       "      <td>...</td>\n",
       "      <td>...</td>\n",
       "      <td>...</td>\n",
       "      <td>...</td>\n",
       "    </tr>\n",
       "    <tr>\n",
       "      <th>14620</th>\n",
       "      <td>Winter</td>\n",
       "      <td>68</td>\n",
       "      <td>2023</td>\n",
       "      <td>2023-3330</td>\n",
       "    </tr>\n",
       "    <tr>\n",
       "      <th>14621</th>\n",
       "      <td>Winter</td>\n",
       "      <td>62</td>\n",
       "      <td>2023</td>\n",
       "      <td>2023-4685</td>\n",
       "    </tr>\n",
       "  </tbody>\n",
       "</table>\n",
       "<p>1392 rows × 4 columns</p>\n",
       "</div>"
      ],
      "text/plain": [
       "       season  score  starting_year student_id\n",
       "4      Winter     51           2023  2021-2231\n",
       "60     Winter     60           2023  2021-1028\n",
       "...       ...    ...            ...        ...\n",
       "14620  Winter     68           2023  2023-3330\n",
       "14621  Winter     62           2023  2023-4685\n",
       "\n",
       "[1392 rows x 4 columns]"
      ]
     },
     "execution_count": 18,
     "metadata": {},
     "output_type": "execute_result"
    }
   ],
   "source": [
    "df_winter_results[df_winter_results.duplicated(\n",
    "    subset = ['season', 'starting_year', 'student_id'], \n",
    "    keep=False)]"
   ]
  },
  {
   "cell_type": "markdown",
   "id": "aa1a054d-d028-45e7-9106-f3fe072df904",
   "metadata": {},
   "source": [
    "These duplicate values can easily be removed using Pandas' drop_duplicates() function. However, before removing duplicate rows, it's a good idea to first consider which of these duplicated entries to retain. (For instance, you might choose to keep the earliest copy of a set of duplicated surveys; the latest copy; or the one with the highest/lowest score.)\n",
    "\n",
    "In our case, we'll keep the duplicated row with the *highest* score and remove all others. We can do this by (1) sorting our DataFrame to show higher scores before lower ones, then (2) keeping the first row (i.e. the one with the highest score) when removing our duplicates."
   ]
  },
  {
   "cell_type": "code",
   "execution_count": 19,
   "id": "36cb8342-4432-42d5-990d-a5648b0ba4b3",
   "metadata": {
    "execution": {
     "iopub.execute_input": "2025-03-18T02:47:15.573512Z",
     "iopub.status.busy": "2025-03-18T02:47:15.573357Z",
     "iopub.status.idle": "2025-03-18T02:47:15.578585Z",
     "shell.execute_reply": "2025-03-18T02:47:15.578226Z",
     "shell.execute_reply.started": "2025-03-18T02:47:15.573494Z"
    }
   },
   "outputs": [
    {
     "data": {
      "text/html": [
       "<div>\n",
       "<style scoped>\n",
       "    .dataframe tbody tr th:only-of-type {\n",
       "        vertical-align: middle;\n",
       "    }\n",
       "\n",
       "    .dataframe tbody tr th {\n",
       "        vertical-align: top;\n",
       "    }\n",
       "\n",
       "    .dataframe thead th {\n",
       "        text-align: right;\n",
       "    }\n",
       "</style>\n",
       "<table border=\"1\" class=\"dataframe\">\n",
       "  <thead>\n",
       "    <tr style=\"text-align: right;\">\n",
       "      <th></th>\n",
       "      <th>season</th>\n",
       "      <th>score</th>\n",
       "      <th>starting_year</th>\n",
       "      <th>student_id</th>\n",
       "    </tr>\n",
       "  </thead>\n",
       "  <tbody>\n",
       "    <tr>\n",
       "      <th>2272</th>\n",
       "      <td>Winter</td>\n",
       "      <td>99</td>\n",
       "      <td>2023</td>\n",
       "      <td>2020-616</td>\n",
       "    </tr>\n",
       "    <tr>\n",
       "      <th>1442</th>\n",
       "      <td>Winter</td>\n",
       "      <td>98</td>\n",
       "      <td>2023</td>\n",
       "      <td>2020-35</td>\n",
       "    </tr>\n",
       "    <tr>\n",
       "      <th>227</th>\n",
       "      <td>Winter</td>\n",
       "      <td>97</td>\n",
       "      <td>2023</td>\n",
       "      <td>2021-468</td>\n",
       "    </tr>\n",
       "    <tr>\n",
       "      <th>7990</th>\n",
       "      <td>Winter</td>\n",
       "      <td>97</td>\n",
       "      <td>2023</td>\n",
       "      <td>2020-816</td>\n",
       "    </tr>\n",
       "    <tr>\n",
       "      <th>8465</th>\n",
       "      <td>Winter</td>\n",
       "      <td>97</td>\n",
       "      <td>2023</td>\n",
       "      <td>2020-395</td>\n",
       "    </tr>\n",
       "  </tbody>\n",
       "</table>\n",
       "</div>"
      ],
      "text/plain": [
       "      season  score  starting_year student_id\n",
       "2272  Winter     99           2023   2020-616\n",
       "1442  Winter     98           2023    2020-35\n",
       "227   Winter     97           2023   2021-468\n",
       "7990  Winter     97           2023   2020-816\n",
       "8465  Winter     97           2023   2020-395"
      ]
     },
     "execution_count": 19,
     "metadata": {},
     "output_type": "execute_result"
    }
   ],
   "source": [
    "df_winter_results.sort_values(\n",
    "    'score', ascending=False, inplace=True)\n",
    "df_winter_results.head()"
   ]
  },
  {
   "cell_type": "markdown",
   "id": "d328f301-bc3f-442b-8961-ea8e85fa4021",
   "metadata": {},
   "source": [
    "Removing duplicate values:\n",
    "\n",
    "Note: when removing duplicates, think carefully about which columns to include in your `subset` argument. For instance, if we had multiple years' worth of data in our table, using `['season', 'student_id']` as your subset would cause only *one* result for each student/season pair to get retained, thus removing valid data for other years from your table."
   ]
  },
  {
   "cell_type": "code",
   "execution_count": 20,
   "id": "3497ea51-2c08-4378-8d4e-709b496b8f7e",
   "metadata": {
    "execution": {
     "iopub.execute_input": "2025-03-18T02:47:15.579245Z",
     "iopub.status.busy": "2025-03-18T02:47:15.578954Z",
     "iopub.status.idle": "2025-03-18T02:47:15.586378Z",
     "shell.execute_reply": "2025-03-18T02:47:15.585962Z",
     "shell.execute_reply.started": "2025-03-18T02:47:15.579227Z"
    }
   },
   "outputs": [
    {
     "data": {
      "text/html": [
       "<div>\n",
       "<style scoped>\n",
       "    .dataframe tbody tr th:only-of-type {\n",
       "        vertical-align: middle;\n",
       "    }\n",
       "\n",
       "    .dataframe tbody tr th {\n",
       "        vertical-align: top;\n",
       "    }\n",
       "\n",
       "    .dataframe thead th {\n",
       "        text-align: right;\n",
       "    }\n",
       "</style>\n",
       "<table border=\"1\" class=\"dataframe\">\n",
       "  <thead>\n",
       "    <tr style=\"text-align: right;\">\n",
       "      <th></th>\n",
       "      <th>season</th>\n",
       "      <th>score</th>\n",
       "      <th>starting_year</th>\n",
       "      <th>student_id</th>\n",
       "    </tr>\n",
       "  </thead>\n",
       "  <tbody>\n",
       "    <tr>\n",
       "      <th>2272</th>\n",
       "      <td>Winter</td>\n",
       "      <td>99</td>\n",
       "      <td>2023</td>\n",
       "      <td>2020-616</td>\n",
       "    </tr>\n",
       "    <tr>\n",
       "      <th>1442</th>\n",
       "      <td>Winter</td>\n",
       "      <td>98</td>\n",
       "      <td>2023</td>\n",
       "      <td>2020-35</td>\n",
       "    </tr>\n",
       "    <tr>\n",
       "      <th>227</th>\n",
       "      <td>Winter</td>\n",
       "      <td>97</td>\n",
       "      <td>2023</td>\n",
       "      <td>2021-468</td>\n",
       "    </tr>\n",
       "    <tr>\n",
       "      <th>7990</th>\n",
       "      <td>Winter</td>\n",
       "      <td>97</td>\n",
       "      <td>2023</td>\n",
       "      <td>2020-816</td>\n",
       "    </tr>\n",
       "    <tr>\n",
       "      <th>8465</th>\n",
       "      <td>Winter</td>\n",
       "      <td>97</td>\n",
       "      <td>2023</td>\n",
       "      <td>2020-395</td>\n",
       "    </tr>\n",
       "  </tbody>\n",
       "</table>\n",
       "</div>"
      ],
      "text/plain": [
       "      season  score  starting_year student_id\n",
       "2272  Winter     99           2023   2020-616\n",
       "1442  Winter     98           2023    2020-35\n",
       "227   Winter     97           2023   2021-468\n",
       "7990  Winter     97           2023   2020-816\n",
       "8465  Winter     97           2023   2020-395"
      ]
     },
     "execution_count": 20,
     "metadata": {},
     "output_type": "execute_result"
    }
   ],
   "source": [
    "df_winter_results.drop_duplicates(\n",
    "    subset = ['season', 'starting_year', 'student_id'], \n",
    "    keep = 'first', inplace = True)\n",
    "df_winter_results.head()"
   ]
  },
  {
   "cell_type": "markdown",
   "id": "0008d262-4598-4e11-9216-fcfc82801440",
   "metadata": {},
   "source": [
    "Rerunning our duplicate check code confirms that no duplicate entries remain within our dataset:"
   ]
  },
  {
   "cell_type": "code",
   "execution_count": 29,
   "id": "fe6548cb-3953-485f-9c29-a23892d2d73c",
   "metadata": {
    "execution": {
     "iopub.execute_input": "2025-03-18T02:48:06.880240Z",
     "iopub.status.busy": "2025-03-18T02:48:06.879752Z",
     "iopub.status.idle": "2025-03-18T02:48:06.892117Z",
     "shell.execute_reply": "2025-03-18T02:48:06.891775Z",
     "shell.execute_reply.started": "2025-03-18T02:48:06.880202Z"
    }
   },
   "outputs": [
    {
     "data": {
      "text/plain": [
       "0"
      ]
     },
     "execution_count": 29,
     "metadata": {},
     "output_type": "execute_result"
    }
   ],
   "source": [
    "df_duplicated_winter_results = (\n",
    "    df_winter_results[df_winter_results.duplicated(\n",
    "    subset = ['season', 'starting_year', 'student_id'], \n",
    "    keep = False)])\n",
    "len(df_duplicated_winter_results)"
   ]
  },
  {
   "cell_type": "markdown",
   "id": "1990eaef-00a0-4444-9026-19e431f06519",
   "metadata": {},
   "source": [
    "Since we may need to run this code again in the future with new sets of winter data, we should include a block of code at this point that will check whether we have any duplicates, then raise an error if so. (This will prevent the script from continuing on and possibly generating incorrect findings.) "
   ]
  },
  {
   "cell_type": "code",
   "execution_count": 31,
   "id": "895d3e52-b637-40d4-84b4-2954493a98cf",
   "metadata": {
    "execution": {
     "iopub.execute_input": "2025-03-18T02:51:39.696191Z",
     "iopub.status.busy": "2025-03-18T02:51:39.695996Z",
     "iopub.status.idle": "2025-03-18T02:51:39.698680Z",
     "shell.execute_reply": "2025-03-18T02:51:39.698392Z",
     "shell.execute_reply.started": "2025-03-18T02:51:39.696180Z"
    }
   },
   "outputs": [
    {
     "name": "stdout",
     "output_type": "stream",
     "text": [
      "No duplicate entries are present within the winter dataset.\n"
     ]
    }
   ],
   "source": [
    "if len(df_duplicated_winter_results) > 0:\n",
    "    raise ValueError(\"Duplicate winter survey results are still present!\")\n",
    "else:\n",
    "    print(\"No duplicate entries are present within the winter dataset.\")"
   ]
  },
  {
   "cell_type": "markdown",
   "id": "0b04e314-bfe9-4ad9-8152-4a4eaf8a1a07",
   "metadata": {},
   "source": [
    "## Combining winter survey results with our fall/spring dataset"
   ]
  },
  {
   "cell_type": "markdown",
   "id": "aa09fd77-be78-4045-b966-651f67ccef5f",
   "metadata": {},
   "source": [
    "We're now finally ready to combine df_winter_results with df_fall_spring results. However, one final issue remains with this table: winter survey results are missing for a number of students. This won't cause any issues with the following code, but we'll need to take these missing entries into account when analyzing our survey data within the upcoming Descriptive Stats chapter."
   ]
  },
  {
   "cell_type": "code",
   "execution_count": 32,
   "id": "3ecfe77b-fd3c-4b64-b70c-64f42e8c7ede",
   "metadata": {
    "execution": {
     "iopub.execute_input": "2025-03-18T02:52:14.679982Z",
     "iopub.status.busy": "2025-03-18T02:52:14.679232Z",
     "iopub.status.idle": "2025-03-18T02:52:14.694178Z",
     "shell.execute_reply": "2025-03-18T02:52:14.693739Z",
     "shell.execute_reply.started": "2025-03-18T02:52:14.679895Z"
    }
   },
   "outputs": [
    {
     "data": {
      "text/html": [
       "<div>\n",
       "<style scoped>\n",
       "    .dataframe tbody tr th:only-of-type {\n",
       "        vertical-align: middle;\n",
       "    }\n",
       "\n",
       "    .dataframe tbody tr th {\n",
       "        vertical-align: top;\n",
       "    }\n",
       "\n",
       "    .dataframe thead th {\n",
       "        text-align: right;\n",
       "    }\n",
       "</style>\n",
       "<table border=\"1\" class=\"dataframe\">\n",
       "  <thead>\n",
       "    <tr style=\"text-align: right;\">\n",
       "      <th></th>\n",
       "      <th>student_id</th>\n",
       "      <th>starting_year</th>\n",
       "      <th>season</th>\n",
       "      <th>score</th>\n",
       "    </tr>\n",
       "  </thead>\n",
       "  <tbody>\n",
       "    <tr>\n",
       "      <th>0</th>\n",
       "      <td>2020-1</td>\n",
       "      <td>2023</td>\n",
       "      <td>Fall</td>\n",
       "      <td>88</td>\n",
       "    </tr>\n",
       "    <tr>\n",
       "      <th>1</th>\n",
       "      <td>2020-2</td>\n",
       "      <td>2023</td>\n",
       "      <td>Fall</td>\n",
       "      <td>37</td>\n",
       "    </tr>\n",
       "    <tr>\n",
       "      <th>2</th>\n",
       "      <td>2020-3</td>\n",
       "      <td>2023</td>\n",
       "      <td>Fall</td>\n",
       "      <td>54</td>\n",
       "    </tr>\n",
       "    <tr>\n",
       "      <th>3</th>\n",
       "      <td>2020-4</td>\n",
       "      <td>2023</td>\n",
       "      <td>Fall</td>\n",
       "      <td>56</td>\n",
       "    </tr>\n",
       "    <tr>\n",
       "      <th>4</th>\n",
       "      <td>2020-5</td>\n",
       "      <td>2023</td>\n",
       "      <td>Fall</td>\n",
       "      <td>77</td>\n",
       "    </tr>\n",
       "  </tbody>\n",
       "</table>\n",
       "</div>"
      ],
      "text/plain": [
       "  student_id  starting_year season  score\n",
       "0     2020-1           2023   Fall     88\n",
       "1     2020-2           2023   Fall     37\n",
       "2     2020-3           2023   Fall     54\n",
       "3     2020-4           2023   Fall     56\n",
       "4     2020-5           2023   Fall     77"
      ]
     },
     "execution_count": 32,
     "metadata": {},
     "output_type": "execute_result"
    }
   ],
   "source": [
    "df_results = pd.concat(\n",
    "    [df_fall_spring_results, \n",
    "     df_winter_results]).sort_values(\n",
    "    ['starting_year', 'season']).reset_index(drop=True)\n",
    "df_results.head()"
   ]
  },
  {
   "cell_type": "markdown",
   "id": "2f6275f3-6655-4ce3-9c7d-1936da329787",
   "metadata": {},
   "source": [
    "The following output confirms that the format of the winter results within this table matches that of the fall/spring rows:"
   ]
  },
  {
   "cell_type": "code",
   "execution_count": 33,
   "id": "48b857e5-e6ac-4043-b101-21efa7b168a2",
   "metadata": {
    "execution": {
     "iopub.execute_input": "2025-03-18T02:52:36.513062Z",
     "iopub.status.busy": "2025-03-18T02:52:36.512308Z",
     "iopub.status.idle": "2025-03-18T02:52:36.522902Z",
     "shell.execute_reply": "2025-03-18T02:52:36.522616Z",
     "shell.execute_reply.started": "2025-03-18T02:52:36.513000Z"
    }
   },
   "outputs": [
    {
     "data": {
      "text/html": [
       "<div>\n",
       "<style scoped>\n",
       "    .dataframe tbody tr th:only-of-type {\n",
       "        vertical-align: middle;\n",
       "    }\n",
       "\n",
       "    .dataframe tbody tr th {\n",
       "        vertical-align: top;\n",
       "    }\n",
       "\n",
       "    .dataframe thead th {\n",
       "        text-align: right;\n",
       "    }\n",
       "</style>\n",
       "<table border=\"1\" class=\"dataframe\">\n",
       "  <thead>\n",
       "    <tr style=\"text-align: right;\">\n",
       "      <th></th>\n",
       "      <th>student_id</th>\n",
       "      <th>starting_year</th>\n",
       "      <th>season</th>\n",
       "      <th>score</th>\n",
       "    </tr>\n",
       "  </thead>\n",
       "  <tbody>\n",
       "    <tr>\n",
       "      <th>32768</th>\n",
       "      <td>2020-616</td>\n",
       "      <td>2023</td>\n",
       "      <td>Winter</td>\n",
       "      <td>99</td>\n",
       "    </tr>\n",
       "    <tr>\n",
       "      <th>32769</th>\n",
       "      <td>2020-35</td>\n",
       "      <td>2023</td>\n",
       "      <td>Winter</td>\n",
       "      <td>98</td>\n",
       "    </tr>\n",
       "    <tr>\n",
       "      <th>32770</th>\n",
       "      <td>2021-468</td>\n",
       "      <td>2023</td>\n",
       "      <td>Winter</td>\n",
       "      <td>97</td>\n",
       "    </tr>\n",
       "    <tr>\n",
       "      <th>32771</th>\n",
       "      <td>2020-816</td>\n",
       "      <td>2023</td>\n",
       "      <td>Winter</td>\n",
       "      <td>97</td>\n",
       "    </tr>\n",
       "    <tr>\n",
       "      <th>32772</th>\n",
       "      <td>2020-395</td>\n",
       "      <td>2023</td>\n",
       "      <td>Winter</td>\n",
       "      <td>97</td>\n",
       "    </tr>\n",
       "  </tbody>\n",
       "</table>\n",
       "</div>"
      ],
      "text/plain": [
       "      student_id  starting_year  season  score\n",
       "32768   2020-616           2023  Winter     99\n",
       "32769    2020-35           2023  Winter     98\n",
       "32770   2021-468           2023  Winter     97\n",
       "32771   2020-816           2023  Winter     97\n",
       "32772   2020-395           2023  Winter     97"
      ]
     },
     "execution_count": 33,
     "metadata": {},
     "output_type": "execute_result"
    }
   ],
   "source": [
    "df_results.query(\"season == 'Winter'\").head()"
   ]
  },
  {
   "cell_type": "markdown",
   "id": "e7fdb379-48fb-4646-9e42-699a2d96b8ea",
   "metadata": {},
   "source": [
    "Note that, when our seasons are sorted alphabetically, Fall will come first, followed by Spring and then Winter. In order to allow for a chronological sort (which will prove useful when creating charts and pivot tables), we'll add in a 'season_order' column that maps these seasons to integers."
   ]
  },
  {
   "cell_type": "code",
   "execution_count": 23,
   "id": "fe2330ec-043b-4911-a355-2eb757ace1f1",
   "metadata": {
    "execution": {
     "iopub.execute_input": "2025-03-18T02:47:15.605836Z",
     "iopub.status.busy": "2025-03-18T02:47:15.605670Z",
     "iopub.status.idle": "2025-03-18T02:47:15.612514Z",
     "shell.execute_reply": "2025-03-18T02:47:15.612196Z",
     "shell.execute_reply.started": "2025-03-18T02:47:15.605819Z"
    }
   },
   "outputs": [
    {
     "data": {
      "text/html": [
       "<div>\n",
       "<style scoped>\n",
       "    .dataframe tbody tr th:only-of-type {\n",
       "        vertical-align: middle;\n",
       "    }\n",
       "\n",
       "    .dataframe tbody tr th {\n",
       "        vertical-align: top;\n",
       "    }\n",
       "\n",
       "    .dataframe thead th {\n",
       "        text-align: right;\n",
       "    }\n",
       "</style>\n",
       "<table border=\"1\" class=\"dataframe\">\n",
       "  <thead>\n",
       "    <tr style=\"text-align: right;\">\n",
       "      <th></th>\n",
       "      <th>student_id</th>\n",
       "      <th>starting_year</th>\n",
       "      <th>season</th>\n",
       "      <th>score</th>\n",
       "      <th>season_order</th>\n",
       "    </tr>\n",
       "  </thead>\n",
       "  <tbody>\n",
       "    <tr>\n",
       "      <th>0</th>\n",
       "      <td>2020-1</td>\n",
       "      <td>2023</td>\n",
       "      <td>Fall</td>\n",
       "      <td>88</td>\n",
       "      <td>0</td>\n",
       "    </tr>\n",
       "    <tr>\n",
       "      <th>1</th>\n",
       "      <td>2020-2</td>\n",
       "      <td>2023</td>\n",
       "      <td>Fall</td>\n",
       "      <td>37</td>\n",
       "      <td>0</td>\n",
       "    </tr>\n",
       "    <tr>\n",
       "      <th>2</th>\n",
       "      <td>2020-3</td>\n",
       "      <td>2023</td>\n",
       "      <td>Fall</td>\n",
       "      <td>54</td>\n",
       "      <td>0</td>\n",
       "    </tr>\n",
       "    <tr>\n",
       "      <th>3</th>\n",
       "      <td>2020-4</td>\n",
       "      <td>2023</td>\n",
       "      <td>Fall</td>\n",
       "      <td>56</td>\n",
       "      <td>0</td>\n",
       "    </tr>\n",
       "    <tr>\n",
       "      <th>4</th>\n",
       "      <td>2020-5</td>\n",
       "      <td>2023</td>\n",
       "      <td>Fall</td>\n",
       "      <td>77</td>\n",
       "      <td>0</td>\n",
       "    </tr>\n",
       "  </tbody>\n",
       "</table>\n",
       "</div>"
      ],
      "text/plain": [
       "  student_id  starting_year season  score  season_order\n",
       "0     2020-1           2023   Fall     88             0\n",
       "1     2020-2           2023   Fall     37             0\n",
       "2     2020-3           2023   Fall     54             0\n",
       "3     2020-4           2023   Fall     56             0\n",
       "4     2020-5           2023   Fall     77             0"
      ]
     },
     "execution_count": 23,
     "metadata": {},
     "output_type": "execute_result"
    }
   ],
   "source": [
    "df_results['season_order'] = df_results['season'].map(\n",
    "    {'Fall':0,'Winter':1,'Spring':2})\n",
    "df_results.head()"
   ]
  },
  {
   "cell_type": "markdown",
   "id": "559b71d6-7d92-4ebf-9690-29712caf6d28",
   "metadata": {},
   "source": [
    "## Merging college and level data into our survey results table\n",
    "\n",
    "In its current form, `df_results` allows us to calculate survey results at the university-wide level. However, in order to determine whether these results differ by college and by level, we'll also need to merge college and level data into our dataset. \n",
    "\n",
    "We can accomplish this by reading data from our curr_enrollment SQL table into a DataFrame, then merging that data with df_results. (The student_id field present in both DataFrames can serve as a merge key.)\n",
    "\n",
    "*Note: if we had survey data for multiple years, our current enrollment table wouldn't be a good candidate for our merge, since it would show only the current college and levels for each student. We'd instead want to source our enrollment data from a historical enrollment table so that students' yearly survey results could be matched with their levels and colleges during the years that they took the survey.*"
   ]
  },
  {
   "cell_type": "code",
   "execution_count": 24,
   "id": "76e90b6d-c4c2-420b-a2e1-4bc129bb63cf",
   "metadata": {
    "execution": {
     "iopub.execute_input": "2025-03-18T02:47:15.613064Z",
     "iopub.status.busy": "2025-03-18T02:47:15.612887Z",
     "iopub.status.idle": "2025-03-18T02:47:15.636944Z",
     "shell.execute_reply": "2025-03-18T02:47:15.636580Z",
     "shell.execute_reply.started": "2025-03-18T02:47:15.613046Z"
    }
   },
   "outputs": [
    {
     "data": {
      "text/html": [
       "<div>\n",
       "<style scoped>\n",
       "    .dataframe tbody tr th:only-of-type {\n",
       "        vertical-align: middle;\n",
       "    }\n",
       "\n",
       "    .dataframe tbody tr th {\n",
       "        vertical-align: top;\n",
       "    }\n",
       "\n",
       "    .dataframe thead th {\n",
       "        text-align: right;\n",
       "    }\n",
       "</style>\n",
       "<table border=\"1\" class=\"dataframe\">\n",
       "  <thead>\n",
       "    <tr style=\"text-align: right;\">\n",
       "      <th></th>\n",
       "      <th>student_id</th>\n",
       "      <th>college</th>\n",
       "      <th>level</th>\n",
       "      <th>level_for_sorting</th>\n",
       "    </tr>\n",
       "  </thead>\n",
       "  <tbody>\n",
       "    <tr>\n",
       "      <th>0</th>\n",
       "      <td>2020-1</td>\n",
       "      <td>STC</td>\n",
       "      <td>Se</td>\n",
       "      <td>3</td>\n",
       "    </tr>\n",
       "    <tr>\n",
       "      <th>1</th>\n",
       "      <td>2020-2</td>\n",
       "      <td>STM</td>\n",
       "      <td>Se</td>\n",
       "      <td>3</td>\n",
       "    </tr>\n",
       "    <tr>\n",
       "      <th>2</th>\n",
       "      <td>2020-3</td>\n",
       "      <td>STC</td>\n",
       "      <td>Se</td>\n",
       "      <td>3</td>\n",
       "    </tr>\n",
       "    <tr>\n",
       "      <th>3</th>\n",
       "      <td>2020-4</td>\n",
       "      <td>STC</td>\n",
       "      <td>Se</td>\n",
       "      <td>3</td>\n",
       "    </tr>\n",
       "    <tr>\n",
       "      <th>4</th>\n",
       "      <td>2020-5</td>\n",
       "      <td>STM</td>\n",
       "      <td>Se</td>\n",
       "      <td>3</td>\n",
       "    </tr>\n",
       "  </tbody>\n",
       "</table>\n",
       "</div>"
      ],
      "text/plain": [
       "  student_id college level  level_for_sorting\n",
       "0     2020-1     STC    Se                  3\n",
       "1     2020-2     STM    Se                  3\n",
       "2     2020-3     STC    Se                  3\n",
       "3     2020-4     STC    Se                  3\n",
       "4     2020-5     STM    Se                  3"
      ]
     },
     "execution_count": 24,
     "metadata": {},
     "output_type": "execute_result"
    }
   ],
   "source": [
    "# The following code reads in only the fields from df_curr_enrollment \n",
    "# that we'll need for our analyses. (If we wanted to read in all fields,\n",
    "# we could replace the field names in our SQL query with *.)\n",
    "\n",
    "df_curr_enrollment = pd.read_sql(\n",
    "    \"Select student_id, college, level, \\\n",
    "level_for_sorting from curr_enrollment\", con=e)\n",
    "df_curr_enrollment.head()"
   ]
  },
  {
   "cell_type": "markdown",
   "id": "aacc03d1-27c1-4f8d-a8d6-c27a370c86d7",
   "metadata": {},
   "source": [
    "The next cell uses a *left* merge to add enrollment data into df_results. The `left` argument for the `how` parameter instructs the code to retain all rows in df_results even if no corresponding enrollment data were found. (If we had instead used `right` as our argument, all rows in `df_curr_enrollment` would have been retained whether or not we had corresponding *survey* data for them.)\n",
    "\n",
    "Other options for the `how` parameter include `outer`, which preserves all rows in *both* datasets regardless of whether or not a given key was found in both of them, and `inner`, which would only keep rows whose student IDs were found in both datasets.\n",
    "\n",
    "For more on the `df.merge()` function used below, visit https://pandas.pydata.org/pandas-docs/stable/reference/api/pandas.DataFrame.merge.html ."
   ]
  },
  {
   "cell_type": "code",
   "execution_count": 34,
   "id": "7a9bb70e-e425-4f09-90cd-644a3186814b",
   "metadata": {
    "execution": {
     "iopub.execute_input": "2025-03-18T02:57:15.461504Z",
     "iopub.status.busy": "2025-03-18T02:57:15.461052Z",
     "iopub.status.idle": "2025-03-18T02:57:15.476424Z",
     "shell.execute_reply": "2025-03-18T02:57:15.476126Z",
     "shell.execute_reply.started": "2025-03-18T02:57:15.461468Z"
    }
   },
   "outputs": [
    {
     "data": {
      "text/html": [
       "<div>\n",
       "<style scoped>\n",
       "    .dataframe tbody tr th:only-of-type {\n",
       "        vertical-align: middle;\n",
       "    }\n",
       "\n",
       "    .dataframe tbody tr th {\n",
       "        vertical-align: top;\n",
       "    }\n",
       "\n",
       "    .dataframe thead th {\n",
       "        text-align: right;\n",
       "    }\n",
       "</style>\n",
       "<table border=\"1\" class=\"dataframe\">\n",
       "  <thead>\n",
       "    <tr style=\"text-align: right;\">\n",
       "      <th></th>\n",
       "      <th>student_id</th>\n",
       "      <th>starting_year</th>\n",
       "      <th>season</th>\n",
       "      <th>score</th>\n",
       "      <th>college</th>\n",
       "      <th>level</th>\n",
       "      <th>level_for_sorting</th>\n",
       "    </tr>\n",
       "  </thead>\n",
       "  <tbody>\n",
       "    <tr>\n",
       "      <th>0</th>\n",
       "      <td>2020-1</td>\n",
       "      <td>2023</td>\n",
       "      <td>Fall</td>\n",
       "      <td>88</td>\n",
       "      <td>STC</td>\n",
       "      <td>Se</td>\n",
       "      <td>3</td>\n",
       "    </tr>\n",
       "    <tr>\n",
       "      <th>1</th>\n",
       "      <td>2020-2</td>\n",
       "      <td>2023</td>\n",
       "      <td>Fall</td>\n",
       "      <td>37</td>\n",
       "      <td>STM</td>\n",
       "      <td>Se</td>\n",
       "      <td>3</td>\n",
       "    </tr>\n",
       "    <tr>\n",
       "      <th>2</th>\n",
       "      <td>2020-3</td>\n",
       "      <td>2023</td>\n",
       "      <td>Fall</td>\n",
       "      <td>54</td>\n",
       "      <td>STC</td>\n",
       "      <td>Se</td>\n",
       "      <td>3</td>\n",
       "    </tr>\n",
       "    <tr>\n",
       "      <th>3</th>\n",
       "      <td>2020-4</td>\n",
       "      <td>2023</td>\n",
       "      <td>Fall</td>\n",
       "      <td>56</td>\n",
       "      <td>STC</td>\n",
       "      <td>Se</td>\n",
       "      <td>3</td>\n",
       "    </tr>\n",
       "    <tr>\n",
       "      <th>4</th>\n",
       "      <td>2020-5</td>\n",
       "      <td>2023</td>\n",
       "      <td>Fall</td>\n",
       "      <td>77</td>\n",
       "      <td>STM</td>\n",
       "      <td>Se</td>\n",
       "      <td>3</td>\n",
       "    </tr>\n",
       "  </tbody>\n",
       "</table>\n",
       "</div>"
      ],
      "text/plain": [
       "  student_id  starting_year season  score college level  level_for_sorting\n",
       "0     2020-1           2023   Fall     88     STC    Se                  3\n",
       "1     2020-2           2023   Fall     37     STM    Se                  3\n",
       "2     2020-3           2023   Fall     54     STC    Se                  3\n",
       "3     2020-4           2023   Fall     56     STC    Se                  3\n",
       "4     2020-5           2023   Fall     77     STM    Se                  3"
      ]
     },
     "execution_count": 34,
     "metadata": {},
     "output_type": "execute_result"
    }
   ],
   "source": [
    "df_results = df_results.merge(\n",
    "    df_curr_enrollment, on='student_id', how='left')\n",
    "df_results.head()"
   ]
  },
  {
   "cell_type": "markdown",
   "id": "ec3c67eb-e5dc-49df-b591-a9f86ea076b2",
   "metadata": {},
   "source": [
    "Now that we've merged in college and level data, we'll save this dataset to a .csv file so that it can be processed by the code in our descriptive statistics chapters:"
   ]
  },
  {
   "cell_type": "code",
   "execution_count": 26,
   "id": "a05444da-d3df-458e-8b5a-98ea91d5afea",
   "metadata": {
    "execution": {
     "iopub.execute_input": "2025-03-18T02:47:15.654024Z",
     "iopub.status.busy": "2025-03-18T02:47:15.653693Z",
     "iopub.status.idle": "2025-03-18T02:47:15.701254Z",
     "shell.execute_reply": "2025-03-18T02:47:15.700816Z",
     "shell.execute_reply.started": "2025-03-18T02:47:15.654005Z"
    }
   },
   "outputs": [],
   "source": [
    "df_results.to_csv('2023_survey_results.csv', index = False)"
   ]
  },
  {
   "cell_type": "markdown",
   "id": "ac6243a7-9708-498c-8cee-84f389eb43d8",
   "metadata": {},
   "source": [
    "## Conclusion"
   ]
  },
  {
   "cell_type": "markdown",
   "id": "2a0863cb-3ba4-490f-b3a0-ce51fc787405",
   "metadata": {},
   "source": [
    "This script has provided a brief introduction to data cleaning and reformatting. Other PFN sections will provide further examples of data reformatting, as this process is often a necessary prerequisite for analysis and visualization tasks.\n",
    "\n",
    "Next up is the Descriptive Stats chapter, in which we'll perform various statistical tests on the new .csv file that we created within this section."
   ]
  }
 ],
 "metadata": {
  "kernelspec": {
   "display_name": "Python 3 (ipykernel)",
   "language": "python",
   "name": "python3"
  },
  "language_info": {
   "codemirror_mode": {
    "name": "ipython",
    "version": 3
   },
   "file_extension": ".py",
   "mimetype": "text/x-python",
   "name": "python",
   "nbconvert_exporter": "python",
   "pygments_lexer": "ipython3",
   "version": "3.13.2"
  }
 },
 "nbformat": 4,
 "nbformat_minor": 5
}
