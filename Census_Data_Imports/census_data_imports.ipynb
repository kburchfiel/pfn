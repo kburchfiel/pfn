{
 "cells": [
  {
   "cell_type": "markdown",
   "id": "66cf34aa-0c18-4b12-854f-809a09caf479",
   "metadata": {},
   "source": [
    "# Census Data Imports\n",
    "\n",
    "By Kenneth Burchfiel\n",
    "\n",
    "Released under the MIT License\n",
    "\n",
    "The US Census is a fantastic source of free demographic data. As this notebook will demonstrate, Python allows us to easily access large amounts of this data at once.\n",
    "\n",
    "[Note: I had initially planned to feature this script right after PFN's Data Retrieval chapter. However, this notebook not only imports Census data, but also reformats that data and generates some descriptive statistics. Therefore, I decided it would be best to wait to cover this script until now.]\n",
    "\n",
    "## Deciding where to move to start a family\n",
    "\n",
    "Let's say that some NVCU seniors are interested in settling down and raising a family a few years after they graduate. Because they'd prefer to live in a growing region rather than a declining one, they want to know which areas have seen the highest growth rates in recent years. They'd like to see this data both for all residents within each county *and* those aged 25-29.\n",
    "\n",
    "In order to answer these questions, we'll use the Census API to retrieve US county population growth data for a selected set of years. We'll then use this data to calculate population growth rates across multiple periods.\n",
    "\n",
    "## An introduction to the American Community Survey\n",
    "\n",
    "Many Americans probably associate the US Census Bureau with its decennial Census. However, the Census Bureau also conducts the American Community Survey (https://www.census.gov/data/developers/data-sets/acs-5year.html) each year, making it a great resource for recent demographic data.\n",
    "\n",
    "This notebook will source data from the American Community Survey's 5-year estimates, which show an average of results for the past 5 years. (For example, the 2021 ACS5 dataset shows results between 2017 and 2021). The 1-year ACS estimates (https://www.census.gov/data/developers/data-sets/acs-1year.html) offer results for a more recent timeframe; however, because the 5-year estimates are sourced from a larger pool of data, they may be more reliable (especially for smaller regions). In addition, 1-year estimates aren't available for certain regions, such as zip codes.\n",
    "\n",
    "For the sake of brevity, I'll often refer to the American Community Survey's 5-year estimates as the 'ACS5' survey.\n",
    "\n",
    "Another great source of Census data, which allows for a much wider variety of analyses, is American Community Survey *microdata.* These microdata tables show individual respondent rows rather than pre-calculated estimates, thus allowing for all sorts of custom filters, comparisons, and statistical tests. You can download 1- and 5-year ACS microdata from the Census website (https://www.census.gov/data/developers/data-sets/census-microdata-api.html); however, you may also want to consider using IPUMS (https://usa.ipums.org/usa/) for microdata collection.\n",
    "\n",
    "This script will not feature microdata imports, but if you plan to use Census data withn your own work, you'll definitely want to learn more about the benefits (and disadvantages) of microdata. The US Census guide at https://www.census.gov/content/dam/Census/library/publications/2021/acs/acs_pums_handbook_2021.pdf is a good place to start. One notable disadvantage of microdata files is that, for confidentiality reasons, they do not include county- or zip-level information (though IPUMS has been able to map certain microdata records to certain US counties)."
   ]
  },
  {
   "cell_type": "markdown",
   "id": "2d2d646e-6c7a-477a-913d-55ee542db4a6",
   "metadata": {},
   "source": [
    "## Introducing the Census API\n",
    "\n",
    "In the process of working to answer the first question (regarding where to move to start a family), we'll also explore the Census API's capabilities and craft a Python function that will use it to efficiently retrieve data."
   ]
  },
  {
   "cell_type": "markdown",
   "id": "b1ffed55-af13-41b0-8f61-675a49ad82e6",
   "metadata": {},
   "source": [
    "Importing relevant libraries and setting two configuration variables:"
   ]
  },
  {
   "cell_type": "code",
   "execution_count": 1,
   "id": "45c4adb9-28c8-4614-8661-ae9c3a86998a",
   "metadata": {
    "execution": {
     "iopub.execute_input": "2025-02-21T03:17:10.487033Z",
     "iopub.status.busy": "2025-02-21T03:17:10.486838Z",
     "iopub.status.idle": "2025-02-21T03:17:10.716583Z",
     "shell.execute_reply": "2025-02-21T03:17:10.716191Z",
     "shell.execute_reply.started": "2025-02-21T03:17:10.487022Z"
    }
   },
   "outputs": [],
   "source": [
    "import time\n",
    "program_start_time = time.time()\n",
    "import pandas as pd\n",
    "pd.set_option('display.max_columns', 1000) # This max column setting\n",
    "# will prevent columns in the notebook from being hidden; however,\n",
    "# if render_for_pdf (defined in the Appendix's helper_funcs.py file)\n",
    "# is set to True, this setting will get overwritten.\n",
    "import numpy as np\n",
    "from iteration_utilities import duplicates\n",
    "\n",
    "import sys\n",
    "sys.path.insert(1, '../Appendix')\n",
    "from helper_funcs import config_notebook, render_for_pdf\n",
    "display_type = config_notebook(display_max_columns = 4) \n",
    "\n",
    "acs5_year = 2021 # By updating this variable when future American \n",
    "# Community Surveys get released, you should be able to retrieve the most\n",
    "# recent data possible. (If changes to the survey's format are made,\n",
    "# however, updates to the scripts may be necessary.)\n",
    "\n",
    "# Note: I had originally set acs5_year to 2022, the latest year for which\n",
    "# ACS5 data were available at the time. However, due to a recent change\n",
    "# in Connecticut's county-equivalent boundaries (see\n",
    "# https://www.federalregister.gov/documents/2022/06/06/2022-12063/\n",
    "# change-to-county-equivalents-in-the-state-of-connecticut for more\n",
    "# information), ACS5 population growth data between previous\n",
    "# years and 2022 appeared to be unavailable for that state. Therefore,\n",
    "# I chose to retrieve data for 2021 instead. \n",
    "\n",
    "acs5_latest_year = 2023 # This variable will be used to determine\n",
    "# the ACS5 year for which a datsaet containing only one year of data\n",
    "# will be retrieved. Since this dataset won't show historical trends\n",
    "# in data, we don't need to worry about changes in county definitions;\n",
    "# thus, we can use the most recent year for which data are available.\n",
    "\n",
    "download_new_variable_list = False # If set to True, a new list of \n",
    "# variables will be downloaded from the Census API website. If False, \n",
    "# this list of variables will instead be read in from a local .csv copy \n",
    "# (thus saving processing time)."
   ]
  },
  {
   "cell_type": "markdown",
   "id": "cb6a7ede-ee95-4c35-beac-ea9c04220f2f",
   "metadata": {},
   "source": [
    "### Importing a Census API Key\n",
    "\n",
    "You can obtain a free Census API key at https://api.census.gov/data/key_signup.html. The following cell imports my own personal key, so you'll need to replace this code with one that loads in your own API key."
   ]
  },
  {
   "cell_type": "code",
   "execution_count": 2,
   "id": "c5a6b38e-2fc6-4646-a151-111a07b5b012",
   "metadata": {
    "execution": {
     "iopub.execute_input": "2025-02-21T03:17:10.717162Z",
     "iopub.status.busy": "2025-02-21T03:17:10.716988Z",
     "iopub.status.idle": "2025-02-21T03:17:10.719338Z",
     "shell.execute_reply": "2025-02-21T03:17:10.719046Z",
     "shell.execute_reply.started": "2025-02-21T03:17:10.717151Z"
    }
   },
   "outputs": [],
   "source": [
    "with open ('census_api_key_path.txt') as file:\n",
    "    key_path = file.read()\n",
    "with open(key_path) as file:\n",
    "    key = file.read()"
   ]
  },
  {
   "cell_type": "markdown",
   "id": "c5bdd515-44ce-4f29-b859-7fa9560a8478",
   "metadata": {},
   "source": [
    "The Census offers detailed API documentation that makes retrieving data from it relatively straightforward. For instance, you'll probably find the Census Data API User Guide (https://www.census.gov/content/dam/Census/data/developers/api-user-guide/api-guide.pdf) to be helpful in applying the Census API.\n",
    "\n",
    "The list of ACS5 API call examples at (https://api.census.gov/data/2021/acs/acs5/examples.html) is another great resource. One of the sample URLs shown on this page for retrieving county-level data appears as follows:\n",
    "\n",
    "https://api.census.gov/data/2021/acs/acs5?get=NAME,B01001_001E&for=county:*&key=YOUR_KEY_GOES_HERE\n",
    "\n",
    "If you replace the 'YOUR_KEY_GOES_HERE' component of the URL with your actual key, then enter this link into your web browser, you'll receive a very long list of counties, population values, and state and county codes. The top of the list for the 2021 ACS5 looks like this:\n",
    "\n",
    "```\n",
    "[[\"NAME\",\"B01001_001E\",\"state\",\"county\"],\n",
    "[\"Autauga County, Alabama\",\"58239\",\"01\",\"001\"],\n",
    "[\"Baldwin County, Alabama\",\"227131\",\"01\",\"003\"],\n",
    "[\"Barbour County, Alabama\",\"25259\",\"01\",\"005\"],\n",
    "[\"Bibb County, Alabama\",\"22412\",\"01\",\"007\"],\n",
    "[\"Blount County, Alabama\",\"58884\",\"01\",\"009\"],\n",
    "[\"Bullock County, Alabama\",\"10386\",\"01\",\"011\"],\n",
    "```\n",
    "\n",
    "'B01001_001E' refers to the total population estimates for a given county. We can find this out by going to the 2021 ACS5's Detailed Tables page (https://api.census.gov/data/2021/acs/acs5/variables.html) and navigating to the row with a 'Name' value of 'B01001_001E'. This link, which may take a little while to fully load, is available on the ACS5 API Documentation Page (https://www.census.gov/data/developers/data-sets/acs-5year.html).\n"
   ]
  },
  {
   "cell_type": "markdown",
   "id": "0eba66bf-5a01-4e3f-ad31-ae000b6af46d",
   "metadata": {},
   "source": [
    "We can use `pd.read_json()` to easily read this same data into a DataFrame:"
   ]
  },
  {
   "cell_type": "code",
   "execution_count": 3,
   "id": "2c482d9e-981e-4935-a876-277bbae648d1",
   "metadata": {
    "execution": {
     "iopub.execute_input": "2025-02-21T03:17:10.720280Z",
     "iopub.status.busy": "2025-02-21T03:17:10.720137Z",
     "iopub.status.idle": "2025-02-21T03:17:13.156143Z",
     "shell.execute_reply": "2025-02-21T03:17:13.155830Z",
     "shell.execute_reply.started": "2025-02-21T03:17:10.720269Z"
    }
   },
   "outputs": [
    {
     "data": {
      "text/html": [
       "<div>\n",
       "<style scoped>\n",
       "    .dataframe tbody tr th:only-of-type {\n",
       "        vertical-align: middle;\n",
       "    }\n",
       "\n",
       "    .dataframe tbody tr th {\n",
       "        vertical-align: top;\n",
       "    }\n",
       "\n",
       "    .dataframe thead th {\n",
       "        text-align: right;\n",
       "    }\n",
       "</style>\n",
       "<table border=\"1\" class=\"dataframe\">\n",
       "  <thead>\n",
       "    <tr style=\"text-align: right;\">\n",
       "      <th></th>\n",
       "      <th>0</th>\n",
       "      <th>1</th>\n",
       "      <th>2</th>\n",
       "      <th>3</th>\n",
       "    </tr>\n",
       "  </thead>\n",
       "  <tbody>\n",
       "    <tr>\n",
       "      <th>0</th>\n",
       "      <td>NAME</td>\n",
       "      <td>B01001_001E</td>\n",
       "      <td>state</td>\n",
       "      <td>county</td>\n",
       "    </tr>\n",
       "    <tr>\n",
       "      <th>1</th>\n",
       "      <td>Autauga County, Alabama</td>\n",
       "      <td>58239</td>\n",
       "      <td>01</td>\n",
       "      <td>001</td>\n",
       "    </tr>\n",
       "    <tr>\n",
       "      <th>2</th>\n",
       "      <td>Baldwin County, Alabama</td>\n",
       "      <td>227131</td>\n",
       "      <td>01</td>\n",
       "      <td>003</td>\n",
       "    </tr>\n",
       "    <tr>\n",
       "      <th>3</th>\n",
       "      <td>Barbour County, Alabama</td>\n",
       "      <td>25259</td>\n",
       "      <td>01</td>\n",
       "      <td>005</td>\n",
       "    </tr>\n",
       "    <tr>\n",
       "      <th>4</th>\n",
       "      <td>Bibb County, Alabama</td>\n",
       "      <td>22412</td>\n",
       "      <td>01</td>\n",
       "      <td>007</td>\n",
       "    </tr>\n",
       "  </tbody>\n",
       "</table>\n",
       "</div>"
      ],
      "text/plain": [
       "                         0            1      2       3\n",
       "0                     NAME  B01001_001E  state  county\n",
       "1  Autauga County, Alabama        58239     01     001\n",
       "2  Baldwin County, Alabama       227131     01     003\n",
       "3  Barbour County, Alabama        25259     01     005\n",
       "4     Bibb County, Alabama        22412     01     007"
      ]
     },
     "execution_count": 3,
     "metadata": {},
     "output_type": "execute_result"
    }
   ],
   "source": [
    "df_results = pd.read_json(\n",
    "    f'https://api.census.gov/data/{acs5_year}/\\\n",
    "acs/acs5?get=NAME,B01001_001E&for=county:*&key={key}')\n",
    "# read_json documentation:\n",
    "# https://pandas.pydata.org/pandas-docs/stable/reference/api/\n",
    "# pandas.read_json.html\n",
    "df_results.head()"
   ]
  },
  {
   "cell_type": "markdown",
   "id": "6644587b-3594-47a5-ae00-71aa0eec7bed",
   "metadata": {},
   "source": [
    "At this point, the DataFrame's columns are [0, 1, 2, 3], whereas the columns we want to use are stored within the first row. The following code sets these row values as our column values, then deletes this row:"
   ]
  },
  {
   "cell_type": "code",
   "execution_count": 4,
   "id": "76eeb0f5-9c08-45e0-8f16-2011f04887b9",
   "metadata": {
    "execution": {
     "iopub.execute_input": "2025-02-21T03:17:13.156583Z",
     "iopub.status.busy": "2025-02-21T03:17:13.156464Z",
     "iopub.status.idle": "2025-02-21T03:17:13.161365Z",
     "shell.execute_reply": "2025-02-21T03:17:13.161102Z",
     "shell.execute_reply.started": "2025-02-21T03:17:13.156573Z"
    }
   },
   "outputs": [
    {
     "data": {
      "text/html": [
       "<div>\n",
       "<style scoped>\n",
       "    .dataframe tbody tr th:only-of-type {\n",
       "        vertical-align: middle;\n",
       "    }\n",
       "\n",
       "    .dataframe tbody tr th {\n",
       "        vertical-align: top;\n",
       "    }\n",
       "\n",
       "    .dataframe thead th {\n",
       "        text-align: right;\n",
       "    }\n",
       "</style>\n",
       "<table border=\"1\" class=\"dataframe\">\n",
       "  <thead>\n",
       "    <tr style=\"text-align: right;\">\n",
       "      <th></th>\n",
       "      <th>NAME</th>\n",
       "      <th>B01001_001E</th>\n",
       "      <th>state</th>\n",
       "      <th>county</th>\n",
       "    </tr>\n",
       "  </thead>\n",
       "  <tbody>\n",
       "    <tr>\n",
       "      <th>1</th>\n",
       "      <td>Autauga County, Alabama</td>\n",
       "      <td>58239</td>\n",
       "      <td>01</td>\n",
       "      <td>001</td>\n",
       "    </tr>\n",
       "    <tr>\n",
       "      <th>2</th>\n",
       "      <td>Baldwin County, Alabama</td>\n",
       "      <td>227131</td>\n",
       "      <td>01</td>\n",
       "      <td>003</td>\n",
       "    </tr>\n",
       "    <tr>\n",
       "      <th>3</th>\n",
       "      <td>Barbour County, Alabama</td>\n",
       "      <td>25259</td>\n",
       "      <td>01</td>\n",
       "      <td>005</td>\n",
       "    </tr>\n",
       "    <tr>\n",
       "      <th>4</th>\n",
       "      <td>Bibb County, Alabama</td>\n",
       "      <td>22412</td>\n",
       "      <td>01</td>\n",
       "      <td>007</td>\n",
       "    </tr>\n",
       "    <tr>\n",
       "      <th>5</th>\n",
       "      <td>Blount County, Alabama</td>\n",
       "      <td>58884</td>\n",
       "      <td>01</td>\n",
       "      <td>009</td>\n",
       "    </tr>\n",
       "  </tbody>\n",
       "</table>\n",
       "</div>"
      ],
      "text/plain": [
       "0                     NAME B01001_001E state county\n",
       "1  Autauga County, Alabama       58239    01    001\n",
       "2  Baldwin County, Alabama      227131    01    003\n",
       "3  Barbour County, Alabama       25259    01    005\n",
       "4     Bibb County, Alabama       22412    01    007\n",
       "5   Blount County, Alabama       58884    01    009"
      ]
     },
     "execution_count": 4,
     "metadata": {},
     "output_type": "execute_result"
    }
   ],
   "source": [
    "df_results.columns = df_results.iloc[0]\n",
    "df_results.drop(0, inplace = True)\n",
    "\n",
    "df_results.head()"
   ]
  },
  {
   "cell_type": "markdown",
   "id": "94f0fd84-0564-407c-a5a8-e7c18234a840",
   "metadata": {},
   "source": [
    "## Importing custom Census functions\n",
    "\n",
    "We'll now import four Census data import and analysis functions. I originally defined these functions within this script; however, I chose to move them to a separate Python file ('census_import_scripts.py') so that they can be incorporated more easily into other data projects. I highly recommend that you read the documentation for these files as well so that you can better understand what the functions are doing (and how to modify them for your own applications if needed). "
   ]
  },
  {
   "cell_type": "code",
   "execution_count": 5,
   "id": "511313ed-a9f3-4782-a874-db0779533e74",
   "metadata": {
    "execution": {
     "iopub.execute_input": "2025-02-21T03:17:13.161822Z",
     "iopub.status.busy": "2025-02-21T03:17:13.161728Z",
     "iopub.status.idle": "2025-02-21T03:17:13.169578Z",
     "shell.execute_reply": "2025-02-21T03:17:13.169264Z",
     "shell.execute_reply.started": "2025-02-21T03:17:13.161813Z"
    }
   },
   "outputs": [],
   "source": [
    "from census_import_scripts import download_variable_list, \\\n",
    "create_variable_aliases, retrieve_census_data, create_comparison_fields"
   ]
  },
  {
   "cell_type": "markdown",
   "id": "bb39d8d5-ba9d-4866-93c3-d22e2381cd08",
   "metadata": {},
   "source": [
    "## Retrieving our Data"
   ]
  },
  {
   "cell_type": "markdown",
   "id": "fa350976-fc2b-46d0-a3a1-282995c597cc",
   "metadata": {},
   "source": [
    "In order to determine which variable codes to enter into our script, we'll first need to review a list of all American Community Survey variables and the overall groups into which they fit. This list is available on the Census website; for instance, the copy for 2021 is available at https://api.census.gov/data/2021/acs/acs5/variables.html. However, we can also use Pandas to import them into a DataFrame, as shown below."
   ]
  },
  {
   "cell_type": "code",
   "execution_count": 6,
   "id": "2fd0cf99-5e68-4d25-81db-1923e337129e",
   "metadata": {
    "execution": {
     "iopub.execute_input": "2025-02-21T03:17:13.169994Z",
     "iopub.status.busy": "2025-02-21T03:17:13.169900Z",
     "iopub.status.idle": "2025-02-21T03:19:02.628269Z",
     "shell.execute_reply": "2025-02-21T03:19:02.627930Z",
     "shell.execute_reply.started": "2025-02-21T03:17:13.169985Z"
    }
   },
   "outputs": [
    {
     "name": "stdout",
     "output_type": "stream",
     "text": [
      "Importing acs5 variables from 2021.\n",
      "Finished saving variable and group tables to .csv files.\n"
     ]
    },
    {
     "data": {
      "text/html": [
       "<div>\n",
       "<style scoped>\n",
       "    .dataframe tbody tr th:only-of-type {\n",
       "        vertical-align: middle;\n",
       "    }\n",
       "\n",
       "    .dataframe tbody tr th {\n",
       "        vertical-align: top;\n",
       "    }\n",
       "\n",
       "    .dataframe thead th {\n",
       "        text-align: right;\n",
       "    }\n",
       "</style>\n",
       "<table border=\"1\" class=\"dataframe\">\n",
       "  <thead>\n",
       "    <tr style=\"text-align: right;\">\n",
       "      <th></th>\n",
       "      <th>Name</th>\n",
       "      <th>Label</th>\n",
       "      <th>Concept</th>\n",
       "      <th>Group</th>\n",
       "    </tr>\n",
       "  </thead>\n",
       "  <tbody>\n",
       "    <tr>\n",
       "      <th>0</th>\n",
       "      <td>B01001_001E</td>\n",
       "      <td>Estimate!!Total:</td>\n",
       "      <td>SEX BY AGE</td>\n",
       "      <td>B01001</td>\n",
       "    </tr>\n",
       "    <tr>\n",
       "      <th>1</th>\n",
       "      <td>B01001_002E</td>\n",
       "      <td>Estimate!!Total:!!Male:</td>\n",
       "      <td>SEX BY AGE</td>\n",
       "      <td>B01001</td>\n",
       "    </tr>\n",
       "    <tr>\n",
       "      <th>2</th>\n",
       "      <td>B01001_003E</td>\n",
       "      <td>Estimate!!Total:!!Male:!!Under 5 years</td>\n",
       "      <td>SEX BY AGE</td>\n",
       "      <td>B01001</td>\n",
       "    </tr>\n",
       "    <tr>\n",
       "      <th>3</th>\n",
       "      <td>B01001_004E</td>\n",
       "      <td>Estimate!!Total:!!Male:!!5 to 9 years</td>\n",
       "      <td>SEX BY AGE</td>\n",
       "      <td>B01001</td>\n",
       "    </tr>\n",
       "    <tr>\n",
       "      <th>4</th>\n",
       "      <td>B01001_005E</td>\n",
       "      <td>Estimate!!Total:!!Male:!!10 to 14 years</td>\n",
       "      <td>SEX BY AGE</td>\n",
       "      <td>B01001</td>\n",
       "    </tr>\n",
       "  </tbody>\n",
       "</table>\n",
       "</div>"
      ],
      "text/plain": [
       "          Name                                    Label     Concept   Group\n",
       "0  B01001_001E                         Estimate!!Total:  SEX BY AGE  B01001\n",
       "1  B01001_002E                  Estimate!!Total:!!Male:  SEX BY AGE  B01001\n",
       "2  B01001_003E   Estimate!!Total:!!Male:!!Under 5 years  SEX BY AGE  B01001\n",
       "3  B01001_004E    Estimate!!Total:!!Male:!!5 to 9 years  SEX BY AGE  B01001\n",
       "4  B01001_005E  Estimate!!Total:!!Male:!!10 to 14 years  SEX BY AGE  B01001"
      ]
     },
     "execution_count": 6,
     "metadata": {},
     "output_type": "execute_result"
    }
   ],
   "source": [
    "if download_new_variable_list == True: # This process can take a little\n",
    "    # while, so if you already have a copy of the variable list you need,\n",
    "    # consider setting download_variable_list to False.\n",
    "    download_variable_list(acs5_year, 'acs5')\n",
    "\n",
    "# Reading the group and variable datasets into our script:\n",
    "df_variables = pd.read_csv(\n",
    "    f'Datasets/acs5_{acs5_year}_variables.csv')\n",
    "\n",
    "df_groups = pd.read_csv(\n",
    "    f'Datasets/acs5_{acs5_year}_groups.csv')\n",
    "\n",
    "# The following code will show a condensed set of columns if the script\n",
    "# is being run for PDF output; that way, the reader can view all of the\n",
    "# most important columns. This step isn't necessary when the script is \n",
    "# being run for HTML display, as the user can simply scroll horizontally\n",
    "# to see all of the columns within the DataFrame. \n",
    "df_variables[['Name', 'Label', 'Concept', 'Group']].head() if (\n",
    "    render_for_pdf == True) else df_variables.head()"
   ]
  },
  {
   "cell_type": "markdown",
   "id": "a1a69249-70e5-4a4e-ac0a-61ba25584ffd",
   "metadata": {},
   "source": [
    "For reference, here's a look at df_groups:"
   ]
  },
  {
   "cell_type": "code",
   "execution_count": 7,
   "id": "4e81145b-9c9c-4015-b732-f69fbdae07e5",
   "metadata": {
    "execution": {
     "iopub.execute_input": "2025-02-21T03:19:02.628928Z",
     "iopub.status.busy": "2025-02-21T03:19:02.628659Z",
     "iopub.status.idle": "2025-02-21T03:19:02.632726Z",
     "shell.execute_reply": "2025-02-21T03:19:02.632510Z",
     "shell.execute_reply.started": "2025-02-21T03:19:02.628917Z"
    }
   },
   "outputs": [
    {
     "data": {
      "text/html": [
       "<div>\n",
       "<style scoped>\n",
       "    .dataframe tbody tr th:only-of-type {\n",
       "        vertical-align: middle;\n",
       "    }\n",
       "\n",
       "    .dataframe tbody tr th {\n",
       "        vertical-align: top;\n",
       "    }\n",
       "\n",
       "    .dataframe thead th {\n",
       "        text-align: right;\n",
       "    }\n",
       "</style>\n",
       "<table border=\"1\" class=\"dataframe\">\n",
       "  <thead>\n",
       "    <tr style=\"text-align: right;\">\n",
       "      <th></th>\n",
       "      <th>Concept</th>\n",
       "      <th>Group</th>\n",
       "    </tr>\n",
       "  </thead>\n",
       "  <tbody>\n",
       "    <tr>\n",
       "      <th>0</th>\n",
       "      <td>SEX BY AGE</td>\n",
       "      <td>B01001</td>\n",
       "    </tr>\n",
       "    <tr>\n",
       "      <th>1</th>\n",
       "      <td>SEX BY AGE (WHITE ALONE)</td>\n",
       "      <td>B01001A</td>\n",
       "    </tr>\n",
       "    <tr>\n",
       "      <th>...</th>\n",
       "      <td>...</td>\n",
       "      <td>...</td>\n",
       "    </tr>\n",
       "    <tr>\n",
       "      <th>1143</th>\n",
       "      <td>PUBLIC HEALTH INSURANCE BY RATIO OF INCOME TO ...</td>\n",
       "      <td>C27018</td>\n",
       "    </tr>\n",
       "    <tr>\n",
       "      <th>1144</th>\n",
       "      <td>HEALTH INSURANCE COVERAGE STATUS BY LIVING ARR...</td>\n",
       "      <td>C27021</td>\n",
       "    </tr>\n",
       "  </tbody>\n",
       "</table>\n",
       "<p>1145 rows × 2 columns</p>\n",
       "</div>"
      ],
      "text/plain": [
       "                                                Concept    Group\n",
       "0                                            SEX BY AGE   B01001\n",
       "1                              SEX BY AGE (WHITE ALONE)  B01001A\n",
       "...                                                 ...      ...\n",
       "1143  PUBLIC HEALTH INSURANCE BY RATIO OF INCOME TO ...   C27018\n",
       "1144  HEALTH INSURANCE COVERAGE STATUS BY LIVING ARR...   C27021\n",
       "\n",
       "[1145 rows x 2 columns]"
      ]
     },
     "execution_count": 7,
     "metadata": {},
     "output_type": "execute_result"
    }
   ],
   "source": [
    "df_groups"
   ]
  },
  {
   "cell_type": "markdown",
   "id": "b076e7e6-609c-4166-b5d5-ece9165b31fa",
   "metadata": {},
   "source": [
    "In order to find variables of interest, I recommend first searching for keywords of interest within the group table (which is much smaller in size) in order to identify relevant group IDs. Next, you can search for those group IDs inside the variables table in order to find the exact metrics to request from the Census API."
   ]
  },
  {
   "cell_type": "markdown",
   "id": "c2e5ce6d-0366-408c-a422-4dcce7f41f5d",
   "metadata": {},
   "source": [
    "The following table stores variables for three separate groups: (1) the total population; (2) all males aged 25 to 29 years; and (3) all females aged 25 to 29 years. (The B01001 table that stores these values didn't have an entry for all people aged 25 to 29; we'll get around this limitation by retrieving sex-specific population totals within this age group, then adding those totals together.)"
   ]
  },
  {
   "cell_type": "code",
   "execution_count": 8,
   "id": "4a7ae1e0-6367-45c6-9327-8036cbfc3b9a",
   "metadata": {
    "execution": {
     "iopub.execute_input": "2025-02-21T03:19:02.633126Z",
     "iopub.status.busy": "2025-02-21T03:19:02.633028Z",
     "iopub.status.idle": "2025-02-21T03:19:02.635264Z",
     "shell.execute_reply": "2025-02-21T03:19:02.635042Z",
     "shell.execute_reply.started": "2025-02-21T03:19:02.633117Z"
    }
   },
   "outputs": [],
   "source": [
    "grad_destinations_variable_list = [\n",
    "    'B01001_001E', 'B01001_011E',\n",
    "    'B01001_035E']"
   ]
  },
  {
   "cell_type": "markdown",
   "id": "3934ea19-0820-4ac2-99ef-1d33df92807a",
   "metadata": {},
   "source": [
    "The demographic columns in the Census API's output are labeled with their variable names (e.g. 'B01001_001E'). These names are concise, but you'll need a copy of the original variable list to interpret them. Therefore, I chose to replace these column names with a combination of the 'Label', 'Concept', and 'Name' entries in the original variable list. These column names are very long, but they do make the output easier to interpret (while also preserving the original names for reference). \n",
    "\n",
    "In addition, if the description corresponding to a variable name happens to change from one year to another, the use of aliases will help you identify that change. (This will help prevent you from treating two different data types that happened to use the same variable code in different years as equal. However, I would imagine that the Census wouldn't repurpose variable codes in this way.)\n",
    "\n",
    "The following function assists with this replacement by creating a dictionary whose keys are the original field names (e.g. 'B0101_001E') and whose values are the replacement names (e.g. 'Sex by Age_Estimate!!Total:_B01001_001E')."
   ]
  },
  {
   "cell_type": "markdown",
   "id": "c01c438a-2b52-40ca-9478-c77c8a1eee80",
   "metadata": {
    "execution": {
     "iopub.execute_input": "2024-06-26T04:35:14.807508Z",
     "iopub.status.busy": "2024-06-26T04:35:14.807508Z",
     "iopub.status.idle": "2024-06-26T04:35:14.811839Z",
     "shell.execute_reply": "2024-06-26T04:35:14.811839Z",
     "shell.execute_reply.started": "2024-06-26T04:35:14.807508Z"
    }
   },
   "source": [
    "Creating our aliases:"
   ]
  },
  {
   "cell_type": "code",
   "execution_count": 9,
   "id": "965054eb-8feb-4ce5-af2e-d1c079eacbfa",
   "metadata": {
    "execution": {
     "iopub.execute_input": "2025-02-21T03:19:02.635744Z",
     "iopub.status.busy": "2025-02-21T03:19:02.635548Z",
     "iopub.status.idle": "2025-02-21T03:19:02.642678Z",
     "shell.execute_reply": "2025-02-21T03:19:02.642431Z",
     "shell.execute_reply.started": "2025-02-21T03:19:02.635735Z"
    }
   },
   "outputs": [
    {
     "data": {
      "text/plain": [
       "{'B01001_001E': 'SEX BY AGE_Estimate!!Total: (B01001_001E)',\n",
       " 'B01001_011E': 'SEX BY AGE_Estimate!!Total:!!Male:!!25 to 29 years (B01001_011E)',\n",
       " 'B01001_035E': 'SEX BY AGE_Estimate!!Total:!!Female:!!25 to 29 years (B01001_035E)'}"
      ]
     },
     "execution_count": 9,
     "metadata": {},
     "output_type": "execute_result"
    }
   ],
   "source": [
    "grad_destinations_alias_dict = create_variable_aliases(\n",
    "    df_variables = df_variables, \n",
    "    variable_list = grad_destinations_variable_list)\n",
    "grad_destinations_alias_dict"
   ]
  },
  {
   "cell_type": "markdown",
   "id": "7cccfc99-72d0-453c-8582-77a4c2d03d11",
   "metadata": {},
   "source": [
    "## Defining a Census data retrieval function\n",
    "\n",
    "The following function simplifies the process of retrieving data from the Census API. It also enables the user to rename variable fields (e.g. 'B01001_001E') with aliases for those fields (e.g. 'Sex by Age_Estimate!!Total: (B01001_001E)'), but this option is disabled by default. In addition, it allows more than 50 variables to be retrieved at the same time, thus making it easier to retrieve especially large datasets.\n",
    "\n",
    "[Note: currently, this function only supports data retrieval for the ACS 5-year and 1-year estimates. However, I may add in the ability to retrieve decennial Census data in the future.]"
   ]
  },
  {
   "cell_type": "markdown",
   "id": "8cbebc18-4c37-4eed-85e9-50321aa472fa",
   "metadata": {},
   "source": [
    "(The following code allowed me to test out retrieve_census_data for a particularly long variable list.)"
   ]
  },
  {
   "cell_type": "code",
   "execution_count": 10,
   "id": "57954005-f0b0-4d2b-a00e-d82766ee63c1",
   "metadata": {
    "execution": {
     "iopub.execute_input": "2025-02-21T03:19:02.643188Z",
     "iopub.status.busy": "2025-02-21T03:19:02.642987Z",
     "iopub.status.idle": "2025-02-21T03:19:02.644797Z",
     "shell.execute_reply": "2025-02-21T03:19:02.644484Z",
     "shell.execute_reply.started": "2025-02-21T03:19:02.643178Z"
    }
   },
   "outputs": [],
   "source": [
    "# test_list = list(df_variables['Name'][0:151])\n",
    "\n",
    "# test_alias_dict = create_variable_aliases(\n",
    "#     df_variables = df_variables, \n",
    "#     variable_list = test_list)\n",
    "\n",
    "# test_acs5_data = retrieve_census_data(\n",
    "#     survey = 'acs5', year = acs5_year, region = 'county',\n",
    "#     variable_list = test_list, \n",
    "#     rename_data_fields = True, \n",
    "#     field_vars_dict = test_alias_dict, key = key)\n",
    "\n",
    "# test_acs5_data"
   ]
  },
  {
   "cell_type": "markdown",
   "id": "e9a7ca4a-7eb0-47e1-854e-1e9da80470a8",
   "metadata": {},
   "source": [
    "Next, we'll define a list of years for which we would like to retrieve Census data. In order to make this code easier to use in future years, I'll define these years as an offset of acs5_year rather than hardcoding them."
   ]
  },
  {
   "cell_type": "code",
   "execution_count": 11,
   "id": "fd46d47b-7383-4f9d-a634-559b7d24196c",
   "metadata": {
    "execution": {
     "iopub.execute_input": "2025-02-21T03:19:02.645435Z",
     "iopub.status.busy": "2025-02-21T03:19:02.645178Z",
     "iopub.status.idle": "2025-02-21T03:19:02.648494Z",
     "shell.execute_reply": "2025-02-21T03:19:02.648268Z",
     "shell.execute_reply.started": "2025-02-21T03:19:02.645419Z"
    }
   },
   "outputs": [
    {
     "data": {
      "text/plain": [
       "[2009, 2011, 2013, 2015, 2016, 2021]"
      ]
     },
     "execution_count": 11,
     "metadata": {},
     "output_type": "execute_result"
    }
   ],
   "source": [
    "years_to_retrieve = [acs5_year - 12, acs5_year -10, \n",
    "                     acs5_year - 8,\n",
    "                     acs5_year - 6,\n",
    "                     acs5_year - 5,\n",
    "                     acs5_year]\n",
    "# American Community Survey 1-year estimates weren't available in 2020,\n",
    "# so you'll want to remove that year from your list if it happens to be present.\n",
    "# However, because I decided to use 5-year rather than 1-year estimates,\n",
    "# I commented out this line.\n",
    "# if 2020 in years_to_retrieve:\n",
    "#     years_to_retrieve.remove(2020)\n",
    "years_to_retrieve"
   ]
  },
  {
   "cell_type": "markdown",
   "id": "379fdc75-568c-469c-9029-ab9d4e73a6bb",
   "metadata": {},
   "source": [
    "At this point, it's a good idea to confirm that our three variable codes ('B01001_001E', 'B01001_011E', and 'B01001_035E') had the same meaning for all the years whose data we'll be retrieving. We can do so by running the following code, which retrieves these variables and their corresponding descriptions for all of the years in years_to_retrieve.\n",
    "\n",
    "(Due to the size of the variables.html page, this code can take a while to run, so I commented it out below.)"
   ]
  },
  {
   "cell_type": "code",
   "execution_count": 12,
   "id": "119616b0-2c13-4028-828c-37bc2b007494",
   "metadata": {
    "execution": {
     "iopub.execute_input": "2025-02-21T03:19:02.650136Z",
     "iopub.status.busy": "2025-02-21T03:19:02.649871Z",
     "iopub.status.idle": "2025-02-21T03:19:02.651689Z",
     "shell.execute_reply": "2025-02-21T03:19:02.651438Z",
     "shell.execute_reply.started": "2025-02-21T03:19:02.650122Z"
    }
   },
   "outputs": [],
   "source": [
    "# var_meanings_by_year_df_list = []\n",
    "# for year in years_to_retrieve:\n",
    "#     df_var_list = pd.read_html(\n",
    "#         f'https://api.census.gov/data/{year}/acs/acs5/variables.html')[\n",
    "#     0][['Name', 'Label', 'Concept']].query(\n",
    "#         \"Name in @grad_destinations_variable_list\")\n",
    "#     df_var_list.insert(0, 'Year', year)\n",
    "#     var_meanings_by_year_df_list.append(df_var_list)\n",
    "# df_var_meanings_by_year = pd.concat([df for df in var_meanings_by_year_df_list])\n",
    "# df_var_meanings_by_year.to_csv('var_meanings_by_year.csv', index = False)\n",
    "# df_var_meanings_by_year"
   ]
  },
  {
   "cell_type": "markdown",
   "id": "a859a0dc-79ec-46f6-a863-22471d1f4258",
   "metadata": {
    "execution": {
     "iopub.execute_input": "2024-11-17T05:14:19.356910Z",
     "iopub.status.busy": "2024-11-17T05:14:19.356910Z",
     "iopub.status.idle": "2024-11-17T05:14:19.362588Z",
     "shell.execute_reply": "2024-11-17T05:14:19.362588Z",
     "shell.execute_reply.started": "2024-11-17T05:14:19.356910Z"
    }
   },
   "source": [
    "Here's a saved .csv copy of this table that confirms that these codes had the same meaning in each of the years we're analyzing:"
   ]
  },
  {
   "cell_type": "code",
   "execution_count": 13,
   "id": "63cbc59c-b793-4bc6-91ec-85e052b0ea6c",
   "metadata": {
    "execution": {
     "iopub.execute_input": "2025-02-21T03:19:02.652168Z",
     "iopub.status.busy": "2025-02-21T03:19:02.651973Z",
     "iopub.status.idle": "2025-02-21T03:19:02.657330Z",
     "shell.execute_reply": "2025-02-21T03:19:02.657090Z",
     "shell.execute_reply.started": "2025-02-21T03:19:02.652155Z"
    }
   },
   "outputs": [
    {
     "data": {
      "text/html": [
       "<div>\n",
       "<style scoped>\n",
       "    .dataframe tbody tr th:only-of-type {\n",
       "        vertical-align: middle;\n",
       "    }\n",
       "\n",
       "    .dataframe tbody tr th {\n",
       "        vertical-align: top;\n",
       "    }\n",
       "\n",
       "    .dataframe thead th {\n",
       "        text-align: right;\n",
       "    }\n",
       "</style>\n",
       "<table border=\"1\" class=\"dataframe\">\n",
       "  <thead>\n",
       "    <tr style=\"text-align: right;\">\n",
       "      <th></th>\n",
       "      <th>Year</th>\n",
       "      <th>Name</th>\n",
       "      <th>Label</th>\n",
       "      <th>Concept</th>\n",
       "    </tr>\n",
       "  </thead>\n",
       "  <tbody>\n",
       "    <tr>\n",
       "      <th>0</th>\n",
       "      <td>2010</td>\n",
       "      <td>B01001_001E</td>\n",
       "      <td>Estimate!!Total</td>\n",
       "      <td>SEX BY AGE</td>\n",
       "    </tr>\n",
       "    <tr>\n",
       "      <th>1</th>\n",
       "      <td>2010</td>\n",
       "      <td>B01001_011E</td>\n",
       "      <td>Estimate!!Total!!Male!!25 to 29 years</td>\n",
       "      <td>SEX BY AGE</td>\n",
       "    </tr>\n",
       "    <tr>\n",
       "      <th>...</th>\n",
       "      <td>...</td>\n",
       "      <td>...</td>\n",
       "      <td>...</td>\n",
       "      <td>...</td>\n",
       "    </tr>\n",
       "    <tr>\n",
       "      <th>16</th>\n",
       "      <td>2022</td>\n",
       "      <td>B01001_011E</td>\n",
       "      <td>Estimate!!Total:!!Male:!!25 to 29 years</td>\n",
       "      <td>Sex by Age</td>\n",
       "    </tr>\n",
       "    <tr>\n",
       "      <th>17</th>\n",
       "      <td>2022</td>\n",
       "      <td>B01001_035E</td>\n",
       "      <td>Estimate!!Total:!!Female:!!25 to 29 years</td>\n",
       "      <td>Sex by Age</td>\n",
       "    </tr>\n",
       "  </tbody>\n",
       "</table>\n",
       "<p>18 rows × 4 columns</p>\n",
       "</div>"
      ],
      "text/plain": [
       "    Year         Name                                      Label     Concept\n",
       "0   2010  B01001_001E                            Estimate!!Total  SEX BY AGE\n",
       "1   2010  B01001_011E      Estimate!!Total!!Male!!25 to 29 years  SEX BY AGE\n",
       "..   ...          ...                                        ...         ...\n",
       "16  2022  B01001_011E    Estimate!!Total:!!Male:!!25 to 29 years  Sex by Age\n",
       "17  2022  B01001_035E  Estimate!!Total:!!Female:!!25 to 29 years  Sex by Age\n",
       "\n",
       "[18 rows x 4 columns]"
      ]
     },
     "execution_count": 13,
     "metadata": {},
     "output_type": "execute_result"
    }
   ],
   "source": [
    "pd.read_csv('var_meanings_by_year.csv')"
   ]
  },
  {
   "cell_type": "markdown",
   "id": "61d3a6c8-f2bd-4979-ba77-c8ad00971ad2",
   "metadata": {},
   "source": [
    "We're now ready to retrieve our population totals for the years referenced in years_to_retrieve. We'll do so by calling retrieve_census_data() for each of these years via a for loop, then adding their respective DataFrames together using pd.concat().\n",
    "\n",
    "(Note: Only 5825 results showed up when I requested ACS1 data (as opposed to over 25,000 results for ACS5 data), so many counties were not getting incorporated within the ACS1 results. Therefore, the ACS5 should be the best survey to use for evaluating county-level growth.)"
   ]
  },
  {
   "cell_type": "code",
   "execution_count": 14,
   "id": "d6b97861-5bf3-46ba-a29e-d4c0540924b9",
   "metadata": {
    "execution": {
     "iopub.execute_input": "2025-02-21T03:19:02.657823Z",
     "iopub.status.busy": "2025-02-21T03:19:02.657615Z",
     "iopub.status.idle": "2025-02-21T03:19:16.571982Z",
     "shell.execute_reply": "2025-02-21T03:19:16.571629Z",
     "shell.execute_reply.started": "2025-02-21T03:19:02.657813Z"
    }
   },
   "outputs": [
    {
     "data": {
      "text/html": [
       "<div>\n",
       "<style scoped>\n",
       "    .dataframe tbody tr th:only-of-type {\n",
       "        vertical-align: middle;\n",
       "    }\n",
       "\n",
       "    .dataframe tbody tr th {\n",
       "        vertical-align: top;\n",
       "    }\n",
       "\n",
       "    .dataframe thead th {\n",
       "        text-align: right;\n",
       "    }\n",
       "</style>\n",
       "<table border=\"1\" class=\"dataframe\">\n",
       "  <thead>\n",
       "    <tr style=\"text-align: right;\">\n",
       "      <th></th>\n",
       "      <th>Year</th>\n",
       "      <th>county</th>\n",
       "      <th>...</th>\n",
       "      <th>SEX BY AGE_Estimate!!Total:!!Male:!!25 to 29 years (B01001_011E)</th>\n",
       "      <th>SEX BY AGE_Estimate!!Total:!!Female:!!25 to 29 years (B01001_035E)</th>\n",
       "    </tr>\n",
       "  </thead>\n",
       "  <tbody>\n",
       "    <tr>\n",
       "      <th>1</th>\n",
       "      <td>2009</td>\n",
       "      <td>091</td>\n",
       "      <td>...</td>\n",
       "      <td>634</td>\n",
       "      <td>574</td>\n",
       "    </tr>\n",
       "    <tr>\n",
       "      <th>2</th>\n",
       "      <td>2009</td>\n",
       "      <td>093</td>\n",
       "      <td>...</td>\n",
       "      <td>531</td>\n",
       "      <td>352</td>\n",
       "    </tr>\n",
       "    <tr>\n",
       "      <th>...</th>\n",
       "      <td>...</td>\n",
       "      <td>...</td>\n",
       "      <td>...</td>\n",
       "      <td>...</td>\n",
       "      <td>...</td>\n",
       "    </tr>\n",
       "    <tr>\n",
       "      <th>3142</th>\n",
       "      <td>2021</td>\n",
       "      <td>043</td>\n",
       "      <td>...</td>\n",
       "      <td>175</td>\n",
       "      <td>200</td>\n",
       "    </tr>\n",
       "    <tr>\n",
       "      <th>3143</th>\n",
       "      <td>2021</td>\n",
       "      <td>045</td>\n",
       "      <td>...</td>\n",
       "      <td>146</td>\n",
       "      <td>112</td>\n",
       "    </tr>\n",
       "  </tbody>\n",
       "</table>\n",
       "<p>18856 rows × 7 columns</p>\n",
       "</div>"
      ],
      "text/plain": [
       "0     Year county  ...  \\\n",
       "1     2009    091  ...   \n",
       "2     2009    093  ...   \n",
       "...    ...    ...  ...   \n",
       "3142  2021    043  ...   \n",
       "3143  2021    045  ...   \n",
       "\n",
       "0    SEX BY AGE_Estimate!!Total:!!Male:!!25 to 29 years (B01001_011E)  \\\n",
       "1                                                   634                 \n",
       "2                                                   531                 \n",
       "...                                                 ...                 \n",
       "3142                                                175                 \n",
       "3143                                                146                 \n",
       "\n",
       "0    SEX BY AGE_Estimate!!Total:!!Female:!!25 to 29 years (B01001_035E)  \n",
       "1                                                   574                  \n",
       "2                                                   352                  \n",
       "...                                                 ...                  \n",
       "3142                                                200                  \n",
       "3143                                                112                  \n",
       "\n",
       "[18856 rows x 7 columns]"
      ]
     },
     "execution_count": 14,
     "metadata": {},
     "output_type": "execute_result"
    }
   ],
   "source": [
    "census_data_by_year_df_list = []\n",
    "for year in years_to_retrieve:\n",
    "    df_data = retrieve_census_data(\n",
    "        survey = 'acs5', year = year, \n",
    "        region = 'county',\n",
    "        variable_list = grad_destinations_variable_list, \n",
    "        rename_data_fields = True, field_vars_dict = grad_destinations_alias_dict,\n",
    "        key = key)\n",
    "    census_data_by_year_df_list.append(df_data)\n",
    "df_growth_data_by_year = pd.concat(df for df in census_data_by_year_df_list)\n",
    "# Removing Puerto Rico from our list of results so as to focus only on counties\n",
    "# and county equivalents within the 50 US states + DC:\n",
    "df_growth_data_by_year.query(\"state != '72'\", inplace = True)\n",
    "df_growth_data_by_year"
   ]
  },
  {
   "cell_type": "markdown",
   "id": "1df29cef-85f0-4956-8c90-05fc83e35056",
   "metadata": {},
   "source": [
    "The following cell adds together male and female population totals in order to calculate the total number of 25- to 29-year-olds within each county. It also simplifies the original total population column name in order to improve its readability."
   ]
  },
  {
   "cell_type": "code",
   "execution_count": 15,
   "id": "544c454f-447e-42b8-88c7-a45e3be77495",
   "metadata": {
    "execution": {
     "iopub.execute_input": "2025-02-21T03:19:16.572762Z",
     "iopub.status.busy": "2025-02-21T03:19:16.572470Z",
     "iopub.status.idle": "2025-02-21T03:19:16.585075Z",
     "shell.execute_reply": "2025-02-21T03:19:16.584677Z",
     "shell.execute_reply.started": "2025-02-21T03:19:16.572741Z"
    }
   },
   "outputs": [
    {
     "data": {
      "text/html": [
       "<div>\n",
       "<style scoped>\n",
       "    .dataframe tbody tr th:only-of-type {\n",
       "        vertical-align: middle;\n",
       "    }\n",
       "\n",
       "    .dataframe tbody tr th {\n",
       "        vertical-align: top;\n",
       "    }\n",
       "\n",
       "    .dataframe thead th {\n",
       "        text-align: right;\n",
       "    }\n",
       "</style>\n",
       "<table border=\"1\" class=\"dataframe\">\n",
       "  <thead>\n",
       "    <tr style=\"text-align: right;\">\n",
       "      <th></th>\n",
       "      <th>Year</th>\n",
       "      <th>county</th>\n",
       "      <th>...</th>\n",
       "      <th>Total_Pop</th>\n",
       "      <th>Total_Pop_25_to_29</th>\n",
       "    </tr>\n",
       "  </thead>\n",
       "  <tbody>\n",
       "    <tr>\n",
       "      <th>1</th>\n",
       "      <td>2009</td>\n",
       "      <td>091</td>\n",
       "      <td>...</td>\n",
       "      <td>19695</td>\n",
       "      <td>1208</td>\n",
       "    </tr>\n",
       "    <tr>\n",
       "      <th>2</th>\n",
       "      <td>2009</td>\n",
       "      <td>093</td>\n",
       "      <td>...</td>\n",
       "      <td>11641</td>\n",
       "      <td>883</td>\n",
       "    </tr>\n",
       "    <tr>\n",
       "      <th>...</th>\n",
       "      <td>...</td>\n",
       "      <td>...</td>\n",
       "      <td>...</td>\n",
       "      <td>...</td>\n",
       "      <td>...</td>\n",
       "    </tr>\n",
       "    <tr>\n",
       "      <th>3142</th>\n",
       "      <td>2021</td>\n",
       "      <td>043</td>\n",
       "      <td>...</td>\n",
       "      <td>7768</td>\n",
       "      <td>375</td>\n",
       "    </tr>\n",
       "    <tr>\n",
       "      <th>3143</th>\n",
       "      <td>2021</td>\n",
       "      <td>045</td>\n",
       "      <td>...</td>\n",
       "      <td>6891</td>\n",
       "      <td>258</td>\n",
       "    </tr>\n",
       "  </tbody>\n",
       "</table>\n",
       "<p>18856 rows × 6 columns</p>\n",
       "</div>"
      ],
      "text/plain": [
       "0     Year county  ... Total_Pop Total_Pop_25_to_29\n",
       "1     2009    091  ...     19695               1208\n",
       "2     2009    093  ...     11641                883\n",
       "...    ...    ...  ...       ...                ...\n",
       "3142  2021    043  ...      7768                375\n",
       "3143  2021    045  ...      6891                258\n",
       "\n",
       "[18856 rows x 6 columns]"
      ]
     },
     "execution_count": 15,
     "metadata": {},
     "output_type": "execute_result"
    }
   ],
   "source": [
    "df_growth_data_by_year['Total_Pop_25_to_29'] = (df_growth_data_by_year[\n",
    "'SEX BY AGE_Estimate!!Total:!!Male:!!25 to 29 years (B01001_011E)'] + \n",
    "df_growth_data_by_year[\n",
    "'SEX BY AGE_Estimate!!Total:!!Female:!!25 to 29 years (B01001_035E)'])\n",
    "df_growth_data_by_year.rename(\n",
    "    columns = {'SEX BY AGE_Estimate!!Total: (B01001_001E)':'Total_Pop'}, \n",
    "inplace = True)\n",
    "df_growth_data_by_year.drop(\n",
    "    ['SEX BY AGE_Estimate!!Total:!!Male:!!25 to 29 years (B01001_011E)',\n",
    "     'SEX BY AGE_Estimate!!Total:!!Female:!!25 to 29 years (B01001_035E)'],\n",
    "     axis = 1, inplace = True)\n",
    "                             \n",
    "\n",
    "df_growth_data_by_year"
   ]
  },
  {
   "cell_type": "markdown",
   "id": "9979d6fc-7ecc-4f3a-8bec-0c710527462d",
   "metadata": {},
   "source": [
    "The following code applies pd.pivot() to place all population totals for a given county within the same row, thus making future growth calculations easier."
   ]
  },
  {
   "cell_type": "code",
   "execution_count": 16,
   "id": "75078fd0-5db7-4593-9973-d67635e8147c",
   "metadata": {
    "execution": {
     "iopub.execute_input": "2025-02-21T03:19:16.585829Z",
     "iopub.status.busy": "2025-02-21T03:19:16.585542Z",
     "iopub.status.idle": "2025-02-21T03:19:16.610324Z",
     "shell.execute_reply": "2025-02-21T03:19:16.609876Z",
     "shell.execute_reply.started": "2025-02-21T03:19:16.585812Z"
    }
   },
   "outputs": [
    {
     "data": {
      "text/html": [
       "<div>\n",
       "<style scoped>\n",
       "    .dataframe tbody tr th:only-of-type {\n",
       "        vertical-align: middle;\n",
       "    }\n",
       "\n",
       "    .dataframe tbody tr th {\n",
       "        vertical-align: top;\n",
       "    }\n",
       "\n",
       "    .dataframe thead tr th {\n",
       "        text-align: left;\n",
       "    }\n",
       "</style>\n",
       "<table border=\"1\" class=\"dataframe\">\n",
       "  <thead>\n",
       "    <tr>\n",
       "      <th></th>\n",
       "      <th>NAME</th>\n",
       "      <th>county</th>\n",
       "      <th>...</th>\n",
       "      <th colspan=\"2\" halign=\"left\">Total_Pop_25_to_29</th>\n",
       "    </tr>\n",
       "    <tr>\n",
       "      <th>Year</th>\n",
       "      <th></th>\n",
       "      <th></th>\n",
       "      <th>...</th>\n",
       "      <th>2016</th>\n",
       "      <th>2021</th>\n",
       "    </tr>\n",
       "  </thead>\n",
       "  <tbody>\n",
       "    <tr>\n",
       "      <th>0</th>\n",
       "      <td>Abbeville County, South Carolina</td>\n",
       "      <td>001</td>\n",
       "      <td>...</td>\n",
       "      <td>1226.0</td>\n",
       "      <td>1292.0</td>\n",
       "    </tr>\n",
       "    <tr>\n",
       "      <th>1</th>\n",
       "      <td>Acadia Parish, Louisiana</td>\n",
       "      <td>001</td>\n",
       "      <td>...</td>\n",
       "      <td>4240.0</td>\n",
       "      <td>3705.0</td>\n",
       "    </tr>\n",
       "    <tr>\n",
       "      <th>2</th>\n",
       "      <td>Accomack County, Virginia</td>\n",
       "      <td>001</td>\n",
       "      <td>...</td>\n",
       "      <td>1819.0</td>\n",
       "      <td>1907.0</td>\n",
       "    </tr>\n",
       "    <tr>\n",
       "      <th>3</th>\n",
       "      <td>Ada County, Idaho</td>\n",
       "      <td>001</td>\n",
       "      <td>...</td>\n",
       "      <td>30646.0</td>\n",
       "      <td>33625.0</td>\n",
       "    </tr>\n",
       "    <tr>\n",
       "      <th>4</th>\n",
       "      <td>Adair County, Iowa</td>\n",
       "      <td>001</td>\n",
       "      <td>...</td>\n",
       "      <td>362.0</td>\n",
       "      <td>411.0</td>\n",
       "    </tr>\n",
       "  </tbody>\n",
       "</table>\n",
       "<p>5 rows × 15 columns</p>\n",
       "</div>"
      ],
      "text/plain": [
       "0                                 NAME county  ... Total_Pop_25_to_29         \n",
       "Year                                           ...               2016     2021\n",
       "0     Abbeville County, South Carolina    001  ...             1226.0   1292.0\n",
       "1             Acadia Parish, Louisiana    001  ...             4240.0   3705.0\n",
       "2            Accomack County, Virginia    001  ...             1819.0   1907.0\n",
       "3                    Ada County, Idaho    001  ...            30646.0  33625.0\n",
       "4                   Adair County, Iowa    001  ...              362.0    411.0\n",
       "\n",
       "[5 rows x 15 columns]"
      ]
     },
     "execution_count": 16,
     "metadata": {},
     "output_type": "execute_result"
    }
   ],
   "source": [
    "df_growth_data_by_year_pivot = df_growth_data_by_year.copy().pivot(\n",
    "    columns = 'Year', index = ['NAME', 'county', 'state']).reset_index()\n",
    "# The values could be named explicitly, but since pivot() will infer them\n",
    "    # automatically, there's no need to do so. The following code is thus\n",
    "    # commented out.\n",
    "    # values = ['Total_Pop',\n",
    "#           'Total_Pop_25_to_29']\n",
    "\n",
    "df_growth_data_by_year_pivot.head()"
   ]
  },
  {
   "cell_type": "markdown",
   "id": "93d287d2-3abe-4c97-b548-cedbcbc9560a",
   "metadata": {},
   "source": [
    "We'll now call to_flat_index() in order to group all column data within the same row:"
   ]
  },
  {
   "cell_type": "code",
   "execution_count": 17,
   "id": "19d8ae55-d051-40be-822c-fac34aace421",
   "metadata": {
    "execution": {
     "iopub.execute_input": "2025-02-21T03:19:16.610996Z",
     "iopub.status.busy": "2025-02-21T03:19:16.610825Z",
     "iopub.status.idle": "2025-02-21T03:19:16.618582Z",
     "shell.execute_reply": "2025-02-21T03:19:16.618250Z",
     "shell.execute_reply.started": "2025-02-21T03:19:16.610978Z"
    }
   },
   "outputs": [
    {
     "data": {
      "text/html": [
       "<div>\n",
       "<style scoped>\n",
       "    .dataframe tbody tr th:only-of-type {\n",
       "        vertical-align: middle;\n",
       "    }\n",
       "\n",
       "    .dataframe tbody tr th {\n",
       "        vertical-align: top;\n",
       "    }\n",
       "\n",
       "    .dataframe thead th {\n",
       "        text-align: right;\n",
       "    }\n",
       "</style>\n",
       "<table border=\"1\" class=\"dataframe\">\n",
       "  <thead>\n",
       "    <tr style=\"text-align: right;\">\n",
       "      <th></th>\n",
       "      <th>(NAME, )</th>\n",
       "      <th>(county, )</th>\n",
       "      <th>...</th>\n",
       "      <th>(Total_Pop_25_to_29, 2016)</th>\n",
       "      <th>(Total_Pop_25_to_29, 2021)</th>\n",
       "    </tr>\n",
       "  </thead>\n",
       "  <tbody>\n",
       "    <tr>\n",
       "      <th>0</th>\n",
       "      <td>Abbeville County, South Carolina</td>\n",
       "      <td>001</td>\n",
       "      <td>...</td>\n",
       "      <td>1226.0</td>\n",
       "      <td>1292.0</td>\n",
       "    </tr>\n",
       "    <tr>\n",
       "      <th>1</th>\n",
       "      <td>Acadia Parish, Louisiana</td>\n",
       "      <td>001</td>\n",
       "      <td>...</td>\n",
       "      <td>4240.0</td>\n",
       "      <td>3705.0</td>\n",
       "    </tr>\n",
       "    <tr>\n",
       "      <th>2</th>\n",
       "      <td>Accomack County, Virginia</td>\n",
       "      <td>001</td>\n",
       "      <td>...</td>\n",
       "      <td>1819.0</td>\n",
       "      <td>1907.0</td>\n",
       "    </tr>\n",
       "    <tr>\n",
       "      <th>3</th>\n",
       "      <td>Ada County, Idaho</td>\n",
       "      <td>001</td>\n",
       "      <td>...</td>\n",
       "      <td>30646.0</td>\n",
       "      <td>33625.0</td>\n",
       "    </tr>\n",
       "    <tr>\n",
       "      <th>4</th>\n",
       "      <td>Adair County, Iowa</td>\n",
       "      <td>001</td>\n",
       "      <td>...</td>\n",
       "      <td>362.0</td>\n",
       "      <td>411.0</td>\n",
       "    </tr>\n",
       "  </tbody>\n",
       "</table>\n",
       "<p>5 rows × 15 columns</p>\n",
       "</div>"
      ],
      "text/plain": [
       "                           (NAME, ) (county, )  ...  \\\n",
       "0  Abbeville County, South Carolina        001  ...   \n",
       "1          Acadia Parish, Louisiana        001  ...   \n",
       "2         Accomack County, Virginia        001  ...   \n",
       "3                 Ada County, Idaho        001  ...   \n",
       "4                Adair County, Iowa        001  ...   \n",
       "\n",
       "  (Total_Pop_25_to_29, 2016)  (Total_Pop_25_to_29, 2021)  \n",
       "0                     1226.0                      1292.0  \n",
       "1                     4240.0                      3705.0  \n",
       "2                     1819.0                      1907.0  \n",
       "3                    30646.0                     33625.0  \n",
       "4                      362.0                       411.0  \n",
       "\n",
       "[5 rows x 15 columns]"
      ]
     },
     "execution_count": 17,
     "metadata": {},
     "output_type": "execute_result"
    }
   ],
   "source": [
    "df_growth_data_by_year_pivot.columns = (\n",
    "    df_growth_data_by_year_pivot.columns.to_flat_index())\n",
    "\n",
    "df_growth_data_by_year_pivot.head()"
   ]
  },
  {
   "cell_type": "markdown",
   "id": "a3d16f7d-88c0-48ca-845e-4c9dd363144f",
   "metadata": {},
   "source": [
    "Next, we'll convert the tuple-based columns created by to_flat_index() to string-based ones by executing a list comprehension. This list comprehension will convert tuples that contain both a string and an integer (e.g. ('Total_Pop', 2011)) to a single string with an underscore separating the two elements. Tuples with an empty second entry (e.g. ('county', '') will get replaced with just the first entry (e.g. 'county')."
   ]
  },
  {
   "cell_type": "code",
   "execution_count": 18,
   "id": "19a3c40b-b012-40d6-b8fc-94c9a038033f",
   "metadata": {
    "execution": {
     "iopub.execute_input": "2025-02-21T03:19:16.618968Z",
     "iopub.status.busy": "2025-02-21T03:19:16.618861Z",
     "iopub.status.idle": "2025-02-21T03:19:16.625946Z",
     "shell.execute_reply": "2025-02-21T03:19:16.625607Z",
     "shell.execute_reply.started": "2025-02-21T03:19:16.618957Z"
    }
   },
   "outputs": [
    {
     "data": {
      "text/html": [
       "<div>\n",
       "<style scoped>\n",
       "    .dataframe tbody tr th:only-of-type {\n",
       "        vertical-align: middle;\n",
       "    }\n",
       "\n",
       "    .dataframe tbody tr th {\n",
       "        vertical-align: top;\n",
       "    }\n",
       "\n",
       "    .dataframe thead th {\n",
       "        text-align: right;\n",
       "    }\n",
       "</style>\n",
       "<table border=\"1\" class=\"dataframe\">\n",
       "  <thead>\n",
       "    <tr style=\"text-align: right;\">\n",
       "      <th></th>\n",
       "      <th>NAME</th>\n",
       "      <th>county</th>\n",
       "      <th>...</th>\n",
       "      <th>Total_Pop_25_to_29_2016</th>\n",
       "      <th>Total_Pop_25_to_29_2021</th>\n",
       "    </tr>\n",
       "  </thead>\n",
       "  <tbody>\n",
       "    <tr>\n",
       "      <th>0</th>\n",
       "      <td>Abbeville County, South Carolina</td>\n",
       "      <td>001</td>\n",
       "      <td>...</td>\n",
       "      <td>1226.0</td>\n",
       "      <td>1292.0</td>\n",
       "    </tr>\n",
       "    <tr>\n",
       "      <th>1</th>\n",
       "      <td>Acadia Parish, Louisiana</td>\n",
       "      <td>001</td>\n",
       "      <td>...</td>\n",
       "      <td>4240.0</td>\n",
       "      <td>3705.0</td>\n",
       "    </tr>\n",
       "    <tr>\n",
       "      <th>2</th>\n",
       "      <td>Accomack County, Virginia</td>\n",
       "      <td>001</td>\n",
       "      <td>...</td>\n",
       "      <td>1819.0</td>\n",
       "      <td>1907.0</td>\n",
       "    </tr>\n",
       "    <tr>\n",
       "      <th>3</th>\n",
       "      <td>Ada County, Idaho</td>\n",
       "      <td>001</td>\n",
       "      <td>...</td>\n",
       "      <td>30646.0</td>\n",
       "      <td>33625.0</td>\n",
       "    </tr>\n",
       "    <tr>\n",
       "      <th>4</th>\n",
       "      <td>Adair County, Iowa</td>\n",
       "      <td>001</td>\n",
       "      <td>...</td>\n",
       "      <td>362.0</td>\n",
       "      <td>411.0</td>\n",
       "    </tr>\n",
       "  </tbody>\n",
       "</table>\n",
       "<p>5 rows × 15 columns</p>\n",
       "</div>"
      ],
      "text/plain": [
       "                               NAME county  ... Total_Pop_25_to_29_2016  \\\n",
       "0  Abbeville County, South Carolina    001  ...                  1226.0   \n",
       "1          Acadia Parish, Louisiana    001  ...                  4240.0   \n",
       "2         Accomack County, Virginia    001  ...                  1819.0   \n",
       "3                 Ada County, Idaho    001  ...                 30646.0   \n",
       "4                Adair County, Iowa    001  ...                   362.0   \n",
       "\n",
       "   Total_Pop_25_to_29_2021  \n",
       "0                   1292.0  \n",
       "1                   3705.0  \n",
       "2                   1907.0  \n",
       "3                  33625.0  \n",
       "4                    411.0  \n",
       "\n",
       "[5 rows x 15 columns]"
      ]
     },
     "execution_count": 18,
     "metadata": {},
     "output_type": "execute_result"
    }
   ],
   "source": [
    "df_growth_data_by_year_pivot.columns = [\n",
    "    column[0] + '_' + str(column[1]) if isinstance(column[1], int) \n",
    "    else column[0] for column in df_growth_data_by_year_pivot.columns]\n",
    "df_growth_data_by_year_pivot.head()"
   ]
  },
  {
   "cell_type": "markdown",
   "id": "5abfbfdd-fc63-494d-987f-ea9c84d38c69",
   "metadata": {},
   "source": [
    "## Adding in comparison fields\n",
    "\n",
    "Now that we have population data for several years in a relatively easy-to-parse format, we can create comparisons between those years--along with corresponding percentile and rank information."
   ]
  },
  {
   "cell_type": "markdown",
   "id": "3e646e80-cd0d-40da-bc2f-2310bfc50619",
   "metadata": {},
   "source": [
    "The following code was derived from my create_enrollment_comparisons() function within  catholic_school_enrollment_trends_v4.ipynb (available at https://github.com/kburchfiel/catholic_school_enrollment/blob/main/catholic_school_enrollment_trends_v4.ipynb)."
   ]
  },
  {
   "cell_type": "markdown",
   "id": "46677396-2477-4649-a95d-d56a3bfebbc9",
   "metadata": {},
   "source": [
    "`create_comparison_fields` will now be called twice to create growth metrics for both total county populations and residents in the 25-29 age range."
   ]
  },
  {
   "cell_type": "code",
   "execution_count": 19,
   "id": "d0cf3b37-a74f-4080-aaa8-2b348de911a4",
   "metadata": {
    "execution": {
     "iopub.execute_input": "2025-02-21T03:19:16.626467Z",
     "iopub.status.busy": "2025-02-21T03:19:16.626343Z",
     "iopub.status.idle": "2025-02-21T03:19:16.652391Z",
     "shell.execute_reply": "2025-02-21T03:19:16.652051Z",
     "shell.execute_reply.started": "2025-02-21T03:19:16.626456Z"
    }
   },
   "outputs": [],
   "source": [
    "for field_var in ['Total_Pop', 'Total_Pop_25_to_29']:\n",
    "    create_comparison_fields(\n",
    "        df = df_growth_data_by_year_pivot,\n",
    "        field_var = field_var,\n",
    "        year_list = years_to_retrieve,\n",
    "        field_year_separator='_')"
   ]
  },
  {
   "cell_type": "code",
   "execution_count": 20,
   "id": "a636fe47-05d4-4779-95a0-f0e8651609ad",
   "metadata": {
    "execution": {
     "iopub.execute_input": "2025-02-21T03:19:16.653043Z",
     "iopub.status.busy": "2025-02-21T03:19:16.652788Z",
     "iopub.status.idle": "2025-02-21T03:19:16.659154Z",
     "shell.execute_reply": "2025-02-21T03:19:16.658844Z",
     "shell.execute_reply.started": "2025-02-21T03:19:16.653029Z"
    }
   },
   "outputs": [
    {
     "data": {
      "text/html": [
       "<div>\n",
       "<style scoped>\n",
       "    .dataframe tbody tr th:only-of-type {\n",
       "        vertical-align: middle;\n",
       "    }\n",
       "\n",
       "    .dataframe tbody tr th {\n",
       "        vertical-align: top;\n",
       "    }\n",
       "\n",
       "    .dataframe thead th {\n",
       "        text-align: right;\n",
       "    }\n",
       "</style>\n",
       "<table border=\"1\" class=\"dataframe\">\n",
       "  <thead>\n",
       "    <tr style=\"text-align: right;\">\n",
       "      <th></th>\n",
       "      <th>NAME</th>\n",
       "      <th>county</th>\n",
       "      <th>...</th>\n",
       "      <th>2016-2021 Total_Pop_25_to_29 % Change Rank</th>\n",
       "      <th>2016-2021 Total_Pop_25_to_29 % Change Percentile</th>\n",
       "    </tr>\n",
       "  </thead>\n",
       "  <tbody>\n",
       "    <tr>\n",
       "      <th>0</th>\n",
       "      <td>Abbeville County, South Carolina</td>\n",
       "      <td>001</td>\n",
       "      <td>...</td>\n",
       "      <td>1357.0</td>\n",
       "      <td>56.829035</td>\n",
       "    </tr>\n",
       "    <tr>\n",
       "      <th>1</th>\n",
       "      <td>Acadia Parish, Louisiana</td>\n",
       "      <td>001</td>\n",
       "      <td>...</td>\n",
       "      <td>2812.0</td>\n",
       "      <td>10.506208</td>\n",
       "    </tr>\n",
       "    <tr>\n",
       "      <th>2</th>\n",
       "      <td>Accomack County, Virginia</td>\n",
       "      <td>001</td>\n",
       "      <td>...</td>\n",
       "      <td>1426.0</td>\n",
       "      <td>54.632283</td>\n",
       "    </tr>\n",
       "    <tr>\n",
       "      <th>3</th>\n",
       "      <td>Ada County, Idaho</td>\n",
       "      <td>001</td>\n",
       "      <td>...</td>\n",
       "      <td>869.0</td>\n",
       "      <td>72.365489</td>\n",
       "    </tr>\n",
       "    <tr>\n",
       "      <th>4</th>\n",
       "      <td>Adair County, Iowa</td>\n",
       "      <td>001</td>\n",
       "      <td>...</td>\n",
       "      <td>588.0</td>\n",
       "      <td>81.311684</td>\n",
       "    </tr>\n",
       "  </tbody>\n",
       "</table>\n",
       "<p>5 rows × 75 columns</p>\n",
       "</div>"
      ],
      "text/plain": [
       "                               NAME county  ...  \\\n",
       "0  Abbeville County, South Carolina    001  ...   \n",
       "1          Acadia Parish, Louisiana    001  ...   \n",
       "2         Accomack County, Virginia    001  ...   \n",
       "3                 Ada County, Idaho    001  ...   \n",
       "4                Adair County, Iowa    001  ...   \n",
       "\n",
       "  2016-2021 Total_Pop_25_to_29 % Change Rank  \\\n",
       "0                                     1357.0   \n",
       "1                                     2812.0   \n",
       "2                                     1426.0   \n",
       "3                                      869.0   \n",
       "4                                      588.0   \n",
       "\n",
       "   2016-2021 Total_Pop_25_to_29 % Change Percentile  \n",
       "0                                         56.829035  \n",
       "1                                         10.506208  \n",
       "2                                         54.632283  \n",
       "3                                         72.365489  \n",
       "4                                         81.311684  \n",
       "\n",
       "[5 rows x 75 columns]"
      ]
     },
     "execution_count": 20,
     "metadata": {},
     "output_type": "execute_result"
    }
   ],
   "source": [
    "df_growth_data_by_year_pivot.head(5)"
   ]
  },
  {
   "cell_type": "markdown",
   "id": "9840e7a8-43b8-4c15-b11a-710deeb225df",
   "metadata": {},
   "source": [
    "## Ranking counties by population growth\n",
    "\n",
    "We'l now sort this dataset to answer a few questions:\n",
    "\n",
    "1. Which counties had the highest (and lowest) total population growth rates between 2016 and 2021? (We'll evaluate this question for both counties with at least 100,000 residents in 2016 and those with at least one million residents).\n",
    "\n",
    "2. Which counties experienced the highest (and lowest) 25-to-29-year-old population growth rates?\n",
    "\n",
    "First, we'll specify a few variables that will be used within our analyses:"
   ]
  },
  {
   "cell_type": "code",
   "execution_count": 21,
   "id": "83a086a4-9f3f-4cb5-a1cd-2abc8c9d5963",
   "metadata": {
    "execution": {
     "iopub.execute_input": "2025-02-21T03:19:16.659958Z",
     "iopub.status.busy": "2025-02-21T03:19:16.659692Z",
     "iopub.status.idle": "2025-02-21T03:19:16.663146Z",
     "shell.execute_reply": "2025-02-21T03:19:16.662833Z",
     "shell.execute_reply.started": "2025-02-21T03:19:16.659940Z"
    }
   },
   "outputs": [],
   "source": [
    "range_for_sorting = 5\n",
    "range_start_year = acs5_year - range_for_sorting \n",
    "\n",
    "total_pop_var_for_sorting = 'Total_Pop'\n",
    "total_pop_sort_column = f'{range_start_year}-{acs5_year} \\\n",
    "{total_pop_var_for_sorting} % Change Rank'\n",
    "\n",
    "young_pop_var_for_sorting = 'Total_Pop_25_to_29'\n",
    "young_pop_sort_column = f'{range_start_year}-{acs5_year} \\\n",
    "{young_pop_var_for_sorting} % Change Rank'\n",
    "\n"
   ]
  },
  {
   "cell_type": "code",
   "execution_count": 22,
   "id": "c412d59c-d8a2-48a3-b080-cf11e5b04e62",
   "metadata": {
    "execution": {
     "iopub.execute_input": "2025-02-21T03:19:16.663757Z",
     "iopub.status.busy": "2025-02-21T03:19:16.663540Z",
     "iopub.status.idle": "2025-02-21T03:19:16.666988Z",
     "shell.execute_reply": "2025-02-21T03:19:16.666676Z",
     "shell.execute_reply.started": "2025-02-21T03:19:16.663745Z"
    }
   },
   "outputs": [],
   "source": [
    "total_pop_col_root = f'{range_start_year}-{acs5_year} \\\n",
    "{total_pop_var_for_sorting}' # The 'root' from which other column entries will \n",
    "# derive.\n",
    "\n",
    "young_pop_col_root = f'{range_start_year}-{acs5_year} \\\n",
    "{young_pop_var_for_sorting}'"
   ]
  },
  {
   "cell_type": "markdown",
   "id": "5fc8875a-6913-4218-a403-629ffa384b01",
   "metadata": {},
   "source": [
    "The following function will help condense the output of our analyses, thus making them more readable."
   ]
  },
  {
   "cell_type": "code",
   "execution_count": 23,
   "id": "52550279-c8ac-45a3-b550-f9ddf31f1f61",
   "metadata": {
    "execution": {
     "iopub.execute_input": "2025-02-21T03:19:16.667582Z",
     "iopub.status.busy": "2025-02-21T03:19:16.667461Z",
     "iopub.status.idle": "2025-02-21T03:19:16.671052Z",
     "shell.execute_reply": "2025-02-21T03:19:16.670770Z",
     "shell.execute_reply.started": "2025-02-21T03:19:16.667571Z"
    }
   },
   "outputs": [],
   "source": [
    "def gen_display_cols(col_root):\n",
    "    '''This function specifies which DataFrame columns to display within a \n",
    "    given output. It does so by adding various suffixes to a col_root\n",
    "    value (e.g. '2016-2021 Total_Pop'.'''\n",
    "    return ['NAME', f'{col_root} Change', f'{col_root} % Change',\n",
    "            f'{col_root} % Change Rank', f'{col_root} % Change Percentile']"
   ]
  },
  {
   "cell_type": "code",
   "execution_count": 24,
   "id": "72ca45bd-deed-4c99-a1f3-08f7be78eb1d",
   "metadata": {
    "execution": {
     "iopub.execute_input": "2025-02-21T03:19:16.671534Z",
     "iopub.status.busy": "2025-02-21T03:19:16.671365Z",
     "iopub.status.idle": "2025-02-21T03:19:16.675312Z",
     "shell.execute_reply": "2025-02-21T03:19:16.674984Z",
     "shell.execute_reply.started": "2025-02-21T03:19:16.671518Z"
    }
   },
   "outputs": [
    {
     "data": {
      "text/plain": [
       "['NAME',\n",
       " '2016-2021 Total_Pop Change',\n",
       " '2016-2021 Total_Pop % Change',\n",
       " '2016-2021 Total_Pop % Change Rank',\n",
       " '2016-2021 Total_Pop % Change Percentile']"
      ]
     },
     "execution_count": 24,
     "metadata": {},
     "output_type": "execute_result"
    }
   ],
   "source": [
    "total_pop_display_cols = gen_display_cols(total_pop_col_root)\n",
    "young_pop_display_cols = gen_display_cols(young_pop_col_root)\n",
    "total_pop_display_cols"
   ]
  },
  {
   "cell_type": "markdown",
   "id": "6913b76a-8b8e-4fb0-8c5e-bb586c4cf5d6",
   "metadata": {},
   "source": [
    "### Sorting counties with at least 100K residents in 2016 by their 2016-2021 total population growth rates:"
   ]
  },
  {
   "cell_type": "code",
   "execution_count": 25,
   "id": "fa03c2be-0c03-4f9b-8519-87d77c9b0dcb",
   "metadata": {
    "execution": {
     "iopub.execute_input": "2025-02-21T03:19:16.675815Z",
     "iopub.status.busy": "2025-02-21T03:19:16.675684Z",
     "iopub.status.idle": "2025-02-21T03:19:16.692964Z",
     "shell.execute_reply": "2025-02-21T03:19:16.692582Z",
     "shell.execute_reply.started": "2025-02-21T03:19:16.675801Z"
    }
   },
   "outputs": [
    {
     "data": {
      "text/html": [
       "<div>\n",
       "<style scoped>\n",
       "    .dataframe tbody tr th:only-of-type {\n",
       "        vertical-align: middle;\n",
       "    }\n",
       "\n",
       "    .dataframe tbody tr th {\n",
       "        vertical-align: top;\n",
       "    }\n",
       "\n",
       "    .dataframe thead th {\n",
       "        text-align: right;\n",
       "    }\n",
       "</style>\n",
       "<table border=\"1\" class=\"dataframe\">\n",
       "  <thead>\n",
       "    <tr style=\"text-align: right;\">\n",
       "      <th></th>\n",
       "      <th>NAME</th>\n",
       "      <th>2016-2021 Total_Pop Change</th>\n",
       "      <th>...</th>\n",
       "      <th>2016-2021 Total_Pop % Change Rank</th>\n",
       "      <th>2016-2021 Total_Pop % Change Percentile</th>\n",
       "    </tr>\n",
       "  </thead>\n",
       "  <tbody>\n",
       "    <tr>\n",
       "      <th>0</th>\n",
       "      <td>Hays County, Texas</td>\n",
       "      <td>48887.0</td>\n",
       "      <td>...</td>\n",
       "      <td>10.0</td>\n",
       "      <td>99.713467</td>\n",
       "    </tr>\n",
       "    <tr>\n",
       "      <th>1</th>\n",
       "      <td>Comal County, Texas</td>\n",
       "      <td>32023.0</td>\n",
       "      <td>...</td>\n",
       "      <td>12.0</td>\n",
       "      <td>99.649793</td>\n",
       "    </tr>\n",
       "    <tr>\n",
       "      <th>...</th>\n",
       "      <td>...</td>\n",
       "      <td>...</td>\n",
       "      <td>...</td>\n",
       "      <td>...</td>\n",
       "      <td>...</td>\n",
       "    </tr>\n",
       "    <tr>\n",
       "      <th>589</th>\n",
       "      <td>Hinds County, Mississippi</td>\n",
       "      <td>-13824.0</td>\n",
       "      <td>...</td>\n",
       "      <td>2746.0</td>\n",
       "      <td>12.607450</td>\n",
       "    </tr>\n",
       "    <tr>\n",
       "      <th>590</th>\n",
       "      <td>Robeson County, North Carolina</td>\n",
       "      <td>-15740.0</td>\n",
       "      <td>...</td>\n",
       "      <td>3056.0</td>\n",
       "      <td>2.737982</td>\n",
       "    </tr>\n",
       "  </tbody>\n",
       "</table>\n",
       "<p>591 rows × 5 columns</p>\n",
       "</div>"
      ],
      "text/plain": [
       "                               NAME  2016-2021 Total_Pop Change  ...  \\\n",
       "0                Hays County, Texas                     48887.0  ...   \n",
       "1               Comal County, Texas                     32023.0  ...   \n",
       "..                              ...                         ...  ...   \n",
       "589       Hinds County, Mississippi                    -13824.0  ...   \n",
       "590  Robeson County, North Carolina                    -15740.0  ...   \n",
       "\n",
       "     2016-2021 Total_Pop % Change Rank  \\\n",
       "0                                 10.0   \n",
       "1                                 12.0   \n",
       "..                                 ...   \n",
       "589                             2746.0   \n",
       "590                             3056.0   \n",
       "\n",
       "     2016-2021 Total_Pop % Change Percentile  \n",
       "0                                  99.713467  \n",
       "1                                  99.649793  \n",
       "..                                       ...  \n",
       "589                                12.607450  \n",
       "590                                 2.737982  \n",
       "\n",
       "[591 rows x 5 columns]"
      ]
     },
     "execution_count": 25,
     "metadata": {},
     "output_type": "execute_result"
    }
   ],
   "source": [
    "df_growth_data_by_year_pivot.query(\n",
    "    f\"Total_Pop_{range_start_year} >= 100000\").sort_values(\n",
    "    total_pop_sort_column).dropna(subset = total_pop_sort_column)[\n",
    "total_pop_display_cols].reset_index(drop=True)"
   ]
  },
  {
   "cell_type": "markdown",
   "id": "b8a5ce5d-be7a-4782-a22a-41cb27605f36",
   "metadata": {},
   "source": [
    "### Sorting counties with at least *one million* residents in 2016 by their 2016-2021 total population growth rates:\n",
    "\n",
    "Combining `concat()` with `head()` and `tail()` will allow us to display the counties with the highest and lowest growth rates within the same DataFrame."
   ]
  },
  {
   "cell_type": "code",
   "execution_count": 26,
   "id": "996badd8-3ad8-4108-a472-a718a7820b19",
   "metadata": {
    "execution": {
     "iopub.execute_input": "2025-02-21T03:19:16.693655Z",
     "iopub.status.busy": "2025-02-21T03:19:16.693453Z",
     "iopub.status.idle": "2025-02-21T03:19:16.710268Z",
     "shell.execute_reply": "2025-02-21T03:19:16.709835Z",
     "shell.execute_reply.started": "2025-02-21T03:19:16.693636Z"
    }
   },
   "outputs": [
    {
     "data": {
      "text/html": [
       "<div>\n",
       "<style scoped>\n",
       "    .dataframe tbody tr th:only-of-type {\n",
       "        vertical-align: middle;\n",
       "    }\n",
       "\n",
       "    .dataframe tbody tr th {\n",
       "        vertical-align: top;\n",
       "    }\n",
       "\n",
       "    .dataframe thead th {\n",
       "        text-align: right;\n",
       "    }\n",
       "</style>\n",
       "<table border=\"1\" class=\"dataframe\">\n",
       "  <thead>\n",
       "    <tr style=\"text-align: right;\">\n",
       "      <th></th>\n",
       "      <th>NAME</th>\n",
       "      <th>2016-2021 Total_Pop Change</th>\n",
       "      <th>...</th>\n",
       "      <th>2016-2021 Total_Pop % Change Rank</th>\n",
       "      <th>2016-2021 Total_Pop % Change Percentile</th>\n",
       "    </tr>\n",
       "  </thead>\n",
       "  <tbody>\n",
       "    <tr>\n",
       "      <th>0</th>\n",
       "      <td>Orange County, Florida</td>\n",
       "      <td>153894.0</td>\n",
       "      <td>...</td>\n",
       "      <td>94.0</td>\n",
       "      <td>97.039160</td>\n",
       "    </tr>\n",
       "    <tr>\n",
       "      <th>1</th>\n",
       "      <td>Travis County, Texas</td>\n",
       "      <td>119619.0</td>\n",
       "      <td>...</td>\n",
       "      <td>140.0</td>\n",
       "      <td>95.574658</td>\n",
       "    </tr>\n",
       "    <tr>\n",
       "      <th>...</th>\n",
       "      <td>...</td>\n",
       "      <td>...</td>\n",
       "      <td>...</td>\n",
       "      <td>...</td>\n",
       "      <td>...</td>\n",
       "    </tr>\n",
       "    <tr>\n",
       "      <th>41</th>\n",
       "      <td>St. Louis County, Missouri</td>\n",
       "      <td>1422.0</td>\n",
       "      <td>...</td>\n",
       "      <td>1543.0</td>\n",
       "      <td>50.907354</td>\n",
       "    </tr>\n",
       "    <tr>\n",
       "      <th>42</th>\n",
       "      <td>Los Angeles County, California</td>\n",
       "      <td>-37520.0</td>\n",
       "      <td>...</td>\n",
       "      <td>1687.0</td>\n",
       "      <td>46.322827</td>\n",
       "    </tr>\n",
       "  </tbody>\n",
       "</table>\n",
       "<p>10 rows × 5 columns</p>\n",
       "</div>"
      ],
      "text/plain": [
       "                              NAME  2016-2021 Total_Pop Change  ...  \\\n",
       "0           Orange County, Florida                    153894.0  ...   \n",
       "1             Travis County, Texas                    119619.0  ...   \n",
       "..                             ...                         ...  ...   \n",
       "41      St. Louis County, Missouri                      1422.0  ...   \n",
       "42  Los Angeles County, California                    -37520.0  ...   \n",
       "\n",
       "    2016-2021 Total_Pop % Change Rank  2016-2021 Total_Pop % Change Percentile  \n",
       "0                                94.0                                97.039160  \n",
       "1                               140.0                                95.574658  \n",
       "..                                ...                                      ...  \n",
       "41                             1543.0                                50.907354  \n",
       "42                             1687.0                                46.322827  \n",
       "\n",
       "[10 rows x 5 columns]"
      ]
     },
     "execution_count": 26,
     "metadata": {},
     "output_type": "execute_result"
    }
   ],
   "source": [
    "df_1m_pop_pct_changes = df_growth_data_by_year_pivot.query(\n",
    "    f\"Total_Pop_{range_start_year} >= 1000000\").sort_values(\n",
    "    total_pop_sort_column).dropna(\n",
    "    subset = total_pop_sort_column).copy().reset_index()\n",
    "pd.concat([df_1m_pop_pct_changes.head(), df_1m_pop_pct_changes.tail()])[\n",
    "total_pop_display_cols]"
   ]
  },
  {
   "cell_type": "markdown",
   "id": "3873650c-cb9a-45e8-a3d4-e5e812000032",
   "metadata": {},
   "source": [
    "## Repeating these steps in order to compare 25-to-29-year-old population growth rates"
   ]
  },
  {
   "cell_type": "code",
   "execution_count": 27,
   "id": "8a4404e9-d462-4870-82d7-c14ee3853eda",
   "metadata": {
    "execution": {
     "iopub.execute_input": "2025-02-21T03:19:16.710857Z",
     "iopub.status.busy": "2025-02-21T03:19:16.710710Z",
     "iopub.status.idle": "2025-02-21T03:19:16.728956Z",
     "shell.execute_reply": "2025-02-21T03:19:16.728649Z",
     "shell.execute_reply.started": "2025-02-21T03:19:16.710844Z"
    }
   },
   "outputs": [
    {
     "data": {
      "text/html": [
       "<div>\n",
       "<style scoped>\n",
       "    .dataframe tbody tr th:only-of-type {\n",
       "        vertical-align: middle;\n",
       "    }\n",
       "\n",
       "    .dataframe tbody tr th {\n",
       "        vertical-align: top;\n",
       "    }\n",
       "\n",
       "    .dataframe thead th {\n",
       "        text-align: right;\n",
       "    }\n",
       "</style>\n",
       "<table border=\"1\" class=\"dataframe\">\n",
       "  <thead>\n",
       "    <tr style=\"text-align: right;\">\n",
       "      <th></th>\n",
       "      <th>NAME</th>\n",
       "      <th>2016-2021 Total_Pop_25_to_29 Change</th>\n",
       "      <th>...</th>\n",
       "      <th>2016-2021 Total_Pop_25_to_29 % Change Rank</th>\n",
       "      <th>2016-2021 Total_Pop_25_to_29 % Change Percentile</th>\n",
       "    </tr>\n",
       "  </thead>\n",
       "  <tbody>\n",
       "    <tr>\n",
       "      <th>0</th>\n",
       "      <td>Douglas County, Colorado</td>\n",
       "      <td>4368.0</td>\n",
       "      <td>...</td>\n",
       "      <td>148.0</td>\n",
       "      <td>95.319962</td>\n",
       "    </tr>\n",
       "    <tr>\n",
       "      <th>1</th>\n",
       "      <td>Comal County, Texas</td>\n",
       "      <td>2035.0</td>\n",
       "      <td>...</td>\n",
       "      <td>150.0</td>\n",
       "      <td>95.256288</td>\n",
       "    </tr>\n",
       "    <tr>\n",
       "      <th>...</th>\n",
       "      <td>...</td>\n",
       "      <td>...</td>\n",
       "      <td>...</td>\n",
       "      <td>...</td>\n",
       "      <td>...</td>\n",
       "    </tr>\n",
       "    <tr>\n",
       "      <th>589</th>\n",
       "      <td>Caddo Parish, Louisiana</td>\n",
       "      <td>-2048.0</td>\n",
       "      <td>...</td>\n",
       "      <td>2765.0</td>\n",
       "      <td>12.002547</td>\n",
       "    </tr>\n",
       "    <tr>\n",
       "      <th>590</th>\n",
       "      <td>Orleans Parish, Louisiana</td>\n",
       "      <td>-6371.0</td>\n",
       "      <td>...</td>\n",
       "      <td>2898.0</td>\n",
       "      <td>7.768227</td>\n",
       "    </tr>\n",
       "  </tbody>\n",
       "</table>\n",
       "<p>591 rows × 5 columns</p>\n",
       "</div>"
      ],
      "text/plain": [
       "                          NAME  2016-2021 Total_Pop_25_to_29 Change  ...  \\\n",
       "0     Douglas County, Colorado                               4368.0  ...   \n",
       "1          Comal County, Texas                               2035.0  ...   \n",
       "..                         ...                                  ...  ...   \n",
       "589    Caddo Parish, Louisiana                              -2048.0  ...   \n",
       "590  Orleans Parish, Louisiana                              -6371.0  ...   \n",
       "\n",
       "     2016-2021 Total_Pop_25_to_29 % Change Rank  \\\n",
       "0                                         148.0   \n",
       "1                                         150.0   \n",
       "..                                          ...   \n",
       "589                                      2765.0   \n",
       "590                                      2898.0   \n",
       "\n",
       "     2016-2021 Total_Pop_25_to_29 % Change Percentile  \n",
       "0                                           95.319962  \n",
       "1                                           95.256288  \n",
       "..                                                ...  \n",
       "589                                         12.002547  \n",
       "590                                          7.768227  \n",
       "\n",
       "[591 rows x 5 columns]"
      ]
     },
     "execution_count": 27,
     "metadata": {},
     "output_type": "execute_result"
    }
   ],
   "source": [
    "df_growth_data_by_year_pivot.query(\n",
    "    f\"Total_Pop_{range_start_year} >= 100000\").sort_values(\n",
    "    young_pop_sort_column).dropna(subset = young_pop_sort_column)[\n",
    "young_pop_display_cols].reset_index(drop=True)"
   ]
  },
  {
   "cell_type": "code",
   "execution_count": 28,
   "id": "a6eaa212-71d4-4005-af0d-4f3c545ac85f",
   "metadata": {
    "execution": {
     "iopub.execute_input": "2025-02-21T03:19:16.729507Z",
     "iopub.status.busy": "2025-02-21T03:19:16.729340Z",
     "iopub.status.idle": "2025-02-21T03:19:16.757304Z",
     "shell.execute_reply": "2025-02-21T03:19:16.756809Z",
     "shell.execute_reply.started": "2025-02-21T03:19:16.729495Z"
    }
   },
   "outputs": [
    {
     "data": {
      "text/html": [
       "<div>\n",
       "<style scoped>\n",
       "    .dataframe tbody tr th:only-of-type {\n",
       "        vertical-align: middle;\n",
       "    }\n",
       "\n",
       "    .dataframe tbody tr th {\n",
       "        vertical-align: top;\n",
       "    }\n",
       "\n",
       "    .dataframe thead th {\n",
       "        text-align: right;\n",
       "    }\n",
       "</style>\n",
       "<table border=\"1\" class=\"dataframe\">\n",
       "  <thead>\n",
       "    <tr style=\"text-align: right;\">\n",
       "      <th></th>\n",
       "      <th>NAME</th>\n",
       "      <th>2016-2021 Total_Pop_25_to_29 Change</th>\n",
       "      <th>...</th>\n",
       "      <th>2016-2021 Total_Pop_25_to_29 % Change Rank</th>\n",
       "      <th>2016-2021 Total_Pop_25_to_29 % Change Percentile</th>\n",
       "    </tr>\n",
       "  </thead>\n",
       "  <tbody>\n",
       "    <tr>\n",
       "      <th>0</th>\n",
       "      <td>Pima County, Arizona</td>\n",
       "      <td>9395.0</td>\n",
       "      <td>...</td>\n",
       "      <td>490.0</td>\n",
       "      <td>84.431710</td>\n",
       "    </tr>\n",
       "    <tr>\n",
       "      <th>1</th>\n",
       "      <td>Wayne County, Michigan</td>\n",
       "      <td>16073.0</td>\n",
       "      <td>...</td>\n",
       "      <td>590.0</td>\n",
       "      <td>81.248010</td>\n",
       "    </tr>\n",
       "    <tr>\n",
       "      <th>...</th>\n",
       "      <td>...</td>\n",
       "      <td>...</td>\n",
       "      <td>...</td>\n",
       "      <td>...</td>\n",
       "      <td>...</td>\n",
       "    </tr>\n",
       "    <tr>\n",
       "      <th>41</th>\n",
       "      <td>Montgomery County, Maryland</td>\n",
       "      <td>-4043.0</td>\n",
       "      <td>...</td>\n",
       "      <td>2521.0</td>\n",
       "      <td>19.770774</td>\n",
       "    </tr>\n",
       "    <tr>\n",
       "      <th>42</th>\n",
       "      <td>New York County, New York</td>\n",
       "      <td>-14977.0</td>\n",
       "      <td>...</td>\n",
       "      <td>2608.0</td>\n",
       "      <td>17.000955</td>\n",
       "    </tr>\n",
       "  </tbody>\n",
       "</table>\n",
       "<p>10 rows × 5 columns</p>\n",
       "</div>"
      ],
      "text/plain": [
       "                           NAME  2016-2021 Total_Pop_25_to_29 Change  ...  \\\n",
       "0          Pima County, Arizona                               9395.0  ...   \n",
       "1        Wayne County, Michigan                              16073.0  ...   \n",
       "..                          ...                                  ...  ...   \n",
       "41  Montgomery County, Maryland                              -4043.0  ...   \n",
       "42    New York County, New York                             -14977.0  ...   \n",
       "\n",
       "    2016-2021 Total_Pop_25_to_29 % Change Rank  \\\n",
       "0                                        490.0   \n",
       "1                                        590.0   \n",
       "..                                         ...   \n",
       "41                                      2521.0   \n",
       "42                                      2608.0   \n",
       "\n",
       "    2016-2021 Total_Pop_25_to_29 % Change Percentile  \n",
       "0                                          84.431710  \n",
       "1                                          81.248010  \n",
       "..                                               ...  \n",
       "41                                         19.770774  \n",
       "42                                         17.000955  \n",
       "\n",
       "[10 rows x 5 columns]"
      ]
     },
     "execution_count": 28,
     "metadata": {},
     "output_type": "execute_result"
    }
   ],
   "source": [
    "df_1m_pop_pct_changes = df_growth_data_by_year_pivot.query(\n",
    "    f\"Total_Pop_{range_start_year} >= 1000000\").sort_values(\n",
    "    young_pop_sort_column).dropna(\n",
    "    subset = young_pop_sort_column).copy().reset_index()\n",
    "pd.concat([df_1m_pop_pct_changes.head(), df_1m_pop_pct_changes.tail()])[\n",
    "young_pop_display_cols]"
   ]
  },
  {
   "cell_type": "markdown",
   "id": "bc62dede-8c9c-4319-aebe-0a09afce7101",
   "metadata": {},
   "source": [
    "Although it's interesting to see which counties had the very highest and lowest growth rates, these tables provide only a limited view of overall population trends. The best way to evaluate such trends is likely via a choropleth map that will allow viewers to easily compare counties and identify regional trends. (This map will be much more intuitive to interpret than a table with thousands of rows.) We'll create these maps within the Mapping section of Python for Nonprofits.\n",
    "\n",
    "In order to allow our mapping code to access this data, we'll first save it as a .csv file:"
   ]
  },
  {
   "cell_type": "code",
   "execution_count": 29,
   "id": "5f835f22-1246-4dc3-8fed-453ea7756626",
   "metadata": {
    "execution": {
     "iopub.execute_input": "2025-02-21T03:19:16.758211Z",
     "iopub.status.busy": "2025-02-21T03:19:16.757976Z",
     "iopub.status.idle": "2025-02-21T03:19:16.986257Z",
     "shell.execute_reply": "2025-02-21T03:19:16.985927Z",
     "shell.execute_reply.started": "2025-02-21T03:19:16.758191Z"
    }
   },
   "outputs": [],
   "source": [
    "df_growth_data_by_year_pivot.to_csv(\n",
    "f'Datasets/grad_destinations_acs_county_data.csv', \n",
    "    index = False)"
   ]
  },
  {
   "cell_type": "markdown",
   "id": "d1e0c52c-7b01-4fa2-b781-79ffc5325570",
   "metadata": {},
   "source": [
    "## Retrieving state-level data"
   ]
  },
  {
   "cell_type": "markdown",
   "id": "47e4f950-ae6a-4716-9aa8-b136bc459896",
   "metadata": {},
   "source": [
    "Although county-level population growth provides a fascinating look at within-state trends, the broader view that state-level data provides will also prove useful. Therefore, we'll now repurpose the functions, variable, and code created earlier to create a state-level equivalent of df_growth_data_by_year. "
   ]
  },
  {
   "cell_type": "code",
   "execution_count": 30,
   "id": "530678bc-7336-4402-bcea-7298fbff1b0d",
   "metadata": {
    "execution": {
     "iopub.execute_input": "2025-02-21T03:19:16.986799Z",
     "iopub.status.busy": "2025-02-21T03:19:16.986672Z",
     "iopub.status.idle": "2025-02-21T03:19:23.854217Z",
     "shell.execute_reply": "2025-02-21T03:19:23.853873Z",
     "shell.execute_reply.started": "2025-02-21T03:19:16.986784Z"
    }
   },
   "outputs": [
    {
     "data": {
      "text/html": [
       "<div>\n",
       "<style scoped>\n",
       "    .dataframe tbody tr th:only-of-type {\n",
       "        vertical-align: middle;\n",
       "    }\n",
       "\n",
       "    .dataframe tbody tr th {\n",
       "        vertical-align: top;\n",
       "    }\n",
       "\n",
       "    .dataframe thead th {\n",
       "        text-align: right;\n",
       "    }\n",
       "</style>\n",
       "<table border=\"1\" class=\"dataframe\">\n",
       "  <thead>\n",
       "    <tr style=\"text-align: right;\">\n",
       "      <th></th>\n",
       "      <th>Year</th>\n",
       "      <th>NAME</th>\n",
       "      <th>...</th>\n",
       "      <th>SEX BY AGE_Estimate!!Total:!!Male:!!25 to 29 years (B01001_011E)</th>\n",
       "      <th>SEX BY AGE_Estimate!!Total:!!Female:!!25 to 29 years (B01001_035E)</th>\n",
       "    </tr>\n",
       "  </thead>\n",
       "  <tbody>\n",
       "    <tr>\n",
       "      <th>1</th>\n",
       "      <td>2009</td>\n",
       "      <td>Alabama</td>\n",
       "      <td>...</td>\n",
       "      <td>155174</td>\n",
       "      <td>157476</td>\n",
       "    </tr>\n",
       "    <tr>\n",
       "      <th>2</th>\n",
       "      <td>2009</td>\n",
       "      <td>Alaska</td>\n",
       "      <td>...</td>\n",
       "      <td>28543</td>\n",
       "      <td>24663</td>\n",
       "    </tr>\n",
       "    <tr>\n",
       "      <th>...</th>\n",
       "      <td>...</td>\n",
       "      <td>...</td>\n",
       "      <td>...</td>\n",
       "      <td>...</td>\n",
       "      <td>...</td>\n",
       "    </tr>\n",
       "    <tr>\n",
       "      <th>50</th>\n",
       "      <td>2021</td>\n",
       "      <td>Wisconsin</td>\n",
       "      <td>...</td>\n",
       "      <td>189562</td>\n",
       "      <td>180360</td>\n",
       "    </tr>\n",
       "    <tr>\n",
       "      <th>51</th>\n",
       "      <td>2021</td>\n",
       "      <td>Wyoming</td>\n",
       "      <td>...</td>\n",
       "      <td>19511</td>\n",
       "      <td>17813</td>\n",
       "    </tr>\n",
       "  </tbody>\n",
       "</table>\n",
       "<p>306 rows × 6 columns</p>\n",
       "</div>"
      ],
      "text/plain": [
       "0   Year       NAME  ...  \\\n",
       "1   2009    Alabama  ...   \n",
       "2   2009     Alaska  ...   \n",
       "..   ...        ...  ...   \n",
       "50  2021  Wisconsin  ...   \n",
       "51  2021    Wyoming  ...   \n",
       "\n",
       "0  SEX BY AGE_Estimate!!Total:!!Male:!!25 to 29 years (B01001_011E)  \\\n",
       "1                                              155174                 \n",
       "2                                               28543                 \n",
       "..                                                ...                 \n",
       "50                                             189562                 \n",
       "51                                              19511                 \n",
       "\n",
       "0   SEX BY AGE_Estimate!!Total:!!Female:!!25 to 29 years (B01001_035E)  \n",
       "1                                              157476                   \n",
       "2                                               24663                   \n",
       "..                                                ...                   \n",
       "50                                             180360                   \n",
       "51                                              17813                   \n",
       "\n",
       "[306 rows x 6 columns]"
      ]
     },
     "execution_count": 30,
     "metadata": {},
     "output_type": "execute_result"
    }
   ],
   "source": [
    "census_data_by_year_df_list = []\n",
    "for year in years_to_retrieve:\n",
    "    df_data = retrieve_census_data(\n",
    "        survey = 'acs5', year = year, \n",
    "        region = 'state',\n",
    "        variable_list = grad_destinations_variable_list, \n",
    "        rename_data_fields = True, field_vars_dict = grad_destinations_alias_dict,\n",
    "        key = key)\n",
    "    census_data_by_year_df_list.append(df_data)\n",
    "df_state_growth_data_by_year = pd.concat(df for df in census_data_by_year_df_list)\n",
    "df_state_growth_data_by_year.query(\"state != '72'\", inplace = True)\n",
    "df_state_growth_data_by_year"
   ]
  },
  {
   "cell_type": "code",
   "execution_count": 31,
   "id": "1a23c305-e094-423b-9932-4b7a23912b47",
   "metadata": {
    "execution": {
     "iopub.execute_input": "2025-02-21T03:19:23.854663Z",
     "iopub.status.busy": "2025-02-21T03:19:23.854544Z",
     "iopub.status.idle": "2025-02-21T03:19:23.860875Z",
     "shell.execute_reply": "2025-02-21T03:19:23.860593Z",
     "shell.execute_reply.started": "2025-02-21T03:19:23.854646Z"
    }
   },
   "outputs": [
    {
     "data": {
      "text/html": [
       "<div>\n",
       "<style scoped>\n",
       "    .dataframe tbody tr th:only-of-type {\n",
       "        vertical-align: middle;\n",
       "    }\n",
       "\n",
       "    .dataframe tbody tr th {\n",
       "        vertical-align: top;\n",
       "    }\n",
       "\n",
       "    .dataframe thead th {\n",
       "        text-align: right;\n",
       "    }\n",
       "</style>\n",
       "<table border=\"1\" class=\"dataframe\">\n",
       "  <thead>\n",
       "    <tr style=\"text-align: right;\">\n",
       "      <th></th>\n",
       "      <th>Year</th>\n",
       "      <th>NAME</th>\n",
       "      <th>...</th>\n",
       "      <th>Total_Pop</th>\n",
       "      <th>Total_Pop_25_to_29</th>\n",
       "    </tr>\n",
       "  </thead>\n",
       "  <tbody>\n",
       "    <tr>\n",
       "      <th>1</th>\n",
       "      <td>2009</td>\n",
       "      <td>Alabama</td>\n",
       "      <td>...</td>\n",
       "      <td>4633360</td>\n",
       "      <td>312650</td>\n",
       "    </tr>\n",
       "    <tr>\n",
       "      <th>2</th>\n",
       "      <td>2009</td>\n",
       "      <td>Alaska</td>\n",
       "      <td>...</td>\n",
       "      <td>683142</td>\n",
       "      <td>53206</td>\n",
       "    </tr>\n",
       "    <tr>\n",
       "      <th>...</th>\n",
       "      <td>...</td>\n",
       "      <td>...</td>\n",
       "      <td>...</td>\n",
       "      <td>...</td>\n",
       "      <td>...</td>\n",
       "    </tr>\n",
       "    <tr>\n",
       "      <th>50</th>\n",
       "      <td>2021</td>\n",
       "      <td>Wisconsin</td>\n",
       "      <td>...</td>\n",
       "      <td>5871661</td>\n",
       "      <td>369922</td>\n",
       "    </tr>\n",
       "    <tr>\n",
       "      <th>51</th>\n",
       "      <td>2021</td>\n",
       "      <td>Wyoming</td>\n",
       "      <td>...</td>\n",
       "      <td>576641</td>\n",
       "      <td>37324</td>\n",
       "    </tr>\n",
       "  </tbody>\n",
       "</table>\n",
       "<p>306 rows × 5 columns</p>\n",
       "</div>"
      ],
      "text/plain": [
       "0   Year       NAME  ... Total_Pop  Total_Pop_25_to_29\n",
       "1   2009    Alabama  ...   4633360              312650\n",
       "2   2009     Alaska  ...    683142               53206\n",
       "..   ...        ...  ...       ...                 ...\n",
       "50  2021  Wisconsin  ...   5871661              369922\n",
       "51  2021    Wyoming  ...    576641               37324\n",
       "\n",
       "[306 rows x 5 columns]"
      ]
     },
     "execution_count": 31,
     "metadata": {},
     "output_type": "execute_result"
    }
   ],
   "source": [
    "df_state_growth_data_by_year['Total_Pop_25_to_29'] = (df_state_growth_data_by_year[\n",
    "'SEX BY AGE_Estimate!!Total:!!Male:!!25 to 29 years (B01001_011E)'] + \n",
    "df_state_growth_data_by_year[\n",
    "'SEX BY AGE_Estimate!!Total:!!Female:!!25 to 29 years (B01001_035E)'])\n",
    "df_state_growth_data_by_year.rename(\n",
    "    columns = {'SEX BY AGE_Estimate!!Total: (B01001_001E)':'Total_Pop'}, \n",
    "inplace = True)\n",
    "df_state_growth_data_by_year.drop(\n",
    "    ['SEX BY AGE_Estimate!!Total:!!Male:!!25 to 29 years (B01001_011E)',\n",
    "     'SEX BY AGE_Estimate!!Total:!!Female:!!25 to 29 years (B01001_035E)'],\n",
    "     axis = 1, inplace = True)\n",
    "                             \n",
    "\n",
    "df_state_growth_data_by_year"
   ]
  },
  {
   "cell_type": "code",
   "execution_count": 32,
   "id": "1ed6c60e-3f45-4106-85b5-8ba6c89d2fe7",
   "metadata": {
    "execution": {
     "iopub.execute_input": "2025-02-21T03:19:23.861555Z",
     "iopub.status.busy": "2025-02-21T03:19:23.861249Z",
     "iopub.status.idle": "2025-02-21T03:19:23.870851Z",
     "shell.execute_reply": "2025-02-21T03:19:23.870595Z",
     "shell.execute_reply.started": "2025-02-21T03:19:23.861535Z"
    }
   },
   "outputs": [
    {
     "data": {
      "text/html": [
       "<div>\n",
       "<style scoped>\n",
       "    .dataframe tbody tr th:only-of-type {\n",
       "        vertical-align: middle;\n",
       "    }\n",
       "\n",
       "    .dataframe tbody tr th {\n",
       "        vertical-align: top;\n",
       "    }\n",
       "\n",
       "    .dataframe thead th {\n",
       "        text-align: right;\n",
       "    }\n",
       "</style>\n",
       "<table border=\"1\" class=\"dataframe\">\n",
       "  <thead>\n",
       "    <tr style=\"text-align: right;\">\n",
       "      <th></th>\n",
       "      <th>NAME</th>\n",
       "      <th>state</th>\n",
       "      <th>...</th>\n",
       "      <th>Total_Pop_25_to_29_2016</th>\n",
       "      <th>Total_Pop_25_to_29_2021</th>\n",
       "    </tr>\n",
       "  </thead>\n",
       "  <tbody>\n",
       "    <tr>\n",
       "      <th>0</th>\n",
       "      <td>Alabama</td>\n",
       "      <td>01</td>\n",
       "      <td>...</td>\n",
       "      <td>319177</td>\n",
       "      <td>331435</td>\n",
       "    </tr>\n",
       "    <tr>\n",
       "      <th>1</th>\n",
       "      <td>Alaska</td>\n",
       "      <td>02</td>\n",
       "      <td>...</td>\n",
       "      <td>61185</td>\n",
       "      <td>59218</td>\n",
       "    </tr>\n",
       "    <tr>\n",
       "      <th>2</th>\n",
       "      <td>Arizona</td>\n",
       "      <td>04</td>\n",
       "      <td>...</td>\n",
       "      <td>456680</td>\n",
       "      <td>496623</td>\n",
       "    </tr>\n",
       "    <tr>\n",
       "      <th>3</th>\n",
       "      <td>Arkansas</td>\n",
       "      <td>05</td>\n",
       "      <td>...</td>\n",
       "      <td>194179</td>\n",
       "      <td>197068</td>\n",
       "    </tr>\n",
       "    <tr>\n",
       "      <th>4</th>\n",
       "      <td>California</td>\n",
       "      <td>06</td>\n",
       "      <td>...</td>\n",
       "      <td>2918435</td>\n",
       "      <td>2992210</td>\n",
       "    </tr>\n",
       "  </tbody>\n",
       "</table>\n",
       "<p>5 rows × 14 columns</p>\n",
       "</div>"
      ],
      "text/plain": [
       "         NAME state  ...  Total_Pop_25_to_29_2016  Total_Pop_25_to_29_2021\n",
       "0     Alabama    01  ...                   319177                   331435\n",
       "1      Alaska    02  ...                    61185                    59218\n",
       "2     Arizona    04  ...                   456680                   496623\n",
       "3    Arkansas    05  ...                   194179                   197068\n",
       "4  California    06  ...                  2918435                  2992210\n",
       "\n",
       "[5 rows x 14 columns]"
      ]
     },
     "execution_count": 32,
     "metadata": {},
     "output_type": "execute_result"
    }
   ],
   "source": [
    "df_state_growth_data_by_year_pivot = (\n",
    "    df_state_growth_data_by_year.copy().pivot(\n",
    "    columns = 'Year', index = ['NAME', 'state']).reset_index())\n",
    "\n",
    "df_state_growth_data_by_year_pivot.columns = (\n",
    "    df_state_growth_data_by_year_pivot.columns.to_flat_index())\n",
    "\n",
    "df_state_growth_data_by_year_pivot.columns = [\n",
    "    column[0] + '_' + str(column[1]) if isinstance(column[1], int) \n",
    "    else column[0] for column \n",
    "    in df_state_growth_data_by_year_pivot.columns]\n",
    "\n",
    "\n",
    "df_state_growth_data_by_year_pivot.head()"
   ]
  },
  {
   "cell_type": "code",
   "execution_count": 33,
   "id": "8be8af7c-a71b-4dbb-9165-04abe2e0414b",
   "metadata": {
    "execution": {
     "iopub.execute_input": "2025-02-21T03:19:23.871522Z",
     "iopub.status.busy": "2025-02-21T03:19:23.871220Z",
     "iopub.status.idle": "2025-02-21T03:19:23.885263Z",
     "shell.execute_reply": "2025-02-21T03:19:23.884961Z",
     "shell.execute_reply.started": "2025-02-21T03:19:23.871504Z"
    }
   },
   "outputs": [],
   "source": [
    "for field_var in ['Total_Pop', 'Total_Pop_25_to_29']:\n",
    "    create_comparison_fields(\n",
    "        df = df_state_growth_data_by_year_pivot,\n",
    "        field_var = field_var,\n",
    "        year_list = years_to_retrieve,\n",
    "        field_year_separator='_')"
   ]
  },
  {
   "cell_type": "markdown",
   "id": "55e87b9b-af2a-40d6-9e1c-ed0e9aa5c864",
   "metadata": {},
   "source": [
    "Saving this dataset to a .csv file so that it too can be used as a basis for choropleth maps:"
   ]
  },
  {
   "cell_type": "code",
   "execution_count": 34,
   "id": "651501df-9319-455b-817f-5b20b0a5e430",
   "metadata": {
    "execution": {
     "iopub.execute_input": "2025-02-21T03:19:23.885989Z",
     "iopub.status.busy": "2025-02-21T03:19:23.885654Z",
     "iopub.status.idle": "2025-02-21T03:19:23.891302Z",
     "shell.execute_reply": "2025-02-21T03:19:23.891033Z",
     "shell.execute_reply.started": "2025-02-21T03:19:23.885969Z"
    }
   },
   "outputs": [],
   "source": [
    "df_state_growth_data_by_year_pivot.to_csv(\n",
    "    f'Datasets/grad_destinations_acs_state_data.csv', \n",
    "    index = False)"
   ]
  },
  {
   "cell_type": "markdown",
   "id": "2ff56f0a-0b4c-4407-a82a-e014d37da35b",
   "metadata": {},
   "source": [
    "Creating a DataFrame that shows the 5 states with the highest and lowest total population growth rates during the latest 5 years in the dataset:"
   ]
  },
  {
   "cell_type": "code",
   "execution_count": 35,
   "id": "9833f0f4-67e0-457c-91fb-677a48daf3c6",
   "metadata": {
    "execution": {
     "iopub.execute_input": "2025-02-21T03:19:23.891961Z",
     "iopub.status.busy": "2025-02-21T03:19:23.891672Z",
     "iopub.status.idle": "2025-02-21T03:19:23.899810Z",
     "shell.execute_reply": "2025-02-21T03:19:23.899563Z",
     "shell.execute_reply.started": "2025-02-21T03:19:23.891943Z"
    }
   },
   "outputs": [
    {
     "data": {
      "text/html": [
       "<div>\n",
       "<style scoped>\n",
       "    .dataframe tbody tr th:only-of-type {\n",
       "        vertical-align: middle;\n",
       "    }\n",
       "\n",
       "    .dataframe tbody tr th {\n",
       "        vertical-align: top;\n",
       "    }\n",
       "\n",
       "    .dataframe thead th {\n",
       "        text-align: right;\n",
       "    }\n",
       "</style>\n",
       "<table border=\"1\" class=\"dataframe\">\n",
       "  <thead>\n",
       "    <tr style=\"text-align: right;\">\n",
       "      <th></th>\n",
       "      <th>NAME</th>\n",
       "      <th>2016-2021 Total_Pop Change</th>\n",
       "      <th>...</th>\n",
       "      <th>2016-2021 Total_Pop % Change Rank</th>\n",
       "      <th>2016-2021 Total_Pop % Change Percentile</th>\n",
       "    </tr>\n",
       "  </thead>\n",
       "  <tbody>\n",
       "    <tr>\n",
       "      <th>0</th>\n",
       "      <td>Idaho</td>\n",
       "      <td>176134</td>\n",
       "      <td>...</td>\n",
       "      <td>1.0</td>\n",
       "      <td>100.000000</td>\n",
       "    </tr>\n",
       "    <tr>\n",
       "      <th>1</th>\n",
       "      <td>Utah</td>\n",
       "      <td>282943</td>\n",
       "      <td>...</td>\n",
       "      <td>2.0</td>\n",
       "      <td>98.039216</td>\n",
       "    </tr>\n",
       "    <tr>\n",
       "      <th>...</th>\n",
       "      <td>...</td>\n",
       "      <td>...</td>\n",
       "      <td>...</td>\n",
       "      <td>...</td>\n",
       "      <td>...</td>\n",
       "    </tr>\n",
       "    <tr>\n",
       "      <th>49</th>\n",
       "      <td>Wyoming</td>\n",
       "      <td>-6388</td>\n",
       "      <td>...</td>\n",
       "      <td>50.0</td>\n",
       "      <td>3.921569</td>\n",
       "    </tr>\n",
       "    <tr>\n",
       "      <th>50</th>\n",
       "      <td>West Virginia</td>\n",
       "      <td>-45043</td>\n",
       "      <td>...</td>\n",
       "      <td>51.0</td>\n",
       "      <td>1.960784</td>\n",
       "    </tr>\n",
       "  </tbody>\n",
       "</table>\n",
       "<p>10 rows × 5 columns</p>\n",
       "</div>"
      ],
      "text/plain": [
       "             NAME  2016-2021 Total_Pop Change  ...  \\\n",
       "0           Idaho                      176134  ...   \n",
       "1            Utah                      282943  ...   \n",
       "..            ...                         ...  ...   \n",
       "49        Wyoming                       -6388  ...   \n",
       "50  West Virginia                      -45043  ...   \n",
       "\n",
       "    2016-2021 Total_Pop % Change Rank  2016-2021 Total_Pop % Change Percentile  \n",
       "0                                 1.0                               100.000000  \n",
       "1                                 2.0                                98.039216  \n",
       "..                                ...                                      ...  \n",
       "49                               50.0                                 3.921569  \n",
       "50                               51.0                                 1.960784  \n",
       "\n",
       "[10 rows x 5 columns]"
      ]
     },
     "execution_count": 35,
     "metadata": {},
     "output_type": "execute_result"
    }
   ],
   "source": [
    "df_state_growth_data_by_year_pivot.sort_values(\n",
    "    total_pop_sort_column, inplace = True)\n",
    "df_state_growth_data_by_year_pivot.reset_index(drop=True, inplace = True)\n",
    "pd.concat(\n",
    "    [df_state_growth_data_by_year_pivot.head(5), \n",
    "    df_state_growth_data_by_year_pivot.tail(5)])[\n",
    "total_pop_display_cols]"
   ]
  },
  {
   "cell_type": "markdown",
   "id": "41992d05-ffcd-4eb7-b9a9-673502bd3ccc",
   "metadata": {},
   "source": [
    "Creating a similar DataFrame that displays 25-to-29-year-old population growth rates:"
   ]
  },
  {
   "cell_type": "code",
   "execution_count": 36,
   "id": "503bc801-5427-41f9-853a-579f206ff281",
   "metadata": {
    "execution": {
     "iopub.execute_input": "2025-02-21T03:19:23.900221Z",
     "iopub.status.busy": "2025-02-21T03:19:23.900113Z",
     "iopub.status.idle": "2025-02-21T03:19:23.907273Z",
     "shell.execute_reply": "2025-02-21T03:19:23.907007Z",
     "shell.execute_reply.started": "2025-02-21T03:19:23.900210Z"
    }
   },
   "outputs": [
    {
     "data": {
      "text/html": [
       "<div>\n",
       "<style scoped>\n",
       "    .dataframe tbody tr th:only-of-type {\n",
       "        vertical-align: middle;\n",
       "    }\n",
       "\n",
       "    .dataframe tbody tr th {\n",
       "        vertical-align: top;\n",
       "    }\n",
       "\n",
       "    .dataframe thead th {\n",
       "        text-align: right;\n",
       "    }\n",
       "</style>\n",
       "<table border=\"1\" class=\"dataframe\">\n",
       "  <thead>\n",
       "    <tr style=\"text-align: right;\">\n",
       "      <th></th>\n",
       "      <th>NAME</th>\n",
       "      <th>2016-2021 Total_Pop_25_to_29 Change</th>\n",
       "      <th>...</th>\n",
       "      <th>2016-2021 Total_Pop_25_to_29 % Change Rank</th>\n",
       "      <th>2016-2021 Total_Pop_25_to_29 % Change Percentile</th>\n",
       "    </tr>\n",
       "  </thead>\n",
       "  <tbody>\n",
       "    <tr>\n",
       "      <th>0</th>\n",
       "      <td>Utah</td>\n",
       "      <td>29737</td>\n",
       "      <td>...</td>\n",
       "      <td>1.0</td>\n",
       "      <td>100.000000</td>\n",
       "    </tr>\n",
       "    <tr>\n",
       "      <th>1</th>\n",
       "      <td>Washington</td>\n",
       "      <td>58422</td>\n",
       "      <td>...</td>\n",
       "      <td>2.0</td>\n",
       "      <td>98.039216</td>\n",
       "    </tr>\n",
       "    <tr>\n",
       "      <th>...</th>\n",
       "      <td>...</td>\n",
       "      <td>...</td>\n",
       "      <td>...</td>\n",
       "      <td>...</td>\n",
       "      <td>...</td>\n",
       "    </tr>\n",
       "    <tr>\n",
       "      <th>49</th>\n",
       "      <td>Louisiana</td>\n",
       "      <td>-15558</td>\n",
       "      <td>...</td>\n",
       "      <td>50.0</td>\n",
       "      <td>3.921569</td>\n",
       "    </tr>\n",
       "    <tr>\n",
       "      <th>50</th>\n",
       "      <td>Wyoming</td>\n",
       "      <td>-3359</td>\n",
       "      <td>...</td>\n",
       "      <td>51.0</td>\n",
       "      <td>1.960784</td>\n",
       "    </tr>\n",
       "  </tbody>\n",
       "</table>\n",
       "<p>10 rows × 5 columns</p>\n",
       "</div>"
      ],
      "text/plain": [
       "          NAME  2016-2021 Total_Pop_25_to_29 Change  ...  \\\n",
       "0         Utah                                29737  ...   \n",
       "1   Washington                                58422  ...   \n",
       "..         ...                                  ...  ...   \n",
       "49   Louisiana                               -15558  ...   \n",
       "50     Wyoming                                -3359  ...   \n",
       "\n",
       "    2016-2021 Total_Pop_25_to_29 % Change Rank  \\\n",
       "0                                          1.0   \n",
       "1                                          2.0   \n",
       "..                                         ...   \n",
       "49                                        50.0   \n",
       "50                                        51.0   \n",
       "\n",
       "    2016-2021 Total_Pop_25_to_29 % Change Percentile  \n",
       "0                                         100.000000  \n",
       "1                                          98.039216  \n",
       "..                                               ...  \n",
       "49                                          3.921569  \n",
       "50                                          1.960784  \n",
       "\n",
       "[10 rows x 5 columns]"
      ]
     },
     "execution_count": 36,
     "metadata": {},
     "output_type": "execute_result"
    }
   ],
   "source": [
    "df_state_growth_data_by_year_pivot.sort_values(\n",
    "    young_pop_sort_column, inplace = True)\n",
    "df_state_growth_data_by_year_pivot.reset_index(drop=True, inplace = True)\n",
    "pd.concat(\n",
    "    [df_state_growth_data_by_year_pivot.head(5), \n",
    "    df_state_growth_data_by_year_pivot.tail(5)])[\n",
    "young_pop_display_cols]"
   ]
  },
  {
   "cell_type": "markdown",
   "id": "a9b1b37c-f643-4e01-8202-07e3746c4fec",
   "metadata": {},
   "source": [
    "## Retrieving additional data for a regression analysis\n",
    "\n",
    "The NVCU admissions department would like to make the case to high schoolers on the fence about pursuing higher education that going to college is (generally) worth it from a financial perspective. Therefore, they would like you to determine how the median income for a given county and state increases as the percentage of residents with at least a bachelor's degree increases.* They figure that a strong relationship between the two could help convince teenagers to pursue a higher education.**\n",
    "\n",
    "We can shed some light on these questions by performing a series of linear regressions--but first, we'll need to obtain data that can get incorporated into those regressions. The following code creates tables of populations, median incomes, median home values, and regions for each US county and state. This data can then get incorporated into a regression analysis later in Python for Nonprofits.\n",
    "\n",
    "* (A more valid measure of the monetary value of a bachelor's, to be honest, would be to simply compare the median incomes of state/county residents by education level. Therefore, the following code will retrieve these median as well. However, the continuous nature of the '% with bachelor's' metric will make it a great fit for our linear regression example.\n",
    "\n",
    "** There are of course many non-monetary benefits to a college education--but given the size of student loans these days, it doesn't hurt to look into the financial rewards of a bachelor's degree.\n"
   ]
  },
  {
   "cell_type": "markdown",
   "id": "4965332f-0034-4c16-87db-fcccb98caf37",
   "metadata": {},
   "source": [
    "### Importing US Census data on educational attainment and median earnings"
   ]
  },
  {
   "cell_type": "code",
   "execution_count": 37,
   "id": "276ce869-7341-4ffe-aad3-dcbf31f02a10",
   "metadata": {
    "execution": {
     "iopub.execute_input": "2025-02-21T03:19:23.907688Z",
     "iopub.status.busy": "2025-02-21T03:19:23.907577Z",
     "iopub.status.idle": "2025-02-21T03:20:56.829146Z",
     "shell.execute_reply": "2025-02-21T03:20:56.828826Z",
     "shell.execute_reply.started": "2025-02-21T03:19:23.907679Z"
    }
   },
   "outputs": [
    {
     "name": "stdout",
     "output_type": "stream",
     "text": [
      "Importing acs5 variables from 2023.\n",
      "Finished saving variable and group tables to .csv files.\n"
     ]
    },
    {
     "data": {
      "text/html": [
       "<div>\n",
       "<style scoped>\n",
       "    .dataframe tbody tr th:only-of-type {\n",
       "        vertical-align: middle;\n",
       "    }\n",
       "\n",
       "    .dataframe tbody tr th {\n",
       "        vertical-align: top;\n",
       "    }\n",
       "\n",
       "    .dataframe thead th {\n",
       "        text-align: right;\n",
       "    }\n",
       "</style>\n",
       "<table border=\"1\" class=\"dataframe\">\n",
       "  <thead>\n",
       "    <tr style=\"text-align: right;\">\n",
       "      <th></th>\n",
       "      <th>Year</th>\n",
       "      <th>NAME</th>\n",
       "      <th>...</th>\n",
       "      <th>Median Earnings in the Past 12 Months (in 2023 Inflation-Adjusted Dollars) by Sex by Educational Attainment for the Population 25 Years and Over_Estimate!!Total:!!Bachelor's degree (B20004_005E)</th>\n",
       "      <th>Median Earnings in the Past 12 Months (in 2023 Inflation-Adjusted Dollars) by Sex by Educational Attainment for the Population 25 Years and Over_Estimate!!Total:!!Graduate or professional degree (B20004_006E)</th>\n",
       "    </tr>\n",
       "  </thead>\n",
       "  <tbody>\n",
       "    <tr>\n",
       "      <th>1</th>\n",
       "      <td>2023</td>\n",
       "      <td>Alabama</td>\n",
       "      <td>...</td>\n",
       "      <td>59318</td>\n",
       "      <td>72667</td>\n",
       "    </tr>\n",
       "    <tr>\n",
       "      <th>2</th>\n",
       "      <td>2023</td>\n",
       "      <td>Alaska</td>\n",
       "      <td>...</td>\n",
       "      <td>68158</td>\n",
       "      <td>90606</td>\n",
       "    </tr>\n",
       "    <tr>\n",
       "      <th>...</th>\n",
       "      <td>...</td>\n",
       "      <td>...</td>\n",
       "      <td>...</td>\n",
       "      <td>...</td>\n",
       "      <td>...</td>\n",
       "    </tr>\n",
       "    <tr>\n",
       "      <th>51</th>\n",
       "      <td>2023</td>\n",
       "      <td>Wyoming</td>\n",
       "      <td>...</td>\n",
       "      <td>58411</td>\n",
       "      <td>73535</td>\n",
       "    </tr>\n",
       "    <tr>\n",
       "      <th>52</th>\n",
       "      <td>2023</td>\n",
       "      <td>Puerto Rico</td>\n",
       "      <td>...</td>\n",
       "      <td>28988</td>\n",
       "      <td>41197</td>\n",
       "    </tr>\n",
       "  </tbody>\n",
       "</table>\n",
       "<p>52 rows × 15 columns</p>\n",
       "</div>"
      ],
      "text/plain": [
       "0   Year         NAME  ...  \\\n",
       "1   2023      Alabama  ...   \n",
       "2   2023       Alaska  ...   \n",
       "..   ...          ...  ...   \n",
       "51  2023      Wyoming  ...   \n",
       "52  2023  Puerto Rico  ...   \n",
       "\n",
       "0  Median Earnings in the Past 12 Months (in 2023 Inflation-Adjusted Dollars) by Sex by Educational Attainment for the Population 25 Years and Over_Estimate!!Total:!!Bachelor's degree (B20004_005E)  \\\n",
       "1                                               59318                                                                                                                                                   \n",
       "2                                               68158                                                                                                                                                   \n",
       "..                                                ...                                                                                                                                                   \n",
       "51                                              58411                                                                                                                                                   \n",
       "52                                              28988                                                                                                                                                   \n",
       "\n",
       "0   Median Earnings in the Past 12 Months (in 2023 Inflation-Adjusted Dollars) by Sex by Educational Attainment for the Population 25 Years and Over_Estimate!!Total:!!Graduate or professional degree (B20004_006E)  \n",
       "1                                               72667                                                                                                                                                                 \n",
       "2                                               90606                                                                                                                                                                 \n",
       "..                                                ...                                                                                                                                                                 \n",
       "51                                              73535                                                                                                                                                                 \n",
       "52                                              41197                                                                                                                                                                 \n",
       "\n",
       "[52 rows x 15 columns]"
      ]
     },
     "execution_count": 37,
     "metadata": {},
     "output_type": "execute_result"
    }
   ],
   "source": [
    "# Retrieving a new list of ACS5 variables for the most recent year with\n",
    "# ACS5 data (as of February 2025):\n",
    "if download_new_variable_list == True:\n",
    "    download_variable_list(acs5_latest_year, 'acs5')\n",
    "\n",
    "# Reading this dataset into our script:\n",
    "df_variables_latest = pd.read_csv(\n",
    "    f'Datasets/acs5_{acs5_latest_year}_variables.csv')\n",
    "\n",
    "regression_variable_list = ['B01001_001E', 'B15003_001E', 'B15003_022E',\n",
    "'B15003_023E','B15003_024E','B15003_025E', 'B20004_001E',\n",
    "'B20004_002E','B20004_003E','B20004_004E','B20004_005E','B20004_006E']\n",
    "\n",
    "regression_alias_dict = create_variable_aliases(\n",
    "    df_variables = df_variables_latest, \n",
    "    variable_list = regression_variable_list)\n",
    "\n",
    "df_regression_data_county = retrieve_census_data(\n",
    "        survey = 'acs5', year = acs5_latest_year, \n",
    "        region = 'county',\n",
    "        variable_list = regression_variable_list, \n",
    "        rename_data_fields = True, field_vars_dict = regression_alias_dict,\n",
    "        key = key)\n",
    "\n",
    "df_regression_data_state = retrieve_census_data(\n",
    "        survey = 'acs5', year = acs5_latest_year, \n",
    "        region = 'state',\n",
    "        variable_list = regression_variable_list, \n",
    "        rename_data_fields = True, field_vars_dict = regression_alias_dict,\n",
    "        key = key)\n",
    "\n",
    "# Retrieving national-level data (which will be useful for another\n",
    "# data analysis that I'll include within the regressions section\n",
    "# of Python for Nonprofits):\n",
    "df_regression_data_national = retrieve_census_data(\n",
    "        survey = 'acs5', year = acs5_latest_year, \n",
    "        region = 'us',\n",
    "        variable_list = regression_variable_list, \n",
    "        rename_data_fields = True, field_vars_dict = regression_alias_dict,\n",
    "        key = key)\n",
    "\n",
    "df_regression_data_state"
   ]
  },
  {
   "cell_type": "markdown",
   "id": "5dcd6cc6-0a7c-4fce-bf30-6ffba2147d56",
   "metadata": {},
   "source": [
    "The following code calculates the percentage of residents within a given row who have at least a bachelor's degree; it also dramatically condenses many fields. (I converted it into a function in order to eliminate the need to enter this code twice, first for our county-level dataset and again for our state-level one.)"
   ]
  },
  {
   "cell_type": "code",
   "execution_count": 38,
   "id": "53f6174f-265b-4621-b867-613db57c9136",
   "metadata": {
    "execution": {
     "iopub.execute_input": "2025-02-21T03:20:56.829624Z",
     "iopub.status.busy": "2025-02-21T03:20:56.829517Z",
     "iopub.status.idle": "2025-02-21T03:20:56.832382Z",
     "shell.execute_reply": "2025-02-21T03:20:56.832083Z",
     "shell.execute_reply.started": "2025-02-21T03:20:56.829615Z"
    }
   },
   "outputs": [],
   "source": [
    "def rename_and_calc_dataset(df, year):\n",
    "    '''This dataset renames certain median earnings columns within \n",
    "    a copy of census results and also estimates the percentage of \n",
    "    respondents within each row who have at least a bachelor's degree.\n",
    "    df: the DataFrame containing census results to process.\n",
    "    year: the year in which the ACS was conducted. (This year shows\n",
    "    up in many median earnings columns.'''\n",
    "    df.rename(columns = {'Median Earnings in the \\\n",
    "Past 12 Months (in 2023 Inflation-Adjusted Dollars) by Sex by Educational \\\n",
    "Attainment for the Population 25 Years and Over_Estimate!!\\\n",
    "Total:!!Less than high school graduate (B20004_002E)':\n",
    "'Median_Earnings_Less_Than_HS',\n",
    "'Median Earnings in the Past 12 Months (in 2023 Inflation-Adjusted \\\n",
    "Dollars) by Sex by Educational Attainment for the Population 25 Years \\\n",
    "and Over_Estimate!!Total:!!High school graduate \\\n",
    "(includes equivalency) (B20004_003E)':'Median_Earnings_HS',\n",
    "\"Median Earnings in the Past 12 Months (in 2023 Inflation-Adjusted \\\n",
    "Dollars) by Sex by Educational Attainment for the Population 25 Years \\\n",
    "and Over_Estimate!!Total:!!Some college or associate's \\\n",
    "degree (B20004_004E)\":\"Median_Earnings_Some_College\",\n",
    "\"Median Earnings in the Past 12 Months (in 2023 Inflation-Adjusted \\\n",
    "Dollars) by Sex by Educational Attainment for the Population 25 \\\n",
    "Years and Over_Estimate!!Total:!!Bachelor's degree (B20004_005E)\":\n",
    "\"Median_Earnings_Bachelors_Degree\",\n",
    "\"Median Earnings in the Past 12 Months (in 2023 \\\n",
    "Inflation-Adjusted Dollars) by Sex by Educational Attainment \\\n",
    "for the Population 25 Years and Over_Estimate!!Total:!!Graduate \\\n",
    "or professional degree (B20004_006E)\":\"Median_Earnings_Postgraduate\",\n",
    "\"Median Earnings in the Past 12 Months (in 2023 \\\n",
    "Inflation-Adjusted Dollars) by Sex by Educational Attainment \\\n",
    "for the Population 25 Years and Over_Estimate!!Total: (B20004_001E)\":\n",
    "\"Median_Earnings_for_Total_25plus_Population\",\n",
    "'Sex by Age_Estimate!!Total: (B01001_001E)':'Total_Population',\n",
    "},\n",
    "    inplace = True)\n",
    "    df[\"Pct_With_Bachelors_Degree\"] = (100*(\n",
    "    df[\"Educational Attainment for the Population \\\n",
    "25 Years and Over_Estimate!!Total:!!Bachelor's degree (B15003_022E)\"] +\n",
    "    df[\"Educational Attainment for the Population 25 \\\n",
    "Years and Over_Estimate!!Total:!!Master's degree (B15003_023E)\"] + \n",
    "    df[\"Educational Attainment for the Population \\\n",
    "25 Years and Over_Estimate!!Total:!!Professional school degree \\\n",
    "(B15003_024E)\"] + \n",
    "    df[\"Educational Attainment for the Population 25 \\\n",
    "Years and Over_Estimate!!Total:!!Doctorate degree (B15003_025E)\"])\n",
    "    / df[\"Educational Attainment for the \\\n",
    "Population 25 Years and Over_Estimate!!Total: (B15003_001E)\"])"
   ]
  },
  {
   "cell_type": "code",
   "execution_count": 39,
   "id": "653b3b80-196c-4dbf-900a-bd6acb1ba82d",
   "metadata": {
    "execution": {
     "iopub.execute_input": "2025-02-21T03:20:56.834456Z",
     "iopub.status.busy": "2025-02-21T03:20:56.834229Z",
     "iopub.status.idle": "2025-02-21T03:20:56.846115Z",
     "shell.execute_reply": "2025-02-21T03:20:56.845752Z",
     "shell.execute_reply.started": "2025-02-21T03:20:56.834446Z"
    }
   },
   "outputs": [
    {
     "data": {
      "text/html": [
       "<div>\n",
       "<style scoped>\n",
       "    .dataframe tbody tr th:only-of-type {\n",
       "        vertical-align: middle;\n",
       "    }\n",
       "\n",
       "    .dataframe tbody tr th {\n",
       "        vertical-align: top;\n",
       "    }\n",
       "\n",
       "    .dataframe thead th {\n",
       "        text-align: right;\n",
       "    }\n",
       "</style>\n",
       "<table border=\"1\" class=\"dataframe\">\n",
       "  <thead>\n",
       "    <tr style=\"text-align: right;\">\n",
       "      <th></th>\n",
       "      <th>Year</th>\n",
       "      <th>NAME</th>\n",
       "      <th>...</th>\n",
       "      <th>Median_Earnings_Postgraduate</th>\n",
       "      <th>Pct_With_Bachelors_Degree</th>\n",
       "    </tr>\n",
       "  </thead>\n",
       "  <tbody>\n",
       "    <tr>\n",
       "      <th>1</th>\n",
       "      <td>2023</td>\n",
       "      <td>Alabama</td>\n",
       "      <td>...</td>\n",
       "      <td>72667</td>\n",
       "      <td>27.755139</td>\n",
       "    </tr>\n",
       "    <tr>\n",
       "      <th>2</th>\n",
       "      <td>2023</td>\n",
       "      <td>Alaska</td>\n",
       "      <td>...</td>\n",
       "      <td>90606</td>\n",
       "      <td>31.242276</td>\n",
       "    </tr>\n",
       "    <tr>\n",
       "      <th>...</th>\n",
       "      <td>...</td>\n",
       "      <td>...</td>\n",
       "      <td>...</td>\n",
       "      <td>...</td>\n",
       "      <td>...</td>\n",
       "    </tr>\n",
       "    <tr>\n",
       "      <th>51</th>\n",
       "      <td>2023</td>\n",
       "      <td>Wyoming</td>\n",
       "      <td>...</td>\n",
       "      <td>73535</td>\n",
       "      <td>29.920304</td>\n",
       "    </tr>\n",
       "    <tr>\n",
       "      <th>52</th>\n",
       "      <td>2023</td>\n",
       "      <td>Puerto Rico</td>\n",
       "      <td>...</td>\n",
       "      <td>41197</td>\n",
       "      <td>29.130778</td>\n",
       "    </tr>\n",
       "  </tbody>\n",
       "</table>\n",
       "<p>52 rows × 16 columns</p>\n",
       "</div>"
      ],
      "text/plain": [
       "0   Year         NAME  ... Median_Earnings_Postgraduate  \\\n",
       "1   2023      Alabama  ...                        72667   \n",
       "2   2023       Alaska  ...                        90606   \n",
       "..   ...          ...  ...                          ...   \n",
       "51  2023      Wyoming  ...                        73535   \n",
       "52  2023  Puerto Rico  ...                        41197   \n",
       "\n",
       "0   Pct_With_Bachelors_Degree  \n",
       "1                   27.755139  \n",
       "2                   31.242276  \n",
       "..                        ...  \n",
       "51                  29.920304  \n",
       "52                  29.130778  \n",
       "\n",
       "[52 rows x 16 columns]"
      ]
     },
     "execution_count": 39,
     "metadata": {},
     "output_type": "execute_result"
    }
   ],
   "source": [
    "rename_and_calc_dataset(df = df_regression_data_county, \n",
    "                        year = acs5_latest_year)\n",
    "rename_and_calc_dataset(df = df_regression_data_state, \n",
    "                        year = acs5_latest_year)\n",
    "rename_and_calc_dataset(df = df_regression_data_national, \n",
    "                        year = acs5_latest_year)\n",
    "df_regression_data_state"
   ]
  },
  {
   "cell_type": "markdown",
   "id": "26a1cefd-f8a3-4167-a2c1-c97c7dee6f27",
   "metadata": {},
   "source": [
    "### Mapping each county and state to a geographical region\n",
    "\n",
    "As part of our regression analysis, we'll want to determine whether the relationship between the prevalence of bachelor's degrees and median earnings is influenced by the region in which a particular county or state is located. I'll first merge in this data for our county-level dataset; next, I'll do the same for the state-level table.\n",
    "\n",
    "In order to add region information to our county-level dataset, we'll first need to figure out the state corresponding to each county; we can then map these states to their respective regions. Our dataset already contains numerical values for each state in the form of FIPS codes; however, to make sense of these codes, we'll also need to import a table that shows the actual state name for each code. Such a table is available on the Census wesbite at https://www2.census.gov/geo/docs/reference/codes2020/national_state2020.txt . \n",
    "\n",
    "I copied and pasted the contents of this table into state_fips_codes_from_census.txt, which can be found in the same folder as this script. The following code reads this table into a DataFrame. Note that (1) you can apply `read_csv()` on more than just .csv files and that (2) because the entries in this table were separated by the '|' character, I needed to specify that character as my separator."
   ]
  },
  {
   "cell_type": "code",
   "execution_count": 40,
   "id": "f419551d-bc8d-4edf-a80c-344bdc00a620",
   "metadata": {
    "execution": {
     "iopub.execute_input": "2025-02-21T03:20:56.846567Z",
     "iopub.status.busy": "2025-02-21T03:20:56.846467Z",
     "iopub.status.idle": "2025-02-21T03:20:56.852388Z",
     "shell.execute_reply": "2025-02-21T03:20:56.852155Z",
     "shell.execute_reply.started": "2025-02-21T03:20:56.846557Z"
    }
   },
   "outputs": [
    {
     "data": {
      "text/html": [
       "<div>\n",
       "<style scoped>\n",
       "    .dataframe tbody tr th:only-of-type {\n",
       "        vertical-align: middle;\n",
       "    }\n",
       "\n",
       "    .dataframe tbody tr th {\n",
       "        vertical-align: top;\n",
       "    }\n",
       "\n",
       "    .dataframe thead th {\n",
       "        text-align: right;\n",
       "    }\n",
       "</style>\n",
       "<table border=\"1\" class=\"dataframe\">\n",
       "  <thead>\n",
       "    <tr style=\"text-align: right;\">\n",
       "      <th></th>\n",
       "      <th>State_Abbrev</th>\n",
       "      <th>state</th>\n",
       "      <th>STATENS</th>\n",
       "      <th>STATE_NAME</th>\n",
       "    </tr>\n",
       "  </thead>\n",
       "  <tbody>\n",
       "    <tr>\n",
       "      <th>0</th>\n",
       "      <td>AL</td>\n",
       "      <td>01</td>\n",
       "      <td>1779775</td>\n",
       "      <td>Alabama</td>\n",
       "    </tr>\n",
       "    <tr>\n",
       "      <th>1</th>\n",
       "      <td>AK</td>\n",
       "      <td>02</td>\n",
       "      <td>1785533</td>\n",
       "      <td>Alaska</td>\n",
       "    </tr>\n",
       "    <tr>\n",
       "      <th>...</th>\n",
       "      <td>...</td>\n",
       "      <td>...</td>\n",
       "      <td>...</td>\n",
       "      <td>...</td>\n",
       "    </tr>\n",
       "    <tr>\n",
       "      <th>55</th>\n",
       "      <td>UM</td>\n",
       "      <td>74</td>\n",
       "      <td>1878752</td>\n",
       "      <td>U.S. Minor Outlying Islands</td>\n",
       "    </tr>\n",
       "    <tr>\n",
       "      <th>56</th>\n",
       "      <td>VI</td>\n",
       "      <td>78</td>\n",
       "      <td>1802710</td>\n",
       "      <td>United States Virgin Islands</td>\n",
       "    </tr>\n",
       "  </tbody>\n",
       "</table>\n",
       "<p>57 rows × 4 columns</p>\n",
       "</div>"
      ],
      "text/plain": [
       "   State_Abbrev state  STATENS                    STATE_NAME\n",
       "0            AL    01  1779775                       Alabama\n",
       "1            AK    02  1785533                        Alaska\n",
       "..          ...   ...      ...                           ...\n",
       "55           UM    74  1878752   U.S. Minor Outlying Islands\n",
       "56           VI    78  1802710  United States Virgin Islands\n",
       "\n",
       "[57 rows x 4 columns]"
      ]
     },
     "execution_count": 40,
     "metadata": {},
     "output_type": "execute_result"
    }
   ],
   "source": [
    "df_fips = pd.read_csv('state_fips_codes_from_census.txt',\n",
    "            sep = '|')\n",
    "# Renaming columns to help facilitate an upcoming merge:\n",
    "df_fips.rename(columns = {'STATE':'State_Abbrev',\n",
    "'STATEFP':'state'}, inplace = True)\n",
    "# Converting the 'state' column into a zero-filled string\n",
    "# so that its values can get matched with the corresponding\n",
    "# FIPS codes in df_regression_data_county:\n",
    "df_fips['state'] = df_fips['state'].astype('str').str.zfill(2)\n",
    "df_fips"
   ]
  },
  {
   "cell_type": "code",
   "execution_count": 41,
   "id": "fa5f3cb9-dddd-408c-b271-c3bd855de40b",
   "metadata": {
    "execution": {
     "iopub.execute_input": "2025-02-21T03:20:56.852809Z",
     "iopub.status.busy": "2025-02-21T03:20:56.852708Z",
     "iopub.status.idle": "2025-02-21T03:20:56.860706Z",
     "shell.execute_reply": "2025-02-21T03:20:56.860393Z",
     "shell.execute_reply.started": "2025-02-21T03:20:56.852799Z"
    }
   },
   "outputs": [
    {
     "data": {
      "text/html": [
       "<div>\n",
       "<style scoped>\n",
       "    .dataframe tbody tr th:only-of-type {\n",
       "        vertical-align: middle;\n",
       "    }\n",
       "\n",
       "    .dataframe tbody tr th {\n",
       "        vertical-align: top;\n",
       "    }\n",
       "\n",
       "    .dataframe thead th {\n",
       "        text-align: right;\n",
       "    }\n",
       "</style>\n",
       "<table border=\"1\" class=\"dataframe\">\n",
       "  <thead>\n",
       "    <tr style=\"text-align: right;\">\n",
       "      <th></th>\n",
       "      <th>Year</th>\n",
       "      <th>county</th>\n",
       "      <th>...</th>\n",
       "      <th>Pct_With_Bachelors_Degree</th>\n",
       "      <th>State_Abbrev</th>\n",
       "    </tr>\n",
       "  </thead>\n",
       "  <tbody>\n",
       "    <tr>\n",
       "      <th>0</th>\n",
       "      <td>2023</td>\n",
       "      <td>001</td>\n",
       "      <td>...</td>\n",
       "      <td>28.282680</td>\n",
       "      <td>AL</td>\n",
       "    </tr>\n",
       "    <tr>\n",
       "      <th>1</th>\n",
       "      <td>2023</td>\n",
       "      <td>003</td>\n",
       "      <td>...</td>\n",
       "      <td>32.797637</td>\n",
       "      <td>AL</td>\n",
       "    </tr>\n",
       "    <tr>\n",
       "      <th>...</th>\n",
       "      <td>...</td>\n",
       "      <td>...</td>\n",
       "      <td>...</td>\n",
       "      <td>...</td>\n",
       "      <td>...</td>\n",
       "    </tr>\n",
       "    <tr>\n",
       "      <th>3220</th>\n",
       "      <td>2023</td>\n",
       "      <td>151</td>\n",
       "      <td>...</td>\n",
       "      <td>18.360524</td>\n",
       "      <td>PR</td>\n",
       "    </tr>\n",
       "    <tr>\n",
       "      <th>3221</th>\n",
       "      <td>2023</td>\n",
       "      <td>153</td>\n",
       "      <td>...</td>\n",
       "      <td>27.116371</td>\n",
       "      <td>PR</td>\n",
       "    </tr>\n",
       "  </tbody>\n",
       "</table>\n",
       "<p>3222 rows × 18 columns</p>\n",
       "</div>"
      ],
      "text/plain": [
       "      Year county  ... Pct_With_Bachelors_Degree State_Abbrev\n",
       "0     2023    001  ...                 28.282680           AL\n",
       "1     2023    003  ...                 32.797637           AL\n",
       "...    ...    ...  ...                       ...          ...\n",
       "3220  2023    151  ...                 18.360524           PR\n",
       "3221  2023    153  ...                 27.116371           PR\n",
       "\n",
       "[3222 rows x 18 columns]"
      ]
     },
     "execution_count": 41,
     "metadata": {},
     "output_type": "execute_result"
    }
   ],
   "source": [
    "df_regression_data_county = df_regression_data_county.merge(\n",
    "    df_fips[['State_Abbrev', 'state']],\n",
    "    on = 'state', how = 'left')\n",
    "df_regression_data_county"
   ]
  },
  {
   "cell_type": "markdown",
   "id": "7e991041-c402-493b-8468-497ab9521d0e",
   "metadata": {
    "execution": {
     "iopub.execute_input": "2025-02-04T02:57:46.409998Z",
     "iopub.status.busy": "2025-02-04T02:57:46.409484Z",
     "iopub.status.idle": "2025-02-04T02:57:46.415610Z",
     "shell.execute_reply": "2025-02-04T02:57:46.415268Z",
     "shell.execute_reply.started": "2025-02-04T02:57:46.409984Z"
    }
   },
   "source": [
    "Now that we know each county's state abbreviation, we can merge region data into our table as well. We'll do so by importing state_regions.csv, a file that stores the state-region relationships found in this PDF file: https://www2.census.gov/geo/pdfs/maps-data/maps/reference/us_regdiv.pdf"
   ]
  },
  {
   "cell_type": "code",
   "execution_count": 42,
   "id": "8c43367b-2c5a-4857-ab17-8f6a6bffb055",
   "metadata": {
    "execution": {
     "iopub.execute_input": "2025-02-21T03:20:56.861186Z",
     "iopub.status.busy": "2025-02-21T03:20:56.861036Z",
     "iopub.status.idle": "2025-02-21T03:20:56.865282Z",
     "shell.execute_reply": "2025-02-21T03:20:56.865048Z",
     "shell.execute_reply.started": "2025-02-21T03:20:56.861177Z"
    }
   },
   "outputs": [
    {
     "data": {
      "text/html": [
       "<div>\n",
       "<style scoped>\n",
       "    .dataframe tbody tr th:only-of-type {\n",
       "        vertical-align: middle;\n",
       "    }\n",
       "\n",
       "    .dataframe tbody tr th {\n",
       "        vertical-align: top;\n",
       "    }\n",
       "\n",
       "    .dataframe thead th {\n",
       "        text-align: right;\n",
       "    }\n",
       "</style>\n",
       "<table border=\"1\" class=\"dataframe\">\n",
       "  <thead>\n",
       "    <tr style=\"text-align: right;\">\n",
       "      <th></th>\n",
       "      <th>State_Abbrev</th>\n",
       "      <th>Region</th>\n",
       "    </tr>\n",
       "  </thead>\n",
       "  <tbody>\n",
       "    <tr>\n",
       "      <th>0</th>\n",
       "      <td>WA</td>\n",
       "      <td>West</td>\n",
       "    </tr>\n",
       "    <tr>\n",
       "      <th>1</th>\n",
       "      <td>OR</td>\n",
       "      <td>West</td>\n",
       "    </tr>\n",
       "    <tr>\n",
       "      <th>...</th>\n",
       "      <td>...</td>\n",
       "      <td>...</td>\n",
       "    </tr>\n",
       "    <tr>\n",
       "      <th>49</th>\n",
       "      <td>NH</td>\n",
       "      <td>Northeast</td>\n",
       "    </tr>\n",
       "    <tr>\n",
       "      <th>50</th>\n",
       "      <td>ME</td>\n",
       "      <td>Northeast</td>\n",
       "    </tr>\n",
       "  </tbody>\n",
       "</table>\n",
       "<p>51 rows × 2 columns</p>\n",
       "</div>"
      ],
      "text/plain": [
       "   State_Abbrev     Region\n",
       "0            WA       West\n",
       "1            OR       West\n",
       "..          ...        ...\n",
       "49           NH  Northeast\n",
       "50           ME  Northeast\n",
       "\n",
       "[51 rows x 2 columns]"
      ]
     },
     "execution_count": 42,
     "metadata": {},
     "output_type": "execute_result"
    }
   ],
   "source": [
    "df_state_regions = pd.read_csv('state_regions.csv')\n",
    "df_state_regions"
   ]
  },
  {
   "cell_type": "code",
   "execution_count": 43,
   "id": "65ecccfb-8737-4ae9-8360-9500da10e8fd",
   "metadata": {
    "execution": {
     "iopub.execute_input": "2025-02-21T03:20:56.865883Z",
     "iopub.status.busy": "2025-02-21T03:20:56.865589Z",
     "iopub.status.idle": "2025-02-21T03:20:56.872164Z",
     "shell.execute_reply": "2025-02-21T03:20:56.871887Z",
     "shell.execute_reply.started": "2025-02-21T03:20:56.865873Z"
    }
   },
   "outputs": [
    {
     "data": {
      "text/html": [
       "<div>\n",
       "<style scoped>\n",
       "    .dataframe tbody tr th:only-of-type {\n",
       "        vertical-align: middle;\n",
       "    }\n",
       "\n",
       "    .dataframe tbody tr th {\n",
       "        vertical-align: top;\n",
       "    }\n",
       "\n",
       "    .dataframe thead th {\n",
       "        text-align: right;\n",
       "    }\n",
       "</style>\n",
       "<table border=\"1\" class=\"dataframe\">\n",
       "  <thead>\n",
       "    <tr style=\"text-align: right;\">\n",
       "      <th></th>\n",
       "      <th>Year</th>\n",
       "      <th>county</th>\n",
       "      <th>...</th>\n",
       "      <th>State_Abbrev</th>\n",
       "      <th>Region</th>\n",
       "    </tr>\n",
       "  </thead>\n",
       "  <tbody>\n",
       "    <tr>\n",
       "      <th>0</th>\n",
       "      <td>2023</td>\n",
       "      <td>001</td>\n",
       "      <td>...</td>\n",
       "      <td>AL</td>\n",
       "      <td>South</td>\n",
       "    </tr>\n",
       "    <tr>\n",
       "      <th>1</th>\n",
       "      <td>2023</td>\n",
       "      <td>003</td>\n",
       "      <td>...</td>\n",
       "      <td>AL</td>\n",
       "      <td>South</td>\n",
       "    </tr>\n",
       "    <tr>\n",
       "      <th>...</th>\n",
       "      <td>...</td>\n",
       "      <td>...</td>\n",
       "      <td>...</td>\n",
       "      <td>...</td>\n",
       "      <td>...</td>\n",
       "    </tr>\n",
       "    <tr>\n",
       "      <th>3220</th>\n",
       "      <td>2023</td>\n",
       "      <td>151</td>\n",
       "      <td>...</td>\n",
       "      <td>PR</td>\n",
       "      <td>NaN</td>\n",
       "    </tr>\n",
       "    <tr>\n",
       "      <th>3221</th>\n",
       "      <td>2023</td>\n",
       "      <td>153</td>\n",
       "      <td>...</td>\n",
       "      <td>PR</td>\n",
       "      <td>NaN</td>\n",
       "    </tr>\n",
       "  </tbody>\n",
       "</table>\n",
       "<p>3222 rows × 19 columns</p>\n",
       "</div>"
      ],
      "text/plain": [
       "      Year county  ... State_Abbrev Region\n",
       "0     2023    001  ...           AL  South\n",
       "1     2023    003  ...           AL  South\n",
       "...    ...    ...  ...          ...    ...\n",
       "3220  2023    151  ...           PR    NaN\n",
       "3221  2023    153  ...           PR    NaN\n",
       "\n",
       "[3222 rows x 19 columns]"
      ]
     },
     "execution_count": 43,
     "metadata": {},
     "output_type": "execute_result"
    }
   ],
   "source": [
    "df_regression_data_county = df_regression_data_county.merge(\n",
    "    df_state_regions, on = 'State_Abbrev', how = 'left')\n",
    "df_regression_data_county"
   ]
  },
  {
   "cell_type": "markdown",
   "id": "2c0f8455-6578-4681-bab2-14ea94cfd7b0",
   "metadata": {},
   "source": [
    "### Merging region information into our state-level dataset"
   ]
  },
  {
   "cell_type": "markdown",
   "id": "382c3dad-06c7-49d1-a30e-f72dbca1a4e1",
   "metadata": {},
   "source": [
    "Although the state-level Census dataset contains full state names, I'll still use the same approach that I took for the county level dataset, as that reduces the amount of additional code that I need to write. As the following cell demonstrates, it's possible to chain multiple `merge()` calls together; this allows for more concise code, though if anything goes wrong, you may need to call each merge operation individually for debugging purposes."
   ]
  },
  {
   "cell_type": "code",
   "execution_count": 44,
   "id": "6436aa21-69df-4b10-8dcc-f1f9bda4f676",
   "metadata": {
    "execution": {
     "iopub.execute_input": "2025-02-21T03:20:56.872592Z",
     "iopub.status.busy": "2025-02-21T03:20:56.872468Z",
     "iopub.status.idle": "2025-02-21T03:20:56.879556Z",
     "shell.execute_reply": "2025-02-21T03:20:56.879316Z",
     "shell.execute_reply.started": "2025-02-21T03:20:56.872581Z"
    }
   },
   "outputs": [
    {
     "data": {
      "text/html": [
       "<div>\n",
       "<style scoped>\n",
       "    .dataframe tbody tr th:only-of-type {\n",
       "        vertical-align: middle;\n",
       "    }\n",
       "\n",
       "    .dataframe tbody tr th {\n",
       "        vertical-align: top;\n",
       "    }\n",
       "\n",
       "    .dataframe thead th {\n",
       "        text-align: right;\n",
       "    }\n",
       "</style>\n",
       "<table border=\"1\" class=\"dataframe\">\n",
       "  <thead>\n",
       "    <tr style=\"text-align: right;\">\n",
       "      <th></th>\n",
       "      <th>Year</th>\n",
       "      <th>NAME</th>\n",
       "      <th>...</th>\n",
       "      <th>State_Abbrev</th>\n",
       "      <th>Region</th>\n",
       "    </tr>\n",
       "  </thead>\n",
       "  <tbody>\n",
       "    <tr>\n",
       "      <th>0</th>\n",
       "      <td>2023</td>\n",
       "      <td>Alabama</td>\n",
       "      <td>...</td>\n",
       "      <td>AL</td>\n",
       "      <td>South</td>\n",
       "    </tr>\n",
       "    <tr>\n",
       "      <th>1</th>\n",
       "      <td>2023</td>\n",
       "      <td>Alaska</td>\n",
       "      <td>...</td>\n",
       "      <td>AK</td>\n",
       "      <td>West</td>\n",
       "    </tr>\n",
       "    <tr>\n",
       "      <th>...</th>\n",
       "      <td>...</td>\n",
       "      <td>...</td>\n",
       "      <td>...</td>\n",
       "      <td>...</td>\n",
       "      <td>...</td>\n",
       "    </tr>\n",
       "    <tr>\n",
       "      <th>50</th>\n",
       "      <td>2023</td>\n",
       "      <td>Wyoming</td>\n",
       "      <td>...</td>\n",
       "      <td>WY</td>\n",
       "      <td>West</td>\n",
       "    </tr>\n",
       "    <tr>\n",
       "      <th>51</th>\n",
       "      <td>2023</td>\n",
       "      <td>Puerto Rico</td>\n",
       "      <td>...</td>\n",
       "      <td>PR</td>\n",
       "      <td>NaN</td>\n",
       "    </tr>\n",
       "  </tbody>\n",
       "</table>\n",
       "<p>52 rows × 18 columns</p>\n",
       "</div>"
      ],
      "text/plain": [
       "    Year         NAME  ... State_Abbrev  Region\n",
       "0   2023      Alabama  ...           AL   South\n",
       "1   2023       Alaska  ...           AK    West\n",
       "..   ...          ...  ...          ...     ...\n",
       "50  2023      Wyoming  ...           WY    West\n",
       "51  2023  Puerto Rico  ...           PR     NaN\n",
       "\n",
       "[52 rows x 18 columns]"
      ]
     },
     "execution_count": 44,
     "metadata": {},
     "output_type": "execute_result"
    }
   ],
   "source": [
    "df_regression_data_state = df_regression_data_state.merge(\n",
    "    df_fips[['State_Abbrev', 'state']],\n",
    "    on = 'state', how = 'left').merge(\n",
    "    df_state_regions, on = 'State_Abbrev', how = 'left')\n",
    "df_regression_data_state"
   ]
  },
  {
   "cell_type": "markdown",
   "id": "040b6d0a-8960-4bdf-8f93-677d8c940b91",
   "metadata": {},
   "source": [
    "Saving these DataFrames to .csv files so that they can get incorporated into the regressions section of Python for Nonprofits:"
   ]
  },
  {
   "cell_type": "code",
   "execution_count": 45,
   "id": "a9e2a400-c71d-4be8-9057-8b8294fb81d8",
   "metadata": {
    "execution": {
     "iopub.execute_input": "2025-02-21T03:20:56.880119Z",
     "iopub.status.busy": "2025-02-21T03:20:56.879913Z",
     "iopub.status.idle": "2025-02-21T03:20:56.896890Z",
     "shell.execute_reply": "2025-02-21T03:20:56.896648Z",
     "shell.execute_reply.started": "2025-02-21T03:20:56.880109Z"
    }
   },
   "outputs": [],
   "source": [
    "df_regression_data_county.to_csv(\n",
    "    'Datasets/education_and_earnings_county.csv', index = False)\n",
    "\n",
    "df_regression_data_state.to_csv(\n",
    "    'Datasets/education_and_earnings_state.csv', index = False)\n",
    "\n",
    "df_regression_data_national.to_csv(\n",
    "    'Datasets/education_and_earnings_national.csv', index = False)"
   ]
  },
  {
   "cell_type": "code",
   "execution_count": 46,
   "id": "d33dc1d5-e6b0-4952-94ea-498297249f91",
   "metadata": {
    "execution": {
     "iopub.execute_input": "2025-02-21T03:20:56.897400Z",
     "iopub.status.busy": "2025-02-21T03:20:56.897244Z",
     "iopub.status.idle": "2025-02-21T03:20:56.898834Z",
     "shell.execute_reply": "2025-02-21T03:20:56.898613Z",
     "shell.execute_reply.started": "2025-02-21T03:20:56.897390Z"
    }
   },
   "outputs": [],
   "source": [
    "# B19013_001E: Median household income\n",
    "# B25077_001E: median home value"
   ]
  },
  {
   "cell_type": "markdown",
   "id": "8767e0c7-fcd6-4946-a19d-6c275099ab2a",
   "metadata": {},
   "source": [
    "## Appendix"
   ]
  },
  {
   "cell_type": "markdown",
   "id": "b4220dcc-ee0a-4026-8c7d-7df24697b240",
   "metadata": {
    "execution": {
     "iopub.execute_input": "2024-06-25T22:26:03.245493Z",
     "iopub.status.busy": "2024-06-25T22:26:03.244506Z",
     "iopub.status.idle": "2024-06-25T22:26:03.248434Z",
     "shell.execute_reply": "2024-06-25T22:26:03.248434Z",
     "shell.execute_reply.started": "2024-06-25T22:26:03.245493Z"
    }
   },
   "source": [
    "### 1: The Census Python Library"
   ]
  },
  {
   "cell_type": "markdown",
   "id": "2fd98b46-1116-4d38-9770-808e36b85dfb",
   "metadata": {},
   "source": [
    "It's worth noting that there is also a 'census' Python library (available via pypi and conda) that helps simplify the process of requesting API data. You may choose to use it for your own Census research, but I ended up not needing it for the data retrieval tasks shown above. In addition, foregoing the library allowed me to demonstrate how to retrieve data directly from an API, which you may find helpful when working with APIs that don't have a corresponding Python library. \n",
    "\n",
    "Here's an example of the Census library in use:"
   ]
  },
  {
   "cell_type": "code",
   "execution_count": 47,
   "id": "8207cee5-3d85-441c-a400-e79161e42460",
   "metadata": {
    "execution": {
     "iopub.execute_input": "2025-02-21T03:20:56.899225Z",
     "iopub.status.busy": "2025-02-21T03:20:56.899136Z",
     "iopub.status.idle": "2025-02-21T03:20:59.789511Z",
     "shell.execute_reply": "2025-02-21T03:20:59.788953Z",
     "shell.execute_reply.started": "2025-02-21T03:20:56.899217Z"
    },
    "scrolled": true
   },
   "outputs": [
    {
     "data": {
      "text/html": [
       "<div>\n",
       "<style scoped>\n",
       "    .dataframe tbody tr th:only-of-type {\n",
       "        vertical-align: middle;\n",
       "    }\n",
       "\n",
       "    .dataframe tbody tr th {\n",
       "        vertical-align: top;\n",
       "    }\n",
       "\n",
       "    .dataframe thead th {\n",
       "        text-align: right;\n",
       "    }\n",
       "</style>\n",
       "<table border=\"1\" class=\"dataframe\">\n",
       "  <thead>\n",
       "    <tr style=\"text-align: right;\">\n",
       "      <th></th>\n",
       "      <th>NAME</th>\n",
       "      <th>B01001_001E</th>\n",
       "      <th>state</th>\n",
       "      <th>county</th>\n",
       "    </tr>\n",
       "  </thead>\n",
       "  <tbody>\n",
       "    <tr>\n",
       "      <th>0</th>\n",
       "      <td>Autauga County, Alabama</td>\n",
       "      <td>58761.0</td>\n",
       "      <td>01</td>\n",
       "      <td>001</td>\n",
       "    </tr>\n",
       "    <tr>\n",
       "      <th>1</th>\n",
       "      <td>Baldwin County, Alabama</td>\n",
       "      <td>233420.0</td>\n",
       "      <td>01</td>\n",
       "      <td>003</td>\n",
       "    </tr>\n",
       "    <tr>\n",
       "      <th>...</th>\n",
       "      <td>...</td>\n",
       "      <td>...</td>\n",
       "      <td>...</td>\n",
       "      <td>...</td>\n",
       "    </tr>\n",
       "    <tr>\n",
       "      <th>3220</th>\n",
       "      <td>Yabucoa Municipio, Puerto Rico</td>\n",
       "      <td>30313.0</td>\n",
       "      <td>72</td>\n",
       "      <td>151</td>\n",
       "    </tr>\n",
       "    <tr>\n",
       "      <th>3221</th>\n",
       "      <td>Yauco Municipio, Puerto Rico</td>\n",
       "      <td>33988.0</td>\n",
       "      <td>72</td>\n",
       "      <td>153</td>\n",
       "    </tr>\n",
       "  </tbody>\n",
       "</table>\n",
       "<p>3222 rows × 4 columns</p>\n",
       "</div>"
      ],
      "text/plain": [
       "                                NAME  B01001_001E state county\n",
       "0            Autauga County, Alabama      58761.0    01    001\n",
       "1            Baldwin County, Alabama     233420.0    01    003\n",
       "...                              ...          ...   ...    ...\n",
       "3220  Yabucoa Municipio, Puerto Rico      30313.0    72    151\n",
       "3221    Yauco Municipio, Puerto Rico      33988.0    72    153\n",
       "\n",
       "[3222 rows x 4 columns]"
      ]
     },
     "execution_count": 47,
     "metadata": {},
     "output_type": "execute_result"
    }
   ],
   "source": [
    "## Example of reading data from the Census library into a \n",
    "# Pandas DataFrame:\n",
    "from census import Census\n",
    "c = Census(key)\n",
    "pd.DataFrame(c.acs5.get(('NAME', 'B01001_001E'),\n",
    "{'for': 'county:*'}))"
   ]
  },
  {
   "cell_type": "markdown",
   "id": "7a77d4a9-d50a-4b81-8f58-ffa104538acd",
   "metadata": {},
   "source": [
    "### 2: The requests library"
   ]
  },
  {
   "cell_type": "markdown",
   "id": "e5919335-5c49-4e1a-bdff-2ef6c332a418",
   "metadata": {},
   "source": [
    "We can also use Python's *requests* library to retrieve data from the Census API, then convert it to JSON format:"
   ]
  },
  {
   "cell_type": "code",
   "execution_count": 48,
   "id": "a39234f2-45cd-4888-a581-8a778dfa5dca",
   "metadata": {
    "execution": {
     "iopub.execute_input": "2025-02-21T03:20:59.790074Z",
     "iopub.status.busy": "2025-02-21T03:20:59.789944Z",
     "iopub.status.idle": "2025-02-21T03:21:01.713184Z",
     "shell.execute_reply": "2025-02-21T03:21:01.712725Z",
     "shell.execute_reply.started": "2025-02-21T03:20:59.790059Z"
    }
   },
   "outputs": [
    {
     "name": "stdout",
     "output_type": "stream",
     "text": [
      "r.text:\n",
      " [[\"NAME\",\"B01001_001E\",\"state\",\"county\"],\n",
      "[\"Autauga County, Alabama\",\"58239\",\"01\",\"001\"],\n",
      "[\"Baldwin County, Alabama\",\"227131\",\"01\",\"003\"],\n",
      "[\"Barbour County, Alabama\",\"25259\",\"01\",\"005\"],\n",
      "[\"Bibb County, Alabama\",\"22412\",\"01\",\"007\"],\n",
      "[\"Blount County, Alabama\",\"58884\",\"01\",\"009\"],\n",
      "[\"Bullock County, Ala \n",
      "\n",
      "r.json:\n",
      " [['NAME', 'B01001_001E', 'state', 'county'], ['Autauga County, Alabama', '58239', '01', '001'], ['Baldwin County, Alabama', '227131', '01', '003'], ['Barbour County, Alabama', '25259', '01', '005'], ['Bibb County, Alabama', '22412', '01', '007']] \n",
      "\n"
     ]
    }
   ],
   "source": [
    "# The following code borrows from the requests library documentation at \n",
    "# https://docs.python-requests.org/en/latest/index.html\n",
    "import requests\n",
    "r = requests.get(f'https://api.census.gov/data/{acs5_year}/\\\n",
    "acs/acs5?get=NAME,B01001_001E&for=county:*&key={key}')\n",
    "# Printing the first 300 characters of this output:\n",
    "print(\"r.text:\\n\",r.text[0:300],'\\n')\n",
    "# Printing the first 5 lines of r.json:\n",
    "print(\"r.json:\\n\",r.json()[0:5],'\\n')"
   ]
  },
  {
   "cell_type": "markdown",
   "id": "197ac0c5-fb46-4e82-a067-49850bfd28ed",
   "metadata": {
    "execution": {
     "iopub.execute_input": "2024-06-25T22:27:19.507204Z",
     "iopub.status.busy": "2024-06-25T22:27:19.506200Z",
     "iopub.status.idle": "2024-06-25T22:27:19.618688Z",
     "shell.execute_reply": "2024-06-25T22:27:19.618688Z",
     "shell.execute_reply.started": "2024-06-25T22:27:19.507204Z"
    }
   },
   "source": [
    "Converting our response to JSON allows it to be easily read into a Pandas DataFrame, as shown below:"
   ]
  },
  {
   "cell_type": "code",
   "execution_count": 49,
   "id": "f3734c71-d357-4b13-b912-5a2c3af433fd",
   "metadata": {
    "execution": {
     "iopub.execute_input": "2025-02-21T03:21:01.713669Z",
     "iopub.status.busy": "2025-02-21T03:21:01.713545Z",
     "iopub.status.idle": "2025-02-21T03:21:01.718736Z",
     "shell.execute_reply": "2025-02-21T03:21:01.718498Z",
     "shell.execute_reply.started": "2025-02-21T03:21:01.713659Z"
    }
   },
   "outputs": [
    {
     "data": {
      "text/html": [
       "<div>\n",
       "<style scoped>\n",
       "    .dataframe tbody tr th:only-of-type {\n",
       "        vertical-align: middle;\n",
       "    }\n",
       "\n",
       "    .dataframe tbody tr th {\n",
       "        vertical-align: top;\n",
       "    }\n",
       "\n",
       "    .dataframe thead th {\n",
       "        text-align: right;\n",
       "    }\n",
       "</style>\n",
       "<table border=\"1\" class=\"dataframe\">\n",
       "  <thead>\n",
       "    <tr style=\"text-align: right;\">\n",
       "      <th></th>\n",
       "      <th>0</th>\n",
       "      <th>1</th>\n",
       "      <th>2</th>\n",
       "      <th>3</th>\n",
       "    </tr>\n",
       "  </thead>\n",
       "  <tbody>\n",
       "    <tr>\n",
       "      <th>0</th>\n",
       "      <td>NAME</td>\n",
       "      <td>B01001_001E</td>\n",
       "      <td>state</td>\n",
       "      <td>county</td>\n",
       "    </tr>\n",
       "    <tr>\n",
       "      <th>1</th>\n",
       "      <td>Autauga County, Alabama</td>\n",
       "      <td>58239</td>\n",
       "      <td>01</td>\n",
       "      <td>001</td>\n",
       "    </tr>\n",
       "    <tr>\n",
       "      <th>2</th>\n",
       "      <td>Baldwin County, Alabama</td>\n",
       "      <td>227131</td>\n",
       "      <td>01</td>\n",
       "      <td>003</td>\n",
       "    </tr>\n",
       "    <tr>\n",
       "      <th>3</th>\n",
       "      <td>Barbour County, Alabama</td>\n",
       "      <td>25259</td>\n",
       "      <td>01</td>\n",
       "      <td>005</td>\n",
       "    </tr>\n",
       "    <tr>\n",
       "      <th>4</th>\n",
       "      <td>Bibb County, Alabama</td>\n",
       "      <td>22412</td>\n",
       "      <td>01</td>\n",
       "      <td>007</td>\n",
       "    </tr>\n",
       "  </tbody>\n",
       "</table>\n",
       "</div>"
      ],
      "text/plain": [
       "                         0            1      2       3\n",
       "0                     NAME  B01001_001E  state  county\n",
       "1  Autauga County, Alabama        58239     01     001\n",
       "2  Baldwin County, Alabama       227131     01     003\n",
       "3  Barbour County, Alabama        25259     01     005\n",
       "4     Bibb County, Alabama        22412     01     007"
      ]
     },
     "execution_count": 49,
     "metadata": {},
     "output_type": "execute_result"
    }
   ],
   "source": [
    "pd.DataFrame(r.json()).head()\n",
    "# Note that pd.DataFrame(r.text) would produce the following error:\n",
    "# \"ValueError: DataFrame constructor not properly called!\""
   ]
  },
  {
   "cell_type": "markdown",
   "id": "f4f0aa8c-e69c-4bab-9933-59d1e46b23dc",
   "metadata": {},
   "source": [
    "I included this approach in the appendix because you may find the requests library useful for other online data retrieval tasks. However, our use of `pd.read_json()` to import Census data rendered an explicit call to the requests library unnecessary."
   ]
  },
  {
   "cell_type": "code",
   "execution_count": 50,
   "id": "af946a38-8d2b-425a-8ca1-b10d8050fa32",
   "metadata": {
    "execution": {
     "iopub.execute_input": "2025-02-21T03:21:01.719151Z",
     "iopub.status.busy": "2025-02-21T03:21:01.719036Z",
     "iopub.status.idle": "2025-02-21T03:21:01.726856Z",
     "shell.execute_reply": "2025-02-21T03:21:01.726583Z",
     "shell.execute_reply.started": "2025-02-21T03:21:01.719142Z"
    }
   },
   "outputs": [
    {
     "name": "stdout",
     "output_type": "stream",
     "text": [
      "Finished running script in 231.237 seconds.\n"
     ]
    }
   ],
   "source": [
    "program_end_time = time.time()\n",
    "run_time = round(program_end_time - program_start_time, 3)\n",
    "print(f\"Finished running script in {run_time} seconds.\")"
   ]
  }
 ],
 "metadata": {
  "kernelspec": {
   "display_name": "Python 3 (ipykernel)",
   "language": "python",
   "name": "python3"
  },
  "language_info": {
   "codemirror_mode": {
    "name": "ipython",
    "version": 3
   },
   "file_extension": ".py",
   "mimetype": "text/x-python",
   "name": "python",
   "nbconvert_exporter": "python",
   "pygments_lexer": "ipython3",
   "version": "3.13.2"
  }
 },
 "nbformat": 4,
 "nbformat_minor": 5
}
