{
 "cells": [
  {
   "cell_type": "markdown",
   "id": "0e80b39c-a4e3-4b08-86b1-335f5b659039",
   "metadata": {},
   "source": [
    "# Descriptive Stats\n",
    "\n",
    "Now that we've learned how to retrieve, reformat, and clean data, we can finally begin analyzing it! This notebook demonstrates how to calculate descriptive statistics in Python using Pandas. \n",
    "\n",
    "Suppose leaders at NVCU would like to know, on a *daily* basis, how incoming spring survey results differ from fall and winter ones. (These metrics could change each day as new spring survey data gets released, and the administration does not wish to wait until all results are in before they begin reviewing the numbers.) \n",
    "\n",
    "One way to accomplish this task would be to manually import survey data from your database each day; paste it into Excel or Google Sheets; pivot the data, and then share the output. However, you could also accomplish these same steps in Python. While this would likely take you longer the first time around, you could then create updated analyses of your data in mere seconds. This notebook will show you how!"
   ]
  },
  {
   "cell_type": "code",
   "execution_count": 1,
   "id": "8841dd31-a284-4232-98f3-063e71f42f52",
   "metadata": {
    "execution": {
     "iopub.execute_input": "2025-03-22T04:00:22.551655Z",
     "iopub.status.busy": "2025-03-22T04:00:22.551553Z",
     "iopub.status.idle": "2025-03-22T04:00:22.789102Z",
     "shell.execute_reply": "2025-03-22T04:00:22.788750Z",
     "shell.execute_reply.started": "2025-03-22T04:00:22.551642Z"
    }
   },
   "outputs": [],
   "source": [
    "import time\n",
    "start_time = time.time()\n",
    "import sys\n",
    "sys.path.insert(1, '../Appendix')\n",
    "from helper_funcs import config_notebook\n",
    "display_type = config_notebook(display_max_columns = 8,\n",
    "                              display_max_rows = 16) \n",
    "\n",
    "import pandas as pd\n",
    "import numpy as np\n",
    "from sqlalchemy import create_engine    "
   ]
  },
  {
   "cell_type": "markdown",
   "id": "9d65ac89-b778-4e44-bc1b-c879e66df038",
   "metadata": {},
   "source": [
    "We'll first import our combined set of fall, spring, and winter student survey results; these results were created within data_prep.ipynb. (Note that these results also include college and level data that we merged in from NVCU's 'curr_enrollment' SQL table; that way, we can evaluate average results by level and college.)"
   ]
  },
  {
   "cell_type": "code",
   "execution_count": 2,
   "id": "225c6978-37d5-4a62-a505-fd37da30a44f",
   "metadata": {
    "execution": {
     "iopub.execute_input": "2025-03-22T04:00:22.790117Z",
     "iopub.status.busy": "2025-03-22T04:00:22.789813Z",
     "iopub.status.idle": "2025-03-22T04:00:22.819086Z",
     "shell.execute_reply": "2025-03-22T04:00:22.818732Z",
     "shell.execute_reply.started": "2025-03-22T04:00:22.790099Z"
    }
   },
   "outputs": [
    {
     "data": {
      "text/html": [
       "<div>\n",
       "<style scoped>\n",
       "    .dataframe tbody tr th:only-of-type {\n",
       "        vertical-align: middle;\n",
       "    }\n",
       "\n",
       "    .dataframe tbody tr th {\n",
       "        vertical-align: top;\n",
       "    }\n",
       "\n",
       "    .dataframe thead th {\n",
       "        text-align: right;\n",
       "    }\n",
       "</style>\n",
       "<table border=\"1\" class=\"dataframe\">\n",
       "  <thead>\n",
       "    <tr style=\"text-align: right;\">\n",
       "      <th></th>\n",
       "      <th>student_id</th>\n",
       "      <th>starting_year</th>\n",
       "      <th>season</th>\n",
       "      <th>score</th>\n",
       "      <th>college</th>\n",
       "      <th>level</th>\n",
       "    </tr>\n",
       "  </thead>\n",
       "  <tbody>\n",
       "    <tr>\n",
       "      <th>0</th>\n",
       "      <td>2020-1</td>\n",
       "      <td>2023</td>\n",
       "      <td>Fall</td>\n",
       "      <td>88</td>\n",
       "      <td>STC</td>\n",
       "      <td>Se</td>\n",
       "    </tr>\n",
       "    <tr>\n",
       "      <th>1</th>\n",
       "      <td>2020-2</td>\n",
       "      <td>2023</td>\n",
       "      <td>Fall</td>\n",
       "      <td>37</td>\n",
       "      <td>STM</td>\n",
       "      <td>Se</td>\n",
       "    </tr>\n",
       "    <tr>\n",
       "      <th>2</th>\n",
       "      <td>2020-3</td>\n",
       "      <td>2023</td>\n",
       "      <td>Fall</td>\n",
       "      <td>54</td>\n",
       "      <td>STC</td>\n",
       "      <td>Se</td>\n",
       "    </tr>\n",
       "    <tr>\n",
       "      <th>3</th>\n",
       "      <td>2020-4</td>\n",
       "      <td>2023</td>\n",
       "      <td>Fall</td>\n",
       "      <td>56</td>\n",
       "      <td>STC</td>\n",
       "      <td>Se</td>\n",
       "    </tr>\n",
       "    <tr>\n",
       "      <th>4</th>\n",
       "      <td>2020-5</td>\n",
       "      <td>2023</td>\n",
       "      <td>Fall</td>\n",
       "      <td>77</td>\n",
       "      <td>STM</td>\n",
       "      <td>Se</td>\n",
       "    </tr>\n",
       "  </tbody>\n",
       "</table>\n",
       "</div>"
      ],
      "text/plain": [
       "  student_id  starting_year season  score college level\n",
       "0     2020-1           2023   Fall     88     STC    Se\n",
       "1     2020-2           2023   Fall     37     STM    Se\n",
       "2     2020-3           2023   Fall     54     STC    Se\n",
       "3     2020-4           2023   Fall     56     STC    Se\n",
       "4     2020-5           2023   Fall     77     STM    Se"
      ]
     },
     "execution_count": 2,
     "metadata": {},
     "output_type": "execute_result"
    }
   ],
   "source": [
    "df_survey_results = pd.read_csv('../Data_Prep/2023_survey_results.csv')\n",
    "# Removing a few non-essential columns from the display so that the table\n",
    "# will show up better in PDF format:\n",
    "df_survey_results.drop(['season_order', 'level_for_sorting'],\n",
    "                       axis = 1).head(5)"
   ]
  },
  {
   "cell_type": "markdown",
   "id": "d8ac79fc-e7e4-44c2-8719-a2439e61188d",
   "metadata": {},
   "source": [
    "## Evaluating changes in average university-wide results during the school year\n",
    "\n",
    "Our dataset contains fall, winter, and spring survey results. In order to determine how the mean survey score has changed over the course of the year, we can use Pandas' `pivot_table()` function (https://pandas.pydata.org/pandas-docs/stable/reference/api/pandas.pivot_table.html). I consider `pivot_table()` to be one of the most useful functions in the Pandas library, and you'll see it used again and again with PFN.\n",
    "\n",
    "The `pivot_table()` call below introduces three key arguments:\n",
    "\n",
    "`index`: the list of values by which to group results. Although our dataset only contains data for one year, we'll still include `starting_year` in our results in order to (1) allow the function to accommodate other school years and (2) demonstrate to the viewer that all of this data comes from 2023. We'll also add both `season_order` and `season` to our list (in that order) so as to display results by season in chronological order. (Without the `season_order` argument, our seasons would be sorted alphabetically, with spring results preceding winter ones.\n",
    "\n",
    "`values`: the metric(s) to assess. We're interested in analyzing changes in average score by year, so we'll pass `score` as our argument. Multiple values can be passed to this argument if needed.\n",
    "\n",
    "`aggfunc`: the aggregate function to apply to our list of values. We'll use `mean` here, but we could also have chosen `median` as a measure of the average.\n",
    "\n",
    "I generally like to add `reset_index()` to the result of `pivot_table()` in order to remove any blank index values."
   ]
  },
  {
   "cell_type": "code",
   "execution_count": 3,
   "id": "42fd3b49-6416-4af8-9c09-d15298c86248",
   "metadata": {
    "execution": {
     "iopub.execute_input": "2025-03-22T04:00:22.819649Z",
     "iopub.status.busy": "2025-03-22T04:00:22.819483Z",
     "iopub.status.idle": "2025-03-22T04:00:22.830274Z",
     "shell.execute_reply": "2025-03-22T04:00:22.829888Z",
     "shell.execute_reply.started": "2025-03-22T04:00:22.819637Z"
    }
   },
   "outputs": [
    {
     "data": {
      "text/html": [
       "<div>\n",
       "<style scoped>\n",
       "    .dataframe tbody tr th:only-of-type {\n",
       "        vertical-align: middle;\n",
       "    }\n",
       "\n",
       "    .dataframe tbody tr th {\n",
       "        vertical-align: top;\n",
       "    }\n",
       "\n",
       "    .dataframe thead th {\n",
       "        text-align: right;\n",
       "    }\n",
       "</style>\n",
       "<table border=\"1\" class=\"dataframe\">\n",
       "  <thead>\n",
       "    <tr style=\"text-align: right;\">\n",
       "      <th></th>\n",
       "      <th>starting_year</th>\n",
       "      <th>season_order</th>\n",
       "      <th>season</th>\n",
       "      <th>score</th>\n",
       "    </tr>\n",
       "  </thead>\n",
       "  <tbody>\n",
       "    <tr>\n",
       "      <th>0</th>\n",
       "      <td>2023</td>\n",
       "      <td>0</td>\n",
       "      <td>Fall</td>\n",
       "      <td>69.682251</td>\n",
       "    </tr>\n",
       "    <tr>\n",
       "      <th>1</th>\n",
       "      <td>2023</td>\n",
       "      <td>1</td>\n",
       "      <td>Winter</td>\n",
       "      <td>64.263320</td>\n",
       "    </tr>\n",
       "    <tr>\n",
       "      <th>2</th>\n",
       "      <td>2023</td>\n",
       "      <td>2</td>\n",
       "      <td>Spring</td>\n",
       "      <td>72.049622</td>\n",
       "    </tr>\n",
       "  </tbody>\n",
       "</table>\n",
       "</div>"
      ],
      "text/plain": [
       "   starting_year  season_order  season      score\n",
       "0           2023             0    Fall  69.682251\n",
       "1           2023             1  Winter  64.263320\n",
       "2           2023             2  Spring  72.049622"
      ]
     },
     "execution_count": 3,
     "metadata": {},
     "output_type": "execute_result"
    }
   ],
   "source": [
    "df_results_by_season = df_survey_results.pivot_table(\n",
    "    index=['starting_year', 'season_order', 'season'], \n",
    "    values='score', aggfunc='mean').reset_index()\n",
    "df_results_by_season"
   ]
  },
  {
   "cell_type": "markdown",
   "id": "ac78ce6c-ffcc-47d5-9ea3-e412725625b3",
   "metadata": {},
   "source": [
    "These results show that the average score fell around 5 points from the fall to the winter, then increased nearly 8 points from the winter to the spring.\n",
    "\n",
    "Here's what the output looks like without the trailing reset_index() call:"
   ]
  },
  {
   "cell_type": "code",
   "execution_count": 4,
   "id": "1694fea6-963f-4956-bc2d-746d5368e734",
   "metadata": {
    "execution": {
     "iopub.execute_input": "2025-03-22T04:00:22.830717Z",
     "iopub.status.busy": "2025-03-22T04:00:22.830618Z",
     "iopub.status.idle": "2025-03-22T04:00:22.840130Z",
     "shell.execute_reply": "2025-03-22T04:00:22.839756Z",
     "shell.execute_reply.started": "2025-03-22T04:00:22.830706Z"
    }
   },
   "outputs": [
    {
     "data": {
      "text/html": [
       "<div>\n",
       "<style scoped>\n",
       "    .dataframe tbody tr th:only-of-type {\n",
       "        vertical-align: middle;\n",
       "    }\n",
       "\n",
       "    .dataframe tbody tr th {\n",
       "        vertical-align: top;\n",
       "    }\n",
       "\n",
       "    .dataframe thead th {\n",
       "        text-align: right;\n",
       "    }\n",
       "</style>\n",
       "<table border=\"1\" class=\"dataframe\">\n",
       "  <thead>\n",
       "    <tr style=\"text-align: right;\">\n",
       "      <th></th>\n",
       "      <th></th>\n",
       "      <th></th>\n",
       "      <th>score</th>\n",
       "    </tr>\n",
       "    <tr>\n",
       "      <th>starting_year</th>\n",
       "      <th>season_order</th>\n",
       "      <th>season</th>\n",
       "      <th></th>\n",
       "    </tr>\n",
       "  </thead>\n",
       "  <tbody>\n",
       "    <tr>\n",
       "      <th rowspan=\"3\" valign=\"top\">2023</th>\n",
       "      <th>0</th>\n",
       "      <th>Fall</th>\n",
       "      <td>69.682251</td>\n",
       "    </tr>\n",
       "    <tr>\n",
       "      <th>1</th>\n",
       "      <th>Winter</th>\n",
       "      <td>64.263320</td>\n",
       "    </tr>\n",
       "    <tr>\n",
       "      <th>2</th>\n",
       "      <th>Spring</th>\n",
       "      <td>72.049622</td>\n",
       "    </tr>\n",
       "  </tbody>\n",
       "</table>\n",
       "</div>"
      ],
      "text/plain": [
       "                                       score\n",
       "starting_year season_order season           \n",
       "2023          0            Fall    69.682251\n",
       "              1            Winter  64.263320\n",
       "              2            Spring  72.049622"
      ]
     },
     "execution_count": 4,
     "metadata": {},
     "output_type": "execute_result"
    }
   ],
   "source": [
    "df_survey_results.pivot_table(\n",
    "    index=['starting_year', 'season_order', 'season'], \n",
    "    values='score', aggfunc='mean')"
   ]
  },
  {
   "cell_type": "markdown",
   "id": "f82b7671-ac8b-446c-9520-d79041fab6d6",
   "metadata": {},
   "source": [
    "We can also find the average score across seasons by setting `margins` to True. The `margins_name` argument lets us assign a name to this row; if we leave it blank, the row will be titled 'All.'"
   ]
  },
  {
   "cell_type": "code",
   "execution_count": 5,
   "id": "b4e11667-143c-432d-ad3a-f5c415774ba3",
   "metadata": {
    "execution": {
     "iopub.execute_input": "2025-03-22T04:00:22.840653Z",
     "iopub.status.busy": "2025-03-22T04:00:22.840545Z",
     "iopub.status.idle": "2025-03-22T04:00:22.854027Z",
     "shell.execute_reply": "2025-03-22T04:00:22.853794Z",
     "shell.execute_reply.started": "2025-03-22T04:00:22.840643Z"
    }
   },
   "outputs": [
    {
     "data": {
      "text/html": [
       "<div>\n",
       "<style scoped>\n",
       "    .dataframe tbody tr th:only-of-type {\n",
       "        vertical-align: middle;\n",
       "    }\n",
       "\n",
       "    .dataframe tbody tr th {\n",
       "        vertical-align: top;\n",
       "    }\n",
       "\n",
       "    .dataframe thead th {\n",
       "        text-align: right;\n",
       "    }\n",
       "</style>\n",
       "<table border=\"1\" class=\"dataframe\">\n",
       "  <thead>\n",
       "    <tr style=\"text-align: right;\">\n",
       "      <th></th>\n",
       "      <th>starting_year</th>\n",
       "      <th>season_order</th>\n",
       "      <th>season</th>\n",
       "      <th>score</th>\n",
       "    </tr>\n",
       "  </thead>\n",
       "  <tbody>\n",
       "    <tr>\n",
       "      <th>0</th>\n",
       "      <td>2023</td>\n",
       "      <td>0</td>\n",
       "      <td>Fall</td>\n",
       "      <td>69.682251</td>\n",
       "    </tr>\n",
       "    <tr>\n",
       "      <th>1</th>\n",
       "      <td>2023</td>\n",
       "      <td>1</td>\n",
       "      <td>Winter</td>\n",
       "      <td>64.263320</td>\n",
       "    </tr>\n",
       "    <tr>\n",
       "      <th>2</th>\n",
       "      <td>2023</td>\n",
       "      <td>2</td>\n",
       "      <td>Spring</td>\n",
       "      <td>72.049622</td>\n",
       "    </tr>\n",
       "    <tr>\n",
       "      <th>3</th>\n",
       "      <td>2023 Average</td>\n",
       "      <td></td>\n",
       "      <td></td>\n",
       "      <td>68.896775</td>\n",
       "    </tr>\n",
       "  </tbody>\n",
       "</table>\n",
       "</div>"
      ],
      "text/plain": [
       "  starting_year season_order  season      score\n",
       "0          2023            0    Fall  69.682251\n",
       "1          2023            1  Winter  64.263320\n",
       "2          2023            2  Spring  72.049622\n",
       "3  2023 Average                       68.896775"
      ]
     },
     "execution_count": 5,
     "metadata": {},
     "output_type": "execute_result"
    }
   ],
   "source": [
    "df_survey_results.pivot_table(\n",
    "    index = ['starting_year', 'season_order', 'season'], \n",
    "    values = 'score', aggfunc = 'mean', margins=True, \n",
    "    margins_name='2023 Average').reset_index()"
   ]
  },
  {
   "cell_type": "markdown",
   "id": "892e22f3-3ce6-4dd9-aede-088bfde435b9",
   "metadata": {},
   "source": [
    "## Calculating response rates\n",
    "\n",
    "The `pivot_table()` function will also let us determine survey response rates as a percentage of our current enrollment. We can import this current enrollment value from our NVCU database:"
   ]
  },
  {
   "cell_type": "code",
   "execution_count": 6,
   "id": "13460f34-4480-4048-955c-2547817d8e6e",
   "metadata": {
    "execution": {
     "iopub.execute_input": "2025-03-22T04:00:22.854571Z",
     "iopub.status.busy": "2025-03-22T04:00:22.854367Z",
     "iopub.status.idle": "2025-03-22T04:00:22.862401Z",
     "shell.execute_reply": "2025-03-22T04:00:22.862107Z",
     "shell.execute_reply.started": "2025-03-22T04:00:22.854560Z"
    }
   },
   "outputs": [],
   "source": [
    "e = create_engine('sqlite:///../Appendix/nvcu_db.db')"
   ]
  },
  {
   "cell_type": "markdown",
   "id": "84ab1beb-607c-4392-b605-da7b09476f19",
   "metadata": {},
   "source": [
    "Calculating our current enrollment by counting the number of rows in our curr_enrollment table:"
   ]
  },
  {
   "cell_type": "code",
   "execution_count": 7,
   "id": "010b75e4-25f4-4247-804a-30215897615c",
   "metadata": {
    "execution": {
     "iopub.execute_input": "2025-03-22T04:00:22.862929Z",
     "iopub.status.busy": "2025-03-22T04:00:22.862740Z",
     "iopub.status.idle": "2025-03-22T04:00:22.910965Z",
     "shell.execute_reply": "2025-03-22T04:00:22.910640Z",
     "shell.execute_reply.started": "2025-03-22T04:00:22.862918Z"
    }
   },
   "outputs": [
    {
     "data": {
      "text/plain": [
       "16384"
      ]
     },
     "execution_count": 7,
     "metadata": {},
     "output_type": "execute_result"
    }
   ],
   "source": [
    "enrollment_count = len(pd.read_sql(\n",
    "    \"Select * from curr_enrollment\", con=e))\n",
    "enrollment_count"
   ]
  },
  {
   "cell_type": "markdown",
   "id": "7e3cf6c9-7dde-4087-949a-8e28db03300b",
   "metadata": {},
   "source": [
    "A faster way of computing this number is to request it within the original SQL query via COUNT(*). The following line, which demonstrates this approach, took only 6 milliseconds to run on my computer--one tenth the duration of the previous line (which took 62 milliseconds). If we were dealing with millions of rows instead of thousands, this performance difference would probably be even greater."
   ]
  },
  {
   "cell_type": "code",
   "execution_count": 8,
   "id": "11b066dc-c87b-4814-941e-e9d4ccbdbfb2",
   "metadata": {
    "execution": {
     "iopub.execute_input": "2025-03-22T04:00:22.911510Z",
     "iopub.status.busy": "2025-03-22T04:00:22.911350Z",
     "iopub.status.idle": "2025-03-22T04:00:22.914852Z",
     "shell.execute_reply": "2025-03-22T04:00:22.914622Z",
     "shell.execute_reply.started": "2025-03-22T04:00:22.911492Z"
    }
   },
   "outputs": [
    {
     "data": {
      "text/plain": [
       "np.int64(16384)"
      ]
     },
     "execution_count": 8,
     "metadata": {},
     "output_type": "execute_result"
    }
   ],
   "source": [
    "enrollment_count = pd.read_sql(\n",
    "    \"Select COUNT(*) from curr_enrollment\", con=e).iloc[0]['COUNT(*)']\n",
    "enrollment_count"
   ]
  },
  {
   "cell_type": "markdown",
   "id": "7990620d-e5ef-4ccf-a725-f910cee33dfd",
   "metadata": {
    "execution": {
     "iopub.execute_input": "2024-07-09T03:40:27.826174Z",
     "iopub.status.busy": "2024-07-09T03:40:27.825182Z",
     "iopub.status.idle": "2024-07-09T03:40:27.830313Z",
     "shell.execute_reply": "2024-07-09T03:40:27.830313Z",
     "shell.execute_reply.started": "2024-07-09T03:40:27.826174Z"
    }
   },
   "source": [
    "Now that we have the denominator* for our response rate calculations, let's go ahead and calculate the numerator (e.g. the number of responses per season). For teaching purposes, the following cell will also show how to use a dictionary to specify separate `aggfunc` values for different `value` entries. In this case, we'll pass `mean` as our aggregate function for the `score` column, but `count` as our aggregate function for the `responses` field. \n",
    "\n",
    "*Note: When calculating row counts, make sure that the column you pass to the `values` argument doesn't contain null values; otherwise, your row counts will be incorrect (as null values will get excluded from your counts.) To prevent this issue, I often like to create a column that stores a value of 1 for every row. Using this column (titled `responses` in the following cell) ensures that my pivot table will show the correct row counts for each group.*\n",
    "\n",
    "*A more robust approach here would have been to calculate separate enrollment figures for the fall, winter, and spring periods in order to take new matriculations and withdrawals into account. "
   ]
  },
  {
   "cell_type": "code",
   "execution_count": 9,
   "id": "ddf9d1de-c600-4378-b1f0-2f14f7356ad0",
   "metadata": {
    "execution": {
     "iopub.execute_input": "2025-03-22T04:00:22.915343Z",
     "iopub.status.busy": "2025-03-22T04:00:22.915141Z",
     "iopub.status.idle": "2025-03-22T04:00:22.927069Z",
     "shell.execute_reply": "2025-03-22T04:00:22.926811Z",
     "shell.execute_reply.started": "2025-03-22T04:00:22.915332Z"
    }
   },
   "outputs": [
    {
     "data": {
      "text/html": [
       "<div>\n",
       "<style scoped>\n",
       "    .dataframe tbody tr th:only-of-type {\n",
       "        vertical-align: middle;\n",
       "    }\n",
       "\n",
       "    .dataframe tbody tr th {\n",
       "        vertical-align: top;\n",
       "    }\n",
       "\n",
       "    .dataframe thead th {\n",
       "        text-align: right;\n",
       "    }\n",
       "</style>\n",
       "<table border=\"1\" class=\"dataframe\">\n",
       "  <thead>\n",
       "    <tr style=\"text-align: right;\">\n",
       "      <th></th>\n",
       "      <th>starting_year</th>\n",
       "      <th>season_order</th>\n",
       "      <th>season</th>\n",
       "      <th>responses</th>\n",
       "      <th>score</th>\n",
       "    </tr>\n",
       "  </thead>\n",
       "  <tbody>\n",
       "    <tr>\n",
       "      <th>0</th>\n",
       "      <td>2023</td>\n",
       "      <td>0</td>\n",
       "      <td>Fall</td>\n",
       "      <td>16384</td>\n",
       "      <td>69.682251</td>\n",
       "    </tr>\n",
       "    <tr>\n",
       "      <th>1</th>\n",
       "      <td>2023</td>\n",
       "      <td>1</td>\n",
       "      <td>Winter</td>\n",
       "      <td>13926</td>\n",
       "      <td>64.263320</td>\n",
       "    </tr>\n",
       "    <tr>\n",
       "      <th>2</th>\n",
       "      <td>2023</td>\n",
       "      <td>2</td>\n",
       "      <td>Spring</td>\n",
       "      <td>16384</td>\n",
       "      <td>72.049622</td>\n",
       "    </tr>\n",
       "  </tbody>\n",
       "</table>\n",
       "</div>"
      ],
      "text/plain": [
       "   starting_year  season_order  season  responses      score\n",
       "0           2023             0    Fall      16384  69.682251\n",
       "1           2023             1  Winter      13926  64.263320\n",
       "2           2023             2  Spring      16384  72.049622"
      ]
     },
     "execution_count": 9,
     "metadata": {},
     "output_type": "execute_result"
    }
   ],
   "source": [
    "df_survey_results['responses'] = 1\n",
    "df_response_rates = df_survey_results.pivot_table(\n",
    "    index=['starting_year', 'season_order', 'season'], \n",
    "    values=['score', 'responses'], \n",
    "    aggfunc={'score':'mean','responses':'count'}).reset_index() \n",
    "    # Because all 'responses' values are 1, we could also have made 'sum' \n",
    "    # the aggfunc for 'responses' rather than 'count.'\n",
    "df_response_rates"
   ]
  },
  {
   "cell_type": "markdown",
   "id": "0292cc00-1237-4b81-ad21-91a1cd9b83b4",
   "metadata": {},
   "source": [
    "Calculating response rates as the quotient of survey counts and NVCU's current enrollment:"
   ]
  },
  {
   "cell_type": "code",
   "execution_count": 10,
   "id": "ee016c34-d59e-495f-886d-0c8beaf80df8",
   "metadata": {
    "execution": {
     "iopub.execute_input": "2025-03-22T04:00:22.927510Z",
     "iopub.status.busy": "2025-03-22T04:00:22.927406Z",
     "iopub.status.idle": "2025-03-22T04:00:22.931897Z",
     "shell.execute_reply": "2025-03-22T04:00:22.931658Z",
     "shell.execute_reply.started": "2025-03-22T04:00:22.927501Z"
    }
   },
   "outputs": [
    {
     "data": {
      "text/html": [
       "<div>\n",
       "<style scoped>\n",
       "    .dataframe tbody tr th:only-of-type {\n",
       "        vertical-align: middle;\n",
       "    }\n",
       "\n",
       "    .dataframe tbody tr th {\n",
       "        vertical-align: top;\n",
       "    }\n",
       "\n",
       "    .dataframe thead th {\n",
       "        text-align: right;\n",
       "    }\n",
       "</style>\n",
       "<table border=\"1\" class=\"dataframe\">\n",
       "  <thead>\n",
       "    <tr style=\"text-align: right;\">\n",
       "      <th></th>\n",
       "      <th>starting_year</th>\n",
       "      <th>season_order</th>\n",
       "      <th>season</th>\n",
       "      <th>responses</th>\n",
       "      <th>score</th>\n",
       "      <th>response_rate</th>\n",
       "    </tr>\n",
       "  </thead>\n",
       "  <tbody>\n",
       "    <tr>\n",
       "      <th>0</th>\n",
       "      <td>2023</td>\n",
       "      <td>0</td>\n",
       "      <td>Fall</td>\n",
       "      <td>16384</td>\n",
       "      <td>69.682251</td>\n",
       "      <td>100.000000</td>\n",
       "    </tr>\n",
       "    <tr>\n",
       "      <th>1</th>\n",
       "      <td>2023</td>\n",
       "      <td>1</td>\n",
       "      <td>Winter</td>\n",
       "      <td>13926</td>\n",
       "      <td>64.263320</td>\n",
       "      <td>84.997559</td>\n",
       "    </tr>\n",
       "    <tr>\n",
       "      <th>2</th>\n",
       "      <td>2023</td>\n",
       "      <td>2</td>\n",
       "      <td>Spring</td>\n",
       "      <td>16384</td>\n",
       "      <td>72.049622</td>\n",
       "      <td>100.000000</td>\n",
       "    </tr>\n",
       "  </tbody>\n",
       "</table>\n",
       "</div>"
      ],
      "text/plain": [
       "   starting_year  season_order  season  responses      score  response_rate\n",
       "0           2023             0    Fall      16384  69.682251     100.000000\n",
       "1           2023             1  Winter      13926  64.263320      84.997559\n",
       "2           2023             2  Spring      16384  72.049622     100.000000"
      ]
     },
     "execution_count": 10,
     "metadata": {},
     "output_type": "execute_result"
    }
   ],
   "source": [
    "df_response_rates['response_rate'] = 100*(\n",
    "    df_response_rates['responses'] / enrollment_count)\n",
    "df_response_rates"
   ]
  },
  {
   "cell_type": "markdown",
   "id": "beb7cfa3-13b9-46e9-8584-b8c335fc8de6",
   "metadata": {},
   "source": [
    "This table shows that our survey response rates were 100% during the fall and spring and around 85% during the winter."
   ]
  },
  {
   "cell_type": "markdown",
   "id": "3f34f712-ea87-4ba6-a61e-6e854bb18d01",
   "metadata": {},
   "source": [
    "## Using the `columns` argument within `pivot_table()` to show seasons side by side\n",
    "\n",
    "Currently, the DataFrame is in 'long' format: each row shows data for one specific season. However, in order to more easily calculate the change in results from one season to another, we can also use the `columns` argument when creating a pivot table in order to show scores for each season side by side. (This will prove especially useful when we add additional index variables to our `pivot_table()` call.\n",
    "\n",
    "The following function is similar to our earlier pivot_table calls except that the `season_order` and `season` values have been moved from the `index` argument to the argument for `columns`. This change makes the seasons appear horizontally rather than vertically."
   ]
  },
  {
   "cell_type": "code",
   "execution_count": 11,
   "id": "dee84d89-9e56-4132-8bfb-e446985496dd",
   "metadata": {
    "execution": {
     "iopub.execute_input": "2025-03-22T04:00:22.933482Z",
     "iopub.status.busy": "2025-03-22T04:00:22.933226Z",
     "iopub.status.idle": "2025-03-22T04:00:22.945497Z",
     "shell.execute_reply": "2025-03-22T04:00:22.945239Z",
     "shell.execute_reply.started": "2025-03-22T04:00:22.933471Z"
    }
   },
   "outputs": [
    {
     "data": {
      "text/html": [
       "<div>\n",
       "<style scoped>\n",
       "    .dataframe tbody tr th:only-of-type {\n",
       "        vertical-align: middle;\n",
       "    }\n",
       "\n",
       "    .dataframe tbody tr th {\n",
       "        vertical-align: top;\n",
       "    }\n",
       "\n",
       "    .dataframe thead tr th {\n",
       "        text-align: left;\n",
       "    }\n",
       "</style>\n",
       "<table border=\"1\" class=\"dataframe\">\n",
       "  <thead>\n",
       "    <tr>\n",
       "      <th>season_order</th>\n",
       "      <th>starting_year</th>\n",
       "      <th>0</th>\n",
       "      <th>1</th>\n",
       "      <th>2</th>\n",
       "    </tr>\n",
       "    <tr>\n",
       "      <th>season</th>\n",
       "      <th></th>\n",
       "      <th>Fall</th>\n",
       "      <th>Winter</th>\n",
       "      <th>Spring</th>\n",
       "    </tr>\n",
       "  </thead>\n",
       "  <tbody>\n",
       "    <tr>\n",
       "      <th>0</th>\n",
       "      <td>2023</td>\n",
       "      <td>69.682251</td>\n",
       "      <td>64.26332</td>\n",
       "      <td>72.049622</td>\n",
       "    </tr>\n",
       "  </tbody>\n",
       "</table>\n",
       "</div>"
      ],
      "text/plain": [
       "season_order starting_year          0         1          2\n",
       "season                           Fall    Winter     Spring\n",
       "0                     2023  69.682251  64.26332  72.049622"
      ]
     },
     "execution_count": 11,
     "metadata": {},
     "output_type": "execute_result"
    }
   ],
   "source": [
    "df_results_by_season_wide = df_survey_results.pivot_table(\n",
    "    index='starting_year', columns=['season_order', 'season'],\n",
    "    values='score', aggfunc='mean').reset_index()\n",
    "df_results_by_season_wide"
   ]
  },
  {
   "cell_type": "markdown",
   "id": "e131aa6f-38ec-44d8-b49b-4ebd7303e584",
   "metadata": {
    "execution": {
     "iopub.execute_input": "2024-07-09T01:38:03.797525Z",
     "iopub.status.busy": "2024-07-09T01:38:03.797525Z",
     "iopub.status.idle": "2024-07-09T01:38:03.802334Z",
     "shell.execute_reply": "2024-07-09T01:38:03.802334Z",
     "shell.execute_reply.started": "2024-07-09T01:38:03.797525Z"
    }
   },
   "source": [
    "Note that, because we passed two values to the `columns` parameter, two levels of headers are now visible. However, I'd like to show just one level of columns that will comprise the `starting_year` value in the top row and the season names in the bottom row. We can accomplish this by first calling `to_flat_index()` to 'flatten' the columns into tuples:"
   ]
  },
  {
   "cell_type": "code",
   "execution_count": 12,
   "id": "38e0bada-2563-418d-bd80-66bd63f6bf86",
   "metadata": {
    "execution": {
     "iopub.execute_input": "2025-03-22T04:00:22.945961Z",
     "iopub.status.busy": "2025-03-22T04:00:22.945820Z",
     "iopub.status.idle": "2025-03-22T04:00:22.950091Z",
     "shell.execute_reply": "2025-03-22T04:00:22.949844Z",
     "shell.execute_reply.started": "2025-03-22T04:00:22.945950Z"
    }
   },
   "outputs": [
    {
     "data": {
      "text/html": [
       "<div>\n",
       "<style scoped>\n",
       "    .dataframe tbody tr th:only-of-type {\n",
       "        vertical-align: middle;\n",
       "    }\n",
       "\n",
       "    .dataframe tbody tr th {\n",
       "        vertical-align: top;\n",
       "    }\n",
       "\n",
       "    .dataframe thead th {\n",
       "        text-align: right;\n",
       "    }\n",
       "</style>\n",
       "<table border=\"1\" class=\"dataframe\">\n",
       "  <thead>\n",
       "    <tr style=\"text-align: right;\">\n",
       "      <th></th>\n",
       "      <th>(starting_year, )</th>\n",
       "      <th>(0, Fall)</th>\n",
       "      <th>(1, Winter)</th>\n",
       "      <th>(2, Spring)</th>\n",
       "    </tr>\n",
       "  </thead>\n",
       "  <tbody>\n",
       "    <tr>\n",
       "      <th>0</th>\n",
       "      <td>2023</td>\n",
       "      <td>69.682251</td>\n",
       "      <td>64.26332</td>\n",
       "      <td>72.049622</td>\n",
       "    </tr>\n",
       "  </tbody>\n",
       "</table>\n",
       "</div>"
      ],
      "text/plain": [
       "   (starting_year, )  (0, Fall)  (1, Winter)  (2, Spring)\n",
       "0               2023  69.682251     64.26332    72.049622"
      ]
     },
     "execution_count": 12,
     "metadata": {},
     "output_type": "execute_result"
    }
   ],
   "source": [
    "df_results_by_season_wide.columns = (\n",
    "    df_results_by_season_wide.columns.to_flat_index())\n",
    "df_results_by_season_wide"
   ]
  },
  {
   "cell_type": "markdown",
   "id": "af9e57ab-1528-47f0-8a3d-593e538ef9fb",
   "metadata": {},
   "source": [
    "Next, I'll use a list comprehension to replace our tuple-based columns with string-based ones. Note that I want to keep the first entry ('starting_year') in the first tuple and the second entries (`Fall`, `Winter`, and `Spring`) in the others; this can be accomplished by adding an if/else statement to our list comprehension."
   ]
  },
  {
   "cell_type": "code",
   "execution_count": 13,
   "id": "7e98248a-c965-4181-9390-8062db64741b",
   "metadata": {
    "execution": {
     "iopub.execute_input": "2025-03-22T04:00:22.950607Z",
     "iopub.status.busy": "2025-03-22T04:00:22.950406Z",
     "iopub.status.idle": "2025-03-22T04:00:22.954463Z",
     "shell.execute_reply": "2025-03-22T04:00:22.954201Z",
     "shell.execute_reply.started": "2025-03-22T04:00:22.950591Z"
    }
   },
   "outputs": [
    {
     "data": {
      "text/html": [
       "<div>\n",
       "<style scoped>\n",
       "    .dataframe tbody tr th:only-of-type {\n",
       "        vertical-align: middle;\n",
       "    }\n",
       "\n",
       "    .dataframe tbody tr th {\n",
       "        vertical-align: top;\n",
       "    }\n",
       "\n",
       "    .dataframe thead th {\n",
       "        text-align: right;\n",
       "    }\n",
       "</style>\n",
       "<table border=\"1\" class=\"dataframe\">\n",
       "  <thead>\n",
       "    <tr style=\"text-align: right;\">\n",
       "      <th></th>\n",
       "      <th>starting_year</th>\n",
       "      <th>Fall</th>\n",
       "      <th>Winter</th>\n",
       "      <th>Spring</th>\n",
       "    </tr>\n",
       "  </thead>\n",
       "  <tbody>\n",
       "    <tr>\n",
       "      <th>0</th>\n",
       "      <td>2023</td>\n",
       "      <td>69.682251</td>\n",
       "      <td>64.26332</td>\n",
       "      <td>72.049622</td>\n",
       "    </tr>\n",
       "  </tbody>\n",
       "</table>\n",
       "</div>"
      ],
      "text/plain": [
       "   starting_year       Fall    Winter     Spring\n",
       "0           2023  69.682251  64.26332  72.049622"
      ]
     },
     "execution_count": 13,
     "metadata": {},
     "output_type": "execute_result"
    }
   ],
   "source": [
    "df_results_by_season_wide.columns = [\n",
    "    column_tuple[0] if column_tuple[1] not in ['Fall', 'Winter', 'Spring'] \n",
    "    else column_tuple[1] for column_tuple in \n",
    "    df_results_by_season_wide.columns]\n",
    "df_results_by_season_wide"
   ]
  },
  {
   "cell_type": "markdown",
   "id": "9d7d8a02-b0fb-447d-8d68-50478720b471",
   "metadata": {},
   "source": [
    "Now that we have our seasons next to one another, we can easily calculate changes in average scores between them:"
   ]
  },
  {
   "cell_type": "code",
   "execution_count": 14,
   "id": "0a64907c-43e2-4fae-a20b-1daf9f65bc4a",
   "metadata": {
    "execution": {
     "iopub.execute_input": "2025-03-22T04:00:22.954865Z",
     "iopub.status.busy": "2025-03-22T04:00:22.954764Z",
     "iopub.status.idle": "2025-03-22T04:00:22.960227Z",
     "shell.execute_reply": "2025-03-22T04:00:22.959967Z",
     "shell.execute_reply.started": "2025-03-22T04:00:22.954855Z"
    }
   },
   "outputs": [
    {
     "data": {
      "text/html": [
       "<div>\n",
       "<style scoped>\n",
       "    .dataframe tbody tr th:only-of-type {\n",
       "        vertical-align: middle;\n",
       "    }\n",
       "\n",
       "    .dataframe tbody tr th {\n",
       "        vertical-align: top;\n",
       "    }\n",
       "\n",
       "    .dataframe thead th {\n",
       "        text-align: right;\n",
       "    }\n",
       "</style>\n",
       "<table border=\"1\" class=\"dataframe\">\n",
       "  <thead>\n",
       "    <tr style=\"text-align: right;\">\n",
       "      <th></th>\n",
       "      <th>starting_year</th>\n",
       "      <th>Fall</th>\n",
       "      <th>Winter</th>\n",
       "      <th>Spring</th>\n",
       "      <th>Fall-Spring Change</th>\n",
       "      <th>Fall-Winter Change</th>\n",
       "      <th>Winter-Spring Change</th>\n",
       "    </tr>\n",
       "  </thead>\n",
       "  <tbody>\n",
       "    <tr>\n",
       "      <th>0</th>\n",
       "      <td>2023</td>\n",
       "      <td>69.682251</td>\n",
       "      <td>64.26332</td>\n",
       "      <td>72.049622</td>\n",
       "      <td>2.367371</td>\n",
       "      <td>-5.418931</td>\n",
       "      <td>7.786301</td>\n",
       "    </tr>\n",
       "  </tbody>\n",
       "</table>\n",
       "</div>"
      ],
      "text/plain": [
       "   starting_year       Fall    Winter     Spring  Fall-Spring Change  \\\n",
       "0           2023  69.682251  64.26332  72.049622            2.367371   \n",
       "\n",
       "   Fall-Winter Change  Winter-Spring Change  \n",
       "0           -5.418931              7.786301  "
      ]
     },
     "execution_count": 14,
     "metadata": {},
     "output_type": "execute_result"
    }
   ],
   "source": [
    "df_results_by_season_wide['Fall-Spring Change'] = (\n",
    "    df_results_by_season_wide['Spring'] \n",
    "    - df_results_by_season_wide['Fall'])\n",
    "\n",
    "df_results_by_season_wide['Fall-Winter Change'] = (\n",
    "    df_results_by_season_wide['Winter'] \n",
    "    - df_results_by_season_wide['Fall'])\n",
    "\n",
    "df_results_by_season_wide['Winter-Spring Change'] = (\n",
    "    df_results_by_season_wide['Spring'] \n",
    "    - df_results_by_season_wide['Winter'])\n",
    "\n",
    "df_results_by_season_wide"
   ]
  },
  {
   "cell_type": "markdown",
   "id": "63c008a3-c9aa-4379-bf68-75c7db04a653",
   "metadata": {},
   "source": [
    "We can simplify this code by creating a list of the seasons between which we want to calculate changes in survey scores, then looping through that list. Note that this code produces the following output as the previous cell."
   ]
  },
  {
   "cell_type": "code",
   "execution_count": 15,
   "id": "ca9f0e19-9b37-42b3-b2e0-ebc7281eb423",
   "metadata": {
    "execution": {
     "iopub.execute_input": "2025-03-22T04:00:22.960661Z",
     "iopub.status.busy": "2025-03-22T04:00:22.960551Z",
     "iopub.status.idle": "2025-03-22T04:00:22.965601Z",
     "shell.execute_reply": "2025-03-22T04:00:22.965352Z",
     "shell.execute_reply.started": "2025-03-22T04:00:22.960650Z"
    }
   },
   "outputs": [
    {
     "data": {
      "text/html": [
       "<div>\n",
       "<style scoped>\n",
       "    .dataframe tbody tr th:only-of-type {\n",
       "        vertical-align: middle;\n",
       "    }\n",
       "\n",
       "    .dataframe tbody tr th {\n",
       "        vertical-align: top;\n",
       "    }\n",
       "\n",
       "    .dataframe thead th {\n",
       "        text-align: right;\n",
       "    }\n",
       "</style>\n",
       "<table border=\"1\" class=\"dataframe\">\n",
       "  <thead>\n",
       "    <tr style=\"text-align: right;\">\n",
       "      <th></th>\n",
       "      <th>starting_year</th>\n",
       "      <th>Fall</th>\n",
       "      <th>Winter</th>\n",
       "      <th>Spring</th>\n",
       "      <th>Fall-Spring Change</th>\n",
       "      <th>Fall-Winter Change</th>\n",
       "      <th>Winter-Spring Change</th>\n",
       "    </tr>\n",
       "  </thead>\n",
       "  <tbody>\n",
       "    <tr>\n",
       "      <th>0</th>\n",
       "      <td>2023</td>\n",
       "      <td>69.682251</td>\n",
       "      <td>64.26332</td>\n",
       "      <td>72.049622</td>\n",
       "      <td>2.367371</td>\n",
       "      <td>-5.418931</td>\n",
       "      <td>7.786301</td>\n",
       "    </tr>\n",
       "  </tbody>\n",
       "</table>\n",
       "</div>"
      ],
      "text/plain": [
       "   starting_year       Fall    Winter     Spring  Fall-Spring Change  \\\n",
       "0           2023  69.682251  64.26332  72.049622            2.367371   \n",
       "\n",
       "   Fall-Winter Change  Winter-Spring Change  \n",
       "0           -5.418931              7.786301  "
      ]
     },
     "execution_count": 15,
     "metadata": {},
     "output_type": "execute_result"
    }
   ],
   "source": [
    "for sp in [('Fall', 'Spring'), ('Fall', 'Winter'), \n",
    "           ('Winter', 'Spring')]: # 'sp' here is short for 'season pair.'\n",
    "    df_results_by_season_wide[f'{sp[0]}-{sp[1]} Change'] = (\n",
    "        df_results_by_season_wide[sp[1]] \n",
    "        - df_results_by_season_wide[sp[0]])\n",
    "\n",
    "df_results_by_season_wide"
   ]
  },
  {
   "cell_type": "markdown",
   "id": "39c69c64-e12f-4a12-92f7-7533e34731ab",
   "metadata": {},
   "source": [
    "## Adding additional pivot index values\n",
    "\n",
    "We now know that our average NVCU student survey scores declined from the fall to the winter and then rose from the winter to the spring. Was this trend the same across colleges and levels? We can answer this question by adding our college and level fields to the `index` argument of our pivot table function."
   ]
  },
  {
   "cell_type": "markdown",
   "id": "70325e22-30b0-47be-aeaa-a71c5678af10",
   "metadata": {},
   "source": [
    "In order to make this section more efficient, we can create a function that performs the pivot table, column renaming, and growth calculations shown above for `df_results_by_season_wide`. This will greatly reduce the amount of code that we need to write to perform these additional analyses."
   ]
  },
  {
   "cell_type": "code",
   "execution_count": 16,
   "id": "823281f9-fa19-4b68-9543-f69794c75c41",
   "metadata": {
    "execution": {
     "iopub.execute_input": "2025-03-22T04:00:22.966148Z",
     "iopub.status.busy": "2025-03-22T04:00:22.965924Z",
     "iopub.status.idle": "2025-03-22T04:00:22.968620Z",
     "shell.execute_reply": "2025-03-22T04:00:22.968367Z",
     "shell.execute_reply.started": "2025-03-22T04:00:22.966134Z"
    }
   },
   "outputs": [],
   "source": [
    "def create_wide_table(index_values):\n",
    "    '''This function creates a wide pivot table of df_survey_results, then\n",
    "    performs additional column renaming steps and growth calculations.\n",
    "    \n",
    "    index_values: a list of values to pass to the index argument of \n",
    "    pivot_table().'''\n",
    "    \n",
    "    df_wide = df_survey_results.pivot_table(\n",
    "    index = index_values, columns = ['season_order', 'season'],\n",
    "    values = 'score', aggfunc = 'mean').reset_index()\n",
    "    df_wide.columns = (df_wide.columns.to_flat_index())\n",
    "    df_wide.columns = [column_tuple[0] if column_tuple[1] not in \n",
    "        ['Fall', 'Winter', 'Spring'] else column_tuple[1] \n",
    "                       for column_tuple in df_wide.columns]\n",
    "    for sp in [('Fall', 'Spring'), ('Fall', 'Winter'), \n",
    "               ('Winter', 'Spring')]: \n",
    "        df_wide[f'{sp[0]}-{sp[1]} Change'] = (\n",
    "            df_wide[sp[1]] - df_wide[sp[0]])\n",
    "    return df_wide"
   ]
  },
  {
   "cell_type": "markdown",
   "id": "7b3e28f5-585a-4a30-8580-c32c3252ef7e",
   "metadata": {
    "execution": {
     "iopub.execute_input": "2024-07-09T02:53:55.150308Z",
     "iopub.status.busy": "2024-07-09T02:53:55.150308Z",
     "iopub.status.idle": "2024-07-09T02:53:55.153594Z",
     "shell.execute_reply": "2024-07-09T02:53:55.153594Z",
     "shell.execute_reply.started": "2024-07-09T02:53:55.150308Z"
    }
   },
   "source": [
    "### Evaluating changes in survey scores by season and college:"
   ]
  },
  {
   "cell_type": "code",
   "execution_count": 17,
   "id": "f523cc3f-82e6-4b9e-841a-8297c7d9ee00",
   "metadata": {
    "execution": {
     "iopub.execute_input": "2025-03-22T04:00:22.969115Z",
     "iopub.status.busy": "2025-03-22T04:00:22.968922Z",
     "iopub.status.idle": "2025-03-22T04:00:22.985895Z",
     "shell.execute_reply": "2025-03-22T04:00:22.985616Z",
     "shell.execute_reply.started": "2025-03-22T04:00:22.969099Z"
    }
   },
   "outputs": [
    {
     "data": {
      "text/html": [
       "<div>\n",
       "<style scoped>\n",
       "    .dataframe tbody tr th:only-of-type {\n",
       "        vertical-align: middle;\n",
       "    }\n",
       "\n",
       "    .dataframe tbody tr th {\n",
       "        vertical-align: top;\n",
       "    }\n",
       "\n",
       "    .dataframe thead th {\n",
       "        text-align: right;\n",
       "    }\n",
       "</style>\n",
       "<table border=\"1\" class=\"dataframe\">\n",
       "  <thead>\n",
       "    <tr style=\"text-align: right;\">\n",
       "      <th></th>\n",
       "      <th>starting_year</th>\n",
       "      <th>college</th>\n",
       "      <th>Fall</th>\n",
       "      <th>Winter</th>\n",
       "      <th>Spring</th>\n",
       "      <th>Fall-Spring Change</th>\n",
       "      <th>Fall-Winter Change</th>\n",
       "      <th>Winter-Spring Change</th>\n",
       "    </tr>\n",
       "  </thead>\n",
       "  <tbody>\n",
       "    <tr>\n",
       "      <th>0</th>\n",
       "      <td>2023</td>\n",
       "      <td>STB</td>\n",
       "      <td>69.797119</td>\n",
       "      <td>64.449901</td>\n",
       "      <td>67.077551</td>\n",
       "      <td>-2.719568</td>\n",
       "      <td>-5.347218</td>\n",
       "      <td>2.627650</td>\n",
       "    </tr>\n",
       "    <tr>\n",
       "      <th>1</th>\n",
       "      <td>2023</td>\n",
       "      <td>STC</td>\n",
       "      <td>69.568665</td>\n",
       "      <td>64.143361</td>\n",
       "      <td>66.911444</td>\n",
       "      <td>-2.657221</td>\n",
       "      <td>-5.425304</td>\n",
       "      <td>2.768083</td>\n",
       "    </tr>\n",
       "    <tr>\n",
       "      <th>2</th>\n",
       "      <td>2023</td>\n",
       "      <td>STL</td>\n",
       "      <td>69.596675</td>\n",
       "      <td>64.218347</td>\n",
       "      <td>76.727809</td>\n",
       "      <td>7.131134</td>\n",
       "      <td>-5.378327</td>\n",
       "      <td>12.509462</td>\n",
       "    </tr>\n",
       "    <tr>\n",
       "      <th>3</th>\n",
       "      <td>2023</td>\n",
       "      <td>STM</td>\n",
       "      <td>69.735685</td>\n",
       "      <td>64.228074</td>\n",
       "      <td>76.639004</td>\n",
       "      <td>6.903320</td>\n",
       "      <td>-5.507610</td>\n",
       "      <td>12.410930</td>\n",
       "    </tr>\n",
       "  </tbody>\n",
       "</table>\n",
       "</div>"
      ],
      "text/plain": [
       "   starting_year college       Fall     Winter     Spring  Fall-Spring Change  \\\n",
       "0           2023     STB  69.797119  64.449901  67.077551           -2.719568   \n",
       "1           2023     STC  69.568665  64.143361  66.911444           -2.657221   \n",
       "2           2023     STL  69.596675  64.218347  76.727809            7.131134   \n",
       "3           2023     STM  69.735685  64.228074  76.639004            6.903320   \n",
       "\n",
       "   Fall-Winter Change  Winter-Spring Change  \n",
       "0           -5.347218              2.627650  \n",
       "1           -5.425304              2.768083  \n",
       "2           -5.378327             12.509462  \n",
       "3           -5.507610             12.410930  "
      ]
     },
     "execution_count": 17,
     "metadata": {},
     "output_type": "execute_result"
    }
   ],
   "source": [
    "df_results_by_season_and_college_wide = create_wide_table(\n",
    "    index_values = ['starting_year', 'college'])\n",
    "# Saving these results to a .csv file so that they can be used within\n",
    "# other parts of Python for Nonprofits:\n",
    "df_results_by_season_and_college_wide.to_csv(\n",
    "    'survey_results_by_college_wide.csv', index = False)\n",
    "df_results_by_season_and_college_wide"
   ]
  },
  {
   "cell_type": "markdown",
   "id": "b5d142ad-6c01-4686-ad56-2f5c595a5470",
   "metadata": {},
   "source": [
    "Although we found earlier that university-wide survey results grew from the fall to the spring, this table shows that results for two colleges (STB and STC) actually *dropped* over that time period. (Their average spring survey scores were also markedly lower than STL's and STM's.) It also demonstrates that every college saw both a drop in scores from the fall to the winter *and* an increase in scores from the winter to the spring.\n",
    "\n",
    "The following cell creates a 'long' version of this table that features only one season per row and doesn't display changes in scores between seasons. We'll utilize a .csv copy of this table within PFN's graphing section. (We could also use the wide-formatted table shown above within our graphing script, but I wanted to make sure to demonstrate how to graph long-formatted data.)\n",
    "\n",
    "Note that `season_order` is added before `season` within the `index` list in order to get Winter results to precede Spring ones; however, it's then dropped in order to help streamline the table."
   ]
  },
  {
   "cell_type": "code",
   "execution_count": 18,
   "id": "523972f0-3cbe-42a8-a60c-098bfcb70816",
   "metadata": {
    "execution": {
     "iopub.execute_input": "2025-03-22T04:00:22.986407Z",
     "iopub.status.busy": "2025-03-22T04:00:22.986236Z",
     "iopub.status.idle": "2025-03-22T04:00:22.999334Z",
     "shell.execute_reply": "2025-03-22T04:00:22.999078Z",
     "shell.execute_reply.started": "2025-03-22T04:00:22.986395Z"
    }
   },
   "outputs": [
    {
     "data": {
      "text/html": [
       "<div>\n",
       "<style scoped>\n",
       "    .dataframe tbody tr th:only-of-type {\n",
       "        vertical-align: middle;\n",
       "    }\n",
       "\n",
       "    .dataframe tbody tr th {\n",
       "        vertical-align: top;\n",
       "    }\n",
       "\n",
       "    .dataframe thead th {\n",
       "        text-align: right;\n",
       "    }\n",
       "</style>\n",
       "<table border=\"1\" class=\"dataframe\">\n",
       "  <thead>\n",
       "    <tr style=\"text-align: right;\">\n",
       "      <th></th>\n",
       "      <th>starting_year</th>\n",
       "      <th>college</th>\n",
       "      <th>season</th>\n",
       "      <th>score</th>\n",
       "    </tr>\n",
       "  </thead>\n",
       "  <tbody>\n",
       "    <tr>\n",
       "      <th>0</th>\n",
       "      <td>2023</td>\n",
       "      <td>STB</td>\n",
       "      <td>Fall</td>\n",
       "      <td>69.797119</td>\n",
       "    </tr>\n",
       "    <tr>\n",
       "      <th>1</th>\n",
       "      <td>2023</td>\n",
       "      <td>STB</td>\n",
       "      <td>Winter</td>\n",
       "      <td>64.449901</td>\n",
       "    </tr>\n",
       "    <tr>\n",
       "      <th>2</th>\n",
       "      <td>2023</td>\n",
       "      <td>STB</td>\n",
       "      <td>Spring</td>\n",
       "      <td>67.077551</td>\n",
       "    </tr>\n",
       "    <tr>\n",
       "      <th>3</th>\n",
       "      <td>2023</td>\n",
       "      <td>STC</td>\n",
       "      <td>Fall</td>\n",
       "      <td>69.568665</td>\n",
       "    </tr>\n",
       "    <tr>\n",
       "      <th>4</th>\n",
       "      <td>2023</td>\n",
       "      <td>STC</td>\n",
       "      <td>Winter</td>\n",
       "      <td>64.143361</td>\n",
       "    </tr>\n",
       "    <tr>\n",
       "      <th>5</th>\n",
       "      <td>2023</td>\n",
       "      <td>STC</td>\n",
       "      <td>Spring</td>\n",
       "      <td>66.911444</td>\n",
       "    </tr>\n",
       "    <tr>\n",
       "      <th>6</th>\n",
       "      <td>2023</td>\n",
       "      <td>STL</td>\n",
       "      <td>Fall</td>\n",
       "      <td>69.596675</td>\n",
       "    </tr>\n",
       "    <tr>\n",
       "      <th>7</th>\n",
       "      <td>2023</td>\n",
       "      <td>STL</td>\n",
       "      <td>Winter</td>\n",
       "      <td>64.218347</td>\n",
       "    </tr>\n",
       "    <tr>\n",
       "      <th>8</th>\n",
       "      <td>2023</td>\n",
       "      <td>STL</td>\n",
       "      <td>Spring</td>\n",
       "      <td>76.727809</td>\n",
       "    </tr>\n",
       "    <tr>\n",
       "      <th>9</th>\n",
       "      <td>2023</td>\n",
       "      <td>STM</td>\n",
       "      <td>Fall</td>\n",
       "      <td>69.735685</td>\n",
       "    </tr>\n",
       "    <tr>\n",
       "      <th>10</th>\n",
       "      <td>2023</td>\n",
       "      <td>STM</td>\n",
       "      <td>Winter</td>\n",
       "      <td>64.228074</td>\n",
       "    </tr>\n",
       "    <tr>\n",
       "      <th>11</th>\n",
       "      <td>2023</td>\n",
       "      <td>STM</td>\n",
       "      <td>Spring</td>\n",
       "      <td>76.639004</td>\n",
       "    </tr>\n",
       "  </tbody>\n",
       "</table>\n",
       "</div>"
      ],
      "text/plain": [
       "    starting_year college  season      score\n",
       "0            2023     STB    Fall  69.797119\n",
       "1            2023     STB  Winter  64.449901\n",
       "2            2023     STB  Spring  67.077551\n",
       "3            2023     STC    Fall  69.568665\n",
       "4            2023     STC  Winter  64.143361\n",
       "5            2023     STC  Spring  66.911444\n",
       "6            2023     STL    Fall  69.596675\n",
       "7            2023     STL  Winter  64.218347\n",
       "8            2023     STL  Spring  76.727809\n",
       "9            2023     STM    Fall  69.735685\n",
       "10           2023     STM  Winter  64.228074\n",
       "11           2023     STM  Spring  76.639004"
      ]
     },
     "execution_count": 18,
     "metadata": {},
     "output_type": "execute_result"
    }
   ],
   "source": [
    "df_results_by_season_and_college_long = df_survey_results.pivot_table(\n",
    "    index=['starting_year', 'college', 'season_order', 'season'], \n",
    "    values='score', aggfunc='mean').reset_index().drop(\n",
    "    'season_order', axis = 1)\n",
    "df_results_by_season_and_college_long.to_csv(\n",
    "    'survey_results_by_college_long.csv', index = False)\n",
    "df_results_by_season_and_college_long"
   ]
  },
  {
   "cell_type": "markdown",
   "id": "02616ff4-24f5-4df8-9546-e210ca21d386",
   "metadata": {
    "execution": {
     "iopub.execute_input": "2024-07-09T02:53:55.150308Z",
     "iopub.status.busy": "2024-07-09T02:53:55.150308Z",
     "iopub.status.idle": "2024-07-09T02:53:55.153594Z",
     "shell.execute_reply": "2024-07-09T02:53:55.153594Z",
     "shell.execute_reply.started": "2024-07-09T02:53:55.150308Z"
    }
   },
   "source": [
    "### Evaluating changes in survey scores by season and level:\n",
    "\n",
    "For this task, we'll pivot the data by `level_for_sorting` so as to order the rows from youngest to oldest."
   ]
  },
  {
   "cell_type": "code",
   "execution_count": 19,
   "id": "8fe12f21-0e46-48d5-bff3-e97977c52ee1",
   "metadata": {
    "execution": {
     "iopub.execute_input": "2025-03-22T04:00:22.999758Z",
     "iopub.status.busy": "2025-03-22T04:00:22.999651Z",
     "iopub.status.idle": "2025-03-22T04:00:23.015142Z",
     "shell.execute_reply": "2025-03-22T04:00:23.014871Z",
     "shell.execute_reply.started": "2025-03-22T04:00:22.999748Z"
    }
   },
   "outputs": [
    {
     "data": {
      "text/html": [
       "<div>\n",
       "<style scoped>\n",
       "    .dataframe tbody tr th:only-of-type {\n",
       "        vertical-align: middle;\n",
       "    }\n",
       "\n",
       "    .dataframe tbody tr th {\n",
       "        vertical-align: top;\n",
       "    }\n",
       "\n",
       "    .dataframe thead th {\n",
       "        text-align: right;\n",
       "    }\n",
       "</style>\n",
       "<table border=\"1\" class=\"dataframe\">\n",
       "  <thead>\n",
       "    <tr style=\"text-align: right;\">\n",
       "      <th></th>\n",
       "      <th>level</th>\n",
       "      <th>Fall</th>\n",
       "      <th>Winter</th>\n",
       "      <th>Spring</th>\n",
       "      <th>Fall-Spring Change</th>\n",
       "      <th>Fall-Winter Change</th>\n",
       "      <th>Winter-Spring Change</th>\n",
       "    </tr>\n",
       "  </thead>\n",
       "  <tbody>\n",
       "    <tr>\n",
       "      <th>0</th>\n",
       "      <td>Fr</td>\n",
       "      <td>69.609774</td>\n",
       "      <td>64.186868</td>\n",
       "      <td>74.833180</td>\n",
       "      <td>5.223406</td>\n",
       "      <td>-5.422906</td>\n",
       "      <td>10.646313</td>\n",
       "    </tr>\n",
       "    <tr>\n",
       "      <th>1</th>\n",
       "      <td>So</td>\n",
       "      <td>69.688672</td>\n",
       "      <td>64.257750</td>\n",
       "      <td>69.495124</td>\n",
       "      <td>-0.193548</td>\n",
       "      <td>-5.430922</td>\n",
       "      <td>5.237374</td>\n",
       "    </tr>\n",
       "    <tr>\n",
       "      <th>2</th>\n",
       "      <td>Ju</td>\n",
       "      <td>69.768957</td>\n",
       "      <td>64.419020</td>\n",
       "      <td>69.350671</td>\n",
       "      <td>-0.418286</td>\n",
       "      <td>-5.349937</td>\n",
       "      <td>4.931651</td>\n",
       "    </tr>\n",
       "    <tr>\n",
       "      <th>3</th>\n",
       "      <td>Se</td>\n",
       "      <td>69.698085</td>\n",
       "      <td>64.225738</td>\n",
       "      <td>73.546671</td>\n",
       "      <td>3.848586</td>\n",
       "      <td>-5.472347</td>\n",
       "      <td>9.320933</td>\n",
       "    </tr>\n",
       "  </tbody>\n",
       "</table>\n",
       "</div>"
      ],
      "text/plain": [
       "  level       Fall     Winter     Spring  Fall-Spring Change  \\\n",
       "0    Fr  69.609774  64.186868  74.833180            5.223406   \n",
       "1    So  69.688672  64.257750  69.495124           -0.193548   \n",
       "2    Ju  69.768957  64.419020  69.350671           -0.418286   \n",
       "3    Se  69.698085  64.225738  73.546671            3.848586   \n",
       "\n",
       "   Fall-Winter Change  Winter-Spring Change  \n",
       "0           -5.422906             10.646313  \n",
       "1           -5.430922              5.237374  \n",
       "2           -5.349937              4.931651  \n",
       "3           -5.472347              9.320933  "
      ]
     },
     "execution_count": 19,
     "metadata": {},
     "output_type": "execute_result"
    }
   ],
   "source": [
    "df_results_by_season_and_college_wide = create_wide_table(\n",
    "    index_values=['starting_year', 'level_for_sorting', 'level'])\n",
    "df_results_by_season_and_college_wide.drop([\n",
    "    'starting_year', 'level_for_sorting'], axis = 1) # I chose to drop\n",
    "# these columns so that none of the more important ones would get \n",
    "# cut off by my notebook's 8-column limit"
   ]
  },
  {
   "cell_type": "markdown",
   "id": "638fdfaa-c2b6-4d55-8e24-a0edc4ec5868",
   "metadata": {},
   "source": [
    "This table shows that, whereas scores for sophomores and juniors did not change much from the fall to the spring, scores for freshmen and seniors increased quite a bit during that period. All levels showed a fall-to-winter drop followed by a winter-to-spring rise."
   ]
  },
  {
   "cell_type": "markdown",
   "id": "cba8fc52-cca9-4078-81e9-c26742b75d79",
   "metadata": {
    "execution": {
     "iopub.execute_input": "2024-07-09T02:53:55.150308Z",
     "iopub.status.busy": "2024-07-09T02:53:55.150308Z",
     "iopub.status.idle": "2024-07-09T02:53:55.153594Z",
     "shell.execute_reply": "2024-07-09T02:53:55.153594Z",
     "shell.execute_reply.started": "2024-07-09T02:53:55.150308Z"
    }
   },
   "source": [
    "### Evaluating changes in survey scores by season, level, *and* college:\n",
    "\n",
    "(I originally named the following DataFrame `df_results_by_season_level_and_college_wide`, but since that's a rather long name for a DataFrame that we'll use quite frequently, I chose the abbreviated name `df_results_slc` instead.)"
   ]
  },
  {
   "cell_type": "code",
   "execution_count": 20,
   "id": "d9cf26a1-86b1-403b-8f7f-38f79f4fd6f0",
   "metadata": {
    "execution": {
     "iopub.execute_input": "2025-03-22T04:00:23.015647Z",
     "iopub.status.busy": "2025-03-22T04:00:23.015494Z",
     "iopub.status.idle": "2025-03-22T04:00:23.046234Z",
     "shell.execute_reply": "2025-03-22T04:00:23.045761Z",
     "shell.execute_reply.started": "2025-03-22T04:00:23.015636Z"
    }
   },
   "outputs": [
    {
     "data": {
      "text/html": [
       "<div>\n",
       "<style scoped>\n",
       "    .dataframe tbody tr th:only-of-type {\n",
       "        vertical-align: middle;\n",
       "    }\n",
       "\n",
       "    .dataframe tbody tr th {\n",
       "        vertical-align: top;\n",
       "    }\n",
       "\n",
       "    .dataframe thead th {\n",
       "        text-align: right;\n",
       "    }\n",
       "</style>\n",
       "<table border=\"1\" class=\"dataframe\">\n",
       "  <thead>\n",
       "    <tr style=\"text-align: right;\">\n",
       "      <th></th>\n",
       "      <th>starting_year</th>\n",
       "      <th>college</th>\n",
       "      <th>level_for_sorting</th>\n",
       "      <th>level</th>\n",
       "      <th>...</th>\n",
       "      <th>Spring</th>\n",
       "      <th>Fall-Spring Change</th>\n",
       "      <th>Fall-Winter Change</th>\n",
       "      <th>Winter-Spring Change</th>\n",
       "    </tr>\n",
       "  </thead>\n",
       "  <tbody>\n",
       "    <tr>\n",
       "      <th>0</th>\n",
       "      <td>2023</td>\n",
       "      <td>STB</td>\n",
       "      <td>0</td>\n",
       "      <td>Fr</td>\n",
       "      <td>...</td>\n",
       "      <td>69.177235</td>\n",
       "      <td>-0.416348</td>\n",
       "      <td>-5.497791</td>\n",
       "      <td>5.081442</td>\n",
       "    </tr>\n",
       "    <tr>\n",
       "      <th>1</th>\n",
       "      <td>2023</td>\n",
       "      <td>STB</td>\n",
       "      <td>1</td>\n",
       "      <td>So</td>\n",
       "      <td>...</td>\n",
       "      <td>65.377306</td>\n",
       "      <td>-5.000000</td>\n",
       "      <td>-5.313036</td>\n",
       "      <td>0.313036</td>\n",
       "    </tr>\n",
       "    <tr>\n",
       "      <th>2</th>\n",
       "      <td>2023</td>\n",
       "      <td>STB</td>\n",
       "      <td>2</td>\n",
       "      <td>Ju</td>\n",
       "      <td>...</td>\n",
       "      <td>64.950769</td>\n",
       "      <td>-5.000000</td>\n",
       "      <td>-5.149066</td>\n",
       "      <td>0.149066</td>\n",
       "    </tr>\n",
       "    <tr>\n",
       "      <th>3</th>\n",
       "      <td>2023</td>\n",
       "      <td>STB</td>\n",
       "      <td>3</td>\n",
       "      <td>Se</td>\n",
       "      <td>...</td>\n",
       "      <td>68.543287</td>\n",
       "      <td>-0.611041</td>\n",
       "      <td>-5.371530</td>\n",
       "      <td>4.760488</td>\n",
       "    </tr>\n",
       "    <tr>\n",
       "      <th>4</th>\n",
       "      <td>2023</td>\n",
       "      <td>STC</td>\n",
       "      <td>0</td>\n",
       "      <td>Fr</td>\n",
       "      <td>...</td>\n",
       "      <td>69.079348</td>\n",
       "      <td>-0.519565</td>\n",
       "      <td>-5.625529</td>\n",
       "      <td>5.105964</td>\n",
       "    </tr>\n",
       "  </tbody>\n",
       "</table>\n",
       "<p>5 rows × 10 columns</p>\n",
       "</div>"
      ],
      "text/plain": [
       "   starting_year college  level_for_sorting level  ...     Spring  \\\n",
       "0           2023     STB                  0    Fr  ...  69.177235   \n",
       "1           2023     STB                  1    So  ...  65.377306   \n",
       "2           2023     STB                  2    Ju  ...  64.950769   \n",
       "3           2023     STB                  3    Se  ...  68.543287   \n",
       "4           2023     STC                  0    Fr  ...  69.079348   \n",
       "\n",
       "   Fall-Spring Change  Fall-Winter Change  Winter-Spring Change  \n",
       "0           -0.416348           -5.497791              5.081442  \n",
       "1           -5.000000           -5.313036              0.313036  \n",
       "2           -5.000000           -5.149066              0.149066  \n",
       "3           -0.611041           -5.371530              4.760488  \n",
       "4           -0.519565           -5.625529              5.105964  \n",
       "\n",
       "[5 rows x 10 columns]"
      ]
     },
     "execution_count": 20,
     "metadata": {},
     "output_type": "execute_result"
    }
   ],
   "source": [
    "df_results_slc = create_wide_table(\n",
    "    index_values=['starting_year', 'college', \n",
    "                    'level_for_sorting', 'level'])\n",
    "df_results_slc.to_csv('survey_results_slc_wide.csv', index = False)\n",
    "df_results_slc.head()"
   ]
  },
  {
   "cell_type": "markdown",
   "id": "bd1c0f82-9ef9-48ff-a2e1-9a2bf47600c0",
   "metadata": {},
   "source": [
    "The following cell creates a 'long' version of this table that can be incorporated into PFN's graphing section."
   ]
  },
  {
   "cell_type": "code",
   "execution_count": 21,
   "id": "798c75ff-4cda-40db-9847-b41e2b7fc783",
   "metadata": {
    "execution": {
     "iopub.execute_input": "2025-03-22T04:00:23.047091Z",
     "iopub.status.busy": "2025-03-22T04:00:23.046782Z",
     "iopub.status.idle": "2025-03-22T04:00:23.064600Z",
     "shell.execute_reply": "2025-03-22T04:00:23.064172Z",
     "shell.execute_reply.started": "2025-03-22T04:00:23.047071Z"
    }
   },
   "outputs": [
    {
     "data": {
      "text/html": [
       "<div>\n",
       "<style scoped>\n",
       "    .dataframe tbody tr th:only-of-type {\n",
       "        vertical-align: middle;\n",
       "    }\n",
       "\n",
       "    .dataframe tbody tr th {\n",
       "        vertical-align: top;\n",
       "    }\n",
       "\n",
       "    .dataframe thead th {\n",
       "        text-align: right;\n",
       "    }\n",
       "</style>\n",
       "<table border=\"1\" class=\"dataframe\">\n",
       "  <thead>\n",
       "    <tr style=\"text-align: right;\">\n",
       "      <th></th>\n",
       "      <th>starting_year</th>\n",
       "      <th>college</th>\n",
       "      <th>level_for_sorting</th>\n",
       "      <th>level</th>\n",
       "      <th>season</th>\n",
       "      <th>score</th>\n",
       "    </tr>\n",
       "  </thead>\n",
       "  <tbody>\n",
       "    <tr>\n",
       "      <th>0</th>\n",
       "      <td>2023</td>\n",
       "      <td>STB</td>\n",
       "      <td>0</td>\n",
       "      <td>Fr</td>\n",
       "      <td>Fall</td>\n",
       "      <td>69.593583</td>\n",
       "    </tr>\n",
       "    <tr>\n",
       "      <th>1</th>\n",
       "      <td>2023</td>\n",
       "      <td>STB</td>\n",
       "      <td>0</td>\n",
       "      <td>Fr</td>\n",
       "      <td>Spring</td>\n",
       "      <td>69.177235</td>\n",
       "    </tr>\n",
       "    <tr>\n",
       "      <th>2</th>\n",
       "      <td>2023</td>\n",
       "      <td>STB</td>\n",
       "      <td>0</td>\n",
       "      <td>Fr</td>\n",
       "      <td>Winter</td>\n",
       "      <td>64.095792</td>\n",
       "    </tr>\n",
       "    <tr>\n",
       "      <th>3</th>\n",
       "      <td>2023</td>\n",
       "      <td>STB</td>\n",
       "      <td>1</td>\n",
       "      <td>So</td>\n",
       "      <td>Fall</td>\n",
       "      <td>70.377306</td>\n",
       "    </tr>\n",
       "    <tr>\n",
       "      <th>4</th>\n",
       "      <td>2023</td>\n",
       "      <td>STB</td>\n",
       "      <td>1</td>\n",
       "      <td>So</td>\n",
       "      <td>Spring</td>\n",
       "      <td>65.377306</td>\n",
       "    </tr>\n",
       "  </tbody>\n",
       "</table>\n",
       "</div>"
      ],
      "text/plain": [
       "   starting_year college  level_for_sorting level  season      score\n",
       "0           2023     STB                  0    Fr    Fall  69.593583\n",
       "1           2023     STB                  0    Fr  Spring  69.177235\n",
       "2           2023     STB                  0    Fr  Winter  64.095792\n",
       "3           2023     STB                  1    So    Fall  70.377306\n",
       "4           2023     STB                  1    So  Spring  65.377306"
      ]
     },
     "execution_count": 21,
     "metadata": {},
     "output_type": "execute_result"
    }
   ],
   "source": [
    "df_survey_results_slc_long = df_survey_results.pivot_table(\n",
    "    index=['starting_year', 'college', \n",
    "             'level_for_sorting', 'level', 'season'],\n",
    "    values='score', aggfunc = 'mean').reset_index()\n",
    "df_survey_results_slc_long.to_csv(\n",
    "    'survey_results_slc_long.csv', index = False)\n",
    "df_survey_results_slc_long.head()"
   ]
  },
  {
   "cell_type": "markdown",
   "id": "301a761e-5eea-4773-8ee3-5b357d317eb5",
   "metadata": {},
   "source": [
    "### Creating a wide student-level version of our survey results dataset"
   ]
  },
  {
   "cell_type": "markdown",
   "id": "efb3c38e-add3-46a9-b39a-457d77ddb39c",
   "metadata": {},
   "source": [
    "We'll also create a table that shows fall, winter, and spring survey results for each individual student within the same row. (This table will get used within Part 2 of the Descriptive Stats section.)\n",
    "\n",
    "Since we're simply condensing and reshaping `df_survey_results` here rather than calculating averages, we can use `pivot` rather than `pivot_table`. Note that `pivot` doesn't take `aggfunc` as an argument (as we're not creating any aggregate statistics here)."
   ]
  },
  {
   "cell_type": "code",
   "execution_count": 22,
   "id": "07f948ee-e965-4bc8-994f-9b0f0bff1624",
   "metadata": {
    "execution": {
     "iopub.execute_input": "2025-03-22T04:00:23.065416Z",
     "iopub.status.busy": "2025-03-22T04:00:23.065127Z",
     "iopub.status.idle": "2025-03-22T04:00:23.093240Z",
     "shell.execute_reply": "2025-03-22T04:00:23.092873Z",
     "shell.execute_reply.started": "2025-03-22T04:00:23.065388Z"
    }
   },
   "outputs": [
    {
     "data": {
      "text/html": [
       "<div>\n",
       "<style scoped>\n",
       "    .dataframe tbody tr th:only-of-type {\n",
       "        vertical-align: middle;\n",
       "    }\n",
       "\n",
       "    .dataframe tbody tr th {\n",
       "        vertical-align: top;\n",
       "    }\n",
       "\n",
       "    .dataframe thead th {\n",
       "        text-align: right;\n",
       "    }\n",
       "</style>\n",
       "<table border=\"1\" class=\"dataframe\">\n",
       "  <thead>\n",
       "    <tr style=\"text-align: right;\">\n",
       "      <th>season</th>\n",
       "      <th>starting_year</th>\n",
       "      <th>student_id</th>\n",
       "      <th>Fall</th>\n",
       "      <th>Spring</th>\n",
       "      <th>Winter</th>\n",
       "    </tr>\n",
       "  </thead>\n",
       "  <tbody>\n",
       "    <tr>\n",
       "      <th>0</th>\n",
       "      <td>2023</td>\n",
       "      <td>2020-1</td>\n",
       "      <td>88.0</td>\n",
       "      <td>86.0</td>\n",
       "      <td>81.0</td>\n",
       "    </tr>\n",
       "    <tr>\n",
       "      <th>1</th>\n",
       "      <td>2023</td>\n",
       "      <td>2020-10</td>\n",
       "      <td>69.0</td>\n",
       "      <td>73.0</td>\n",
       "      <td>63.0</td>\n",
       "    </tr>\n",
       "    <tr>\n",
       "      <th>2</th>\n",
       "      <td>2023</td>\n",
       "      <td>2020-100</td>\n",
       "      <td>68.0</td>\n",
       "      <td>88.0</td>\n",
       "      <td>60.0</td>\n",
       "    </tr>\n",
       "    <tr>\n",
       "      <th>3</th>\n",
       "      <td>2023</td>\n",
       "      <td>2020-1000</td>\n",
       "      <td>58.0</td>\n",
       "      <td>65.0</td>\n",
       "      <td>55.0</td>\n",
       "    </tr>\n",
       "    <tr>\n",
       "      <th>4</th>\n",
       "      <td>2023</td>\n",
       "      <td>2020-1001</td>\n",
       "      <td>88.0</td>\n",
       "      <td>100.0</td>\n",
       "      <td>84.0</td>\n",
       "    </tr>\n",
       "  </tbody>\n",
       "</table>\n",
       "</div>"
      ],
      "text/plain": [
       "season  starting_year student_id  Fall  Spring  Winter\n",
       "0                2023     2020-1  88.0    86.0    81.0\n",
       "1                2023    2020-10  69.0    73.0    63.0\n",
       "2                2023   2020-100  68.0    88.0    60.0\n",
       "3                2023  2020-1000  58.0    65.0    55.0\n",
       "4                2023  2020-1001  88.0   100.0    84.0"
      ]
     },
     "execution_count": 22,
     "metadata": {},
     "output_type": "execute_result"
    }
   ],
   "source": [
    "df_student_results_wide = df_survey_results.copy().pivot(\n",
    "    index = ['starting_year', 'student_id'],\n",
    "             columns = 'season', values = 'score').reset_index()\n",
    "df_student_results_wide.head()"
   ]
  },
  {
   "cell_type": "markdown",
   "id": "36bf0f45-b3be-4d8d-8047-c32c76240cec",
   "metadata": {},
   "source": [
    "Note that 'Spring' is located to the left of 'Winter'. To move it to the right, I'll call `df.insert()`, which allows us to add a new column into the DataFrame. This 'new' column will actually be the current Winter column, which I'll first remove from the DataFrame via `df.pop()`. \n",
    "\n",
    "The first argument within `df.insert()` is the location of the new column. The code calculates this location by subtracting 1 from the number of columns within `df_student_results_wide`; this will represent the position to the right of the 'Winter' column once the 'Spring' column is removed. (I could have hardcoded this value, but this approach will better accommodate changes to `df_student_results_wide`'s structure). \n",
    "\n",
    "`df_insert()`'s second argument is the name (which we'll keep as 'Spring'), and its third argument is the data to add to this new column (which, in this case, will be the existing 'Spring' column entries).\n",
    "\n",
    "For more details on these functions, visit https://pandas.pydata.org/pandas-docs/stable/reference/api/pandas.DataFrame.insert.html and https://pandas.pydata.org/pandas-docs/stable/reference/api/pandas.DataFrame.pop.html . The idea of chaining these two functions together isn't an original one; I probably got it from a StackOverflow answer like this one from Marc Maxmeister : https://stackoverflow.com/a/77463008/13097194 )"
   ]
  },
  {
   "cell_type": "code",
   "execution_count": 23,
   "id": "faf66d0a-c797-4f06-94ee-a0b21bd78a0f",
   "metadata": {
    "execution": {
     "iopub.execute_input": "2025-03-22T04:00:23.093676Z",
     "iopub.status.busy": "2025-03-22T04:00:23.093571Z",
     "iopub.status.idle": "2025-03-22T04:00:23.098816Z",
     "shell.execute_reply": "2025-03-22T04:00:23.098515Z",
     "shell.execute_reply.started": "2025-03-22T04:00:23.093666Z"
    }
   },
   "outputs": [
    {
     "data": {
      "text/html": [
       "<div>\n",
       "<style scoped>\n",
       "    .dataframe tbody tr th:only-of-type {\n",
       "        vertical-align: middle;\n",
       "    }\n",
       "\n",
       "    .dataframe tbody tr th {\n",
       "        vertical-align: top;\n",
       "    }\n",
       "\n",
       "    .dataframe thead th {\n",
       "        text-align: right;\n",
       "    }\n",
       "</style>\n",
       "<table border=\"1\" class=\"dataframe\">\n",
       "  <thead>\n",
       "    <tr style=\"text-align: right;\">\n",
       "      <th>season</th>\n",
       "      <th>starting_year</th>\n",
       "      <th>student_id</th>\n",
       "      <th>Fall</th>\n",
       "      <th>Winter</th>\n",
       "      <th>Spring</th>\n",
       "    </tr>\n",
       "  </thead>\n",
       "  <tbody>\n",
       "    <tr>\n",
       "      <th>0</th>\n",
       "      <td>2023</td>\n",
       "      <td>2020-1</td>\n",
       "      <td>88.0</td>\n",
       "      <td>81.0</td>\n",
       "      <td>86.0</td>\n",
       "    </tr>\n",
       "    <tr>\n",
       "      <th>1</th>\n",
       "      <td>2023</td>\n",
       "      <td>2020-10</td>\n",
       "      <td>69.0</td>\n",
       "      <td>63.0</td>\n",
       "      <td>73.0</td>\n",
       "    </tr>\n",
       "    <tr>\n",
       "      <th>2</th>\n",
       "      <td>2023</td>\n",
       "      <td>2020-100</td>\n",
       "      <td>68.0</td>\n",
       "      <td>60.0</td>\n",
       "      <td>88.0</td>\n",
       "    </tr>\n",
       "    <tr>\n",
       "      <th>3</th>\n",
       "      <td>2023</td>\n",
       "      <td>2020-1000</td>\n",
       "      <td>58.0</td>\n",
       "      <td>55.0</td>\n",
       "      <td>65.0</td>\n",
       "    </tr>\n",
       "    <tr>\n",
       "      <th>4</th>\n",
       "      <td>2023</td>\n",
       "      <td>2020-1001</td>\n",
       "      <td>88.0</td>\n",
       "      <td>84.0</td>\n",
       "      <td>100.0</td>\n",
       "    </tr>\n",
       "  </tbody>\n",
       "</table>\n",
       "</div>"
      ],
      "text/plain": [
       "season  starting_year student_id  Fall  Winter  Spring\n",
       "0                2023     2020-1  88.0    81.0    86.0\n",
       "1                2023    2020-10  69.0    63.0    73.0\n",
       "2                2023   2020-100  68.0    60.0    88.0\n",
       "3                2023  2020-1000  58.0    55.0    65.0\n",
       "4                2023  2020-1001  88.0    84.0   100.0"
      ]
     },
     "execution_count": 23,
     "metadata": {},
     "output_type": "execute_result"
    }
   ],
   "source": [
    "df_student_results_wide.insert(\n",
    "    len(df_student_results_wide.columns)-1, 'Spring',\n",
    "                       df_student_results_wide.pop('Spring'))\n",
    "df_student_results_wide.head()"
   ]
  },
  {
   "cell_type": "markdown",
   "id": "0d582bbd-1477-45eb-a9be-accc1edbc404",
   "metadata": {},
   "source": [
    "I could also have reordered the columns via the following code; however, this code would then need to be updated to account for any new columns that we chose to add to the dataset, whereas the method shown above is a bit more flexible."
   ]
  },
  {
   "cell_type": "code",
   "execution_count": 24,
   "id": "78838090-5d4b-4124-857b-d128b4c1ccd0",
   "metadata": {
    "execution": {
     "iopub.execute_input": "2025-03-22T04:00:23.099206Z",
     "iopub.status.busy": "2025-03-22T04:00:23.099108Z",
     "iopub.status.idle": "2025-03-22T04:00:23.104566Z",
     "shell.execute_reply": "2025-03-22T04:00:23.104343Z",
     "shell.execute_reply.started": "2025-03-22T04:00:23.099196Z"
    }
   },
   "outputs": [
    {
     "data": {
      "text/html": [
       "<div>\n",
       "<style scoped>\n",
       "    .dataframe tbody tr th:only-of-type {\n",
       "        vertical-align: middle;\n",
       "    }\n",
       "\n",
       "    .dataframe tbody tr th {\n",
       "        vertical-align: top;\n",
       "    }\n",
       "\n",
       "    .dataframe thead th {\n",
       "        text-align: right;\n",
       "    }\n",
       "</style>\n",
       "<table border=\"1\" class=\"dataframe\">\n",
       "  <thead>\n",
       "    <tr style=\"text-align: right;\">\n",
       "      <th>season</th>\n",
       "      <th>starting_year</th>\n",
       "      <th>student_id</th>\n",
       "      <th>Fall</th>\n",
       "      <th>Winter</th>\n",
       "      <th>Spring</th>\n",
       "    </tr>\n",
       "  </thead>\n",
       "  <tbody>\n",
       "    <tr>\n",
       "      <th>0</th>\n",
       "      <td>2023</td>\n",
       "      <td>2020-1</td>\n",
       "      <td>88.0</td>\n",
       "      <td>81.0</td>\n",
       "      <td>86.0</td>\n",
       "    </tr>\n",
       "    <tr>\n",
       "      <th>1</th>\n",
       "      <td>2023</td>\n",
       "      <td>2020-10</td>\n",
       "      <td>69.0</td>\n",
       "      <td>63.0</td>\n",
       "      <td>73.0</td>\n",
       "    </tr>\n",
       "    <tr>\n",
       "      <th>2</th>\n",
       "      <td>2023</td>\n",
       "      <td>2020-100</td>\n",
       "      <td>68.0</td>\n",
       "      <td>60.0</td>\n",
       "      <td>88.0</td>\n",
       "    </tr>\n",
       "    <tr>\n",
       "      <th>3</th>\n",
       "      <td>2023</td>\n",
       "      <td>2020-1000</td>\n",
       "      <td>58.0</td>\n",
       "      <td>55.0</td>\n",
       "      <td>65.0</td>\n",
       "    </tr>\n",
       "    <tr>\n",
       "      <th>4</th>\n",
       "      <td>2023</td>\n",
       "      <td>2020-1001</td>\n",
       "      <td>88.0</td>\n",
       "      <td>84.0</td>\n",
       "      <td>100.0</td>\n",
       "    </tr>\n",
       "  </tbody>\n",
       "</table>\n",
       "</div>"
      ],
      "text/plain": [
       "season  starting_year student_id  Fall  Winter  Spring\n",
       "0                2023     2020-1  88.0    81.0    86.0\n",
       "1                2023    2020-10  69.0    63.0    73.0\n",
       "2                2023   2020-100  68.0    60.0    88.0\n",
       "3                2023  2020-1000  58.0    55.0    65.0\n",
       "4                2023  2020-1001  88.0    84.0   100.0"
      ]
     },
     "execution_count": 24,
     "metadata": {},
     "output_type": "execute_result"
    }
   ],
   "source": [
    "df_student_results_wide = df_student_results_wide[\n",
    "['starting_year', 'student_id', 'Fall', 'Winter', 'Spring']].copy()\n",
    "df_student_results_wide.head()"
   ]
  },
  {
   "cell_type": "markdown",
   "id": "112e5d79-b4dc-4ef4-bbed-7ca33b11fa11",
   "metadata": {},
   "source": [
    "Saving the table to a .csv file so that it can get imported into Part 2 of the Descriptive Stats section:"
   ]
  },
  {
   "cell_type": "code",
   "execution_count": 25,
   "id": "11ad279b-fe90-4459-b74e-6ce03d9d1d90",
   "metadata": {
    "execution": {
     "iopub.execute_input": "2025-03-22T04:00:23.104977Z",
     "iopub.status.busy": "2025-03-22T04:00:23.104877Z",
     "iopub.status.idle": "2025-03-22T04:00:23.131002Z",
     "shell.execute_reply": "2025-03-22T04:00:23.130611Z",
     "shell.execute_reply.started": "2025-03-22T04:00:23.104968Z"
    }
   },
   "outputs": [],
   "source": [
    "df_student_results_wide.to_csv(\n",
    "    'survey_results_by_student_wide.csv', index = False)"
   ]
  },
  {
   "cell_type": "markdown",
   "id": "7a8b52ba-4c93-4bff-a325-7628a1503456",
   "metadata": {
    "execution": {
     "iopub.execute_input": "2024-07-09T03:05:21.906459Z",
     "iopub.status.busy": "2024-07-09T03:05:21.906459Z",
     "iopub.status.idle": "2024-07-09T03:05:21.909822Z",
     "shell.execute_reply": "2024-07-09T03:05:21.909822Z",
     "shell.execute_reply.started": "2024-07-09T03:05:21.906459Z"
    }
   },
   "source": [
    "## Comparing rows via `sort_values()` and `rank()`"
   ]
  },
  {
   "cell_type": "markdown",
   "id": "77d16b49-e961-4b8c-a0b2-03c82d24eeb2",
   "metadata": {},
   "source": [
    "Which college/level pairs had the highest and lowest spring survey results? We could examine `df_results_slc` line by line to answer this question; however, two Pandas functions--sort_values() and rank()--can help us answer this question more efficiently.\n",
    "\n",
    "First, here are the the five college/level pairs with the highest average spring results:"
   ]
  },
  {
   "cell_type": "code",
   "execution_count": 26,
   "id": "3d24da36-d6f9-4533-adf1-3b7dbfd4078a",
   "metadata": {
    "execution": {
     "iopub.execute_input": "2025-03-22T04:00:23.131545Z",
     "iopub.status.busy": "2025-03-22T04:00:23.131367Z",
     "iopub.status.idle": "2025-03-22T04:00:23.137548Z",
     "shell.execute_reply": "2025-03-22T04:00:23.137300Z",
     "shell.execute_reply.started": "2025-03-22T04:00:23.131534Z"
    }
   },
   "outputs": [
    {
     "data": {
      "text/html": [
       "<div>\n",
       "<style scoped>\n",
       "    .dataframe tbody tr th:only-of-type {\n",
       "        vertical-align: middle;\n",
       "    }\n",
       "\n",
       "    .dataframe tbody tr th {\n",
       "        vertical-align: top;\n",
       "    }\n",
       "\n",
       "    .dataframe thead th {\n",
       "        text-align: right;\n",
       "    }\n",
       "</style>\n",
       "<table border=\"1\" class=\"dataframe\">\n",
       "  <thead>\n",
       "    <tr style=\"text-align: right;\">\n",
       "      <th></th>\n",
       "      <th>college</th>\n",
       "      <th>level</th>\n",
       "      <th>Fall</th>\n",
       "      <th>Winter</th>\n",
       "      <th>Spring</th>\n",
       "      <th>Fall-Spring Change</th>\n",
       "      <th>Fall-Winter Change</th>\n",
       "      <th>Winter-Spring Change</th>\n",
       "    </tr>\n",
       "  </thead>\n",
       "  <tbody>\n",
       "    <tr>\n",
       "      <th>15</th>\n",
       "      <td>STM</td>\n",
       "      <td>Se</td>\n",
       "      <td>70.058590</td>\n",
       "      <td>64.372822</td>\n",
       "      <td>79.309831</td>\n",
       "      <td>9.251241</td>\n",
       "      <td>-5.685768</td>\n",
       "      <td>14.937009</td>\n",
       "    </tr>\n",
       "    <tr>\n",
       "      <th>8</th>\n",
       "      <td>STL</td>\n",
       "      <td>Fr</td>\n",
       "      <td>69.585030</td>\n",
       "      <td>64.335890</td>\n",
       "      <td>79.111622</td>\n",
       "      <td>9.526592</td>\n",
       "      <td>-5.249140</td>\n",
       "      <td>14.775732</td>\n",
       "    </tr>\n",
       "    <tr>\n",
       "      <th>12</th>\n",
       "      <td>STM</td>\n",
       "      <td>Fr</td>\n",
       "      <td>69.650503</td>\n",
       "      <td>64.239721</td>\n",
       "      <td>78.488468</td>\n",
       "      <td>8.837966</td>\n",
       "      <td>-5.410781</td>\n",
       "      <td>14.248747</td>\n",
       "    </tr>\n",
       "    <tr>\n",
       "      <th>11</th>\n",
       "      <td>STL</td>\n",
       "      <td>Se</td>\n",
       "      <td>69.026639</td>\n",
       "      <td>63.261905</td>\n",
       "      <td>77.915984</td>\n",
       "      <td>8.889344</td>\n",
       "      <td>-5.764735</td>\n",
       "      <td>14.654079</td>\n",
       "    </tr>\n",
       "    <tr>\n",
       "      <th>10</th>\n",
       "      <td>STL</td>\n",
       "      <td>Ju</td>\n",
       "      <td>69.878706</td>\n",
       "      <td>64.580286</td>\n",
       "      <td>74.634771</td>\n",
       "      <td>4.756065</td>\n",
       "      <td>-5.298420</td>\n",
       "      <td>10.054485</td>\n",
       "    </tr>\n",
       "  </tbody>\n",
       "</table>\n",
       "</div>"
      ],
      "text/plain": [
       "   college level       Fall     Winter     Spring  Fall-Spring Change  \\\n",
       "15     STM    Se  70.058590  64.372822  79.309831            9.251241   \n",
       "8      STL    Fr  69.585030  64.335890  79.111622            9.526592   \n",
       "12     STM    Fr  69.650503  64.239721  78.488468            8.837966   \n",
       "11     STL    Se  69.026639  63.261905  77.915984            8.889344   \n",
       "10     STL    Ju  69.878706  64.580286  74.634771            4.756065   \n",
       "\n",
       "    Fall-Winter Change  Winter-Spring Change  \n",
       "15           -5.685768             14.937009  \n",
       "8            -5.249140             14.775732  \n",
       "12           -5.410781             14.248747  \n",
       "11           -5.764735             14.654079  \n",
       "10           -5.298420             10.054485  "
      ]
     },
     "execution_count": 26,
     "metadata": {},
     "output_type": "execute_result"
    }
   ],
   "source": [
    "df_results_slc.sort_values('Spring', ascending=False).drop(\n",
    "    ['starting_year', 'level_for_sorting'], axis=1).head()"
   ]
  },
  {
   "cell_type": "markdown",
   "id": "857cc142-4bb3-4448-a5f2-f66dbd434f80",
   "metadata": {
    "execution": {
     "iopub.execute_input": "2024-07-09T03:11:35.893803Z",
     "iopub.status.busy": "2024-07-09T03:11:35.892812Z",
     "iopub.status.idle": "2024-07-09T03:11:35.897510Z",
     "shell.execute_reply": "2024-07-09T03:11:35.897510Z",
     "shell.execute_reply.started": "2024-07-09T03:11:35.893803Z"
    }
   },
   "source": [
    "And here are the five pairs with the *lowest* spring results:"
   ]
  },
  {
   "cell_type": "code",
   "execution_count": 27,
   "id": "10dc2c9e-2e78-45bc-aa50-3779be9e4019",
   "metadata": {
    "execution": {
     "iopub.execute_input": "2025-03-22T04:00:23.137977Z",
     "iopub.status.busy": "2025-03-22T04:00:23.137875Z",
     "iopub.status.idle": "2025-03-22T04:00:23.143490Z",
     "shell.execute_reply": "2025-03-22T04:00:23.143254Z",
     "shell.execute_reply.started": "2025-03-22T04:00:23.137967Z"
    }
   },
   "outputs": [
    {
     "data": {
      "text/html": [
       "<div>\n",
       "<style scoped>\n",
       "    .dataframe tbody tr th:only-of-type {\n",
       "        vertical-align: middle;\n",
       "    }\n",
       "\n",
       "    .dataframe tbody tr th {\n",
       "        vertical-align: top;\n",
       "    }\n",
       "\n",
       "    .dataframe thead th {\n",
       "        text-align: right;\n",
       "    }\n",
       "</style>\n",
       "<table border=\"1\" class=\"dataframe\">\n",
       "  <thead>\n",
       "    <tr style=\"text-align: right;\">\n",
       "      <th></th>\n",
       "      <th>college</th>\n",
       "      <th>level</th>\n",
       "      <th>Fall</th>\n",
       "      <th>Winter</th>\n",
       "      <th>Spring</th>\n",
       "      <th>Fall-Spring Change</th>\n",
       "      <th>Fall-Winter Change</th>\n",
       "      <th>Winter-Spring Change</th>\n",
       "    </tr>\n",
       "  </thead>\n",
       "  <tbody>\n",
       "    <tr>\n",
       "      <th>6</th>\n",
       "      <td>STC</td>\n",
       "      <td>Ju</td>\n",
       "      <td>69.180932</td>\n",
       "      <td>63.527990</td>\n",
       "      <td>64.180932</td>\n",
       "      <td>-5.000000</td>\n",
       "      <td>-5.652942</td>\n",
       "      <td>0.652942</td>\n",
       "    </tr>\n",
       "    <tr>\n",
       "      <th>5</th>\n",
       "      <td>STC</td>\n",
       "      <td>So</td>\n",
       "      <td>69.331325</td>\n",
       "      <td>64.094692</td>\n",
       "      <td>64.331325</td>\n",
       "      <td>-5.000000</td>\n",
       "      <td>-5.236634</td>\n",
       "      <td>0.236634</td>\n",
       "    </tr>\n",
       "    <tr>\n",
       "      <th>2</th>\n",
       "      <td>STB</td>\n",
       "      <td>Ju</td>\n",
       "      <td>69.950769</td>\n",
       "      <td>64.801703</td>\n",
       "      <td>64.950769</td>\n",
       "      <td>-5.000000</td>\n",
       "      <td>-5.149066</td>\n",
       "      <td>0.149066</td>\n",
       "    </tr>\n",
       "    <tr>\n",
       "      <th>1</th>\n",
       "      <td>STB</td>\n",
       "      <td>So</td>\n",
       "      <td>70.377306</td>\n",
       "      <td>65.064270</td>\n",
       "      <td>65.377306</td>\n",
       "      <td>-5.000000</td>\n",
       "      <td>-5.313036</td>\n",
       "      <td>0.313036</td>\n",
       "    </tr>\n",
       "    <tr>\n",
       "      <th>3</th>\n",
       "      <td>STB</td>\n",
       "      <td>Se</td>\n",
       "      <td>69.154329</td>\n",
       "      <td>63.782799</td>\n",
       "      <td>68.543287</td>\n",
       "      <td>-0.611041</td>\n",
       "      <td>-5.371530</td>\n",
       "      <td>4.760488</td>\n",
       "    </tr>\n",
       "  </tbody>\n",
       "</table>\n",
       "</div>"
      ],
      "text/plain": [
       "  college level       Fall     Winter     Spring  Fall-Spring Change  \\\n",
       "6     STC    Ju  69.180932  63.527990  64.180932           -5.000000   \n",
       "5     STC    So  69.331325  64.094692  64.331325           -5.000000   \n",
       "2     STB    Ju  69.950769  64.801703  64.950769           -5.000000   \n",
       "1     STB    So  70.377306  65.064270  65.377306           -5.000000   \n",
       "3     STB    Se  69.154329  63.782799  68.543287           -0.611041   \n",
       "\n",
       "   Fall-Winter Change  Winter-Spring Change  \n",
       "6           -5.652942              0.652942  \n",
       "5           -5.236634              0.236634  \n",
       "2           -5.149066              0.149066  \n",
       "1           -5.313036              0.313036  \n",
       "3           -5.371530              4.760488  "
      ]
     },
     "execution_count": 27,
     "metadata": {},
     "output_type": "execute_result"
    }
   ],
   "source": [
    "df_results_slc.sort_values('Spring').drop(\n",
    "    ['starting_year', 'level_for_sorting'], axis=1).head()"
   ]
  },
  {
   "cell_type": "markdown",
   "id": "29b877dd-5195-41d2-a203-40cadde0cb4d",
   "metadata": {},
   "source": [
    "Note that the use of `sort_values()` here did not actually change the underlying order of the DataFrame. Although the output appeared in sorted order immediately after `sort_values()` got called, the DataFrame will then revert to its original sort order during subsequent lines of code. The following cell demonstrates this:"
   ]
  },
  {
   "cell_type": "code",
   "execution_count": 28,
   "id": "9c3734a3-3a2f-49ba-b7d8-32dcf986cc95",
   "metadata": {
    "execution": {
     "iopub.execute_input": "2025-03-22T04:00:23.143882Z",
     "iopub.status.busy": "2025-03-22T04:00:23.143787Z",
     "iopub.status.idle": "2025-03-22T04:00:23.150035Z",
     "shell.execute_reply": "2025-03-22T04:00:23.149781Z",
     "shell.execute_reply.started": "2025-03-22T04:00:23.143871Z"
    }
   },
   "outputs": [
    {
     "data": {
      "text/html": [
       "<div>\n",
       "<style scoped>\n",
       "    .dataframe tbody tr th:only-of-type {\n",
       "        vertical-align: middle;\n",
       "    }\n",
       "\n",
       "    .dataframe tbody tr th {\n",
       "        vertical-align: top;\n",
       "    }\n",
       "\n",
       "    .dataframe thead th {\n",
       "        text-align: right;\n",
       "    }\n",
       "</style>\n",
       "<table border=\"1\" class=\"dataframe\">\n",
       "  <thead>\n",
       "    <tr style=\"text-align: right;\">\n",
       "      <th></th>\n",
       "      <th>starting_year</th>\n",
       "      <th>college</th>\n",
       "      <th>level_for_sorting</th>\n",
       "      <th>level</th>\n",
       "      <th>...</th>\n",
       "      <th>Spring</th>\n",
       "      <th>Fall-Spring Change</th>\n",
       "      <th>Fall-Winter Change</th>\n",
       "      <th>Winter-Spring Change</th>\n",
       "    </tr>\n",
       "  </thead>\n",
       "  <tbody>\n",
       "    <tr>\n",
       "      <th>0</th>\n",
       "      <td>2023</td>\n",
       "      <td>STB</td>\n",
       "      <td>0</td>\n",
       "      <td>Fr</td>\n",
       "      <td>...</td>\n",
       "      <td>69.177235</td>\n",
       "      <td>-0.416348</td>\n",
       "      <td>-5.497791</td>\n",
       "      <td>5.081442</td>\n",
       "    </tr>\n",
       "    <tr>\n",
       "      <th>1</th>\n",
       "      <td>2023</td>\n",
       "      <td>STB</td>\n",
       "      <td>1</td>\n",
       "      <td>So</td>\n",
       "      <td>...</td>\n",
       "      <td>65.377306</td>\n",
       "      <td>-5.000000</td>\n",
       "      <td>-5.313036</td>\n",
       "      <td>0.313036</td>\n",
       "    </tr>\n",
       "    <tr>\n",
       "      <th>2</th>\n",
       "      <td>2023</td>\n",
       "      <td>STB</td>\n",
       "      <td>2</td>\n",
       "      <td>Ju</td>\n",
       "      <td>...</td>\n",
       "      <td>64.950769</td>\n",
       "      <td>-5.000000</td>\n",
       "      <td>-5.149066</td>\n",
       "      <td>0.149066</td>\n",
       "    </tr>\n",
       "    <tr>\n",
       "      <th>3</th>\n",
       "      <td>2023</td>\n",
       "      <td>STB</td>\n",
       "      <td>3</td>\n",
       "      <td>Se</td>\n",
       "      <td>...</td>\n",
       "      <td>68.543287</td>\n",
       "      <td>-0.611041</td>\n",
       "      <td>-5.371530</td>\n",
       "      <td>4.760488</td>\n",
       "    </tr>\n",
       "    <tr>\n",
       "      <th>4</th>\n",
       "      <td>2023</td>\n",
       "      <td>STC</td>\n",
       "      <td>0</td>\n",
       "      <td>Fr</td>\n",
       "      <td>...</td>\n",
       "      <td>69.079348</td>\n",
       "      <td>-0.519565</td>\n",
       "      <td>-5.625529</td>\n",
       "      <td>5.105964</td>\n",
       "    </tr>\n",
       "  </tbody>\n",
       "</table>\n",
       "<p>5 rows × 10 columns</p>\n",
       "</div>"
      ],
      "text/plain": [
       "   starting_year college  level_for_sorting level  ...     Spring  \\\n",
       "0           2023     STB                  0    Fr  ...  69.177235   \n",
       "1           2023     STB                  1    So  ...  65.377306   \n",
       "2           2023     STB                  2    Ju  ...  64.950769   \n",
       "3           2023     STB                  3    Se  ...  68.543287   \n",
       "4           2023     STC                  0    Fr  ...  69.079348   \n",
       "\n",
       "   Fall-Spring Change  Fall-Winter Change  Winter-Spring Change  \n",
       "0           -0.416348           -5.497791              5.081442  \n",
       "1           -5.000000           -5.313036              0.313036  \n",
       "2           -5.000000           -5.149066              0.149066  \n",
       "3           -0.611041           -5.371530              4.760488  \n",
       "4           -0.519565           -5.625529              5.105964  \n",
       "\n",
       "[5 rows x 10 columns]"
      ]
     },
     "execution_count": 28,
     "metadata": {},
     "output_type": "execute_result"
    }
   ],
   "source": [
    "df_results_slc.head() # Note that the DataFrame\n",
    "# is once again sorted by college and level"
   ]
  },
  {
   "cell_type": "markdown",
   "id": "2ac66ed6-88e2-4a37-b4c9-4e376a1eb706",
   "metadata": {},
   "source": [
    "This behavior, which is seen in many other Pandas functions, is actually quite helpful: it allows you to test out changes and modifications without making them permanent (which, if you make a mistake, could force you to restart your script)."
   ]
  },
  {
   "cell_type": "markdown",
   "id": "22941494-3f95-4c31-a4fb-85a995729e6a",
   "metadata": {
    "execution": {
     "iopub.execute_input": "2024-07-09T03:23:58.641714Z",
     "iopub.status.busy": "2024-07-09T03:23:58.641714Z",
     "iopub.status.idle": "2024-07-09T03:23:58.645692Z",
     "shell.execute_reply": "2024-07-09T03:23:58.645692Z",
     "shell.execute_reply.started": "2024-07-09T03:23:58.641714Z"
    }
   },
   "source": [
    "To make a sort persistent, you can use one of the following two lines:"
   ]
  },
  {
   "cell_type": "code",
   "execution_count": 29,
   "id": "b0d5ca67-e149-4bd3-b9ac-bf5fb8e86b46",
   "metadata": {
    "execution": {
     "iopub.execute_input": "2025-03-22T04:00:23.150444Z",
     "iopub.status.busy": "2025-03-22T04:00:23.150342Z",
     "iopub.status.idle": "2025-03-22T04:00:23.153120Z",
     "shell.execute_reply": "2025-03-22T04:00:23.152792Z",
     "shell.execute_reply.started": "2025-03-22T04:00:23.150435Z"
    }
   },
   "outputs": [],
   "source": [
    "# First option (my preference because it often requires fewer characters):\n",
    "df_results_slc.sort_values('Spring', inplace=True)\n",
    "\n",
    "# An alternative option (which can come in handy when making multiple\n",
    "# changes to a dataset at once):\n",
    "df_results_slc = (df_results_slc.sort_values('Spring')).copy()\n",
    "\n",
    "# Make sure NOT to add 'inplace = True' as an argument when using the \n",
    "# second method, as your DataFrame will then get replaced with \n",
    "# a 'None' object!\n",
    "# For an explanation of None, see: \n",
    "# https://docs.python.org/3/library/constants.html#None"
   ]
  },
  {
   "cell_type": "markdown",
   "id": "0d0bb269-a716-45f7-b758-574d9abef628",
   "metadata": {},
   "source": [
    "Now that we've made our sort persistent, we will continue to see it reflected within subsequent sets of output:"
   ]
  },
  {
   "cell_type": "code",
   "execution_count": 30,
   "id": "90533011-7761-4195-9e67-feaec8a2be41",
   "metadata": {
    "execution": {
     "iopub.execute_input": "2025-03-22T04:00:23.153588Z",
     "iopub.status.busy": "2025-03-22T04:00:23.153465Z",
     "iopub.status.idle": "2025-03-22T04:00:23.159668Z",
     "shell.execute_reply": "2025-03-22T04:00:23.159425Z",
     "shell.execute_reply.started": "2025-03-22T04:00:23.153579Z"
    }
   },
   "outputs": [
    {
     "data": {
      "text/html": [
       "<div>\n",
       "<style scoped>\n",
       "    .dataframe tbody tr th:only-of-type {\n",
       "        vertical-align: middle;\n",
       "    }\n",
       "\n",
       "    .dataframe tbody tr th {\n",
       "        vertical-align: top;\n",
       "    }\n",
       "\n",
       "    .dataframe thead th {\n",
       "        text-align: right;\n",
       "    }\n",
       "</style>\n",
       "<table border=\"1\" class=\"dataframe\">\n",
       "  <thead>\n",
       "    <tr style=\"text-align: right;\">\n",
       "      <th></th>\n",
       "      <th>starting_year</th>\n",
       "      <th>college</th>\n",
       "      <th>level_for_sorting</th>\n",
       "      <th>level</th>\n",
       "      <th>...</th>\n",
       "      <th>Spring</th>\n",
       "      <th>Fall-Spring Change</th>\n",
       "      <th>Fall-Winter Change</th>\n",
       "      <th>Winter-Spring Change</th>\n",
       "    </tr>\n",
       "  </thead>\n",
       "  <tbody>\n",
       "    <tr>\n",
       "      <th>6</th>\n",
       "      <td>2023</td>\n",
       "      <td>STC</td>\n",
       "      <td>2</td>\n",
       "      <td>Ju</td>\n",
       "      <td>...</td>\n",
       "      <td>64.180932</td>\n",
       "      <td>-5.000000</td>\n",
       "      <td>-5.652942</td>\n",
       "      <td>0.652942</td>\n",
       "    </tr>\n",
       "    <tr>\n",
       "      <th>5</th>\n",
       "      <td>2023</td>\n",
       "      <td>STC</td>\n",
       "      <td>1</td>\n",
       "      <td>So</td>\n",
       "      <td>...</td>\n",
       "      <td>64.331325</td>\n",
       "      <td>-5.000000</td>\n",
       "      <td>-5.236634</td>\n",
       "      <td>0.236634</td>\n",
       "    </tr>\n",
       "    <tr>\n",
       "      <th>2</th>\n",
       "      <td>2023</td>\n",
       "      <td>STB</td>\n",
       "      <td>2</td>\n",
       "      <td>Ju</td>\n",
       "      <td>...</td>\n",
       "      <td>64.950769</td>\n",
       "      <td>-5.000000</td>\n",
       "      <td>-5.149066</td>\n",
       "      <td>0.149066</td>\n",
       "    </tr>\n",
       "    <tr>\n",
       "      <th>1</th>\n",
       "      <td>2023</td>\n",
       "      <td>STB</td>\n",
       "      <td>1</td>\n",
       "      <td>So</td>\n",
       "      <td>...</td>\n",
       "      <td>65.377306</td>\n",
       "      <td>-5.000000</td>\n",
       "      <td>-5.313036</td>\n",
       "      <td>0.313036</td>\n",
       "    </tr>\n",
       "    <tr>\n",
       "      <th>3</th>\n",
       "      <td>2023</td>\n",
       "      <td>STB</td>\n",
       "      <td>3</td>\n",
       "      <td>Se</td>\n",
       "      <td>...</td>\n",
       "      <td>68.543287</td>\n",
       "      <td>-0.611041</td>\n",
       "      <td>-5.371530</td>\n",
       "      <td>4.760488</td>\n",
       "    </tr>\n",
       "  </tbody>\n",
       "</table>\n",
       "<p>5 rows × 10 columns</p>\n",
       "</div>"
      ],
      "text/plain": [
       "   starting_year college  level_for_sorting level  ...     Spring  \\\n",
       "6           2023     STC                  2    Ju  ...  64.180932   \n",
       "5           2023     STC                  1    So  ...  64.331325   \n",
       "2           2023     STB                  2    Ju  ...  64.950769   \n",
       "1           2023     STB                  1    So  ...  65.377306   \n",
       "3           2023     STB                  3    Se  ...  68.543287   \n",
       "\n",
       "   Fall-Spring Change  Fall-Winter Change  Winter-Spring Change  \n",
       "6           -5.000000           -5.652942              0.652942  \n",
       "5           -5.000000           -5.236634              0.236634  \n",
       "2           -5.000000           -5.149066              0.149066  \n",
       "1           -5.000000           -5.313036              0.313036  \n",
       "3           -0.611041           -5.371530              4.760488  \n",
       "\n",
       "[5 rows x 10 columns]"
      ]
     },
     "execution_count": 30,
     "metadata": {},
     "output_type": "execute_result"
    }
   ],
   "source": [
    "df_results_slc.head()"
   ]
  },
  {
   "cell_type": "markdown",
   "id": "13ceaf1c-2722-4cb7-823f-77cc9770a6db",
   "metadata": {},
   "source": [
    "It's also worth mentioning that none of these changes, even the persistent sort that we just effected, are affecting the underlying .csv file from which we retrieved our data. That file will only get modified if we use `to_csv()` to save our table to that same filename. (You'll usually want to save tables to a different filename anyway so that your output doesn't overwrite your input.)"
   ]
  },
  {
   "cell_type": "markdown",
   "id": "7e87d335-9a72-43fc-8bc2-0ca509815dd5",
   "metadata": {
    "execution": {
     "iopub.execute_input": "2024-07-09T03:24:29.465543Z",
     "iopub.status.busy": "2024-07-09T03:24:29.464540Z",
     "iopub.status.idle": "2024-07-09T03:24:29.468270Z",
     "shell.execute_reply": "2024-07-09T03:24:29.468270Z",
     "shell.execute_reply.started": "2024-07-09T03:24:29.465543Z"
    }
   },
   "source": [
    "## Calculating percentiles and ranks\n",
    "\n",
    "Ranks and percentiles are alternative ways to evaluate values relative to their peers. Let's say that the NVCU administration would like you to calculate both the rank *and* the percentile of each college/level pair's average spring score. However, they'd also like you to round the spring results to integers before making these calculations so that pairs with similar scores will get treated equally.\n",
    "\n",
    "First, we'll create a new condensed DataFrame that can store these integer-based results, ranks, and percentiles. We'll then assign ranks to each integer."
   ]
  },
  {
   "cell_type": "code",
   "execution_count": 31,
   "id": "15afaa12-24dd-42e0-b556-5f0193f3d6bc",
   "metadata": {
    "execution": {
     "iopub.execute_input": "2025-03-22T04:00:23.160120Z",
     "iopub.status.busy": "2025-03-22T04:00:23.160007Z",
     "iopub.status.idle": "2025-03-22T04:00:23.166874Z",
     "shell.execute_reply": "2025-03-22T04:00:23.166630Z",
     "shell.execute_reply.started": "2025-03-22T04:00:23.160093Z"
    }
   },
   "outputs": [
    {
     "data": {
      "text/html": [
       "<div>\n",
       "<style scoped>\n",
       "    .dataframe tbody tr th:only-of-type {\n",
       "        vertical-align: middle;\n",
       "    }\n",
       "\n",
       "    .dataframe tbody tr th {\n",
       "        vertical-align: top;\n",
       "    }\n",
       "\n",
       "    .dataframe thead th {\n",
       "        text-align: right;\n",
       "    }\n",
       "</style>\n",
       "<table border=\"1\" class=\"dataframe\">\n",
       "  <thead>\n",
       "    <tr style=\"text-align: right;\">\n",
       "      <th></th>\n",
       "      <th>starting_year</th>\n",
       "      <th>college</th>\n",
       "      <th>level_for_sorting</th>\n",
       "      <th>level</th>\n",
       "      <th>Spring</th>\n",
       "      <th>Spring_Rank</th>\n",
       "    </tr>\n",
       "  </thead>\n",
       "  <tbody>\n",
       "    <tr>\n",
       "      <th>15</th>\n",
       "      <td>2023</td>\n",
       "      <td>STM</td>\n",
       "      <td>3</td>\n",
       "      <td>Se</td>\n",
       "      <td>79</td>\n",
       "      <td>1.0</td>\n",
       "    </tr>\n",
       "    <tr>\n",
       "      <th>8</th>\n",
       "      <td>2023</td>\n",
       "      <td>STL</td>\n",
       "      <td>0</td>\n",
       "      <td>Fr</td>\n",
       "      <td>79</td>\n",
       "      <td>1.0</td>\n",
       "    </tr>\n",
       "    <tr>\n",
       "      <th>12</th>\n",
       "      <td>2023</td>\n",
       "      <td>STM</td>\n",
       "      <td>0</td>\n",
       "      <td>Fr</td>\n",
       "      <td>78</td>\n",
       "      <td>3.0</td>\n",
       "    </tr>\n",
       "    <tr>\n",
       "      <th>11</th>\n",
       "      <td>2023</td>\n",
       "      <td>STL</td>\n",
       "      <td>3</td>\n",
       "      <td>Se</td>\n",
       "      <td>77</td>\n",
       "      <td>4.0</td>\n",
       "    </tr>\n",
       "    <tr>\n",
       "      <th>10</th>\n",
       "      <td>2023</td>\n",
       "      <td>STL</td>\n",
       "      <td>2</td>\n",
       "      <td>Ju</td>\n",
       "      <td>74</td>\n",
       "      <td>5.0</td>\n",
       "    </tr>\n",
       "    <tr>\n",
       "      <th>14</th>\n",
       "      <td>2023</td>\n",
       "      <td>STM</td>\n",
       "      <td>2</td>\n",
       "      <td>Ju</td>\n",
       "      <td>74</td>\n",
       "      <td>5.0</td>\n",
       "    </tr>\n",
       "    <tr>\n",
       "      <th>9</th>\n",
       "      <td>2023</td>\n",
       "      <td>STL</td>\n",
       "      <td>1</td>\n",
       "      <td>So</td>\n",
       "      <td>74</td>\n",
       "      <td>5.0</td>\n",
       "    </tr>\n",
       "    <tr>\n",
       "      <th>13</th>\n",
       "      <td>2023</td>\n",
       "      <td>STM</td>\n",
       "      <td>1</td>\n",
       "      <td>So</td>\n",
       "      <td>73</td>\n",
       "      <td>8.0</td>\n",
       "    </tr>\n",
       "    <tr>\n",
       "      <th>7</th>\n",
       "      <td>2023</td>\n",
       "      <td>STC</td>\n",
       "      <td>3</td>\n",
       "      <td>Se</td>\n",
       "      <td>69</td>\n",
       "      <td>9.0</td>\n",
       "    </tr>\n",
       "    <tr>\n",
       "      <th>0</th>\n",
       "      <td>2023</td>\n",
       "      <td>STB</td>\n",
       "      <td>0</td>\n",
       "      <td>Fr</td>\n",
       "      <td>69</td>\n",
       "      <td>9.0</td>\n",
       "    </tr>\n",
       "    <tr>\n",
       "      <th>4</th>\n",
       "      <td>2023</td>\n",
       "      <td>STC</td>\n",
       "      <td>0</td>\n",
       "      <td>Fr</td>\n",
       "      <td>69</td>\n",
       "      <td>9.0</td>\n",
       "    </tr>\n",
       "    <tr>\n",
       "      <th>3</th>\n",
       "      <td>2023</td>\n",
       "      <td>STB</td>\n",
       "      <td>3</td>\n",
       "      <td>Se</td>\n",
       "      <td>68</td>\n",
       "      <td>12.0</td>\n",
       "    </tr>\n",
       "    <tr>\n",
       "      <th>1</th>\n",
       "      <td>2023</td>\n",
       "      <td>STB</td>\n",
       "      <td>1</td>\n",
       "      <td>So</td>\n",
       "      <td>65</td>\n",
       "      <td>13.0</td>\n",
       "    </tr>\n",
       "    <tr>\n",
       "      <th>2</th>\n",
       "      <td>2023</td>\n",
       "      <td>STB</td>\n",
       "      <td>2</td>\n",
       "      <td>Ju</td>\n",
       "      <td>64</td>\n",
       "      <td>14.0</td>\n",
       "    </tr>\n",
       "    <tr>\n",
       "      <th>5</th>\n",
       "      <td>2023</td>\n",
       "      <td>STC</td>\n",
       "      <td>1</td>\n",
       "      <td>So</td>\n",
       "      <td>64</td>\n",
       "      <td>14.0</td>\n",
       "    </tr>\n",
       "    <tr>\n",
       "      <th>6</th>\n",
       "      <td>2023</td>\n",
       "      <td>STC</td>\n",
       "      <td>2</td>\n",
       "      <td>Ju</td>\n",
       "      <td>64</td>\n",
       "      <td>14.0</td>\n",
       "    </tr>\n",
       "  </tbody>\n",
       "</table>\n",
       "</div>"
      ],
      "text/plain": [
       "    starting_year college  level_for_sorting level  Spring  Spring_Rank\n",
       "15           2023     STM                  3    Se      79          1.0\n",
       "8            2023     STL                  0    Fr      79          1.0\n",
       "12           2023     STM                  0    Fr      78          3.0\n",
       "11           2023     STL                  3    Se      77          4.0\n",
       "10           2023     STL                  2    Ju      74          5.0\n",
       "14           2023     STM                  2    Ju      74          5.0\n",
       "9            2023     STL                  1    So      74          5.0\n",
       "13           2023     STM                  1    So      73          8.0\n",
       "7            2023     STC                  3    Se      69          9.0\n",
       "0            2023     STB                  0    Fr      69          9.0\n",
       "4            2023     STC                  0    Fr      69          9.0\n",
       "3            2023     STB                  3    Se      68         12.0\n",
       "1            2023     STB                  1    So      65         13.0\n",
       "2            2023     STB                  2    Ju      64         14.0\n",
       "5            2023     STC                  1    So      64         14.0\n",
       "6            2023     STC                  2    Ju      64         14.0"
      ]
     },
     "execution_count": 31,
     "metadata": {},
     "output_type": "execute_result"
    }
   ],
   "source": [
    "# Creating a condensed DataFrame:\n",
    "df_spring_ranks = df_results_slc.copy()[['starting_year', 'college', \n",
    "    'level_for_sorting', 'level', 'Spring']].sort_values(\n",
    "    'Spring', ascending=False)\n",
    "# Converting average spring results to integers:\n",
    "df_spring_ranks['Spring'] = df_spring_ranks['Spring'].astype('int')\n",
    "\n",
    "# Calculating our ranks:\n",
    "# Note: the inclusion of \"method = 'min'\" ensures that, in the case of \n",
    "# ties, each tied row will show the lowest (i.e. best) possible rank. \n",
    "# This is the ranking convention that I'm more familiar with, but Pandas \n",
    "# allows for other methods also. Meanwhile, \"ascending = False\" assigns the \n",
    "# best ranks to the highest results.\n",
    "# See the df.rank() documentation for more details:\n",
    "# https://pandas.pydata.org/pandas-docs/stable/reference/api/pandas.\n",
    "# DataFrame.rank.html\n",
    "\n",
    "df_spring_ranks['Spring_Rank'] = df_spring_ranks[\n",
    "'Spring'].rank(ascending = False, method = 'min')\n",
    "df_spring_ranks"
   ]
  },
  {
   "cell_type": "markdown",
   "id": "cbebeb86-7c69-45f9-a60e-e9a37d0e6217",
   "metadata": {},
   "source": [
    "Our code for calculating percentiles will also use `df.rank()`; we can instruct that function to display its output as percentiles by adding the argument `pct=True`. We'll also add (1) `ascending=True` so that the highest scores will get the highest percentiles and (2) `method='max'` so that, in the case of ties, the highest possible percentile will get displayed.\n",
    "\n",
    "Note that, while the highest percentile in the following output is 100, the lowest percentile is not 0. I'm quite sure that this is because Pandas calculates percentiles as the percentage of results *equal to or lower than* the current result. Therefore, even the lowest row won't get a percentile of 0 during percentile calculations, as it will at least be equal to itself. (The larger your dataset, the closer the smallest percentile will be to 0.) "
   ]
  },
  {
   "cell_type": "code",
   "execution_count": 32,
   "id": "f3b0764a-b2ab-436e-bb47-a2b5dcef0bd9",
   "metadata": {
    "execution": {
     "iopub.execute_input": "2025-03-22T04:00:23.167292Z",
     "iopub.status.busy": "2025-03-22T04:00:23.167183Z",
     "iopub.status.idle": "2025-03-22T04:00:23.172368Z",
     "shell.execute_reply": "2025-03-22T04:00:23.172105Z",
     "shell.execute_reply.started": "2025-03-22T04:00:23.167282Z"
    }
   },
   "outputs": [
    {
     "data": {
      "text/html": [
       "<div>\n",
       "<style scoped>\n",
       "    .dataframe tbody tr th:only-of-type {\n",
       "        vertical-align: middle;\n",
       "    }\n",
       "\n",
       "    .dataframe tbody tr th {\n",
       "        vertical-align: top;\n",
       "    }\n",
       "\n",
       "    .dataframe thead th {\n",
       "        text-align: right;\n",
       "    }\n",
       "</style>\n",
       "<table border=\"1\" class=\"dataframe\">\n",
       "  <thead>\n",
       "    <tr style=\"text-align: right;\">\n",
       "      <th></th>\n",
       "      <th>starting_year</th>\n",
       "      <th>college</th>\n",
       "      <th>level_for_sorting</th>\n",
       "      <th>level</th>\n",
       "      <th>Spring</th>\n",
       "      <th>Spring_Rank</th>\n",
       "      <th>Spring_Percentile</th>\n",
       "    </tr>\n",
       "  </thead>\n",
       "  <tbody>\n",
       "    <tr>\n",
       "      <th>15</th>\n",
       "      <td>2023</td>\n",
       "      <td>STM</td>\n",
       "      <td>3</td>\n",
       "      <td>Se</td>\n",
       "      <td>79</td>\n",
       "      <td>1.0</td>\n",
       "      <td>100.00</td>\n",
       "    </tr>\n",
       "    <tr>\n",
       "      <th>8</th>\n",
       "      <td>2023</td>\n",
       "      <td>STL</td>\n",
       "      <td>0</td>\n",
       "      <td>Fr</td>\n",
       "      <td>79</td>\n",
       "      <td>1.0</td>\n",
       "      <td>100.00</td>\n",
       "    </tr>\n",
       "    <tr>\n",
       "      <th>12</th>\n",
       "      <td>2023</td>\n",
       "      <td>STM</td>\n",
       "      <td>0</td>\n",
       "      <td>Fr</td>\n",
       "      <td>78</td>\n",
       "      <td>3.0</td>\n",
       "      <td>87.50</td>\n",
       "    </tr>\n",
       "    <tr>\n",
       "      <th>11</th>\n",
       "      <td>2023</td>\n",
       "      <td>STL</td>\n",
       "      <td>3</td>\n",
       "      <td>Se</td>\n",
       "      <td>77</td>\n",
       "      <td>4.0</td>\n",
       "      <td>81.25</td>\n",
       "    </tr>\n",
       "    <tr>\n",
       "      <th>10</th>\n",
       "      <td>2023</td>\n",
       "      <td>STL</td>\n",
       "      <td>2</td>\n",
       "      <td>Ju</td>\n",
       "      <td>74</td>\n",
       "      <td>5.0</td>\n",
       "      <td>75.00</td>\n",
       "    </tr>\n",
       "  </tbody>\n",
       "</table>\n",
       "</div>"
      ],
      "text/plain": [
       "    starting_year college  level_for_sorting level  Spring  Spring_Rank  \\\n",
       "15           2023     STM                  3    Se      79          1.0   \n",
       "8            2023     STL                  0    Fr      79          1.0   \n",
       "12           2023     STM                  0    Fr      78          3.0   \n",
       "11           2023     STL                  3    Se      77          4.0   \n",
       "10           2023     STL                  2    Ju      74          5.0   \n",
       "\n",
       "    Spring_Percentile  \n",
       "15             100.00  \n",
       "8              100.00  \n",
       "12              87.50  \n",
       "11              81.25  \n",
       "10              75.00  "
      ]
     },
     "execution_count": 32,
     "metadata": {},
     "output_type": "execute_result"
    }
   ],
   "source": [
    "df_spring_ranks['Spring_Percentile'] = (\n",
    "    100 * df_spring_ranks['Spring'].rank(\n",
    "        ascending=True, pct=True, method='max'))\n",
    "df_spring_ranks.head()"
   ]
  },
  {
   "cell_type": "markdown",
   "id": "dc52bf42-0575-498c-8b67-6c24d4697a60",
   "metadata": {},
   "source": [
    "Although our DataFrame was sorted by Spring results, `df.rank()` would still have successfully calculated ranks and percentiles regardless of how the DataFrame happened to be sorted. We can demonstrate this via the following code (which sorts the DataFrame by a different field before calling `rank()`):"
   ]
  },
  {
   "cell_type": "code",
   "execution_count": 33,
   "id": "5099a28d-cd44-4fcf-a760-b48f673a6753",
   "metadata": {
    "execution": {
     "iopub.execute_input": "2025-03-22T04:00:23.172780Z",
     "iopub.status.busy": "2025-03-22T04:00:23.172670Z",
     "iopub.status.idle": "2025-03-22T04:00:23.177907Z",
     "shell.execute_reply": "2025-03-22T04:00:23.177663Z",
     "shell.execute_reply.started": "2025-03-22T04:00:23.172758Z"
    }
   },
   "outputs": [
    {
     "data": {
      "text/html": [
       "<div>\n",
       "<style scoped>\n",
       "    .dataframe tbody tr th:only-of-type {\n",
       "        vertical-align: middle;\n",
       "    }\n",
       "\n",
       "    .dataframe tbody tr th {\n",
       "        vertical-align: top;\n",
       "    }\n",
       "\n",
       "    .dataframe thead th {\n",
       "        text-align: right;\n",
       "    }\n",
       "</style>\n",
       "<table border=\"1\" class=\"dataframe\">\n",
       "  <thead>\n",
       "    <tr style=\"text-align: right;\">\n",
       "      <th></th>\n",
       "      <th>starting_year</th>\n",
       "      <th>college</th>\n",
       "      <th>level_for_sorting</th>\n",
       "      <th>level</th>\n",
       "      <th>Spring</th>\n",
       "      <th>Spring_Rank</th>\n",
       "      <th>Spring_Percentile</th>\n",
       "    </tr>\n",
       "  </thead>\n",
       "  <tbody>\n",
       "    <tr>\n",
       "      <th>15</th>\n",
       "      <td>2023</td>\n",
       "      <td>STM</td>\n",
       "      <td>3</td>\n",
       "      <td>Se</td>\n",
       "      <td>79</td>\n",
       "      <td>1.0</td>\n",
       "      <td>100.00</td>\n",
       "    </tr>\n",
       "    <tr>\n",
       "      <th>8</th>\n",
       "      <td>2023</td>\n",
       "      <td>STL</td>\n",
       "      <td>0</td>\n",
       "      <td>Fr</td>\n",
       "      <td>79</td>\n",
       "      <td>1.0</td>\n",
       "      <td>100.00</td>\n",
       "    </tr>\n",
       "    <tr>\n",
       "      <th>12</th>\n",
       "      <td>2023</td>\n",
       "      <td>STM</td>\n",
       "      <td>0</td>\n",
       "      <td>Fr</td>\n",
       "      <td>78</td>\n",
       "      <td>3.0</td>\n",
       "      <td>87.50</td>\n",
       "    </tr>\n",
       "    <tr>\n",
       "      <th>11</th>\n",
       "      <td>2023</td>\n",
       "      <td>STL</td>\n",
       "      <td>3</td>\n",
       "      <td>Se</td>\n",
       "      <td>77</td>\n",
       "      <td>4.0</td>\n",
       "      <td>81.25</td>\n",
       "    </tr>\n",
       "    <tr>\n",
       "      <th>10</th>\n",
       "      <td>2023</td>\n",
       "      <td>STL</td>\n",
       "      <td>2</td>\n",
       "      <td>Ju</td>\n",
       "      <td>74</td>\n",
       "      <td>5.0</td>\n",
       "      <td>75.00</td>\n",
       "    </tr>\n",
       "  </tbody>\n",
       "</table>\n",
       "</div>"
      ],
      "text/plain": [
       "    starting_year college  level_for_sorting level  Spring  Spring_Rank  \\\n",
       "15           2023     STM                  3    Se      79          1.0   \n",
       "8            2023     STL                  0    Fr      79          1.0   \n",
       "12           2023     STM                  0    Fr      78          3.0   \n",
       "11           2023     STL                  3    Se      77          4.0   \n",
       "10           2023     STL                  2    Ju      74          5.0   \n",
       "\n",
       "    Spring_Percentile  \n",
       "15             100.00  \n",
       "8              100.00  \n",
       "12              87.50  \n",
       "11              81.25  \n",
       "10              75.00  "
      ]
     },
     "execution_count": 33,
     "metadata": {},
     "output_type": "execute_result"
    }
   ],
   "source": [
    "df_spring_ranks['Spring_Percentile'] = (\n",
    "    100 * df_spring_ranks.sort_values('college')['Spring'].rank(\n",
    "        ascending=True, pct=True, method='max'))\n",
    "df_spring_ranks.head()"
   ]
  },
  {
   "cell_type": "code",
   "execution_count": 34,
   "id": "55004f0a-f9b5-4fae-9eb3-59c65f8cb1b8",
   "metadata": {
    "execution": {
     "iopub.execute_input": "2025-03-22T04:00:23.178404Z",
     "iopub.status.busy": "2025-03-22T04:00:23.178183Z",
     "iopub.status.idle": "2025-03-22T04:00:23.180386Z",
     "shell.execute_reply": "2025-03-22T04:00:23.180084Z",
     "shell.execute_reply.started": "2025-03-22T04:00:23.178394Z"
    }
   },
   "outputs": [
    {
     "name": "stdout",
     "output_type": "stream",
     "text": [
      "Finished running this script in 0.627 seconds.\n"
     ]
    }
   ],
   "source": [
    "end_time = time.time()\n",
    "run_time = end_time - start_time\n",
    "print(f\"Finished running this script in {round(run_time, 3)} seconds.\")"
   ]
  },
  {
   "cell_type": "markdown",
   "id": "4ec02ef0-e52f-4e1e-af1f-bed37df0d877",
   "metadata": {},
   "source": [
    "The above line shows how long it took this notebook to run all of its Python code. As you can see, my claim at the start of this notebook that you could use Python to perform these tasks in 'mere seconds' wasn't hyperbole!"
   ]
  },
  {
   "cell_type": "markdown",
   "id": "3f396a72-58b3-46eb-aa2c-9c74972421f3",
   "metadata": {},
   "source": [
    "## Conclusion"
   ]
  },
  {
   "cell_type": "markdown",
   "id": "ed27eab8-aafa-4a04-9340-ee7d15e6cfc1",
   "metadata": {},
   "source": [
    "This notebook has provided a brief introduction to descriptive statistics calculations within Python. PFN's graphing section will teach you how to convert some of the pivot tables created here into line and bar charts, thus making these data easier to interpret. However, before we can dive into the fun of Python-based visualizations, we should first cover a few more important descriptive stats topics."
   ]
  }
 ],
 "metadata": {
  "kernelspec": {
   "display_name": "Python 3 (ipykernel)",
   "language": "python",
   "name": "python3"
  },
  "language_info": {
   "codemirror_mode": {
    "name": "ipython",
    "version": 3
   },
   "file_extension": ".py",
   "mimetype": "text/x-python",
   "name": "python",
   "nbconvert_exporter": "python",
   "pygments_lexer": "ipython3",
   "version": "3.13.2"
  }
 },
 "nbformat": 4,
 "nbformat_minor": 5
}
