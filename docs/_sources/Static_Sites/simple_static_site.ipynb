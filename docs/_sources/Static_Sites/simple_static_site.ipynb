{
 "cells": [
  {
   "cell_type": "markdown",
   "id": "a9f7fc9d-cb08-4ec7-a304-beb6a5c66cc5",
   "metadata": {},
   "source": [
    "# Creating a Simple Static Webpage\n",
    "\n",
    "So far in Python for Nonprofits, you've learned how to import, prepare, analyze, and visualize data. However, the analyses and visualizations that you create will be of limited use unless you can can easily share them with others. Thus, this final part of PFN will introduce various options for publishing analyses online. This notebook will cover static webpages, but subsequent sections will introduce Google Sheets and interactive Dash apps as alternative publication methods.\n",
    "\n",
    "## Static websites\n",
    "\n",
    "A simple way to share visualizations and other data online is through a static website. The content in such websites is relatively fixed, unlike with dynamic websites (such as Dash apps). If you have a set of content that doesn't need to be updated very regularly, if at all, a static site might be your best option.\n",
    "\n",
    "For instance, we created some colorful net migration and population growth maps within the Mapping section of PFN. To share those maps with others, we could send them directly as HTML files; our users could then open those maps within a web browser. However, a simpler approach (at least for the end user) would be to share them online via a static website. We'll learn how to do so within this section.\n",
    "\n",
    "Note: the static website created by this notebook can be found at https://kburchfiel.github.io/simple_static_site/. The repository that contains this website's contents is available at https://github.com/kburchfiel/simple_static_site . "
   ]
  },
  {
   "cell_type": "markdown",
   "id": "e3ebe79a-9bc3-4f7f-b347-4929c0c5cb9a",
   "metadata": {},
   "source": [
    "## Creating Static Sites with GitHub Pages\n",
    "\n",
    "One option (among others) for hosting static content online for free is GitHub Pages (https://pages.github.com/). The GitHub pages documentation is quite robust, so I'll merely summarize the steps that I took. (Selecting the 'Project site' and 'Start from scratch' options will let you view the steps that most closely resembled my workflow--though I did certain steps a bit differently.) The static website I'll create within this notebook should serve as a helpful reference if you get stuck along the way.\n",
    "\n",
    "(I do recommend reviewing the GitHub Pages terms of service at https://docs.github.com/en/pages/getting-started-with-github-pages/about-github-pages#prohibited-uses in order to make sure that this service is a good option for your static hosting needs, as certain uses are prohibited.)"
   ]
  },
  {
   "cell_type": "markdown",
   "id": "a3a14c53-8b25-4726-a16d-fcce59efeff6",
   "metadata": {},
   "source": [
    "### Preparing local copies of the site's materials\n",
    "\n",
    "First, I created a new repository (https://github.com/kburchfiel/simple_static_site) in which I could store my maps. Next, I created a corresponding 'simple_static_site' folder within my computer's file system.\n",
    "\n",
    "I then ran the following code in order to copy some (but not all) of the maps created within PFN's mapping section into this folder. (If you wish to run this code as well, you'll need to create the corresponding '../../simple_static_site/maps/' folder within your computer also. In order for the relative paths to work correctly, the 'simple_static_site' folder should be located within the same folder that contains your Python for Nonprofits folder.)\n",
    "\n",
    "For more on the `shutil.copyfile()` function used below, see https://docs.python.org/3/library/shutil.html ."
   ]
  },
  {
   "cell_type": "code",
   "execution_count": 1,
   "id": "1872975e-dad2-4ee9-8c03-1c2e746196f6",
   "metadata": {
    "execution": {
     "iopub.execute_input": "2025-06-21T02:34:53.870189Z",
     "iopub.status.busy": "2025-06-21T02:34:53.869639Z",
     "iopub.status.idle": "2025-06-21T02:34:53.891898Z",
     "shell.execute_reply": "2025-06-21T02:34:53.891593Z",
     "shell.execute_reply.started": "2025-06-21T02:34:53.870125Z"
    }
   },
   "outputs": [],
   "source": [
    "import shutil\n",
    "# Defining the original location of these maps--and the location\n",
    "# to which they'll be copied:\n",
    "source_map_folder = '../Mapping/maps/' # This folder exists within \n",
    "# the main Python for Nonprofits folder.\n",
    "dest_map_folder = '../../simple_static_site/maps/' # This folder\n",
    "# is in a separate location from Python for Nonprofits\n",
    "# Specifying which maps within the source folder to copy:\n",
    "maps_to_copy = ['net_migration_rate_state_2020-2024.html',\n",
    "                'net_migration_rate_county_2020-2024.html',\n",
    "                'state_25-29_pop_pct_growth_2011-2021.html',\n",
    "                'state_pop_pct_growth_2011-2021.html',\n",
    "                'county_25-29_pop_pct_growth_2011-2021_tiled.html',\n",
    "                'county_pop_pct_growth_2011-2021_tiled.html']\n",
    "for map_for_site in maps_to_copy: # Note that 'map' is a Python keyword,\n",
    "    # so it's best not to use it as a variable name here.\n",
    "    shutil.copyfile(source_map_folder + map_for_site,\n",
    "                    dest_map_folder + map_for_site)  \n",
    "    "
   ]
  },
  {
   "cell_type": "markdown",
   "id": "aaca78ed-1914-4567-870f-e80990b28043",
   "metadata": {},
   "source": [
    "I could also have just copied and pasted these maps into my new folder, but this approach would save time in the long run if I happened to have lots of maps or made frequent updates to them. (Of course, if the updates were very frequent, a dynamic site could potentially be a better option than a static one.)\n",
    "\n",
    "The maps will form the main content of our static site. However, we'll also need a landing page that can introduce the content and direct visitors to each page. \n",
    "\n",
    "The following cell shows the Markdown-formatted text that I wrote for this landing page. (You can also use HTML for this page, but Markdown is a bit simpler. If you're not familiar with Markdown, check out Matt Cone's handy introduction at https://www.markdownguide.org/basic-syntax/ .)\n",
    "\n",
    "Note that the links to each map are relative, thus making them compatible within various repository names. (The links to the GitHub version of Python for Nonprofits, in contrast, are absolute.) Because the maps are located within a 'maps/' subfolder, I needed to incorporate that folder into these relative links."
   ]
  },
  {
   "cell_type": "markdown",
   "id": "8ef2e78c-b434-4d97-996f-e9f1db55609e",
   "metadata": {
    "execution": {
     "iopub.execute_input": "2025-03-07T03:38:27.873835Z",
     "iopub.status.busy": "2025-03-07T03:38:27.872755Z",
     "iopub.status.idle": "2025-03-07T03:38:27.878732Z",
     "shell.execute_reply": "2025-03-07T03:38:27.878303Z",
     "shell.execute_reply.started": "2025-03-07T03:38:27.873763Z"
    }
   },
   "source": [
    "```\n",
    "# Selected output from the mapping section of Python for Nonprofits\n",
    "\n",
    "By Kenneth Burchfiel\n",
    "\n",
    "Released under the MIT License\n",
    "\n",
    "This simple webpage provides links to six maps created within\n",
    "the [Mapping](https://github.com/kburchfiel/pfn/tree/main/Mapping) section\n",
    "of [Python for Nonprofits](https://github.com/kburchfiel/pfn). It is meant\n",
    "to demonstrate how visualizations can be hosted within \n",
    "a static GitHub Pages website.\n",
    "\n",
    "Python for Nonprofits, like this repository, is released under \n",
    "the MIT License.\n",
    "\n",
    "## Population growth maps\n",
    "\n",
    "These maps visualize population growth rates at the state and county\n",
    "level **from 2011 to 2021.** They were created using the Plotly graphing\n",
    "library within PFN's choropleth_maps.ipynb notebook, available at\n",
    "https://github.com/kburchfiel/pfn/blob/main/Mapping/choropleth_maps.ipynb .\n",
    "\n",
    "**Note: Certain maps will be easier to view on a laptop or monitor than\n",
    "on your phone.**\n",
    "\n",
    "### Total population growth\n",
    "\n",
    "[State-level total population growth](maps/state_pop_pct_growth_2011-2021.html)\n",
    "\n",
    "[County-level total population growth](maps/county_pop_pct_growth_2011-2021_tiled.html)\n",
    "\n",
    "### Population growth for adults aged 25 to 29\n",
    "\n",
    "[State-level 25-29 population growth](maps/state_25-29_pop_pct_growth_2011-2021.html)\n",
    "\n",
    "[County-level 25-29 population growth](maps/county_25-29_pop_pct_growth_2011-2021_tiled.html)\n",
    "\n",
    "## Net domestic migration maps\n",
    "\n",
    "These maps show net domestic migration rates at the state and\n",
    "county level **from April 1, 2020 to June 1, 2024**. They are based on\n",
    "the Folium mapping library and were created within PFN's\n",
    "'choropleth_maps_with_folium.ipynb' notebook, available at\n",
    "https://github.com/kburchfiel/pfn/blob/main/Mapping/choropleth_maps_with_folium.ipynb .\n",
    "\n",
    "[State-level net migration](maps/net_migration_rate_state_2020-2024.html)\n",
    "\n",
    "[County-level net migration](maps/net_migration_rate_county_2020-2024.html)\n",
    "```"
   ]
  },
  {
   "cell_type": "markdown",
   "id": "a0bf808e-51a2-49a4-8a1d-2dab1977f382",
   "metadata": {},
   "source": [
    "I enclosed the above text within a code block so that you could see the actual markdown code being used. To see how this text will actually appear on the website, simply visit https://kburchfiel.github.io/simple_static_site/ .\n",
    "\n",
    "I then saved this text into a new file within my simple_static_site folder called `index.md` . GitHub Pages will use this file to construct my site's landing page.\n",
    "\n",
    "The folder structure of my simple_static_site project is as follows:\n",
    "\n",
    "    simple_static_site/\n",
    "    ----index.md\n",
    "    ----maps/\n",
    "    --------county_25-29_pop_pct_growth_2011-2021_tiled.html\n",
    "    --------county_pop_pct_growth_2011-2021_tiled.html\n",
    "    --------net_migration_rate_county_2020-2024.html\n",
    "    --------net_migration_rate_state_2020-2024.html\n",
    "    --------state_25-29_pop_pct_growth_2011-2021.html\n",
    "    --------state_pop_pct_growth_2011-2021.html\n",
    "\n",
    "As noted earlier, the 'simple_static_site/' folder should be located within the same folder as your Python for Nonprofits folder in order for the file transfer code shown above to work."
   ]
  },
  {
   "cell_type": "markdown",
   "id": "2a4e1873-5978-4e7d-bdb4-828ec09b5bca",
   "metadata": {},
   "source": [
    "### Publishing this static site via GitHub Pages"
   ]
  },
  {
   "cell_type": "markdown",
   "id": "93add62c-1395-4a00-94a6-9ec9540af7bd",
   "metadata": {
    "execution": {
     "iopub.execute_input": "2025-03-07T04:07:27.628519Z",
     "iopub.status.busy": "2025-03-07T04:07:27.627498Z",
     "iopub.status.idle": "2025-03-07T04:07:27.633091Z",
     "shell.execute_reply": "2025-03-07T04:07:27.632696Z",
     "shell.execute_reply.started": "2025-03-07T04:07:27.628478Z"
    }
   },
   "source": [
    "I now have all the material I need for my site! My next step will be to export it to the GitHub repository that I created earlier. The steps for doing so via the command line are documented well on GitHub's website, so review that documentation (available at https://docs.github.com/en/migrations/importing-source-code/using-the-command-line-to-import-source-code/adding-locally-hosted-code-to-github) if you 'git' stuck.\n",
    "\n",
    "(You can also upload files directly to your GitHub page if you prefer. That approach should work fine for a simple static page like this one, but for more complex projects, you may find it easier to perform Git and GitHub operations via the command line.)\n",
    "\n",
    "After uploading the content to GitHub, I went into my repository's Settings page; navigated to Pages; and instructed GitHub to deploy my site from the root tab of my main branch. (The GitHub Pages documentation linked to earlier provides more details.)\n",
    "\n",
    "Your site most likely will not appear right away; similarly, whenever you make updates to your online repository's contents, it may take a little while for those updates to manifest. However, after a minute or two, the GitHub Pages tab within the Settings page informed me that \"Your site is live at https://kburchfiel.github.io/simple_static_site/ .\" Great--my maps are now available for anyone to view!\n",
    "\n",
    "As you'll see when navigating to the above link, this site is *very* simple indeed. The landing page has essentially no colors and no images. The HTML-based map pages to which it links are colorful and interactive, but they don't offer any built-in navigation menus; to revisit the landing page, you'll need to use your back button."
   ]
  },
  {
   "cell_type": "markdown",
   "id": "2daf6e7b-08dc-41fa-af6e-713d254a5213",
   "metadata": {},
   "source": [
    "## More advanced sites"
   ]
  },
  {
   "cell_type": "markdown",
   "id": "71962e37-9c87-4ed4-98d9-1eed051ff2e8",
   "metadata": {},
   "source": [
    "The method for deploying a static site that this notebook features should work fine when you just need to make static content (like maps--or HTML versions of Jupyter Notebooks) available online. However, I thought I would also list some more robust alternatives to this approach in case it doesn't meet your own needs.\n",
    "\n",
    "First, for more complex static sites, look into Jekyll (https://jekyllrb.com/docs/), the static site generator that GitHub Pages uses. (GitHub Pages-specific Jekyll instructions can be found at https://docs.github.com/en/pages/setting-up-a-github-pages-site-with-jekyll , but you'll likely find the Jekyll site to be helpful also.)\n",
    "\n",
    "Jupyter Book (https://jupyterbook.org/en/stable/intro.html) is also worth looking into. Python for Nonprofits makes use of this tool to convert its many notebooks and markdown files into a PDF file that can serve as the basis for a printed book. This tool can *also* be used to generate static webpages, so consider using it if you too have a manual or book that you'd like to host online. (For more information on this functionality, see https://jupyterbook.org/en/stable/web/index.html .)\n",
    "\n",
    "As of March 2025, GitHub Pages sites also can't be made private unless you have an Enterprise License. Therefore, if you need to limit whom can see your site, consider using Google Sites (https://sites.google.com/), a free tool that allows you to share your content with only specific users (or just yourself). You can add full-screen interactive maps (and other visualizations) to Google Sites Pages via the 'Full page embed' option.\n",
    "\n",
    "Finally, you may determine that a purely static site doesn't meet your needs. In that case, stay tuned for the Online Visualizations section of Python for Nonprofits, where you'll learn how to create dynamic Dash web apps that respond to user input.\n",
    "\n",
    "In certain cases, you don't actually need to share visualizations with end users: the underlying numbers themselves will be sufficient. Therefore, the next section of PFN will demonstrate how to publish data online via Google Sheets."
   ]
  }
 ],
 "metadata": {
  "kernelspec": {
   "display_name": "Python 3 (ipykernel)",
   "language": "python",
   "name": "python3"
  },
  "language_info": {
   "codemirror_mode": {
    "name": "ipython",
    "version": 3
   },
   "file_extension": ".py",
   "mimetype": "text/x-python",
   "name": "python",
   "nbconvert_exporter": "python",
   "pygments_lexer": "ipython3",
   "version": "3.13.2"
  }
 },
 "nbformat": 4,
 "nbformat_minor": 5
}
