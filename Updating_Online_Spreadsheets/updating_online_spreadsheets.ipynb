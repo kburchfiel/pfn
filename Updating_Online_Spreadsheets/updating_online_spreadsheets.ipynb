{
 "cells": [
  {
   "cell_type": "markdown",
   "id": "fdd0f887-46a4-4f4f-99d0-ad3a51fd1ce7",
   "metadata": {},
   "source": [
    "# Updating Online Spreadsheets\n",
    "\n",
    "This script will demonstrate how to upload the contents of a DataFrame into a Google Sheets file using Python's `gspread` and `gspread-dataframe` libraries. This is a convenient option for sharing your output with others, especially if you need to update that output on a regular basis.\n",
    "\n",
    "The Google Sheets worksheet that this script will update can be found at https://docs.google.com/spreadsheets/d/17aDJ3mg49-n0IEnDgN7ZB85pO87fiUpkZPULYDB8dmo/edit?usp=sharing .\n",
    "\n",
    "Since the NWS weather data accessed by this script generally gets updated on an hourly basis, it makes sense to have this script run automatically every hour. That way, your Google Sheets data, along with your local .csv copies of historical weather data, will always be relatively up to date. To automate this script, I recommend saving it as a .py file (which is easy to do within JupyterLab Desktop); setting up a script that will run this file; and then having your computer run this script on an hourly basis. (More information on accomplishing these steps within Linux can be found at the end of this notebook.)\n",
    "\n",
    "## Prerequisites\n",
    "\n",
    "1. Python's gspread library provides a very helpful overview of connecting to Google Sheets workbooks via a service account at https://docs.gspread.org/en/latest/oauth2.html#for-bots-using-service-account . (There are multiple ways to connect to workbooks, but I find the service account approach to be pretty straightforward.) Go ahead and complete these steps if you haven't already. (Note: I chose to save my service account key to a custom path rather than the default one specified in the documentation; that way, I could more easily work with multiple account keys on my computer.) Also make sure that, prior to enabling the Google Sheets and Google Drive APIs, the Google Cloud project that you want to use for this script has been selected.\n",
    "\n",
    "2. If you also specified a custom path, you'll need to create a file called 'service_key_path.txt' within this folder that points to it. That way, the following cell will be able to read in its location for use within gspread functions. (Alternatively, you could simply replace the following cell's code with `service_key_path = (path_to_your_key)`. Or, if you're using the default key location, you can comment out this cell altogether.)\n",
    "\n",
    "3. As noted in the gspread service account documentation, you'll need to give the email associated with your service account editor access to the Google Sheets workbook that you'd like your script to update. (This email is *not* the same as your regular Google Email; it will likely look something like accountname@cloudprojectname.iam.gserviceaccount.com. You can find it within your service account file."
   ]
  },
  {
   "cell_type": "code",
   "execution_count": 1,
   "id": "74f0a1eb-5ad7-4608-b882-72006bb7caed",
   "metadata": {
    "execution": {
     "iopub.execute_input": "2025-02-21T04:08:31.930328Z",
     "iopub.status.busy": "2025-02-21T04:08:31.930232Z",
     "iopub.status.idle": "2025-02-21T04:08:32.151144Z",
     "shell.execute_reply": "2025-02-21T04:08:32.150637Z",
     "shell.execute_reply.started": "2025-02-21T04:08:31.930316Z"
    }
   },
   "outputs": [],
   "source": [
    "import sys\n",
    "sys.path.insert(1, '../Appendix')\n",
    "from helper_funcs import config_notebook, wadi\n",
    "display_type = config_notebook(display_max_columns = 5)\n",
    "# Specifying which columns to render within the output:\n",
    "display_cols = ['Station', 'Date/Time', 'Temp', \n",
    "                '1-Hour Precip', 'Rolling 24-Hour Precip']\n",
    "\n",
    "with open('service_key_path.txt') as file:\n",
    "    service_key_path = file.read()"
   ]
  },
  {
   "cell_type": "code",
   "execution_count": 2,
   "id": "2c09a669-4aa6-43ce-96b5-b8f8fb25c437",
   "metadata": {
    "execution": {
     "iopub.execute_input": "2025-02-21T04:08:32.151795Z",
     "iopub.status.busy": "2025-02-21T04:08:32.151583Z",
     "iopub.status.idle": "2025-02-21T04:08:32.230908Z",
     "shell.execute_reply": "2025-02-21T04:08:32.230548Z",
     "shell.execute_reply.started": "2025-02-21T04:08:32.151783Z"
    }
   },
   "outputs": [],
   "source": [
    "import gspread\n",
    "from gspread_dataframe import set_with_dataframe, get_as_dataframe\n",
    "# From https://pypi.org/project/gspread-dataframe/\n",
    "# gspread_dataframe isn't available within conda-forge as of 2025-02-20;\n",
    "# therefore, you'll need to install it via the following pip command:\n",
    "# pip install gspread-dataframe"
   ]
  },
  {
   "cell_type": "markdown",
   "id": "682e122b-ad60-4276-bcf9-dd2a509987ff",
   "metadata": {},
   "source": [
    "(If you're using gspread's default path, you can comment out the first line and then uncomment the following one.)"
   ]
  },
  {
   "cell_type": "code",
   "execution_count": 3,
   "id": "9d66624a-057a-4768-9b2b-c0ceb56c26a4",
   "metadata": {
    "execution": {
     "iopub.execute_input": "2025-02-21T04:08:32.231911Z",
     "iopub.status.busy": "2025-02-21T04:08:32.231699Z",
     "iopub.status.idle": "2025-02-21T04:08:32.265736Z",
     "shell.execute_reply": "2025-02-21T04:08:32.265381Z",
     "shell.execute_reply.started": "2025-02-21T04:08:32.231899Z"
    }
   },
   "outputs": [],
   "source": [
    "gc = gspread.service_account(filename=service_key_path)\n",
    "\n",
    "# gc = gspread.service_account()\n",
    "\n",
    "# (This code comes from\n",
    "# # From https://docs.gspread.org/en/latest/index.html)"
   ]
  },
  {
   "cell_type": "markdown",
   "id": "62cf38ec-6224-49a7-a118-0cedb4a64c5e",
   "metadata": {},
   "source": [
    "Importing additional libraries:\n",
    "\n",
    "(Note: the weather_import.py file imported below derives from recent_weather_data.ipynb within the Automated_Notebooks section of Python for Nonprofits.)"
   ]
  },
  {
   "cell_type": "code",
   "execution_count": 4,
   "id": "999f5c06-7846-4d30-98f3-544aa4ec0054",
   "metadata": {
    "execution": {
     "iopub.execute_input": "2025-02-21T04:08:32.266317Z",
     "iopub.status.busy": "2025-02-21T04:08:32.266156Z",
     "iopub.status.idle": "2025-02-21T04:08:32.268592Z",
     "shell.execute_reply": "2025-02-21T04:08:32.268354Z",
     "shell.execute_reply.started": "2025-02-21T04:08:32.266306Z"
    }
   },
   "outputs": [],
   "source": [
    "import pandas as pd\n",
    "from weather_import import weather_import"
   ]
  },
  {
   "cell_type": "markdown",
   "id": "2a481433-dc1f-45da-b510-a36b6d0bc4ee",
   "metadata": {},
   "source": [
    "## Importing weather data\n",
    "\n",
    "The following cells will import weather data for three Virginia weather stations; combine it with pre-existing data; and then save a revised copy of this table to a .csv file."
   ]
  },
  {
   "cell_type": "code",
   "execution_count": 5,
   "id": "f5a8a8f3-569c-4781-8647-a5af52a6b77b",
   "metadata": {
    "execution": {
     "iopub.execute_input": "2025-02-21T04:08:32.269017Z",
     "iopub.status.busy": "2025-02-21T04:08:32.268919Z",
     "iopub.status.idle": "2025-02-21T04:08:32.270830Z",
     "shell.execute_reply": "2025-02-21T04:08:32.270586Z",
     "shell.execute_reply.started": "2025-02-21T04:08:32.269007Z"
    }
   },
   "outputs": [],
   "source": [
    "data_folder = 'weather_data'"
   ]
  },
  {
   "cell_type": "markdown",
   "id": "bea180b9-e91e-4fa8-aefc-4a568c54a58f",
   "metadata": {
    "execution": {
     "iopub.execute_input": "2024-11-22T05:13:58.386796Z",
     "iopub.status.busy": "2024-11-22T05:13:58.386575Z",
     "iopub.status.idle": "2024-11-22T05:13:58.388844Z",
     "shell.execute_reply": "2024-11-22T05:13:58.388526Z",
     "shell.execute_reply.started": "2024-11-22T05:13:58.386783Z"
    }
   },
   "source": [
    "### Importing weather data for Charlottesville"
   ]
  },
  {
   "cell_type": "code",
   "execution_count": 6,
   "id": "5ec76f1f-f62d-4d02-b5b6-3ff5cc574b07",
   "metadata": {
    "execution": {
     "iopub.execute_input": "2025-02-21T04:08:32.271185Z",
     "iopub.status.busy": "2025-02-21T04:08:32.271095Z",
     "iopub.status.idle": "2025-02-21T04:08:32.273201Z",
     "shell.execute_reply": "2025-02-21T04:08:32.272952Z",
     "shell.execute_reply.started": "2025-02-21T04:08:32.271176Z"
    }
   },
   "outputs": [
    {
     "name": "stdout",
     "output_type": "stream",
     "text": [
      "Downloading KCHO data.\n"
     ]
    }
   ],
   "source": [
    "print(\"Downloading KCHO data.\")"
   ]
  },
  {
   "cell_type": "code",
   "execution_count": 7,
   "id": "ab3cdd21-c63c-443a-80e2-ab33b8c81217",
   "metadata": {
    "execution": {
     "iopub.execute_input": "2025-02-21T04:08:32.273646Z",
     "iopub.status.busy": "2025-02-21T04:08:32.273535Z",
     "iopub.status.idle": "2025-02-21T04:08:32.567026Z",
     "shell.execute_reply": "2025-02-21T04:08:32.566585Z",
     "shell.execute_reply.started": "2025-02-21T04:08:32.273637Z"
    }
   },
   "outputs": [
    {
     "name": "stdout",
     "output_type": "stream",
     "text": [
      "Original length of historical data file: 2639\n",
      "New length of historical data file: 2640\n"
     ]
    }
   ],
   "source": [
    "weather_import(\n",
    "    station_code = 'KCHO',\n",
    "    data_folder = data_folder)"
   ]
  },
  {
   "cell_type": "markdown",
   "id": "04e9c407-e0b6-4e2f-b352-7ed0eec60cbb",
   "metadata": {},
   "source": [
    "### Importing weather data for Dulles International Airport"
   ]
  },
  {
   "cell_type": "code",
   "execution_count": 8,
   "id": "a33b25b7-a1fd-4f05-b425-900a166119dd",
   "metadata": {
    "execution": {
     "iopub.execute_input": "2025-02-21T04:08:32.567519Z",
     "iopub.status.busy": "2025-02-21T04:08:32.567371Z",
     "iopub.status.idle": "2025-02-21T04:08:32.569616Z",
     "shell.execute_reply": "2025-02-21T04:08:32.569337Z",
     "shell.execute_reply.started": "2025-02-21T04:08:32.567509Z"
    }
   },
   "outputs": [
    {
     "name": "stdout",
     "output_type": "stream",
     "text": [
      "Downloading KIAD data.\n"
     ]
    }
   ],
   "source": [
    "print(\"Downloading KIAD data.\")"
   ]
  },
  {
   "cell_type": "code",
   "execution_count": 9,
   "id": "777d93f0-50c4-4f77-9d6f-7f9b51464d63",
   "metadata": {
    "execution": {
     "iopub.execute_input": "2025-02-21T04:08:32.570182Z",
     "iopub.status.busy": "2025-02-21T04:08:32.569953Z",
     "iopub.status.idle": "2025-02-21T04:08:32.853143Z",
     "shell.execute_reply": "2025-02-21T04:08:32.852843Z",
     "shell.execute_reply.started": "2025-02-21T04:08:32.570170Z"
    }
   },
   "outputs": [
    {
     "name": "stdout",
     "output_type": "stream",
     "text": [
      "Original length of historical data file: 2215\n",
      "New length of historical data file: 2217\n"
     ]
    }
   ],
   "source": [
    "weather_import(\n",
    "    station_code = 'KIAD',\n",
    "    data_folder = data_folder)"
   ]
  },
  {
   "cell_type": "markdown",
   "id": "23d287c7-2ffe-41d1-ba7c-1a00deba9cb3",
   "metadata": {
    "execution": {
     "iopub.execute_input": "2024-11-22T05:14:59.529248Z",
     "iopub.status.busy": "2024-11-22T05:14:59.528998Z",
     "iopub.status.idle": "2024-11-22T05:14:59.531866Z",
     "shell.execute_reply": "2024-11-22T05:14:59.531469Z",
     "shell.execute_reply.started": "2024-11-22T05:14:59.529222Z"
    }
   },
   "source": [
    "### Importing weather data for Winchester\n",
    "\n",
    "(This data appears to be recorded at 20-minute intervals rather than hourly ones.)"
   ]
  },
  {
   "cell_type": "code",
   "execution_count": 10,
   "id": "0f5fb939-6f66-4cdd-a8d0-f7dcec37d767",
   "metadata": {
    "execution": {
     "iopub.execute_input": "2025-02-21T04:08:32.853689Z",
     "iopub.status.busy": "2025-02-21T04:08:32.853527Z",
     "iopub.status.idle": "2025-02-21T04:08:32.856007Z",
     "shell.execute_reply": "2025-02-21T04:08:32.855534Z",
     "shell.execute_reply.started": "2025-02-21T04:08:32.853678Z"
    }
   },
   "outputs": [
    {
     "name": "stdout",
     "output_type": "stream",
     "text": [
      "Downloading KOKV data.\n"
     ]
    }
   ],
   "source": [
    "print(\"Downloading KOKV data.\")"
   ]
  },
  {
   "cell_type": "code",
   "execution_count": 11,
   "id": "d72f995f-0d8d-40f3-914f-0d8882f4775c",
   "metadata": {
    "execution": {
     "iopub.execute_input": "2025-02-21T04:08:32.856646Z",
     "iopub.status.busy": "2025-02-21T04:08:32.856442Z",
     "iopub.status.idle": "2025-02-21T04:08:33.174636Z",
     "shell.execute_reply": "2025-02-21T04:08:33.174084Z",
     "shell.execute_reply.started": "2025-02-21T04:08:32.856635Z"
    }
   },
   "outputs": [
    {
     "name": "stdout",
     "output_type": "stream",
     "text": [
      "Original length of historical data file: 2185\n",
      "New length of historical data file: 2186\n"
     ]
    }
   ],
   "source": [
    "test_df = weather_import(\n",
    "    station_code = 'KOKV',\n",
    "    data_folder = data_folder)\n",
    "test_df"
   ]
  },
  {
   "cell_type": "markdown",
   "id": "800ef6ca-7d84-4fb3-b059-9ec1ccf94985",
   "metadata": {
    "execution": {
     "iopub.execute_input": "2024-11-22T05:16:03.935466Z",
     "iopub.status.busy": "2024-11-22T05:16:03.935187Z",
     "iopub.status.idle": "2024-11-22T05:16:03.937484Z",
     "shell.execute_reply": "2024-11-22T05:16:03.937147Z",
     "shell.execute_reply.started": "2024-11-22T05:16:03.935446Z"
    }
   },
   "source": [
    "## Reading these datasets into DataFrames"
   ]
  },
  {
   "cell_type": "code",
   "execution_count": 12,
   "id": "7cf1a5ba-dd44-42ca-8bce-5c89fc2451be",
   "metadata": {
    "execution": {
     "iopub.execute_input": "2025-02-21T04:08:33.176122Z",
     "iopub.status.busy": "2025-02-21T04:08:33.175968Z",
     "iopub.status.idle": "2025-02-21T04:08:33.191203Z",
     "shell.execute_reply": "2025-02-21T04:08:33.190825Z",
     "shell.execute_reply.started": "2025-02-21T04:08:33.176110Z"
    }
   },
   "outputs": [
    {
     "data": {
      "text/html": [
       "<div>\n",
       "<style scoped>\n",
       "    .dataframe tbody tr th:only-of-type {\n",
       "        vertical-align: middle;\n",
       "    }\n",
       "\n",
       "    .dataframe tbody tr th {\n",
       "        vertical-align: top;\n",
       "    }\n",
       "\n",
       "    .dataframe thead th {\n",
       "        text-align: right;\n",
       "    }\n",
       "</style>\n",
       "<table border=\"1\" class=\"dataframe\">\n",
       "  <thead>\n",
       "    <tr style=\"text-align: right;\">\n",
       "      <th></th>\n",
       "      <th>Station</th>\n",
       "      <th>Date/Time</th>\n",
       "      <th>Temp</th>\n",
       "      <th>1-Hour Precip</th>\n",
       "      <th>Rolling 24-Hour Precip</th>\n",
       "    </tr>\n",
       "  </thead>\n",
       "  <tbody>\n",
       "    <tr>\n",
       "      <th>2635</th>\n",
       "      <td>KCHO</td>\n",
       "      <td>2025-02-20 17:53</td>\n",
       "      <td>25.0</td>\n",
       "      <td>0.0</td>\n",
       "      <td>0.0</td>\n",
       "    </tr>\n",
       "    <tr>\n",
       "      <th>2636</th>\n",
       "      <td>KCHO</td>\n",
       "      <td>2025-02-20 18:53</td>\n",
       "      <td>24.1</td>\n",
       "      <td>0.0</td>\n",
       "      <td>0.0</td>\n",
       "    </tr>\n",
       "    <tr>\n",
       "      <th>2637</th>\n",
       "      <td>KCHO</td>\n",
       "      <td>2025-02-20 19:53</td>\n",
       "      <td>24.1</td>\n",
       "      <td>0.0</td>\n",
       "      <td>0.0</td>\n",
       "    </tr>\n",
       "    <tr>\n",
       "      <th>2638</th>\n",
       "      <td>KCHO</td>\n",
       "      <td>2025-02-20 20:53</td>\n",
       "      <td>23.0</td>\n",
       "      <td>0.0</td>\n",
       "      <td>0.0</td>\n",
       "    </tr>\n",
       "    <tr>\n",
       "      <th>2639</th>\n",
       "      <td>KCHO</td>\n",
       "      <td>2025-02-20 22:53</td>\n",
       "      <td>21.0</td>\n",
       "      <td>0.0</td>\n",
       "      <td>0.0</td>\n",
       "    </tr>\n",
       "  </tbody>\n",
       "</table>\n",
       "</div>"
      ],
      "text/plain": [
       "     Station         Date/Time  Temp  1-Hour Precip  Rolling 24-Hour Precip\n",
       "2635    KCHO  2025-02-20 17:53  25.0            0.0                     0.0\n",
       "2636    KCHO  2025-02-20 18:53  24.1            0.0                     0.0\n",
       "2637    KCHO  2025-02-20 19:53  24.1            0.0                     0.0\n",
       "2638    KCHO  2025-02-20 20:53  23.0            0.0                     0.0\n",
       "2639    KCHO  2025-02-20 22:53  21.0            0.0                     0.0"
      ]
     },
     "execution_count": 12,
     "metadata": {},
     "output_type": "execute_result"
    }
   ],
   "source": [
    "df_weather_kcho = pd.read_csv(\n",
    "    data_folder+'/'+'KCHO'+'_'\n",
    "    +'historical_hourly_data_updated.csv')\n",
    "df_weather_kcho[display_cols].tail()"
   ]
  },
  {
   "cell_type": "code",
   "execution_count": 13,
   "id": "5463a84a-60d7-4a71-be09-67e6585dd67f",
   "metadata": {
    "execution": {
     "iopub.execute_input": "2025-02-21T04:08:33.191772Z",
     "iopub.status.busy": "2025-02-21T04:08:33.191591Z",
     "iopub.status.idle": "2025-02-21T04:08:33.202784Z",
     "shell.execute_reply": "2025-02-21T04:08:33.202514Z",
     "shell.execute_reply.started": "2025-02-21T04:08:33.191761Z"
    }
   },
   "outputs": [
    {
     "data": {
      "text/html": [
       "<div>\n",
       "<style scoped>\n",
       "    .dataframe tbody tr th:only-of-type {\n",
       "        vertical-align: middle;\n",
       "    }\n",
       "\n",
       "    .dataframe tbody tr th {\n",
       "        vertical-align: top;\n",
       "    }\n",
       "\n",
       "    .dataframe thead th {\n",
       "        text-align: right;\n",
       "    }\n",
       "</style>\n",
       "<table border=\"1\" class=\"dataframe\">\n",
       "  <thead>\n",
       "    <tr style=\"text-align: right;\">\n",
       "      <th></th>\n",
       "      <th>Station</th>\n",
       "      <th>Date/Time</th>\n",
       "      <th>Temp</th>\n",
       "      <th>1-Hour Precip</th>\n",
       "      <th>Rolling 24-Hour Precip</th>\n",
       "    </tr>\n",
       "  </thead>\n",
       "  <tbody>\n",
       "    <tr>\n",
       "      <th>2212</th>\n",
       "      <td>KIAD</td>\n",
       "      <td>2025-02-20 18:52</td>\n",
       "      <td>25.0</td>\n",
       "      <td>0.0</td>\n",
       "      <td>0.0</td>\n",
       "    </tr>\n",
       "    <tr>\n",
       "      <th>2213</th>\n",
       "      <td>KIAD</td>\n",
       "      <td>2025-02-20 19:52</td>\n",
       "      <td>25.0</td>\n",
       "      <td>0.0</td>\n",
       "      <td>0.0</td>\n",
       "    </tr>\n",
       "    <tr>\n",
       "      <th>2214</th>\n",
       "      <td>KIAD</td>\n",
       "      <td>2025-02-20 20:52</td>\n",
       "      <td>24.1</td>\n",
       "      <td>0.0</td>\n",
       "      <td>0.0</td>\n",
       "    </tr>\n",
       "    <tr>\n",
       "      <th>2215</th>\n",
       "      <td>KIAD</td>\n",
       "      <td>2025-02-20 21:52</td>\n",
       "      <td>24.1</td>\n",
       "      <td>0.0</td>\n",
       "      <td>0.0</td>\n",
       "    </tr>\n",
       "    <tr>\n",
       "      <th>2216</th>\n",
       "      <td>KIAD</td>\n",
       "      <td>2025-02-20 22:52</td>\n",
       "      <td>25.0</td>\n",
       "      <td>0.0</td>\n",
       "      <td>0.0</td>\n",
       "    </tr>\n",
       "  </tbody>\n",
       "</table>\n",
       "</div>"
      ],
      "text/plain": [
       "     Station         Date/Time  Temp  1-Hour Precip  Rolling 24-Hour Precip\n",
       "2212    KIAD  2025-02-20 18:52  25.0            0.0                     0.0\n",
       "2213    KIAD  2025-02-20 19:52  25.0            0.0                     0.0\n",
       "2214    KIAD  2025-02-20 20:52  24.1            0.0                     0.0\n",
       "2215    KIAD  2025-02-20 21:52  24.1            0.0                     0.0\n",
       "2216    KIAD  2025-02-20 22:52  25.0            0.0                     0.0"
      ]
     },
     "execution_count": 13,
     "metadata": {},
     "output_type": "execute_result"
    }
   ],
   "source": [
    "df_weather_kiad = pd.read_csv(\n",
    "    data_folder+'/'+'KIAD'+'_'\n",
    "    +'historical_hourly_data_updated.csv')\n",
    "df_weather_kiad[display_cols].tail()"
   ]
  },
  {
   "cell_type": "code",
   "execution_count": 14,
   "id": "a2549956-2eb7-478c-b1e9-fbae0228f67d",
   "metadata": {
    "execution": {
     "iopub.execute_input": "2025-02-21T04:08:33.203196Z",
     "iopub.status.busy": "2025-02-21T04:08:33.203093Z",
     "iopub.status.idle": "2025-02-21T04:08:33.213758Z",
     "shell.execute_reply": "2025-02-21T04:08:33.213525Z",
     "shell.execute_reply.started": "2025-02-21T04:08:33.203186Z"
    }
   },
   "outputs": [
    {
     "data": {
      "text/html": [
       "<div>\n",
       "<style scoped>\n",
       "    .dataframe tbody tr th:only-of-type {\n",
       "        vertical-align: middle;\n",
       "    }\n",
       "\n",
       "    .dataframe tbody tr th {\n",
       "        vertical-align: top;\n",
       "    }\n",
       "\n",
       "    .dataframe thead th {\n",
       "        text-align: right;\n",
       "    }\n",
       "</style>\n",
       "<table border=\"1\" class=\"dataframe\">\n",
       "  <thead>\n",
       "    <tr style=\"text-align: right;\">\n",
       "      <th></th>\n",
       "      <th>Station</th>\n",
       "      <th>Date/Time</th>\n",
       "      <th>Temp</th>\n",
       "      <th>1-Hour Precip</th>\n",
       "      <th>Rolling 24-Hour Precip</th>\n",
       "    </tr>\n",
       "  </thead>\n",
       "  <tbody>\n",
       "    <tr>\n",
       "      <th>2181</th>\n",
       "      <td>KOKV</td>\n",
       "      <td>2025-02-20 18:55</td>\n",
       "      <td>23.0</td>\n",
       "      <td>0.0</td>\n",
       "      <td>0.0</td>\n",
       "    </tr>\n",
       "    <tr>\n",
       "      <th>2182</th>\n",
       "      <td>KOKV</td>\n",
       "      <td>2025-02-20 19:55</td>\n",
       "      <td>23.0</td>\n",
       "      <td>0.0</td>\n",
       "      <td>0.0</td>\n",
       "    </tr>\n",
       "    <tr>\n",
       "      <th>2183</th>\n",
       "      <td>KOKV</td>\n",
       "      <td>2025-02-20 20:55</td>\n",
       "      <td>21.2</td>\n",
       "      <td>0.0</td>\n",
       "      <td>0.0</td>\n",
       "    </tr>\n",
       "    <tr>\n",
       "      <th>2184</th>\n",
       "      <td>KOKV</td>\n",
       "      <td>2025-02-20 21:55</td>\n",
       "      <td>23.0</td>\n",
       "      <td>0.0</td>\n",
       "      <td>0.0</td>\n",
       "    </tr>\n",
       "    <tr>\n",
       "      <th>2185</th>\n",
       "      <td>KOKV</td>\n",
       "      <td>2025-02-20 22:55</td>\n",
       "      <td>21.2</td>\n",
       "      <td>0.0</td>\n",
       "      <td>0.0</td>\n",
       "    </tr>\n",
       "  </tbody>\n",
       "</table>\n",
       "</div>"
      ],
      "text/plain": [
       "     Station         Date/Time  Temp  1-Hour Precip  Rolling 24-Hour Precip\n",
       "2181    KOKV  2025-02-20 18:55  23.0            0.0                     0.0\n",
       "2182    KOKV  2025-02-20 19:55  23.0            0.0                     0.0\n",
       "2183    KOKV  2025-02-20 20:55  21.2            0.0                     0.0\n",
       "2184    KOKV  2025-02-20 21:55  23.0            0.0                     0.0\n",
       "2185    KOKV  2025-02-20 22:55  21.2            0.0                     0.0"
      ]
     },
     "execution_count": 14,
     "metadata": {},
     "output_type": "execute_result"
    }
   ],
   "source": [
    "df_weather_kokv = pd.read_csv(\n",
    "    data_folder+'/'+'KOKV'+'_'\n",
    "    +'historical_hourly_data_updated.csv')\n",
    "df_weather_kokv[display_cols].tail()"
   ]
  },
  {
   "cell_type": "markdown",
   "id": "94e24fa2-dda1-4c65-b1cd-ea554469bf8b",
   "metadata": {},
   "source": [
    "## Importing these DataFrames into a Google Sheets workbook"
   ]
  },
  {
   "cell_type": "markdown",
   "id": "cd498e96-d2db-4c9f-9a80-575f9e8788db",
   "metadata": {},
   "source": [
    "In order to export these datasets to a Google Sheets workbook, we'll first need to open that workbook with gspread. There are a few ways to do this (see https://docs.gspread.org/en/latest/user-guide.html#opening-a-spreadsheet for reference), but I like the `open_by_key()` option, which allows you--as the function's name suggests--to open a workbook using its key.\n",
    "\n",
    "These keys are located within the center of each workbook URL. For instance, the full URL of the workbook I'll be updating is `https://docs.google.com/spreadsheets/d/17aDJ3mg49-n0IEnDgN7ZB85pO87fiUpkZPULYDB8dmo/edit?usp=sharing`, so the key--located in between the `/d/` component of that URL and the following `/`--is `17aDJ3mg49-n0IEnDgN7ZB85pO87fiUpkZPULYDB8dmo`."
   ]
  },
  {
   "cell_type": "code",
   "execution_count": 15,
   "id": "ec4a0f21-f830-4f10-b29b-203c107b3ac3",
   "metadata": {
    "execution": {
     "iopub.execute_input": "2025-02-21T04:08:33.214199Z",
     "iopub.status.busy": "2025-02-21T04:08:33.214086Z",
     "iopub.status.idle": "2025-02-21T04:08:33.904728Z",
     "shell.execute_reply": "2025-02-21T04:08:33.904267Z",
     "shell.execute_reply.started": "2025-02-21T04:08:33.214189Z"
    }
   },
   "outputs": [
    {
     "data": {
      "text/plain": [
       "<Spreadsheet 'Hourly VA Weather Data' id:17aDJ3mg49-n0IEnDgN7ZB85pO87fiUpkZPULYDB8dmo>"
      ]
     },
     "execution_count": 15,
     "metadata": {},
     "output_type": "execute_result"
    }
   ],
   "source": [
    "wb = gc.open_by_key('17aDJ3mg49-n0IEnDgN7ZB85pO87fiUpkZPULYDB8dmo')\n",
    "# Based on \n",
    "# https://docs.gspread.org/en/latest/user-guide.html#opening-a-spreadsheet\n",
    "wb"
   ]
  },
  {
   "cell_type": "markdown",
   "id": "976d1058-272c-4852-b6d1-00b9ee236bf6",
   "metadata": {},
   "source": [
    "Next, I'll select the 'KCHO' worksheet within this workbook, as that's the first one I'd like to update. I'll also clear out the current contents using `ws.clear()`; that way, only the latest DataFrame contents will appear within the spreadsheet after I call `set_with_dataframe` below. (If the most recent DataFrame is smaller than the previous version, parts of the previous one would still appear unless `ws.clear()` is called."
   ]
  },
  {
   "cell_type": "code",
   "execution_count": 16,
   "id": "637e85a1-acaf-44a8-bc53-2f6e19bcaa26",
   "metadata": {
    "execution": {
     "iopub.execute_input": "2025-02-21T04:08:33.905237Z",
     "iopub.status.busy": "2025-02-21T04:08:33.905126Z",
     "iopub.status.idle": "2025-02-21T04:08:34.139897Z",
     "shell.execute_reply": "2025-02-21T04:08:34.139539Z",
     "shell.execute_reply.started": "2025-02-21T04:08:33.905226Z"
    }
   },
   "outputs": [],
   "source": [
    "ws = wb.worksheet('KCHO')\n",
    "# https://docs.gspread.org/en/latest/user-guide.html#opening-a-spreadsheet"
   ]
  },
  {
   "cell_type": "code",
   "execution_count": 17,
   "id": "d3d4a675-8879-426f-9824-d671634a631a",
   "metadata": {
    "execution": {
     "iopub.execute_input": "2025-02-21T04:08:34.140428Z",
     "iopub.status.busy": "2025-02-21T04:08:34.140283Z",
     "iopub.status.idle": "2025-02-21T04:08:34.394396Z",
     "shell.execute_reply": "2025-02-21T04:08:34.394050Z",
     "shell.execute_reply.started": "2025-02-21T04:08:34.140417Z"
    }
   },
   "outputs": [
    {
     "data": {
      "text/plain": [
       "<Worksheet 'KCHO' id:0>"
      ]
     },
     "execution_count": 17,
     "metadata": {},
     "output_type": "execute_result"
    }
   ],
   "source": [
    "ws.clear() \n",
    "ws"
   ]
  },
  {
   "cell_type": "markdown",
   "id": "0543886e-69be-4400-9a2b-961465b0589f",
   "metadata": {},
   "source": [
    "Finally, I'll call `set_with_dataframe` to export this DataFrame to df_weather."
   ]
  },
  {
   "cell_type": "code",
   "execution_count": 18,
   "id": "e437f670-16af-4458-b106-5caa4694cba7",
   "metadata": {
    "execution": {
     "iopub.execute_input": "2025-02-21T04:08:34.395122Z",
     "iopub.status.busy": "2025-02-21T04:08:34.394951Z",
     "iopub.status.idle": "2025-02-21T04:08:35.588634Z",
     "shell.execute_reply": "2025-02-21T04:08:35.588241Z",
     "shell.execute_reply.started": "2025-02-21T04:08:34.395106Z"
    }
   },
   "outputs": [],
   "source": [
    "# Only the most recent 960 rows (representing 40 days' worth of data if\n",
    "# no entries were missing) will get exported to Google Sheets. This will\n",
    "# limit the time (and potentially money) needed to import this data\n",
    "# into a Dash app (https://github.com/kburchfiel/pfn/tree/\n",
    "# main/Online_Visualizations/Simple_App_Without_Login)\n",
    "# that utilizes it.\n",
    "set_with_dataframe(ws, df_weather_kcho.iloc[-960:])\n",
    "# Source: https://pypi.org/project/gspread-dataframe/"
   ]
  },
  {
   "cell_type": "markdown",
   "id": "da459a18-203f-403c-81bb-5f641f7f6f48",
   "metadata": {},
   "source": [
    "In order to confirm that this upload was successful, we can call `get_as_dataframe` to import the contents of the worksheet into a new DataFrame:"
   ]
  },
  {
   "cell_type": "code",
   "execution_count": 19,
   "id": "8883b5fc-c85e-4b2c-8122-a3df9e811ce9",
   "metadata": {
    "execution": {
     "iopub.execute_input": "2025-02-21T04:08:35.589102Z",
     "iopub.status.busy": "2025-02-21T04:08:35.588981Z",
     "iopub.status.idle": "2025-02-21T04:08:35.801106Z",
     "shell.execute_reply": "2025-02-21T04:08:35.800585Z",
     "shell.execute_reply.started": "2025-02-21T04:08:35.589092Z"
    }
   },
   "outputs": [
    {
     "data": {
      "text/html": [
       "<div>\n",
       "<style scoped>\n",
       "    .dataframe tbody tr th:only-of-type {\n",
       "        vertical-align: middle;\n",
       "    }\n",
       "\n",
       "    .dataframe tbody tr th {\n",
       "        vertical-align: top;\n",
       "    }\n",
       "\n",
       "    .dataframe thead th {\n",
       "        text-align: right;\n",
       "    }\n",
       "</style>\n",
       "<table border=\"1\" class=\"dataframe\">\n",
       "  <thead>\n",
       "    <tr style=\"text-align: right;\">\n",
       "      <th></th>\n",
       "      <th>Station</th>\n",
       "      <th>Date/Time</th>\n",
       "      <th>Temp</th>\n",
       "      <th>1-Hour Precip</th>\n",
       "      <th>Rolling 24-Hour Precip</th>\n",
       "    </tr>\n",
       "  </thead>\n",
       "  <tbody>\n",
       "    <tr>\n",
       "      <th>955</th>\n",
       "      <td>KCHO</td>\n",
       "      <td>2025-02-20 17:53</td>\n",
       "      <td>25.0</td>\n",
       "      <td>0.0</td>\n",
       "      <td>0.0</td>\n",
       "    </tr>\n",
       "    <tr>\n",
       "      <th>956</th>\n",
       "      <td>KCHO</td>\n",
       "      <td>2025-02-20 18:53</td>\n",
       "      <td>24.1</td>\n",
       "      <td>0.0</td>\n",
       "      <td>0.0</td>\n",
       "    </tr>\n",
       "    <tr>\n",
       "      <th>957</th>\n",
       "      <td>KCHO</td>\n",
       "      <td>2025-02-20 19:53</td>\n",
       "      <td>24.1</td>\n",
       "      <td>0.0</td>\n",
       "      <td>0.0</td>\n",
       "    </tr>\n",
       "    <tr>\n",
       "      <th>958</th>\n",
       "      <td>KCHO</td>\n",
       "      <td>2025-02-20 20:53</td>\n",
       "      <td>23.0</td>\n",
       "      <td>0.0</td>\n",
       "      <td>0.0</td>\n",
       "    </tr>\n",
       "    <tr>\n",
       "      <th>959</th>\n",
       "      <td>KCHO</td>\n",
       "      <td>2025-02-20 22:53</td>\n",
       "      <td>21.0</td>\n",
       "      <td>0.0</td>\n",
       "      <td>0.0</td>\n",
       "    </tr>\n",
       "  </tbody>\n",
       "</table>\n",
       "</div>"
      ],
      "text/plain": [
       "    Station         Date/Time  Temp  1-Hour Precip  Rolling 24-Hour Precip\n",
       "955    KCHO  2025-02-20 17:53  25.0            0.0                     0.0\n",
       "956    KCHO  2025-02-20 18:53  24.1            0.0                     0.0\n",
       "957    KCHO  2025-02-20 19:53  24.1            0.0                     0.0\n",
       "958    KCHO  2025-02-20 20:53  23.0            0.0                     0.0\n",
       "959    KCHO  2025-02-20 22:53  21.0            0.0                     0.0"
      ]
     },
     "execution_count": 19,
     "metadata": {},
     "output_type": "execute_result"
    }
   ],
   "source": [
    "df_weather_from_ws = get_as_dataframe(ws)\n",
    "df_weather_from_ws[display_cols].tail()"
   ]
  },
  {
   "cell_type": "markdown",
   "id": "1a2f79d7-2da6-4bd5-857a-8b2fc5351185",
   "metadata": {},
   "source": [
    "### Performing the same data export steps for KIAD and KOKV data"
   ]
  },
  {
   "cell_type": "code",
   "execution_count": 20,
   "id": "664b8347-0822-4014-8ddd-5fc09d3af82e",
   "metadata": {
    "execution": {
     "iopub.execute_input": "2025-02-21T04:08:35.801875Z",
     "iopub.status.busy": "2025-02-21T04:08:35.801610Z",
     "iopub.status.idle": "2025-02-21T04:08:37.650524Z",
     "shell.execute_reply": "2025-02-21T04:08:37.650027Z",
     "shell.execute_reply.started": "2025-02-21T04:08:35.801859Z"
    }
   },
   "outputs": [],
   "source": [
    "ws = wb.worksheet('KIAD')\n",
    "ws.clear() \n",
    "set_with_dataframe(ws, df_weather_kiad.iloc[-960:])\n",
    "\n",
    "ws = wb.worksheet('KOKV')\n",
    "ws.clear() \n",
    "set_with_dataframe(ws, df_weather_kokv.iloc[-960:])"
   ]
  },
  {
   "cell_type": "markdown",
   "id": "84cb3d78-81df-4bb5-af98-dd62fc8488e4",
   "metadata": {},
   "source": [
    "## Appendix: A shell script and crontab entry for running this notebook automatically\n",
    "\n",
    "(These steps were written for Linux environments, but Windows also supports automated script operation; you'd just need to write a batch script rather than a shell script and use Windows Task Scheduler instead of your cron editor.)\n",
    "\n",
    "Your computer is more than happy to run a .py equivalent of this script, rain or shine, every hour of the day (as long as it's powered on, of course). How can you tell it to do so? First, you'll need to create a shell script that activates your Python environment; navigates to the folder containing the .py version of this notebook*; and then runs that file. \n",
    "\n",
    "Here's what this script looks like on my computer: (I gave it the imaginative name *online_spreadsheet_update.sh.*)\n",
    "\n",
    "\\* *(To create a .py version of this notebook, open it within JupyterLab Desktop; navigate to File --> Save and Export Notebook As --> Executable Script; and then save it (preferably within the same folder as updating_online_spreadsheets.ipynb) as updating_online_spreadsheets.py. You could also just run the .ipynb file directly if you'd prefer; see the comments within the following script for more details.)*"
   ]
  },
  {
   "cell_type": "markdown",
   "id": "3b8bbe6e-fc66-4434-9634-657ebc5476f5",
   "metadata": {
    "execution": {
     "iopub.execute_input": "2025-01-14T03:39:35.590886Z",
     "iopub.status.busy": "2025-01-14T03:39:35.590155Z",
     "iopub.status.idle": "2025-01-14T03:39:35.598964Z",
     "shell.execute_reply": "2025-01-14T03:39:35.597888Z",
     "shell.execute_reply.started": "2025-01-14T03:39:35.590815Z"
    }
   },
   "source": [
    "```\n",
    "#!/bin/bash\n",
    "\n",
    "# It appears that the line above needs to be the first entry within this script.\n",
    "\n",
    "# For a discussion of the above line,\n",
    "# see: https://stackoverflow.com/questions/8967902/why-do-you-need-to-put-bin-bash-st-the-beginning-of-a-script-file\n",
    "\n",
    "echo \"Activating Python environment:\"\n",
    "\n",
    "# Activating my custom Python for Nonprofits environment:\n",
    "# (You may be able to delete the following two lines if you're planning\n",
    "# to execute the notebook within your base environment.)\n",
    "# These lines are based on Lamma's post at:\n",
    "# https://stackoverflow.com/a/60523131/13097194\n",
    "\n",
    "source ~/miniforge3/etc/profile.d/conda.sh\n",
    "conda activate kjb3server\n",
    "\n",
    "# Navigating to the folder that hosts this script:\n",
    "\n",
    "cd /home/kjb3lxms/kjb3python/Updating_Online_Spreadsheets\n",
    "\n",
    "# Executing the Python script:\n",
    "\n",
    "python updating_online_spreadsheets.py\n",
    "\n",
    "# To instead execute the original Jupyter notebook, run:\n",
    "# ipython updating_online_spreadsheets.ipynb\n",
    "\n",
    "echo \"Finished running script.\"\n",
    "sleep 2\n",
    "```"
   ]
  },
  {
   "cell_type": "markdown",
   "id": "f71e8c18-0a5a-4f20-9434-40ca38d80e73",
   "metadata": {},
   "source": [
    "In order to instruct your computer to run this script 10 minutes after each hour, you can then run `crontab -e` within your terminal and paste the following line at the bottom of the page: (You'll of course need to replace my path with your own path to this file.)\n",
    "\n",
    "*(If you're new to crontabs, make sure to review the documentation that appears at the top of your crontab file. Also, if you're working within the Nano editor, make sure to hit Ctrl + X to exit out of the editor after your updates have been saved; if you instead close the window, your changes won't be saved.)*"
   ]
  },
  {
   "cell_type": "markdown",
   "id": "8c459c2a-619e-4e57-a001-e18b37ccf694",
   "metadata": {},
   "source": [
    "```\n",
    "10 * * * * /home/kjb3lxms/kjb3python/Updating_Online_Spreadsheets/online_spreadsheet_update.sh\n",
    "```"
   ]
  }
 ],
 "metadata": {
  "kernelspec": {
   "display_name": "Python 3 (ipykernel)",
   "language": "python",
   "name": "python3"
  },
  "language_info": {
   "codemirror_mode": {
    "name": "ipython",
    "version": 3
   },
   "file_extension": ".py",
   "mimetype": "text/x-python",
   "name": "python",
   "nbconvert_exporter": "python",
   "pygments_lexer": "ipython3",
   "version": "3.13.1"
  }
 },
 "nbformat": 4,
 "nbformat_minor": 5
}
