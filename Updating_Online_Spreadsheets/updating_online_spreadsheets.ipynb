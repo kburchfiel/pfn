{
 "cells": [
  {
   "cell_type": "markdown",
   "id": "fdd0f887-46a4-4f4f-99d0-ad3a51fd1ce7",
   "metadata": {},
   "source": [
    "# Updating Online Spreadsheets\n",
    "\n",
    "This script will demonstrate how to upload the contents of a DataFrame into a Google Sheets file using Python's `gspread` and `gspread-dataframe` libraries. This is a convenient option for sharing your output with others, especially if you need to update that output on a regular basis.\n",
    "\n",
    "The Google Sheets worksheet that this script will update can be found at https://docs.google.com/spreadsheets/d/17aDJ3mg49-n0IEnDgN7ZB85pO87fiUpkZPULYDB8dmo/edit?usp=sharing .\n",
    "\n",
    "Since the National Weather Service (NWS) weather data accessed by this script generally gets updated on an hourly basis, it makes sense to have this script run automatically every hour. That way, your Google Sheets data, along with your local .csv copies of historical weather data, will always be relatively up to date. \n",
    "\n",
    "If you'd like to try automating this script, I recommend saving it as a .py file (which is easy to do within JupyterLab Desktop); setting up a script that will run this file; and then having your computer run this script on an hourly basis. (More information on accomplishing these steps within Linux can be found at the end of this notebook.)\n",
    "\n",
    "## Prerequisites\n",
    "\n",
    "1. Python's gspread library provides a very helpful overview of connecting to Google Sheets workbooks via a service account at https://docs.gspread.org/en/latest/oauth2.html#for-bots-using-service-account . (There are multiple ways to connect to workbooks, but I find the service account approach to be pretty straightforward.) Go ahead and complete the steps described in this link if you haven't already.\n",
    "\n",
    "    (Note: I chose to save my service account key to a custom path rather than the default one specified in the documentation; that way, I could more easily work with multiple account keys on my computer.) Also make sure that, prior to enabling the Google Sheets and Google Drive APIs, the Google Cloud project that you want to use for this script has been selected.\n",
    "\n",
    "2. If you also specified a custom path, you'll need to create a file called 'service_key_path.txt' within this folder that points to it. That way, the following cell will be able to read in its location for use within gspread functions. (Alternatively, you could simply replace the following cell's code with `service_key_path = (path_to_your_key)`. Or, if you're using the default key location, you can comment out this cell altogether.)\n",
    "\n",
    "3. As noted in the gspread service account documentation, you'll need to give the email associated with your service account editor access to the Google Sheets workbook that you'd like your script to update. (This email is *not* the same as your regular Google Email; it will likely look something like accountname@cloudprojectname.iam.gserviceaccount.com. You can find it within your service account file."
   ]
  },
  {
   "cell_type": "markdown",
   "id": "b72b97ed-7fc5-48f0-b626-35ba6f235d81",
   "metadata": {},
   "source": [
    "### Ensuring that this script (when running on my own laptop) will have access to a comprehensive set of weather data\n",
    "\n",
    "The following cell checks whether this script is running on my own laptop. (If yours happens to have the name 'kjb3-lm', which seems very unlikely, it will run on that machine also.) If so, it copies a new set of weather data from a Google Drive folder; if not, this task will be skipped.\n",
    "\n",
    "For an explanation of why I added in this cell, reference the 'Updating my laptop's copy of the files in weather_data with my server's copy' section of this notebook's appendix."
   ]
  },
  {
   "cell_type": "code",
   "execution_count": 1,
   "id": "f1bbe64c-d1d7-4094-9518-4d8b861b0217",
   "metadata": {
    "execution": {
     "iopub.execute_input": "2025-05-03T04:07:55.683486Z",
     "iopub.status.busy": "2025-05-03T04:07:55.683291Z",
     "iopub.status.idle": "2025-05-03T04:07:55.960781Z",
     "shell.execute_reply": "2025-05-03T04:07:55.960473Z",
     "shell.execute_reply.started": "2025-05-03T04:07:55.683474Z"
    }
   },
   "outputs": [
    {
     "name": "stdout",
     "output_type": "stream",
     "text": [
      "Copying the latest weather_data contents from the server.\n"
     ]
    }
   ],
   "source": [
    "import platform\n",
    "if platform.node() == 'kjb3-lm':\n",
    "    # The use of platform.node() here to check whether\n",
    "    # the script is running on my computer came from\n",
    "    # Eric Palakovich Carr at\n",
    "    # https://stackoverflow.com/a/799799/13097194 .\n",
    "    # If you have a program running on multiple \n",
    "    # computers, but need to have different computers\n",
    "    # perform different steps at times, consider \n",
    "    # having your code check the output of \n",
    "    # platform.node(), then respond to this output\n",
    "    # as needed.\n",
    "    print(\"Copying the latest weather_data contents \\\n",
    "from the server.\")\n",
    "    import shutil\n",
    "    shutil.copytree('/home/kjb3/kjb3server_drive/weather_data',\n",
    "                    'weather_data', dirs_exist_ok=True)  \n",
    "    "
   ]
  },
  {
   "cell_type": "markdown",
   "id": "90b3ca60-94cd-43f6-b01f-2bb55a575320",
   "metadata": {},
   "source": [
    "### Importing relevant libraries"
   ]
  },
  {
   "cell_type": "code",
   "execution_count": 2,
   "id": "74f0a1eb-5ad7-4608-b882-72006bb7caed",
   "metadata": {
    "execution": {
     "iopub.execute_input": "2025-05-03T04:07:55.961278Z",
     "iopub.status.busy": "2025-05-03T04:07:55.961146Z",
     "iopub.status.idle": "2025-05-03T04:07:56.269883Z",
     "shell.execute_reply": "2025-05-03T04:07:56.269515Z",
     "shell.execute_reply.started": "2025-05-03T04:07:55.961266Z"
    }
   },
   "outputs": [],
   "source": [
    "import sys\n",
    "sys.path.insert(1, '../Appendix')\n",
    "from helper_funcs import config_notebook, wadi\n",
    "display_type = config_notebook(display_max_columns = 5)\n",
    "# Specifying which columns to render within the output:\n",
    "display_cols = ['Station', 'Date/Time', 'Temp', \n",
    "                '1-Hour Precip', 'Rolling 24-Hour Precip']\n",
    "\n",
    "with open('service_key_path.txt') as file:\n",
    "    service_key_path = file.read()\n",
    "\n",
    "import gspread\n",
    "from gspread_dataframe import set_with_dataframe, get_as_dataframe\n",
    "# From https://pypi.org/project/gspread-dataframe/\n",
    "# gspread_dataframe isn't available within conda-forge as of 2025-02-20;\n",
    "# therefore, you'll need to install it via the following pip command:\n",
    "# pip install gspread-dataframe\n",
    "\n",
    "import pandas as pd\n",
    "\n",
    "# The following weather_import() function will be used to retrieve\n",
    "# recent weather data from the National Weather Service website.\n",
    "from weather_import import weather_import"
   ]
  },
  {
   "cell_type": "markdown",
   "id": "682e122b-ad60-4276-bcf9-dd2a509987ff",
   "metadata": {},
   "source": [
    "### Initializing gspread:\n",
    "\n",
    "(If you're using gspread's default path, you can comment out the first line in the following cell, then uncomment the following one.)"
   ]
  },
  {
   "cell_type": "code",
   "execution_count": 3,
   "id": "9d66624a-057a-4768-9b2b-c0ceb56c26a4",
   "metadata": {
    "execution": {
     "iopub.execute_input": "2025-05-03T04:07:56.270863Z",
     "iopub.status.busy": "2025-05-03T04:07:56.270645Z",
     "iopub.status.idle": "2025-05-03T04:07:56.303552Z",
     "shell.execute_reply": "2025-05-03T04:07:56.303036Z",
     "shell.execute_reply.started": "2025-05-03T04:07:56.270851Z"
    }
   },
   "outputs": [],
   "source": [
    "gc = gspread.service_account(filename=service_key_path)\n",
    "\n",
    "# gc = gspread.service_account()\n",
    "\n",
    "# (This code comes from\n",
    "# # From https://docs.gspread.org/en/latest/index.html)"
   ]
  },
  {
   "cell_type": "markdown",
   "id": "2a481433-dc1f-45da-b510-a36b6d0bc4ee",
   "metadata": {},
   "source": [
    "## Importing weather data\n",
    "\n",
    "The following cells will import weather data for three Virginia airport weather stations: KCHO (Charlottesville-Albemarle airport); KIAD (Dulles International Airport); and KOKV (Winchester Regional Airport). Once these imports are complete, the script will combine each dataset with pre-existing data, then save updated copies of these tables to .csv files. The code that manages this import process can be found within 'weather_import.py' (located within the same folder as this notebook)."
   ]
  },
  {
   "cell_type": "code",
   "execution_count": 4,
   "id": "f5a8a8f3-569c-4781-8647-a5af52a6b77b",
   "metadata": {
    "execution": {
     "iopub.execute_input": "2025-05-03T04:07:56.304103Z",
     "iopub.status.busy": "2025-05-03T04:07:56.303972Z",
     "iopub.status.idle": "2025-05-03T04:07:56.306025Z",
     "shell.execute_reply": "2025-05-03T04:07:56.305788Z",
     "shell.execute_reply.started": "2025-05-03T04:07:56.304091Z"
    }
   },
   "outputs": [],
   "source": [
    "data_folder = 'weather_data'"
   ]
  },
  {
   "cell_type": "code",
   "execution_count": 5,
   "id": "ab3cdd21-c63c-443a-80e2-ab33b8c81217",
   "metadata": {
    "execution": {
     "iopub.execute_input": "2025-05-03T04:07:56.306506Z",
     "iopub.status.busy": "2025-05-03T04:07:56.306356Z",
     "iopub.status.idle": "2025-05-03T04:07:56.452383Z",
     "shell.execute_reply": "2025-05-03T04:07:56.452011Z",
     "shell.execute_reply.started": "2025-05-03T04:07:56.306496Z"
    }
   },
   "outputs": [
    {
     "name": "stdout",
     "output_type": "stream",
     "text": [
      "Original length of historical data file: 4311\n",
      "New length of historical data file: 4312\n"
     ]
    }
   ],
   "source": [
    "weather_import(\n",
    "    station_code = 'KCHO',\n",
    "    data_folder = data_folder)"
   ]
  },
  {
   "cell_type": "code",
   "execution_count": 6,
   "id": "777d93f0-50c4-4f77-9d6f-7f9b51464d63",
   "metadata": {
    "execution": {
     "iopub.execute_input": "2025-05-03T04:07:56.452884Z",
     "iopub.status.busy": "2025-05-03T04:07:56.452770Z",
     "iopub.status.idle": "2025-05-03T04:07:56.567981Z",
     "shell.execute_reply": "2025-05-03T04:07:56.567648Z",
     "shell.execute_reply.started": "2025-05-03T04:07:56.452874Z"
    }
   },
   "outputs": [
    {
     "name": "stdout",
     "output_type": "stream",
     "text": [
      "Original length of historical data file: 3907\n",
      "New length of historical data file: 3909\n"
     ]
    }
   ],
   "source": [
    "weather_import(\n",
    "    station_code = 'KIAD',\n",
    "    data_folder = data_folder)"
   ]
  },
  {
   "cell_type": "code",
   "execution_count": 7,
   "id": "d72f995f-0d8d-40f3-914f-0d8882f4775c",
   "metadata": {
    "execution": {
     "iopub.execute_input": "2025-05-03T04:07:56.568665Z",
     "iopub.status.busy": "2025-05-03T04:07:56.568525Z",
     "iopub.status.idle": "2025-05-03T04:07:56.998529Z",
     "shell.execute_reply": "2025-05-03T04:07:56.998222Z",
     "shell.execute_reply.started": "2025-05-03T04:07:56.568654Z"
    }
   },
   "outputs": [
    {
     "name": "stdout",
     "output_type": "stream",
     "text": [
      "Original length of historical data file: 3869\n",
      "New length of historical data file: 3870\n"
     ]
    }
   ],
   "source": [
    "# Note: KOKV's data appears to be recorded at \n",
    "# 20-minute intervals rather than hourly ones.)\n",
    "\n",
    "weather_import(\n",
    "    station_code = 'KOKV',\n",
    "    data_folder = data_folder)"
   ]
  },
  {
   "cell_type": "markdown",
   "id": "800ef6ca-7d84-4fb3-b059-9ec1ccf94985",
   "metadata": {
    "execution": {
     "iopub.execute_input": "2024-11-22T05:16:03.935466Z",
     "iopub.status.busy": "2024-11-22T05:16:03.935187Z",
     "iopub.status.idle": "2024-11-22T05:16:03.937484Z",
     "shell.execute_reply": "2024-11-22T05:16:03.937147Z",
     "shell.execute_reply.started": "2024-11-22T05:16:03.935446Z"
    }
   },
   "source": [
    "## Reading these datasets into DataFrames\n",
    "\n",
    "The `weather_import()` function called in the preceding cells saves its output to local .csv files. The following cells import those .csv files into DataFrames so that their data can get uploaded into a public Google Sheets workbook."
   ]
  },
  {
   "cell_type": "code",
   "execution_count": 8,
   "id": "7cf1a5ba-dd44-42ca-8bce-5c89fc2451be",
   "metadata": {
    "execution": {
     "iopub.execute_input": "2025-05-03T04:07:56.998980Z",
     "iopub.status.busy": "2025-05-03T04:07:56.998864Z",
     "iopub.status.idle": "2025-05-03T04:07:57.014568Z",
     "shell.execute_reply": "2025-05-03T04:07:57.014276Z",
     "shell.execute_reply.started": "2025-05-03T04:07:56.998970Z"
    }
   },
   "outputs": [
    {
     "data": {
      "text/html": [
       "<div>\n",
       "<style scoped>\n",
       "    .dataframe tbody tr th:only-of-type {\n",
       "        vertical-align: middle;\n",
       "    }\n",
       "\n",
       "    .dataframe tbody tr th {\n",
       "        vertical-align: top;\n",
       "    }\n",
       "\n",
       "    .dataframe thead th {\n",
       "        text-align: right;\n",
       "    }\n",
       "</style>\n",
       "<table border=\"1\" class=\"dataframe\">\n",
       "  <thead>\n",
       "    <tr style=\"text-align: right;\">\n",
       "      <th></th>\n",
       "      <th>Station</th>\n",
       "      <th>Date/Time</th>\n",
       "      <th>Temp</th>\n",
       "      <th>1-Hour Precip</th>\n",
       "      <th>Rolling 24-Hour Precip</th>\n",
       "    </tr>\n",
       "  </thead>\n",
       "  <tbody>\n",
       "    <tr>\n",
       "      <th>4307</th>\n",
       "      <td>KCHO</td>\n",
       "      <td>2025-05-02 18:53</td>\n",
       "      <td>81.0</td>\n",
       "      <td>0.0</td>\n",
       "      <td>0.0</td>\n",
       "    </tr>\n",
       "    <tr>\n",
       "      <th>4308</th>\n",
       "      <td>KCHO</td>\n",
       "      <td>2025-05-02 19:53</td>\n",
       "      <td>78.1</td>\n",
       "      <td>0.0</td>\n",
       "      <td>0.0</td>\n",
       "    </tr>\n",
       "    <tr>\n",
       "      <th>4309</th>\n",
       "      <td>KCHO</td>\n",
       "      <td>2025-05-02 20:53</td>\n",
       "      <td>75.9</td>\n",
       "      <td>0.0</td>\n",
       "      <td>0.0</td>\n",
       "    </tr>\n",
       "    <tr>\n",
       "      <th>4310</th>\n",
       "      <td>KCHO</td>\n",
       "      <td>2025-05-02 21:53</td>\n",
       "      <td>73.0</td>\n",
       "      <td>0.0</td>\n",
       "      <td>0.0</td>\n",
       "    </tr>\n",
       "    <tr>\n",
       "      <th>4311</th>\n",
       "      <td>KCHO</td>\n",
       "      <td>2025-05-02 22:53</td>\n",
       "      <td>70.0</td>\n",
       "      <td>0.0</td>\n",
       "      <td>0.0</td>\n",
       "    </tr>\n",
       "  </tbody>\n",
       "</table>\n",
       "</div>"
      ],
      "text/plain": [
       "     Station         Date/Time  Temp  1-Hour Precip  Rolling 24-Hour Precip\n",
       "4307    KCHO  2025-05-02 18:53  81.0            0.0                     0.0\n",
       "4308    KCHO  2025-05-02 19:53  78.1            0.0                     0.0\n",
       "4309    KCHO  2025-05-02 20:53  75.9            0.0                     0.0\n",
       "4310    KCHO  2025-05-02 21:53  73.0            0.0                     0.0\n",
       "4311    KCHO  2025-05-02 22:53  70.0            0.0                     0.0"
      ]
     },
     "execution_count": 8,
     "metadata": {},
     "output_type": "execute_result"
    }
   ],
   "source": [
    "df_weather_kcho = pd.read_csv(\n",
    "    data_folder+'/'+'KCHO'+'_'\n",
    "    +'historical_hourly_data_updated.csv')\n",
    "df_weather_kcho[display_cols].tail()"
   ]
  },
  {
   "cell_type": "code",
   "execution_count": 9,
   "id": "5463a84a-60d7-4a71-be09-67e6585dd67f",
   "metadata": {
    "execution": {
     "iopub.execute_input": "2025-05-03T04:07:57.015236Z",
     "iopub.status.busy": "2025-05-03T04:07:57.014989Z",
     "iopub.status.idle": "2025-05-03T04:07:57.033134Z",
     "shell.execute_reply": "2025-05-03T04:07:57.032681Z",
     "shell.execute_reply.started": "2025-05-03T04:07:57.015221Z"
    }
   },
   "outputs": [
    {
     "data": {
      "text/html": [
       "<div>\n",
       "<style scoped>\n",
       "    .dataframe tbody tr th:only-of-type {\n",
       "        vertical-align: middle;\n",
       "    }\n",
       "\n",
       "    .dataframe tbody tr th {\n",
       "        vertical-align: top;\n",
       "    }\n",
       "\n",
       "    .dataframe thead th {\n",
       "        text-align: right;\n",
       "    }\n",
       "</style>\n",
       "<table border=\"1\" class=\"dataframe\">\n",
       "  <thead>\n",
       "    <tr style=\"text-align: right;\">\n",
       "      <th></th>\n",
       "      <th>Station</th>\n",
       "      <th>Date/Time</th>\n",
       "      <th>Temp</th>\n",
       "      <th>1-Hour Precip</th>\n",
       "      <th>Rolling 24-Hour Precip</th>\n",
       "    </tr>\n",
       "  </thead>\n",
       "  <tbody>\n",
       "    <tr>\n",
       "      <th>3904</th>\n",
       "      <td>KIAD</td>\n",
       "      <td>2025-05-02 19:52</td>\n",
       "      <td>77.0</td>\n",
       "      <td>0.0</td>\n",
       "      <td>0.0</td>\n",
       "    </tr>\n",
       "    <tr>\n",
       "      <th>3905</th>\n",
       "      <td>KIAD</td>\n",
       "      <td>2025-05-02 20:52</td>\n",
       "      <td>75.9</td>\n",
       "      <td>0.0</td>\n",
       "      <td>0.0</td>\n",
       "    </tr>\n",
       "    <tr>\n",
       "      <th>3906</th>\n",
       "      <td>KIAD</td>\n",
       "      <td>2025-05-02 21:52</td>\n",
       "      <td>77.0</td>\n",
       "      <td>0.0</td>\n",
       "      <td>0.0</td>\n",
       "    </tr>\n",
       "    <tr>\n",
       "      <th>3907</th>\n",
       "      <td>KIAD</td>\n",
       "      <td>2025-05-02 22:52</td>\n",
       "      <td>73.9</td>\n",
       "      <td>0.0</td>\n",
       "      <td>0.0</td>\n",
       "    </tr>\n",
       "    <tr>\n",
       "      <th>3908</th>\n",
       "      <td>KIAD</td>\n",
       "      <td>2025-05-02 23:52</td>\n",
       "      <td>72.0</td>\n",
       "      <td>0.0</td>\n",
       "      <td>0.0</td>\n",
       "    </tr>\n",
       "  </tbody>\n",
       "</table>\n",
       "</div>"
      ],
      "text/plain": [
       "     Station         Date/Time  Temp  1-Hour Precip  Rolling 24-Hour Precip\n",
       "3904    KIAD  2025-05-02 19:52  77.0            0.0                     0.0\n",
       "3905    KIAD  2025-05-02 20:52  75.9            0.0                     0.0\n",
       "3906    KIAD  2025-05-02 21:52  77.0            0.0                     0.0\n",
       "3907    KIAD  2025-05-02 22:52  73.9            0.0                     0.0\n",
       "3908    KIAD  2025-05-02 23:52  72.0            0.0                     0.0"
      ]
     },
     "execution_count": 9,
     "metadata": {},
     "output_type": "execute_result"
    }
   ],
   "source": [
    "df_weather_kiad = pd.read_csv(\n",
    "    data_folder+'/'+'KIAD'+'_'\n",
    "    +'historical_hourly_data_updated.csv')\n",
    "df_weather_kiad[display_cols].tail()"
   ]
  },
  {
   "cell_type": "code",
   "execution_count": 10,
   "id": "a2549956-2eb7-478c-b1e9-fbae0228f67d",
   "metadata": {
    "execution": {
     "iopub.execute_input": "2025-05-03T04:07:57.033766Z",
     "iopub.status.busy": "2025-05-03T04:07:57.033625Z",
     "iopub.status.idle": "2025-05-03T04:07:57.051214Z",
     "shell.execute_reply": "2025-05-03T04:07:57.050900Z",
     "shell.execute_reply.started": "2025-05-03T04:07:57.033751Z"
    }
   },
   "outputs": [
    {
     "data": {
      "text/html": [
       "<div>\n",
       "<style scoped>\n",
       "    .dataframe tbody tr th:only-of-type {\n",
       "        vertical-align: middle;\n",
       "    }\n",
       "\n",
       "    .dataframe tbody tr th {\n",
       "        vertical-align: top;\n",
       "    }\n",
       "\n",
       "    .dataframe thead th {\n",
       "        text-align: right;\n",
       "    }\n",
       "</style>\n",
       "<table border=\"1\" class=\"dataframe\">\n",
       "  <thead>\n",
       "    <tr style=\"text-align: right;\">\n",
       "      <th></th>\n",
       "      <th>Station</th>\n",
       "      <th>Date/Time</th>\n",
       "      <th>Temp</th>\n",
       "      <th>1-Hour Precip</th>\n",
       "      <th>Rolling 24-Hour Precip</th>\n",
       "    </tr>\n",
       "  </thead>\n",
       "  <tbody>\n",
       "    <tr>\n",
       "      <th>3865</th>\n",
       "      <td>KOKV</td>\n",
       "      <td>2025-05-02 19:55</td>\n",
       "      <td>71.6</td>\n",
       "      <td>0.0</td>\n",
       "      <td>0.0</td>\n",
       "    </tr>\n",
       "    <tr>\n",
       "      <th>3866</th>\n",
       "      <td>KOKV</td>\n",
       "      <td>2025-05-02 20:55</td>\n",
       "      <td>60.8</td>\n",
       "      <td>0.0</td>\n",
       "      <td>0.0</td>\n",
       "    </tr>\n",
       "    <tr>\n",
       "      <th>3867</th>\n",
       "      <td>KOKV</td>\n",
       "      <td>2025-05-02 21:55</td>\n",
       "      <td>62.6</td>\n",
       "      <td>0.0</td>\n",
       "      <td>0.0</td>\n",
       "    </tr>\n",
       "    <tr>\n",
       "      <th>3868</th>\n",
       "      <td>KOKV</td>\n",
       "      <td>2025-05-02 22:55</td>\n",
       "      <td>60.8</td>\n",
       "      <td>0.0</td>\n",
       "      <td>0.0</td>\n",
       "    </tr>\n",
       "    <tr>\n",
       "      <th>3869</th>\n",
       "      <td>KOKV</td>\n",
       "      <td>2025-05-02 23:55</td>\n",
       "      <td>60.8</td>\n",
       "      <td>0.0</td>\n",
       "      <td>0.0</td>\n",
       "    </tr>\n",
       "  </tbody>\n",
       "</table>\n",
       "</div>"
      ],
      "text/plain": [
       "     Station         Date/Time  Temp  1-Hour Precip  Rolling 24-Hour Precip\n",
       "3865    KOKV  2025-05-02 19:55  71.6            0.0                     0.0\n",
       "3866    KOKV  2025-05-02 20:55  60.8            0.0                     0.0\n",
       "3867    KOKV  2025-05-02 21:55  62.6            0.0                     0.0\n",
       "3868    KOKV  2025-05-02 22:55  60.8            0.0                     0.0\n",
       "3869    KOKV  2025-05-02 23:55  60.8            0.0                     0.0"
      ]
     },
     "execution_count": 10,
     "metadata": {},
     "output_type": "execute_result"
    }
   ],
   "source": [
    "df_weather_kokv = pd.read_csv(\n",
    "    data_folder+'/'+'KOKV'+'_'\n",
    "    +'historical_hourly_data_updated.csv')\n",
    "df_weather_kokv[display_cols].tail()"
   ]
  },
  {
   "cell_type": "markdown",
   "id": "94e24fa2-dda1-4c65-b1cd-ea554469bf8b",
   "metadata": {},
   "source": [
    "## Importing these DataFrames into a Google Sheets workbook"
   ]
  },
  {
   "cell_type": "markdown",
   "id": "cd498e96-d2db-4c9f-9a80-575f9e8788db",
   "metadata": {},
   "source": [
    "In order to export these datasets to a Google Sheets workbook, we'll first need to open that workbook with gspread. There are a few ways to do this (see https://docs.gspread.org/en/latest/user-guide.html#opening-a-spreadsheet for reference), but I like the `open_by_key()` option, which--as the function's name suggests--allows you to open a workbook using its key.\n",
    "\n",
    "These keys are located within the center of each workbook URL. For instance, the full URL of the workbook I'll be updating is https://docs.google.com/spreadsheets/d/17aDJ3mg49-n0IEnDgN7ZB85pO87fiUpkZPULYDB8dmo/edit?usp=sharing, so the key--located in between the `/d/` component of that URL and the following `/`--is `17aDJ3mg49-n0IEnDgN7ZB85pO87fiUpkZPULYDB8dmo`."
   ]
  },
  {
   "cell_type": "code",
   "execution_count": 11,
   "id": "ec4a0f21-f830-4f10-b29b-203c107b3ac3",
   "metadata": {
    "execution": {
     "iopub.execute_input": "2025-05-03T04:07:57.051956Z",
     "iopub.status.busy": "2025-05-03T04:07:57.051689Z",
     "iopub.status.idle": "2025-05-03T04:07:58.231539Z",
     "shell.execute_reply": "2025-05-03T04:07:58.231213Z",
     "shell.execute_reply.started": "2025-05-03T04:07:57.051939Z"
    }
   },
   "outputs": [
    {
     "data": {
      "text/plain": [
       "<Spreadsheet 'Hourly VA Weather Data' id:17aDJ3mg49-n0IEnDgN7ZB85pO87fiUpkZPULYDB8dmo>"
      ]
     },
     "execution_count": 11,
     "metadata": {},
     "output_type": "execute_result"
    }
   ],
   "source": [
    "wb = gc.open_by_key('17aDJ3mg49-n0IEnDgN7ZB85pO87fiUpkZPULYDB8dmo')\n",
    "# Based on \n",
    "# https://docs.gspread.org/en/latest/user-guide.html#opening-a-spreadsheet\n",
    "wb"
   ]
  },
  {
   "cell_type": "markdown",
   "id": "976d1058-272c-4852-b6d1-00b9ee236bf6",
   "metadata": {},
   "source": [
    "Next, I'll select the 'KCHO' worksheet within this workbook, as that's the first one I'd like to update. I'll also clear out the current contents using `ws.clear()`; that way, only the latest DataFrame contents will appear within the spreadsheet after I call `set_with_dataframe` below. (If the most recent DataFrame is smaller than the previous copy, parts of the earlier version might still appear unless it's first removed using `ws.clear()`."
   ]
  },
  {
   "cell_type": "code",
   "execution_count": 12,
   "id": "637e85a1-acaf-44a8-bc53-2f6e19bcaa26",
   "metadata": {
    "execution": {
     "iopub.execute_input": "2025-05-03T04:07:58.232527Z",
     "iopub.status.busy": "2025-05-03T04:07:58.232422Z",
     "iopub.status.idle": "2025-05-03T04:07:58.644004Z",
     "shell.execute_reply": "2025-05-03T04:07:58.643672Z",
     "shell.execute_reply.started": "2025-05-03T04:07:58.232517Z"
    }
   },
   "outputs": [
    {
     "data": {
      "text/plain": [
       "{'spreadsheetId': '17aDJ3mg49-n0IEnDgN7ZB85pO87fiUpkZPULYDB8dmo',\n",
       " 'clearedRange': 'KCHO!A1:AC1672'}"
      ]
     },
     "execution_count": 12,
     "metadata": {},
     "output_type": "execute_result"
    }
   ],
   "source": [
    "ws = wb.worksheet('KCHO')\n",
    "# https://docs.gspread.org/en/latest/user-guide.html#opening-a-spreadsheet\n",
    "ws.clear() "
   ]
  },
  {
   "cell_type": "markdown",
   "id": "0543886e-69be-4400-9a2b-961465b0589f",
   "metadata": {},
   "source": [
    "Finally, I'll call `set_with_dataframe` to export `df_weather_kcho` to the KCHO Google Sheets worksheet.\n",
    "\n",
    "Only the most recent 960 rows (representing 40 days' worth of data if no entries were missing) will get exported to Google Sheets. This will limit the time (and potentially money) needed to import this data into a Dash app (https://github.com/kburchfiel/pfn/tree/main/Online_Visualizations/Simple_App_Without_Login) that utilizes it.\n",
    "\n",
    "More extensive sets of weather data, however, can be found within the `weather_data/` subfolder of the Updating_Online_Spreadsheets folder that contains this notebook. You can also access this data online at https://drive.google.com/drive/folders/1s9sUHa9HoYwpFrb_BsUN42CWXusp-7bD?usp=sharing . "
   ]
  },
  {
   "cell_type": "code",
   "execution_count": 13,
   "id": "e437f670-16af-4458-b106-5caa4694cba7",
   "metadata": {
    "execution": {
     "iopub.execute_input": "2025-05-03T04:07:58.644807Z",
     "iopub.status.busy": "2025-05-03T04:07:58.644405Z",
     "iopub.status.idle": "2025-05-03T04:07:59.810691Z",
     "shell.execute_reply": "2025-05-03T04:07:59.810242Z",
     "shell.execute_reply.started": "2025-05-03T04:07:58.644791Z"
    }
   },
   "outputs": [],
   "source": [
    "set_with_dataframe(ws, df_weather_kcho.iloc[-960:])\n",
    "# Source: https://pypi.org/project/gspread-dataframe/"
   ]
  },
  {
   "cell_type": "markdown",
   "id": "da459a18-203f-403c-81bb-5f641f7f6f48",
   "metadata": {},
   "source": [
    "In order to confirm that this upload was successful, we can call `get_as_dataframe` to import the contents of the worksheet into a new DataFrame:"
   ]
  },
  {
   "cell_type": "code",
   "execution_count": 14,
   "id": "8883b5fc-c85e-4b2c-8122-a3df9e811ce9",
   "metadata": {
    "execution": {
     "iopub.execute_input": "2025-05-03T04:07:59.811112Z",
     "iopub.status.busy": "2025-05-03T04:07:59.811009Z",
     "iopub.status.idle": "2025-05-03T04:08:00.021468Z",
     "shell.execute_reply": "2025-05-03T04:08:00.021171Z",
     "shell.execute_reply.started": "2025-05-03T04:07:59.811103Z"
    }
   },
   "outputs": [
    {
     "data": {
      "text/html": [
       "<div>\n",
       "<style scoped>\n",
       "    .dataframe tbody tr th:only-of-type {\n",
       "        vertical-align: middle;\n",
       "    }\n",
       "\n",
       "    .dataframe tbody tr th {\n",
       "        vertical-align: top;\n",
       "    }\n",
       "\n",
       "    .dataframe thead th {\n",
       "        text-align: right;\n",
       "    }\n",
       "</style>\n",
       "<table border=\"1\" class=\"dataframe\">\n",
       "  <thead>\n",
       "    <tr style=\"text-align: right;\">\n",
       "      <th></th>\n",
       "      <th>Station</th>\n",
       "      <th>Date/Time</th>\n",
       "      <th>Temp</th>\n",
       "      <th>1-Hour Precip</th>\n",
       "      <th>Rolling 24-Hour Precip</th>\n",
       "    </tr>\n",
       "  </thead>\n",
       "  <tbody>\n",
       "    <tr>\n",
       "      <th>955</th>\n",
       "      <td>KCHO</td>\n",
       "      <td>2025-05-02 18:53</td>\n",
       "      <td>81.0</td>\n",
       "      <td>0.0</td>\n",
       "      <td>0.0</td>\n",
       "    </tr>\n",
       "    <tr>\n",
       "      <th>956</th>\n",
       "      <td>KCHO</td>\n",
       "      <td>2025-05-02 19:53</td>\n",
       "      <td>78.1</td>\n",
       "      <td>0.0</td>\n",
       "      <td>0.0</td>\n",
       "    </tr>\n",
       "    <tr>\n",
       "      <th>957</th>\n",
       "      <td>KCHO</td>\n",
       "      <td>2025-05-02 20:53</td>\n",
       "      <td>75.9</td>\n",
       "      <td>0.0</td>\n",
       "      <td>0.0</td>\n",
       "    </tr>\n",
       "    <tr>\n",
       "      <th>958</th>\n",
       "      <td>KCHO</td>\n",
       "      <td>2025-05-02 21:53</td>\n",
       "      <td>73.0</td>\n",
       "      <td>0.0</td>\n",
       "      <td>0.0</td>\n",
       "    </tr>\n",
       "    <tr>\n",
       "      <th>959</th>\n",
       "      <td>KCHO</td>\n",
       "      <td>2025-05-02 22:53</td>\n",
       "      <td>70.0</td>\n",
       "      <td>0.0</td>\n",
       "      <td>0.0</td>\n",
       "    </tr>\n",
       "  </tbody>\n",
       "</table>\n",
       "</div>"
      ],
      "text/plain": [
       "    Station         Date/Time  Temp  1-Hour Precip  Rolling 24-Hour Precip\n",
       "955    KCHO  2025-05-02 18:53  81.0            0.0                     0.0\n",
       "956    KCHO  2025-05-02 19:53  78.1            0.0                     0.0\n",
       "957    KCHO  2025-05-02 20:53  75.9            0.0                     0.0\n",
       "958    KCHO  2025-05-02 21:53  73.0            0.0                     0.0\n",
       "959    KCHO  2025-05-02 22:53  70.0            0.0                     0.0"
      ]
     },
     "execution_count": 14,
     "metadata": {},
     "output_type": "execute_result"
    }
   ],
   "source": [
    "df_weather_from_ws = get_as_dataframe(ws)\n",
    "df_weather_from_ws[display_cols].tail()"
   ]
  },
  {
   "cell_type": "markdown",
   "id": "1a2f79d7-2da6-4bd5-857a-8b2fc5351185",
   "metadata": {},
   "source": [
    "### Performing the same data export steps for KIAD and KOKV data"
   ]
  },
  {
   "cell_type": "code",
   "execution_count": 15,
   "id": "664b8347-0822-4014-8ddd-5fc09d3af82e",
   "metadata": {
    "execution": {
     "iopub.execute_input": "2025-05-03T04:08:00.021941Z",
     "iopub.status.busy": "2025-05-03T04:08:00.021820Z",
     "iopub.status.idle": "2025-05-03T04:08:02.037595Z",
     "shell.execute_reply": "2025-05-03T04:08:02.037162Z",
     "shell.execute_reply.started": "2025-05-03T04:08:00.021931Z"
    }
   },
   "outputs": [],
   "source": [
    "ws = wb.worksheet('KIAD')\n",
    "ws.clear() \n",
    "set_with_dataframe(ws, df_weather_kiad.iloc[-960:])\n",
    "\n",
    "ws = wb.worksheet('KOKV')\n",
    "ws.clear() \n",
    "set_with_dataframe(ws, df_weather_kokv.iloc[-960:])"
   ]
  },
  {
   "cell_type": "markdown",
   "id": "014f0870-920a-4b75-aed2-4cf738a09f25",
   "metadata": {},
   "source": [
    "## Conclusion\n",
    "\n",
    "The `gpsread` and `gspread-dataframe` libraries make it easy to regularly update Google Sheets files with new figures, thus allowing coworkers and/or the general public to access the latest versions of your data. (For guidance on automating this update process, make sure to consult the first part of this notebook's Appendix.) In addition, Google Sheets workbooks can serve as data sources for interactive Dash apps--which the next section of Python for Nonprofits will introduce."
   ]
  },
  {
   "cell_type": "markdown",
   "id": "84cb3d78-81df-4bb5-af98-dd62fc8488e4",
   "metadata": {},
   "source": [
    "## Appendix\n",
    "\n",
    "### A shell script and crontab entry for running this notebook automatically\n",
    "\n",
    "(These steps were written for Linux environments, but similar steps can be performed on Windows; you'd just need to write a batch script rather than a shell script and use Windows Task Scheduler instead of your cron editor. I'm quite sure that it's possible to automate this script on Macs as well, but I'll leave that as an exercise for the reader.)\n",
    "\n",
    "Your computer is more than happy to run a .py equivalent of this script, rain or shine, every hour of the day (as long as it's kept powered on, of course). This section will teach you how to do so!\n",
    "\n",
    "#### Step 1: Creating your shell script\n",
    "\n",
    "First, you'll need to create a shell script that activates your Python environment; navigates to the folder containing the .py version of this notebook*; and then runs that file. \n",
    "\n",
    "The following cell shows what this shell script looks like on my 'server,' which is really just an old laptop that I keep powered on 24/7 in order to run these hourly weather imports. (I gave the script the imaginative name *online_spreadsheet_update.sh.*) \n",
    "\n",
    "This shell script *also* copies the weather_data files that it creates to a Google Drive folder; this makes it easier to transfer them to my main laptop and also keeps the files backed up. \n",
    "\n",
    "Since this server, like my main laptop, runs Linux, I needed to mount the drive via RClone so that it could be accessed via my local file system; otherwise, the `cp` command would not have worked. \n",
    "Steps for configuring RClone to connect to a Google Drive account are avaialble at https://rclone.org/drive/  . Also, in case it helps, my shell script for mounting my server's Google Drive account to my main laptop is as follows:\n",
    "\n",
    "`rclone mount kjb3server: ~/kjb3server_drive/ --vfs-cache-mode full` (This code was based on https://ostechnix.com/install-rclone-in-linux/ and Andre's comment on it. `--vfs-cache-mode full allows RClone to access files more quickly.`)\n",
    "\n",
    "\\**(To create a .py version of this notebook, open it within JupyterLab Desktop; navigate to File --> Save and Export Notebook As --> Executable Script; and then save it (preferably within the same folder as updating_online_spreadsheets.ipynb) as updating_online_spreadsheets.py. You could also just run the .ipynb file directly if you'd prefer; see the comments within the following script for more details.)*"
   ]
  },
  {
   "cell_type": "markdown",
   "id": "3b8bbe6e-fc66-4434-9634-657ebc5476f5",
   "metadata": {
    "execution": {
     "iopub.execute_input": "2025-01-14T03:39:35.590886Z",
     "iopub.status.busy": "2025-01-14T03:39:35.590155Z",
     "iopub.status.idle": "2025-01-14T03:39:35.598964Z",
     "shell.execute_reply": "2025-01-14T03:39:35.597888Z",
     "shell.execute_reply.started": "2025-01-14T03:39:35.590815Z"
    }
   },
   "source": [
    "```\n",
    "#!/bin/bash\n",
    "\n",
    "# It appears that the line above needs to be the first entry within this script.\n",
    "\n",
    "# For a discussion of the above line,\n",
    "# see: https://stackoverflow.com/questions/8967902/why-do-you-need-to-put-bin-bash-at-the-beginning-of-a-script-file\n",
    "\n",
    "echo \"Activating Python environment:\"\n",
    "\n",
    "# Activating my custom Python for Nonprofits environment:\n",
    "# (You may be able to delete the following two lines if you're planning\n",
    "# to execute the notebook within your base environment.)\n",
    "# These lines are based on Lamma's post at:\n",
    "# https://stackoverflow.com/a/60523131/13097194\n",
    "\n",
    "source ~/miniforge3/etc/profile.d/conda.sh\n",
    "conda activate kjb3server\n",
    "\n",
    "# Navigating to the folder that hosts this script:\n",
    "\n",
    "cd /home/kjb3lxms/kjb3python/Updating_Online_Spreadsheets\n",
    "\n",
    "# Executing the Python script:\n",
    "\n",
    "python updating_online_spreadsheets.py\n",
    "\n",
    "# Copying weather_data folder over to the KJB3Server Google Drive folder for backup and transfer purposes:\n",
    "\n",
    "cp -r weather_data /home/kjb3lxms/kjb3server_drive/\n",
    "\n",
    "echo \"Finished running script.\"\n",
    "sleep 2\n",
    "```"
   ]
  },
  {
   "cell_type": "markdown",
   "id": "f71e8c18-0a5a-4f20-9434-40ca38d80e73",
   "metadata": {},
   "source": [
    "#### Step 2: Adding a corresponding crontab entry\n",
    "\n",
    "In order to instruct your computer to run this script 10 minutes after each hour, you can then run `crontab -e` within your terminal and paste the following line at the bottom of the page. (You'll of course need to replace my path with your own path to this file.)"
   ]
  },
  {
   "cell_type": "markdown",
   "id": "8c459c2a-619e-4e57-a001-e18b37ccf694",
   "metadata": {},
   "source": [
    "```\n",
    "10 * * * * /home/kjb3lxms/kjb3python/Updating_Online_Spreadsheets/online_spreadsheet_update.sh\n",
    "```"
   ]
  },
  {
   "cell_type": "markdown",
   "id": "639c190c-29f6-4eb3-a66f-49aaf5d12674",
   "metadata": {},
   "source": [
    "*(If you're new to crontabs, make sure to review the documentation that appears at the top of your crontab file. Also, if you're working within the Nano editor, make sure to hit Ctrl + X to exit out of the editor after your updates have been saved; if you instead close the window, your changes will be lost.)*"
   ]
  },
  {
   "cell_type": "markdown",
   "id": "34ad1143-a871-45bd-8a69-d88ff8038c4f",
   "metadata": {},
   "source": [
    "### Updating my laptop's copy of the files in the weather_data/ folder with my server's copy"
   ]
  },
  {
   "cell_type": "markdown",
   "id": "29b8e160-f857-43eb-b50e-eefc61c98617",
   "metadata": {},
   "source": [
    "As noted earlier in the appendix, my 'server' runs a Python version of this script each hour, thus keeping my Google Sheets copy of recent weather data up to date. However, when I run this notebook on my main laptop, this comprehensive Google Sheets copy will get overwritten by a more spotty copy of weather data on my local computer. (Since the script can only receive the most recent 3 days of weather data from the NWS, and I only run this script on my main laptop occassionally, my local recent_weather/ folder will likely be missing quite a few hours of data.)\n",
    "\n",
    "In order to prevent this issue, I added code at the start of this notebook that copies the latest contents of the weather_data/ folder within my server to the weather_data/ folder within my main laptop. That way, this script will have access to the same comprehensive weather data file that the server does--and, as a result, will load a more comprehensive set of data to Google Sheets.\n",
    "\n",
    "In order for this code to work successfully, I needed to use RClone to mount my server's Google Drive folder to my main laptop. (A simple shell script that accomplishes this mount can be found earlier within this appendix. I've added this script to my Startup Applications list within Linux Mint on both my main laptop and my server, thus ensuring that both computers will always be connected to it.) Having this Google Drive folder available on both computers makes the process of copying weather data from my server to my main laptop much easier."
   ]
  }
 ],
 "metadata": {
  "kernelspec": {
   "display_name": "Python 3 (ipykernel)",
   "language": "python",
   "name": "python3"
  },
  "language_info": {
   "codemirror_mode": {
    "name": "ipython",
    "version": 3
   },
   "file_extension": ".py",
   "mimetype": "text/x-python",
   "name": "python",
   "nbconvert_exporter": "python",
   "pygments_lexer": "ipython3",
   "version": "3.13.2"
  }
 },
 "nbformat": 4,
 "nbformat_minor": 5
}
